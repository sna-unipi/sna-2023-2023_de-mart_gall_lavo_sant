{
 "cells": [
  {
   "cell_type": "code",
   "execution_count": 16,
   "metadata": {},
   "outputs": [],
   "source": [
    "import pandas as pd\n",
    "import hypernetx as hnx\n",
    "import matplotlib.pyplot as plt\n",
    "import hypernetx.algorithms.hypergraph_modularity as hmod"
   ]
  },
  {
   "cell_type": "code",
   "execution_count": 2,
   "metadata": {},
   "outputs": [],
   "source": [
    "edges = pd.read_csv('edges.csv')"
   ]
  },
  {
   "cell_type": "code",
   "execution_count": 3,
   "metadata": {},
   "outputs": [],
   "source": [
    "author = 'author' #id\n",
    "parent_author = 'parent_author' #id padre del commento"
   ]
  },
  {
   "cell_type": "code",
   "execution_count": 4,
   "metadata": {},
   "outputs": [],
   "source": [
    "col_name = 'node_col'\n",
    "df_new = pd.DataFrame()\n",
    "index = 0\n",
    "\n",
    "# Iterazione sulle righe del DataFrame sulla colonna 'A'\n",
    "for i,row in edges.iterrows():\n",
    "    valore_colonna_A = row[parent_author]\n",
    "    valore_colonna_B = row[author]\n",
    "    \n",
    "    df_new.loc[index, col_name] = valore_colonna_A\n",
    "    index = index+1\n",
    "    df_new.loc[(index), col_name] = valore_colonna_B\n",
    "    index = index+1\n"
   ]
  },
  {
   "cell_type": "code",
   "execution_count": 5,
   "metadata": {},
   "outputs": [],
   "source": [
    "# CREAZIONE COLONNA LABEL (edge tra due nodi)\n",
    "\n",
    "stringa = \"e\"\n",
    "count = 0\n",
    "i = 1\n",
    "\n",
    "for indice in range(0,len(df_new)):\n",
    "    my_string = stringa + str(i)\n",
    "    df_new.loc[indice, 'label'] = my_string\n",
    "\n",
    "    count = count + 1\n",
    "    \n",
    "    if (count >= 2):\n",
    "        count = 0\n",
    "        i = i+1"
   ]
  },
  {
   "cell_type": "code",
   "execution_count": 6,
   "metadata": {},
   "outputs": [],
   "source": [
    "H = hnx.Hypergraph(df_new,edge_col=\"label\",node_col=\"node_col\")"
   ]
  },
  {
   "cell_type": "code",
   "execution_count": 26,
   "metadata": {},
   "outputs": [
    {
     "data": {
      "text/plain": [
       "(13170, 49885)"
      ]
     },
     "execution_count": 26,
     "metadata": {},
     "output_type": "execute_result"
    }
   ],
   "source": [
    "# numero nodi e iperarchi\n",
    "H.shape"
   ]
  },
  {
   "cell_type": "code",
   "execution_count": 15,
   "metadata": {},
   "outputs": [
    {
     "data": {
      "text/plain": [
       "False"
      ]
     },
     "execution_count": 15,
     "metadata": {},
     "output_type": "execute_result"
    }
   ],
   "source": [
    "H.is_connected()\n",
    "\n",
    "# a hypergraph H is connected if every pair of vertices v,w ∈ V is connected in H"
   ]
  },
  {
   "attachments": {},
   "cell_type": "markdown",
   "metadata": {},
   "source": [
    "### Stampo le dimensioni degli iperarchi"
   ]
  },
  {
   "cell_type": "code",
   "execution_count": 16,
   "metadata": {},
   "outputs": [
    {
     "name": "stdout",
     "output_type": "stream",
     "text": [
      "Dimensione dell'iperarco = 2;  48096 iperarchi con questa dimensione\n",
      "Dimensione dell'iperarco = 1;  1789 iperarchi con questa dimensione\n"
     ]
    }
   ],
   "source": [
    "hyperedge_sizes = [H.size(hyperedge) for hyperedge in H.edges()]\n",
    "size_counts = {}\n",
    "for size in hyperedge_sizes:\n",
    "    size_counts[size] = size_counts.get(size, 0) + 1\n",
    "\n",
    "sorted_sizes = sorted(size_counts.items(), key=lambda x: x[0], reverse=True)\n",
    "for size, count in sorted_sizes:\n",
    "    print(f\"Dimensione dell'iperarco = {size};  {count} iperarchi con questa dimensione\")\n"
   ]
  },
  {
   "cell_type": "code",
   "execution_count": 17,
   "metadata": {},
   "outputs": [
    {
     "data": {
      "text/plain": [
       "3.787775246772969"
      ]
     },
     "execution_count": 17,
     "metadata": {},
     "output_type": "execute_result"
    }
   ],
   "source": [
    "num_nodes = len(list(H.nodes()))\n",
    "num_hyperedges = len(list(H.edges()))\n",
    "connectivity = num_hyperedges / num_nodes\n",
    "connectivity"
   ]
  },
  {
   "attachments": {},
   "cell_type": "markdown",
   "metadata": {},
   "source": [
    "### Rappresentazione grafica di alcuni iperarchi"
   ]
  },
  {
   "cell_type": "code",
   "execution_count": 12,
   "metadata": {},
   "outputs": [
    {
     "data": {
      "image/png": "[encoded data removed]",
      "text/plain": [
       "<Figure size 500x500 with 1 Axes>"
      ]
     },
     "metadata": {},
     "output_type": "display_data"
    }
   ],
   "source": [
    "plt.subplots(figsize=(5,5))\n",
    "hnx.draw(H.restrict_to_edges(['e44','e45', 'e47', 'e34363','e34352']))"
   ]
  },
  {
   "attachments": {},
   "cell_type": "markdown",
   "metadata": {},
   "source": [
    "## Modularity \n",
    "### Given hypergraph HG and a partition A of its vertices, hypergraph modularity is a measure of the quality of this partition.\n",
    "In order to make the computation of hypergraph modularity more efficient, some quantities need to be pre-computed. We pre-compute quantities such as node strength (weighted degree), d-weights (total weight for each edge cardinality) and binomial coefficients."
   ]
  },
  {
   "cell_type": "code",
   "execution_count": 17,
   "metadata": {},
   "outputs": [],
   "source": [
    "HG = hmod.precompute_attributes(H)"
   ]
  },
  {
   "attachments": {},
   "cell_type": "markdown",
   "metadata": {},
   "source": [
    "Cluster hypergraph with Kumar's algorithm"
   ]
  },
  {
   "cell_type": "code",
   "execution_count": 18,
   "metadata": {},
   "outputs": [],
   "source": [
    "K = hmod.kumar(HG)"
   ]
  },
  {
   "cell_type": "code",
   "execution_count": 19,
   "metadata": {},
   "outputs": [],
   "source": [
    "def linear(d, c):\n",
    "    if c>d/2:\n",
    "        return c / d\n",
    "    else: \n",
    "        return 0"
   ]
  },
  {
   "cell_type": "code",
   "execution_count": 20,
   "metadata": {},
   "outputs": [
    {
     "name": "stdout",
     "output_type": "stream",
     "text": [
      "modularity score =  0.5082523018559473\n"
     ]
    }
   ],
   "source": [
    "q = hmod.modularity(HG, K, wdc=linear)\n",
    "\n",
    "print('modularity score = ', q)"
   ]
  }
 ],
 "metadata": {
  "kernelspec": {
   "display_name": "Python 3",
   "language": "python",
   "name": "python3"
  },
  "language_info": {
   "codemirror_mode": {
    "name": "ipython",
    "version": 3
   },
   "file_extension": ".py",
   "mimetype": "text/x-python",
   "name": "python",
   "nbconvert_exporter": "python",
   "pygments_lexer": "ipython3",
   "version": "3.10.11"
  },
  "orig_nbformat": 4
 },
 "nbformat": 4,
 "nbformat_minor": 2
}
