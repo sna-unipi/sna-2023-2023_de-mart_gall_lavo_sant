{
 "cells": [
  {
   "attachments": {},
   "cell_type": "markdown",
   "metadata": {},
   "source": [
    "## Part 3 - Cluster 2: Network Manipulation\n",
    "\n",
    "### <b>Task</b> : Dynamic Network Analysis"
   ]
  },
  {
   "attachments": {},
   "cell_type": "markdown",
   "metadata": {},
   "source": [
    "## 1. Dynamic Network creation: modellazione *Snapshot Graphs*"
   ]
  },
  {
   "attachments": {},
   "cell_type": "markdown",
   "metadata": {},
   "source": [
    "### 1.1 Settings/Data Preprocessing:\n",
    "In our construction of the Dynamic Network, 4 Snapshot Graphs are generated, used to represent weekly Snapshots of the graph, and analysed over the observed period which is December 2022 "
   ]
  },
  {
   "cell_type": "code",
   "execution_count": 1,
   "metadata": {},
   "outputs": [
    {
     "data": {
      "text/plain": [
       "array(['02/12/2022', '03/12/2022', '04/12/2022', '05/12/2022',\n",
       "       '06/12/2022', '07/12/2022', '08/12/2022', '09/12/2022',\n",
       "       '10/12/2022', '11/12/2022', '12/12/2022', '13/12/2022',\n",
       "       '14/12/2022', '15/12/2022', '16/12/2022', '17/12/2022',\n",
       "       '18/12/2022', '19/12/2022', '20/12/2022', '21/12/2022',\n",
       "       '22/12/2022', '23/12/2022', '24/12/2022', '25/12/2022',\n",
       "       '26/12/2022', '27/12/2022', '28/12/2022', '29/12/2022',\n",
       "       '30/12/2022', '31/12/2022'], dtype=object)"
      ]
     },
     "execution_count": 1,
     "metadata": {},
     "output_type": "execute_result"
    }
   ],
   "source": [
    "import pandas as pd\n",
    "import networkx as nx\n",
    "import matplotlib.pyplot as plt\n",
    "import numpy as np\n",
    "import dynetx as dn\n",
    "import enum\n",
    "import dynetx.algorithms as al\n",
    "\n",
    "import sys\n",
    "sys.path.append('..')\n",
    "from utils import *\n",
    "\n",
    "df = pd.read_csv('../reddit_comments.csv', index_col = False) #con ../ metti direttamente il file\n",
    "df['parent_id'] = df['parent_id'].str.slice(3)\n",
    "\n",
    "author = 'author' #id\n",
    "parent_author = 'parent_author' #id padre del commento\n",
    "\n",
    "df_edges_date = df[['date',parent_author,author]]\n",
    "df_edges_date = df_edges_date.sort_values('date')\n",
    "df_edges_date = df_edges_date.reset_index(drop=True)\n",
    "\n",
    "date_tempi_t = df_edges_date['date'].unique()\n",
    "date_tempi_t\n",
    "#df_edges_date.to_csv('../df_edges_date.csv')"
   ]
  },
  {
   "cell_type": "code",
   "execution_count": 2,
   "metadata": {},
   "outputs": [
    {
     "name": "stdout",
     "output_type": "stream",
     "text": [
      "Gli intervalli di tempo/date totali presenti nel dataset sono: 30\n"
     ]
    }
   ],
   "source": [
    "totale_date_t = len(date_tempi_t)\n",
    "print(\"Gli intervalli di tempo/date totali presenti nel dataset sono: \" + str(totale_date_t))"
   ]
  },
  {
   "attachments": {},
   "cell_type": "markdown",
   "metadata": {},
   "source": [
    "### In quanti snapshot temporali vogliamo suddividere la Dynamic Network ?\n",
    "\n",
    "Settaggio della variabile: ``size_finestra_t``"
   ]
  },
  {
   "cell_type": "code",
   "execution_count": 3,
   "metadata": {},
   "outputs": [
    {
     "name": "stdout",
     "output_type": "stream",
     "text": [
      "Totale delle classi/gruppi temporali di suddivisione degli Snapshot\n",
      "ottenuti in base alla finestra di valore: 7 \n",
      "è:  4\n"
     ]
    }
   ],
   "source": [
    "size_finestra_t = 7\n",
    "max_class_t = int(totale_date_t/7) #totale classi di tempo_t\n",
    "\n",
    "print(\"Totale delle classi/gruppi temporali di suddivisione degli Snapshot\\nottenuti in base alla finestra di valore:\",size_finestra_t,\"\\nè: \",max_class_t)"
   ]
  },
  {
   "attachments": {},
   "cell_type": "markdown",
   "metadata": {},
   "source": [
    "### Associazione delle date ad una classe/gruppo di tempo *t*"
   ]
  },
  {
   "cell_type": "code",
   "execution_count": 4,
   "metadata": {},
   "outputs": [
    {
     "name": "stdout",
     "output_type": "stream",
     "text": [
      "dict_values([0, 0, 0, 0, 0, 0, 0, 1, 1, 1, 1, 1, 1, 1, 2, 2, 2, 2, 2, 2, 2, 3, 3, 3, 3, 3, 3, 3, 3, 3])\n"
     ]
    }
   ],
   "source": [
    "# Creiamo un dizionario per mappare le date ai valori numerici\n",
    "mappa_valori = {}\n",
    "map_value_classe_t = 0\n",
    "count_giorni = 0\n",
    "\n",
    "for data in date_tempi_t:\n",
    "    if data not in mappa_valori:\n",
    "        #giorno = estrai_giorno(data=data)\n",
    "        #map_value_classe_t = get_classe_t_giorno(giorno=giorno)\n",
    "        mappa_valori[data] = map_value_classe_t\n",
    "        count_giorni += 1\n",
    "\n",
    "        if count_giorni >= size_finestra_t: #se si arriva all'ottavo giorno, allora cambi 'finestra'\n",
    "            if(map_value_classe_t+1) < max_class_t: # se si arriva alle ultime date, ovvero ultima classe 't' allora sarà sempre quella di default per le date restanti\n",
    "                map_value_classe_t += 1 #altrimenti incrementa/si cambia classe 'tempo t' \n",
    "            count_giorni = 0 #e si riconta dinuovo\n",
    "\n",
    "\n",
    "print(mappa_valori.values())"
   ]
  },
  {
   "cell_type": "code",
   "execution_count": 5,
   "metadata": {},
   "outputs": [
    {
     "data": {
      "text/html": [
       "<div>\n",
       "<style scoped>\n",
       "    .dataframe tbody tr th:only-of-type {\n",
       "        vertical-align: middle;\n",
       "    }\n",
       "\n",
       "    .dataframe tbody tr th {\n",
       "        vertical-align: top;\n",
       "    }\n",
       "\n",
       "    .dataframe thead th {\n",
       "        text-align: right;\n",
       "    }\n",
       "</style>\n",
       "<table border=\"1\" class=\"dataframe\">\n",
       "  <thead>\n",
       "    <tr style=\"text-align: right;\">\n",
       "      <th></th>\n",
       "      <th>date</th>\n",
       "      <th>parent_author</th>\n",
       "      <th>author</th>\n",
       "      <th>Tempo t</th>\n",
       "    </tr>\n",
       "  </thead>\n",
       "  <tbody>\n",
       "    <tr>\n",
       "      <th>0</th>\n",
       "      <td>02/12/2022</td>\n",
       "      <td>AlAv812</td>\n",
       "      <td>Sajun</td>\n",
       "      <td>0</td>\n",
       "    </tr>\n",
       "    <tr>\n",
       "      <th>1</th>\n",
       "      <td>02/12/2022</td>\n",
       "      <td>InSearchOfUpdog</td>\n",
       "      <td>922153</td>\n",
       "      <td>0</td>\n",
       "    </tr>\n",
       "    <tr>\n",
       "      <th>2</th>\n",
       "      <td>02/12/2022</td>\n",
       "      <td>AlAv812</td>\n",
       "      <td>squareOfTwo</td>\n",
       "      <td>0</td>\n",
       "    </tr>\n",
       "    <tr>\n",
       "      <th>3</th>\n",
       "      <td>02/12/2022</td>\n",
       "      <td>922153</td>\n",
       "      <td>InSearchOfUpdog</td>\n",
       "      <td>0</td>\n",
       "    </tr>\n",
       "    <tr>\n",
       "      <th>4</th>\n",
       "      <td>02/12/2022</td>\n",
       "      <td>hi_there_bitch</td>\n",
       "      <td>doddiiin</td>\n",
       "      <td>0</td>\n",
       "    </tr>\n",
       "    <tr>\n",
       "      <th>...</th>\n",
       "      <td>...</td>\n",
       "      <td>...</td>\n",
       "      <td>...</td>\n",
       "      <td>...</td>\n",
       "    </tr>\n",
       "    <tr>\n",
       "      <th>49881</th>\n",
       "      <td>31/12/2022</td>\n",
       "      <td>mikkolukas</td>\n",
       "      <td>BaconSky</td>\n",
       "      <td>3</td>\n",
       "    </tr>\n",
       "    <tr>\n",
       "      <th>49882</th>\n",
       "      <td>31/12/2022</td>\n",
       "      <td>No_Ninja3309_NoNoYes</td>\n",
       "      <td>hezwat</td>\n",
       "      <td>3</td>\n",
       "    </tr>\n",
       "    <tr>\n",
       "      <th>49883</th>\n",
       "      <td>31/12/2022</td>\n",
       "      <td>jlangager</td>\n",
       "      <td>BaconSky</td>\n",
       "      <td>3</td>\n",
       "    </tr>\n",
       "    <tr>\n",
       "      <th>49884</th>\n",
       "      <td>31/12/2022</td>\n",
       "      <td>bungayjonathan</td>\n",
       "      <td>hezwat</td>\n",
       "      <td>3</td>\n",
       "    </tr>\n",
       "    <tr>\n",
       "      <th>49885</th>\n",
       "      <td>31/12/2022</td>\n",
       "      <td>MattMasterChief</td>\n",
       "      <td>LocalField1281</td>\n",
       "      <td>3</td>\n",
       "    </tr>\n",
       "  </tbody>\n",
       "</table>\n",
       "<p>49886 rows × 4 columns</p>\n",
       "</div>"
      ],
      "text/plain": [
       "             date         parent_author           author  Tempo t\n",
       "0      02/12/2022               AlAv812            Sajun        0\n",
       "1      02/12/2022       InSearchOfUpdog           922153        0\n",
       "2      02/12/2022               AlAv812      squareOfTwo        0\n",
       "3      02/12/2022                922153  InSearchOfUpdog        0\n",
       "4      02/12/2022        hi_there_bitch         doddiiin        0\n",
       "...           ...                   ...              ...      ...\n",
       "49881  31/12/2022            mikkolukas         BaconSky        3\n",
       "49882  31/12/2022  No_Ninja3309_NoNoYes           hezwat        3\n",
       "49883  31/12/2022             jlangager         BaconSky        3\n",
       "49884  31/12/2022        bungayjonathan           hezwat        3\n",
       "49885  31/12/2022       MattMasterChief   LocalField1281        3\n",
       "\n",
       "[49886 rows x 4 columns]"
      ]
     },
     "execution_count": 5,
     "metadata": {},
     "output_type": "execute_result"
    }
   ],
   "source": [
    "# Aggiungere una colonna con i valori numerici associati alle date\n",
    "df_edges_date['Tempo t'] = df_edges_date['date'].map(mappa_valori)\n",
    "df_edges_date"
   ]
  },
  {
   "attachments": {},
   "cell_type": "markdown",
   "metadata": {},
   "source": [
    "Let's see which dates correspond to which instants of time *t*"
   ]
  },
  {
   "cell_type": "code",
   "execution_count": 6,
   "metadata": {},
   "outputs": [
    {
     "data": {
      "text/html": [
       "<div>\n",
       "<style scoped>\n",
       "    .dataframe tbody tr th:only-of-type {\n",
       "        vertical-align: middle;\n",
       "    }\n",
       "\n",
       "    .dataframe tbody tr th {\n",
       "        vertical-align: top;\n",
       "    }\n",
       "\n",
       "    .dataframe thead th {\n",
       "        text-align: right;\n",
       "    }\n",
       "</style>\n",
       "<table border=\"1\" class=\"dataframe\">\n",
       "  <thead>\n",
       "    <tr style=\"text-align: right;\">\n",
       "      <th></th>\n",
       "      <th>date</th>\n",
       "      <th>Tempo t</th>\n",
       "    </tr>\n",
       "  </thead>\n",
       "  <tbody>\n",
       "    <tr>\n",
       "      <th>0</th>\n",
       "      <td>02/12/2022</td>\n",
       "      <td>0</td>\n",
       "    </tr>\n",
       "    <tr>\n",
       "      <th>13</th>\n",
       "      <td>03/12/2022</td>\n",
       "      <td>0</td>\n",
       "    </tr>\n",
       "    <tr>\n",
       "      <th>91</th>\n",
       "      <td>04/12/2022</td>\n",
       "      <td>0</td>\n",
       "    </tr>\n",
       "    <tr>\n",
       "      <th>392</th>\n",
       "      <td>05/12/2022</td>\n",
       "      <td>0</td>\n",
       "    </tr>\n",
       "    <tr>\n",
       "      <th>831</th>\n",
       "      <td>06/12/2022</td>\n",
       "      <td>0</td>\n",
       "    </tr>\n",
       "    <tr>\n",
       "      <th>1510</th>\n",
       "      <td>07/12/2022</td>\n",
       "      <td>0</td>\n",
       "    </tr>\n",
       "    <tr>\n",
       "      <th>2904</th>\n",
       "      <td>08/12/2022</td>\n",
       "      <td>0</td>\n",
       "    </tr>\n",
       "    <tr>\n",
       "      <th>4524</th>\n",
       "      <td>09/12/2022</td>\n",
       "      <td>1</td>\n",
       "    </tr>\n",
       "    <tr>\n",
       "      <th>6314</th>\n",
       "      <td>10/12/2022</td>\n",
       "      <td>1</td>\n",
       "    </tr>\n",
       "    <tr>\n",
       "      <th>8066</th>\n",
       "      <td>11/12/2022</td>\n",
       "      <td>1</td>\n",
       "    </tr>\n",
       "  </tbody>\n",
       "</table>\n",
       "</div>"
      ],
      "text/plain": [
       "            date  Tempo t\n",
       "0     02/12/2022        0\n",
       "13    03/12/2022        0\n",
       "91    04/12/2022        0\n",
       "392   05/12/2022        0\n",
       "831   06/12/2022        0\n",
       "1510  07/12/2022        0\n",
       "2904  08/12/2022        0\n",
       "4524  09/12/2022        1\n",
       "6314  10/12/2022        1\n",
       "8066  11/12/2022        1"
      ]
     },
     "execution_count": 6,
     "metadata": {},
     "output_type": "execute_result"
    }
   ],
   "source": [
    "df_valori_unici_date_t = df_edges_date[['date','Tempo t']].drop_duplicates()\n",
    "df_valori_unici_date_t.head(10)"
   ]
  },
  {
   "attachments": {},
   "cell_type": "markdown",
   "metadata": {},
   "source": [
    "For our analysis we will take ``max_class_t`` timestamps of the graph calculated from the ``size_window_t`` we gave as input"
   ]
  },
  {
   "cell_type": "markdown",
   "metadata": {},
   "source": [
    "## 1.2 Building the Dynamic Graph"
   ]
  },
  {
   "cell_type": "code",
   "execution_count": 9,
   "metadata": {},
   "outputs": [
    {
     "data": {
      "text/plain": [
       "<dynetx.classes.dyngraph.DynGraph at 0x7fbcd017b640>"
      ]
     },
     "execution_count": 9,
     "metadata": {},
     "output_type": "execute_result"
    }
   ],
   "source": [
    "nodes = pd.read_csv('../nodes.csv', index_col=False) #i nodi sono fixed, gli archi cambiano nel tempo\n",
    "\n",
    "edges = df_edges_date \n",
    "\n",
    "#CREAZIONE GRAFO DINAMICO\n",
    "dg = dn.DynGraph(edge_removal=False)\n",
    "\n",
    "#Creo 't' sottografi che corrispondono agli snapshot\n",
    "#i timestamp successivi coinvolgono anche i tempi precedenti\n",
    "\n",
    "for t in range(0,max_class_t):\n",
    "    G = nx.Graph()\n",
    "    df = pd.DataFrame()\n",
    "\n",
    "    condizione = df_edges_date['Tempo t'] <= t\n",
    "    df = df_edges_date.loc[condizione]  # DataFrame  i soli dati al tempo 't'\n",
    "\n",
    "    #creo edges\n",
    "    edges = df.dropna(axis=0)\n",
    "    \n",
    "    #creo grafo\n",
    "    G = nx.from_pandas_edgelist(edges, source = parent_author, target = author, create_using = nx.Graph())\n",
    "    G.add_nodes_from(nodes)\n",
    "\n",
    "    dg.add_interactions_from(G.edges(), t=t)\n",
    "\n",
    "dg"
   ]
  },
  {
   "attachments": {},
   "cell_type": "markdown",
   "metadata": {},
   "source": [
    "## 2. Dynamic Network Analysis:\n",
    "Analysis of *the built temporal(snapshot) graph* and *study of its stability*.\n"
   ]
  },
  {
   "attachments": {},
   "cell_type": "markdown",
   "metadata": {},
   "source": [
    "### 2.1 Snapshot Analysis:\n",
    "We have the list of snapshot ids with, that corresponds 'max_class_time' i.e. the window of timestamp that we decided before"
   ]
  },
  {
   "cell_type": "code",
   "execution_count": 10,
   "metadata": {},
   "outputs": [
    {
     "data": {
      "text/plain": [
       "[0, 1, 2, 3]"
      ]
     },
     "execution_count": 10,
     "metadata": {},
     "output_type": "execute_result"
    }
   ],
   "source": [
    "dg.temporal_snapshots_ids()"
   ]
  },
  {
   "attachments": {},
   "cell_type": "markdown",
   "metadata": {},
   "source": [
    "Snapshot ids allow access to it.\n",
    "\n",
    "Here we can see as the Snapshots increase, and thus as the network evolves, that they reach the maximum number of nodes and arcs reported in the Dynamic Graph.\n",
    "\n",
    "The latter, we note, are 1/4 fewer than the original due to the evident repeated existence of these in each Snapshot."
   ]
  },
  {
   "cell_type": "code",
   "execution_count": 11,
   "metadata": {},
   "outputs": [
    {
     "name": "stdout",
     "output_type": "stream",
     "text": [
      "Snapshot 0 = Number of Nodes: 1798 ; Number of Edges: 3186\n",
      "Snapshot 1 = Number of Nodes: 6250 ; Number of Edges: 13449\n",
      "Snapshot 2 = Number of Nodes: 9838 ; Number of Edges: 23317\n",
      "Snapshot 3 = Number of Nodes: 13170 ; Number of Edges: 33741\n",
      "DynGraph with 13170 nodes and 33741 edges\n"
     ]
    }
   ],
   "source": [
    "for t in range(0,max_class_t):\n",
    "    g1 = dg.time_slice(t)\n",
    "    print(\"Snapshot \"+str(t)+\" = \"+\"Number of Nodes:\", g1.number_of_nodes(),\"; Number of Edges:\",g1.number_of_edges())\n",
    "\n",
    "#print(dg.number_of_nodes(), dg.number_of_edges())\n",
    "print(dg)\n"
   ]
  },
  {
   "attachments": {},
   "cell_type": "markdown",
   "metadata": {},
   "source": [
    "Following the same reasoning, it is possible to obtain timeslices covering a certain time window.\n",
    "\n",
    "In the following example, the time window from 0 to 2 is observed;"
   ]
  },
  {
   "cell_type": "code",
   "execution_count": 12,
   "metadata": {},
   "outputs": [
    {
     "name": "stdout",
     "output_type": "stream",
     "text": [
      "Numero nodi nell'intervallo: 9838 \n",
      "Numero edges nell'intervallo: 23317 \n",
      "Interazioni Per Snapshot: {0: 1631.0, 1: 6855.5}\n"
     ]
    }
   ],
   "source": [
    "g0_2 = dg.time_slice(t_from=0, t_to=2)\n",
    "\n",
    "print(\"Numero nodi nell'intervallo:\",g0_2.number_of_nodes(), \"\\nNumero edges nell'intervallo:\",g0_2.number_of_edges(),\"\\nInterazioni Per Snapshot:\",g0_2.interactions_per_snapshots())"
   ]
  },
  {
   "cell_type": "markdown",
   "metadata": {},
   "source": [
    "0: interactions in the first week observed. <br>\n",
    "1: are the remaining interactions, where it is counted if the arc **remains** from the initial week to the next week(s) that are observed"
   ]
  },
  {
   "attachments": {},
   "cell_type": "markdown",
   "metadata": {},
   "source": [
    "### 2.2 - Dynamic network measures"
   ]
  },
  {
   "attachments": {},
   "cell_type": "markdown",
   "metadata": {},
   "source": [
    "The 'stream_interactions' method allows us to list the interaction stream in the DynGraph between nodes.\n",
    "These are represented by is a 4-tuple (u, v, op, t), where:\n",
    "\n",
    "- u, v are nodes\n",
    "- op is an edge creation or deletion event (respectively +, -)\n",
    "- t is the interactions timestamp"
   ]
  },
  {
   "cell_type": "code",
   "execution_count": 13,
   "metadata": {},
   "outputs": [
    {
     "name": "stdout",
     "output_type": "stream",
     "text": [
      "('AlAv812', 'Sajun', '+', 0)\n",
      "('AlAv812', 'squareOfTwo', '+', 0)\n",
      "('AlAv812', 'fastinguy11', '+', 0)\n",
      "('AlAv812', 'l-L-li', '+', 0)\n",
      "('AlAv812', 'InitialCreature', '+', 0)\n"
     ]
    }
   ],
   "source": [
    "flag = True #se True stampa solo 'times' volte, else print all values\n",
    "times = 5\n",
    "count = 0\n",
    "for i, e in enumerate(dg.stream_interactions()):\n",
    "    print(e)\n",
    "    count += 1\n",
    "    if flag == True:\n",
    "        if count == times:\n",
    "            break\n"
   ]
  },
  {
   "attachments": {},
   "cell_type": "markdown",
   "metadata": {},
   "source": [
    "#### Inter event time (Global)\n",
    "\n",
    "How much time before a new interaction appears in the graph"
   ]
  },
  {
   "cell_type": "code",
   "execution_count": 14,
   "metadata": {},
   "outputs": [
    {
     "name": "stdout",
     "output_type": "stream",
     "text": [
      "Number interactions Global: temporal distance\t{0: 34278, 1: 3}\n"
     ]
    }
   ],
   "source": [
    "r = dg.inter_event_time_distribution()\n",
    "print(f\"Number interactions Global: temporal distance\\t{r}\")"
   ]
  },
  {
   "attachments": {},
   "cell_type": "markdown",
   "metadata": {},
   "source": [
    "#### Inter event time (w.r.t. Specific random Node)\n",
    "How much time before a new interaction ***involving a specific node*** appears in the graph"
   ]
  },
  {
   "cell_type": "code",
   "execution_count": 15,
   "metadata": {},
   "outputs": [],
   "source": [
    "#u = extract_random_node(df_edges_date,column_name=parent_author)\n",
    "#v = extract_random_node(df_edges_date,column_name=author)\n",
    "\n",
    "u = 'Sajun'\n",
    "v = 'AdolinKholin1'"
   ]
  },
  {
   "cell_type": "code",
   "execution_count": 16,
   "metadata": {},
   "outputs": [
    {
     "name": "stdout",
     "output_type": "stream",
     "text": [
      "Number interactions: temporal distance\t{0: 2, 2: 1}\n"
     ]
    }
   ],
   "source": [
    "r = dg.inter_event_time_distribution(u)\n",
    "print(f\"Number interactions: temporal distance\\t{r}\")"
   ]
  },
  {
   "attachments": {},
   "cell_type": "markdown",
   "metadata": {},
   "source": [
    "#### Inter event time (w.r.t. Specific random Edge)\n",
    "\n",
    "How long before a new interaction between two randomly taken nodes, u and v, appears in the graph"
   ]
  },
  {
   "cell_type": "code",
   "execution_count": 17,
   "metadata": {},
   "outputs": [
    {
     "name": "stdout",
     "output_type": "stream",
     "text": [
      "Number interactions: temporal distance\t{3: 1}\n"
     ]
    }
   ],
   "source": [
    "r = dg.inter_event_time_distribution(u, v)\n",
    "print(f\"Number interactions: temporal distance\\t{r}\")"
   ]
  },
  {
   "attachments": {},
   "cell_type": "markdown",
   "metadata": {},
   "source": [
    "### Degree\n",
    "Degrees can be queried time-wise, here we report the degree of a random node in each timestamp of the snapshot graph"
   ]
  },
  {
   "cell_type": "code",
   "execution_count": 18,
   "metadata": {},
   "outputs": [
    {
     "name": "stdout",
     "output_type": "stream",
     "text": [
      "Degree of node at time t =  0  :  3\n",
      "Degree of node at time t =  1  :  3\n",
      "Degree of node at time t =  2  :  4\n",
      "Degree of node at time t =  3  :  4\n"
     ]
    }
   ],
   "source": [
    "for t in range(0,max_class_t):\n",
    "    print(\"Degree of node at time t = \",t,\" : \",dg.degree(t=t)[u]) # degree of node 0 at time t=2"
   ]
  },
  {
   "attachments": {},
   "cell_type": "markdown",
   "metadata": {},
   "source": [
    "### Coverage\n",
    "\n",
    "The ratio of existing nodes w.r.t. the possible ones."
   ]
  },
  {
   "cell_type": "code",
   "execution_count": 19,
   "metadata": {},
   "outputs": [
    {
     "data": {
      "text/plain": [
       "0.5895216400911162"
      ]
     },
     "execution_count": 19,
     "metadata": {},
     "output_type": "execute_result"
    }
   ],
   "source": [
    "dg.coverage()"
   ]
  },
  {
   "attachments": {},
   "cell_type": "markdown",
   "metadata": {},
   "source": [
    "#### Node contribution and Edge contribution\n",
    "\n",
    "Values of the node 'u' coverage and of edge (u, v) coverage of the temporal graph."
   ]
  },
  {
   "cell_type": "code",
   "execution_count": 20,
   "metadata": {},
   "outputs": [
    {
     "name": "stdout",
     "output_type": "stream",
     "text": [
      "Node contribution: 1.0 \n",
      "Edge contribution: 1.0\n"
     ]
    }
   ],
   "source": [
    "print(\"Node contribution:\",dg.node_contribution(u),\"\\nEdge contribution:\",dg.edge_contribution(u, v))"
   ]
  },
  {
   "attachments": {},
   "cell_type": "markdown",
   "metadata": {},
   "source": [
    "#### Node pair uniformity\n",
    "\n",
    "Overlap between the presence times of u and v."
   ]
  },
  {
   "cell_type": "code",
   "execution_count": 21,
   "metadata": {},
   "outputs": [
    {
     "data": {
      "text/plain": [
       "1.0"
      ]
     },
     "execution_count": 21,
     "metadata": {},
     "output_type": "execute_result"
    }
   ],
   "source": [
    "#u = extract_random_node(df_edges_date,column_name=parent_author)\n",
    "#v = extract_random_node(df_edges_date,column_name=author)\n",
    "\n",
    "dg.node_pair_uniformity(u, v)"
   ]
  },
  {
   "attachments": {},
   "cell_type": "markdown",
   "metadata": {},
   "source": [
    "### Density\n",
    "Temporal network density: fraction of possible interactions that do exist in the temporal network."
   ]
  },
  {
   "cell_type": "code",
   "execution_count": 22,
   "metadata": {},
   "outputs": [
    {
     "data": {
      "text/plain": [
       "0.0004634505016892961"
      ]
     },
     "execution_count": 22,
     "metadata": {},
     "output_type": "execute_result"
    }
   ],
   "source": [
    "dg.density()"
   ]
  },
  {
   "attachments": {},
   "cell_type": "markdown",
   "metadata": {},
   "source": [
    "#### Node Density\n",
    "Intersection among the temporal presence of the node and the joint temporal presences of u."
   ]
  },
  {
   "cell_type": "code",
   "execution_count": 23,
   "metadata": {},
   "outputs": [
    {
     "data": {
      "text/plain": [
       "0.00045079855744461616"
      ]
     },
     "execution_count": 23,
     "metadata": {},
     "output_type": "execute_result"
    }
   ],
   "source": [
    "dg.node_density(u)"
   ]
  },
  {
   "attachments": {},
   "cell_type": "markdown",
   "metadata": {},
   "source": [
    "#### Pair Density\n",
    "\n",
    "Intersection among the temporal presence of the edge (u, v) and the joint temporal presences of u and v."
   ]
  },
  {
   "cell_type": "code",
   "execution_count": 24,
   "metadata": {},
   "outputs": [
    {
     "data": {
      "text/plain": [
       "1.0"
      ]
     },
     "execution_count": 24,
     "metadata": {},
     "output_type": "execute_result"
    }
   ],
   "source": [
    "dg.pair_density(u, v)"
   ]
  },
  {
   "attachments": {},
   "cell_type": "markdown",
   "metadata": {},
   "source": [
    "#### Snapshot Density\n",
    "\n",
    "Density of a temporal network at time t."
   ]
  },
  {
   "cell_type": "code",
   "execution_count": 25,
   "metadata": {},
   "outputs": [
    {
     "name": "stdout",
     "output_type": "stream",
     "text": [
      "Density of graph at snapshot 0\t0.001972141184510335\n",
      "Density of graph at snapshot 1\t0.0006886989918386941\n",
      "Density of graph at snapshot 2\t0.0004818736500712787\n",
      "Density of graph at snapshot 3\t0.00038908937622022865\n"
     ]
    }
   ],
   "source": [
    "for t in dg.temporal_snapshots_ids():\n",
    "    print(\"Density of graph at snapshot\",f\"{t}\\t{dg.snapshot_density(t)}\")"
   ]
  },
  {
   "attachments": {},
   "cell_type": "markdown",
   "metadata": {},
   "source": [
    "### Path analysis\n",
    "\n",
    "Computes the time respecting paths among u and v within [start, stop]"
   ]
  },
  {
   "cell_type": "code",
   "execution_count": 26,
   "metadata": {},
   "outputs": [],
   "source": [
    "paths = al.time_respecting_paths(dg, u, v, start=0, end=3)"
   ]
  },
  {
   "cell_type": "code",
   "execution_count": 27,
   "metadata": {},
   "outputs": [
    {
     "name": "stdout",
     "output_type": "stream",
     "text": [
      "Chiave/Nodi (u,v): ('Sajun', 'AdolinKholin1')\n",
      "Dati:\n",
      "\n",
      "  - Percorso:\n",
      "    - Nodi: Sajun -> AdolinKholin1, Distanza: 0\n",
      "\n",
      "  - Percorso:\n",
      "    - Nodi: Sajun -> AdolinKholin1, Distanza: 0\n",
      "    - Nodi: AdolinKholin1 -> AdolinKholin1, Distanza: 1\n",
      "\n",
      "  - Percorso:\n",
      "    - Nodi: Sajun -> InSearchOfUpdog, Distanza: 0\n",
      "    - Nodi: InSearchOfUpdog -> AdolinKholin1, Distanza: 1\n",
      "\n",
      "  - Percorso:\n",
      "    - Nodi: Sajun -> AlAv812, Distanza: 0\n",
      "    - Nodi: AlAv812 -> PC-Bjorn, Distanza: 1\n",
      "    - Nodi: PC-Bjorn -> AdolinKholin1, Distanza: 2\n",
      "\n",
      "\n",
      "\n"
     ]
    }
   ],
   "source": [
    "key = (u, v)\n",
    "p = paths[key]\n",
    "n_path_stampa = 4\n",
    "count = 0\n",
    "\n",
    "#(nodo partenza, nodo, passo 0),....,(nodo,nodo arrivo, passo N)\n",
    "#passo 0 sarebbe il primo arco\n",
    "\n",
    "# Stampa dei dati del dizionario\n",
    "for key, value in paths.items():\n",
    "    print(f\"Chiave/Nodi (u,v): {key}\")\n",
    "    print(\"Dati:\")\n",
    "    for path in value:\n",
    "        print(\"\\n  - Percorso:\")\n",
    "        for node_pair in path:\n",
    "            print(f\"    - Nodi: {node_pair[0]} -> {node_pair[1]}, Distanza: {node_pair[2]}\")\n",
    "        # Incrementa il contatore\n",
    "        count += 1\n",
    "        # Interrompi il ciclo dopo i primi tre percorsi\n",
    "        if count == n_path_stampa:\n",
    "            break\n",
    "    print(\"\\n\\n\")\n",
    "    # Interrompi il ciclo dopo i primi tre percorsi\n",
    "    if count == n_path_stampa:\n",
    "        break\n"
   ]
  },
  {
   "attachments": {},
   "cell_type": "markdown",
   "metadata": {},
   "source": [
    "We can compute length and duration of a given path, in our example we pick the second one extracted"
   ]
  },
  {
   "cell_type": "code",
   "execution_count": 28,
   "metadata": {},
   "outputs": [
    {
     "name": "stdout",
     "output_type": "stream",
     "text": [
      "Path: (('Sajun', 'AlAv812', 0), ('AlAv812', 'PC-Bjorn', 1), ('PC-Bjorn', 'AdolinKholin1', 2))\n",
      "Path duration: 2 Path lenght 3\n"
     ]
    }
   ],
   "source": [
    "extracted_path = p[3]\n",
    "print(\"Path:\",extracted_path)\n",
    "\n",
    "print(\"Path duration:\",al.path_duration(extracted_path), \"Path lenght\",al.path_length(extracted_path))"
   ]
  },
  {
   "attachments": {},
   "cell_type": "markdown",
   "metadata": {},
   "source": [
    "### 2.3 Stability Study"
   ]
  },
  {
   "attachments": {},
   "cell_type": "markdown",
   "metadata": {},
   "source": [
    "For the study of stability, we chose to analyse the following metrics:  "
   ]
  },
  {
   "cell_type": "markdown",
   "metadata": {},
   "source": [
    "### Jaccard Similarity Coefficient\n",
    "Jaccard coefficient calculated on the edges between two consecutive snapshots"
   ]
  },
  {
   "cell_type": "code",
   "execution_count": 29,
   "metadata": {},
   "outputs": [
    {
     "name": "stdout",
     "output_type": "stream",
     "text": [
      "Jaccard coefficient between t=0 and t=1: 0.22187027571809084\n",
      "Jaccard coefficient between t=1 and t=2: 0.5507726726602312\n",
      "Jaccard coefficient between t=2 and t=3: 0.6671073810071281\n",
      "\n"
     ]
    }
   ],
   "source": [
    "for t in range(max_class_t-1):  # dobbiamo escludere l'ultimo timestamp perché non ha un successivo\n",
    "    g_t = dg.time_slice(t, t)\n",
    "    g_t_plus_1 = dg.time_slice(t+1, t+1)\n",
    "    \n",
    "    edges_t = set(g_t.edges())\n",
    "    edges_t_plus_1 = set(g_t_plus_1.edges())\n",
    "    \n",
    "    jaccard_coeff = len(edges_t & edges_t_plus_1) / len(edges_t | edges_t_plus_1)\n",
    "    print(f\"Jaccard coefficient between t={t} and t={t+1}: {jaccard_coeff}\")\n",
    " \n",
    "print()   "
   ]
  },
  {
   "attachments": {},
   "cell_type": "markdown",
   "metadata": {},
   "source": [
    "### Clustering Coefficient:"
   ]
  },
  {
   "cell_type": "code",
   "execution_count": 30,
   "metadata": {},
   "outputs": [
    {
     "name": "stdout",
     "output_type": "stream",
     "text": [
      "Avg clustering coefficient Snapshot 0 =  0.05685388318855746\n",
      "Avg clustering coefficient Snapshot 1 =  0.05155528840522106\n",
      "Avg clustering coefficient Snapshot 2 =  0.04596825507073335\n",
      "Avg clustering coefficient Snapshot 3 =  0.043429197483374246\n"
     ]
    }
   ],
   "source": [
    "for t in range(0,max_class_t):\n",
    "    snap_t_flat_graph = dg.time_slice(t)\n",
    "    print(\"Avg clustering coefficient Snapshot \"+str(t)+\" = \",nx.average_clustering(snap_t_flat_graph))"
   ]
  },
  {
   "attachments": {},
   "cell_type": "markdown",
   "metadata": {},
   "source": [
    "### Degree centrality : <br>\n",
    "We analyze the degree centrality of each snapshot, also here we can observe that the best one in each snapshot it's the same node that we have in the network analysis"
   ]
  },
  {
   "cell_type": "code",
   "execution_count": 31,
   "metadata": {},
   "outputs": [
    {
     "name": "stdout",
     "output_type": "stream",
     "text": [
      "Degree Centrality of Snapshot 0: hi_there_bitch 0.09\n",
      "Degree Centrality of Snapshot 0: InSearchOfUpdog 0.05\n",
      "Degree Centrality of Snapshot 0: cristiano-potato 0.04\n",
      "Degree Centrality of Snapshot 0: frequenttimetraveler 0.03\n",
      "Degree Centrality of Snapshot 0: drekmonger 0.03\n",
      "\n",
      "Degree Centrality of Snapshot 1: hi_there_bitch 0.11\n",
      "Degree Centrality of Snapshot 1: perturbaitor 0.03\n",
      "Degree Centrality of Snapshot 1: kamus10 0.03\n",
      "Degree Centrality of Snapshot 1: TerrySharpHY 0.02\n",
      "Degree Centrality of Snapshot 1: drekmonger 0.02\n",
      "\n",
      "Degree Centrality of Snapshot 2: hi_there_bitch 0.08\n",
      "Degree Centrality of Snapshot 2: TerrySharpHY 0.03\n",
      "Degree Centrality of Snapshot 2: perturbaitor 0.02\n",
      "Degree Centrality of Snapshot 2: TwoCoresOneThread 0.02\n",
      "Degree Centrality of Snapshot 2: antigonemerlin 0.02\n",
      "\n",
      "Degree Centrality of Snapshot 3: hi_there_bitch 0.07\n",
      "Degree Centrality of Snapshot 3: TerrySharpHY 0.02\n",
      "Degree Centrality of Snapshot 3: TwoCoresOneThread 0.02\n",
      "Degree Centrality of Snapshot 3: perturbaitor 0.02\n",
      "Degree Centrality of Snapshot 3: ClinicalIllusionist 0.01\n",
      "\n"
     ]
    }
   ],
   "source": [
    "for t in range(0,max_class_t):\n",
    "    snap_t = dg.time_slice(t)\n",
    "    snap_t_flat_graph = nx.Graph(snap_t.edges())\n",
    "    dict = nx.degree_centrality(snap_t_flat_graph)\n",
    "    dict = sorted(dict.items(), key=lambda x: x[1], reverse=True) #ordina dizionario\n",
    "    \n",
    "\n",
    "    flag = True #se True stampa solo 'times' volte, else print all values\n",
    "    times = 5\n",
    "    count = 0\n",
    "    for chiave, valore in dict:\n",
    "        print(\"Degree Centrality of Snapshot \"+str(t)+\":\",chiave,\"{:.2f}\".format(valore))\n",
    "        count += 1\n",
    "        if flag == True:\n",
    "            if count == times:\n",
    "                break\n",
    "    print()"
   ]
  },
  {
   "cell_type": "markdown",
   "metadata": {},
   "source": [
    "### Degrees and Degree Distribution:\n",
    "We analyze the degree distribution for the Snapshot Graphs"
   ]
  },
  {
   "cell_type": "code",
   "execution_count": 32,
   "metadata": {},
   "outputs": [],
   "source": [
    "# Calcola l'istogramma dei gradi\n",
    "hist = []\n",
    "\n",
    "for t in range(0,max_class_t):\n",
    "    snap_t = dg.time_slice(t)\n",
    "    snap_t_flat_graph = nx.Graph(snap_t.edges())\n",
    "    hist.append(nx.degree_histogram(snap_t_flat_graph))"
   ]
  },
  {
   "cell_type": "code",
   "execution_count": 33,
   "metadata": {},
   "outputs": [
    {
     "data": {
      "image/png": "[encoded data removed]",
      "text/plain": [
       "<Figure size 1000x1000 with 4 Axes>"
      ]
     },
     "metadata": {},
     "output_type": "display_data"
    }
   ],
   "source": [
    "fig, axes = plt.subplots(2, 2, figsize=(10, 10))\n",
    "\n",
    "axes[0, 0].plot(range(0, len(hist[0])), hist[0], \".\")\n",
    "axes[0, 0].set_title(\"Degree Distribution t = 1\")\n",
    "axes[0, 0].set_xlabel(\"Degree\")\n",
    "axes[0, 0].set_ylabel(\"#Nodes\")\n",
    "axes[0, 0].loglog()\n",
    "\n",
    "axes[0, 1].plot(range(0, len(hist[1])), hist[1], \".\")\n",
    "axes[0, 1].set_title(\"Degree Distribution t = 2\")\n",
    "axes[0, 1].set_xlabel(\"Degree\")\n",
    "axes[0, 1].set_ylabel(\"#Nodes\")\n",
    "axes[0, 1].loglog()\n",
    "\n",
    "axes[1, 0].plot(range(0, len(hist[2])), hist[2], \".\")\n",
    "axes[1, 0].set_title(\"Degree Distribution t = 3\")\n",
    "axes[1, 0].set_xlabel(\"Degree\")\n",
    "axes[1, 0].set_ylabel(\"#Nodes\")\n",
    "axes[1, 0].loglog()\n",
    "\n",
    "axes[1, 1].plot(range(0, len(hist[3])), hist[3], \".\")\n",
    "axes[1, 1].set_title(\"Degree Distribution t = 4\")\n",
    "axes[1, 1].set_xlabel(\"Degree\")\n",
    "axes[1, 1].set_ylabel(\"#Nodes\")\n",
    "axes[1, 1].loglog()\n",
    "\n",
    "\n",
    "plt.tight_layout()\n",
    "plt.show()"
   ]
  },
  {
   "cell_type": "markdown",
   "metadata": {},
   "source": [
    "As we can see, there are few changes in density taking into account a total time window of one month, but these indicate the networks are evolving over time, growing slowly."
   ]
  }
 ],
 "metadata": {
  "kernelspec": {
   "display_name": "anaconda_ws",
   "language": "python",
   "name": "python3"
  },
  "language_info": {
   "codemirror_mode": {
    "name": "ipython",
    "version": 3
   },
   "file_extension": ".py",
   "mimetype": "text/x-python",
   "name": "python",
   "nbconvert_exporter": "python",
   "pygments_lexer": "ipython3",
   "version": "3.10.9"
  },
  "orig_nbformat": 4
 },
 "nbformat": 4,
 "nbformat_minor": 2
}
