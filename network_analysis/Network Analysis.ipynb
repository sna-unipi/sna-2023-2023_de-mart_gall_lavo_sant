{
 "cells": [
  {
   "cell_type": "markdown",
   "id": "20e73b2d",
   "metadata": {},
   "source": [
    "## Network building"
   ]
  },
  {
   "cell_type": "code",
   "execution_count": 1,
   "id": "10a5c66f",
   "metadata": {},
   "outputs": [],
   "source": [
    "import networkx as nx\n",
    "import warnings\n",
    "import numpy as np\n",
    "import matplotlib.pyplot as plt\n",
    "import powerlaw\n",
    "from datetime import datetime\n",
    "import random\n",
    "warnings.filterwarnings('ignore')"
   ]
  },
  {
   "cell_type": "code",
   "execution_count": 2,
   "id": "51f8f965",
   "metadata": {},
   "outputs": [],
   "source": [
    "import pandas as pd\n",
    "nodes = pd.read_csv('nodes.csv', index_col = False)\n",
    "edges = pd.read_csv('edges.csv', index_col = False)\n",
    "G = nx.from_pandas_edgelist(edges, source = 'author', target = 'parent_author', create_using = nx.DiGraph())\n",
    "G.add_nodes_from(nodes)"
   ]
  },
  {
   "cell_type": "markdown",
   "id": "5b42453a",
   "metadata": {},
   "source": [
    "## Network based statistics "
   ]
  },
  {
   "cell_type": "code",
   "execution_count": 3,
   "id": "22cf3e7c",
   "metadata": {},
   "outputs": [
    {
     "data": {
      "text/plain": [
       "13171"
      ]
     },
     "execution_count": 3,
     "metadata": {},
     "output_type": "execute_result"
    }
   ],
   "source": [
    "N = G.number_of_nodes()\n",
    "N"
   ]
  },
  {
   "cell_type": "code",
   "execution_count": 4,
   "id": "48002a99",
   "metadata": {},
   "outputs": [
    {
     "data": {
      "text/plain": [
       "40948"
      ]
     },
     "execution_count": 4,
     "metadata": {},
     "output_type": "execute_result"
    }
   ],
   "source": [
    "E = G.number_of_edges()\n",
    "E"
   ]
  },
  {
   "cell_type": "code",
   "execution_count": 5,
   "id": "6d769f9f",
   "metadata": {},
   "outputs": [
    {
     "data": {
      "text/plain": [
       "True"
      ]
     },
     "execution_count": 5,
     "metadata": {},
     "output_type": "execute_result"
    }
   ],
   "source": [
    "G.is_directed()"
   ]
  },
  {
   "cell_type": "code",
   "execution_count": 6,
   "id": "95c708e1",
   "metadata": {},
   "outputs": [],
   "source": [
    "G_und_rw = G.to_undirected().copy()"
   ]
  },
  {
   "cell_type": "code",
   "execution_count": 7,
   "id": "f9891aaf",
   "metadata": {},
   "outputs": [
    {
     "data": {
      "text/plain": [
       "False"
      ]
     },
     "execution_count": 7,
     "metadata": {},
     "output_type": "execute_result"
    }
   ],
   "source": [
    "G_und_rw.is_directed()"
   ]
  },
  {
   "cell_type": "markdown",
   "id": "70ed8c53",
   "metadata": {},
   "source": [
    "## Degree Distribution"
   ]
  },
  {
   "cell_type": "code",
   "execution_count": 8,
   "id": "406f6d05",
   "metadata": {},
   "outputs": [
    {
     "data": {
      "text/plain": [
       "1"
      ]
     },
     "execution_count": 8,
     "metadata": {},
     "output_type": "execute_result"
    }
   ],
   "source": [
    "# degree for node 1\n",
    "degrees = G_und_rw.degree\n",
    "first_node = next(iter(degrees))\n",
    "first_node[1]"
   ]
  },
  {
   "cell_type": "code",
   "execution_count": 9,
   "id": "6e07021b",
   "metadata": {},
   "outputs": [
    {
     "data": {
      "text/plain": [
       "5.205679143573001"
      ]
     },
     "execution_count": 9,
     "metadata": {},
     "output_type": "execute_result"
    }
   ],
   "source": [
    "sum(dict(G_und_rw.degree()).values())/float(len(G_und_rw))"
   ]
  },
  {
   "cell_type": "code",
   "execution_count": 10,
   "id": "b41e0708",
   "metadata": {},
   "outputs": [
    {
     "data": {
      "image/png": "[encoded data removed]",
      "text/plain": [
       "<Figure size 640x480 with 1 Axes>"
      ]
     },
     "metadata": {},
     "output_type": "display_data"
    }
   ],
   "source": [
    "hist = nx.degree_histogram(G_und_rw)\n",
    "    \n",
    "plt.plot(range(0, len(hist)), hist, \".\")\n",
    "plt.title(\"Degree Distribution\")\n",
    "plt.xlabel(\"Degree\")\n",
    "plt.ylabel(\"#Nodes\")\n",
    "plt.loglog()\n",
    "plt.show()"
   ]
  },
  {
   "cell_type": "code",
   "execution_count": 11,
   "id": "7e14073e",
   "metadata": {},
   "outputs": [],
   "source": [
    "def plot_dist(G):\n",
    "    M = nx.to_scipy_sparse_matrix(G)\n",
    "    xmin = min([d[1] for d in G.degree()])\n",
    "    indegrees = M.sum(0).A[0]\n",
    "    degree = np.bincount(indegrees)\n",
    "    fit = powerlaw.Fit(np.array(degree) + 1, fit_method = 'KS')#, xmin=xmin, xmax=max(degree)-xmin,discrete=True)\n",
    "    \n",
    "    \n",
    "    fig = plt.figure(figsize=(16, 6)) \n",
    "    \"\"\" Plot Distribution \"\"\"\n",
    "    plt.subplot(1, 3, 1)\n",
    "    plt.plot(range(len(degree)),degree,'b.')   \n",
    "    plt.loglog()\n",
    "    plt.xlim((min(degree), max(degree)))\n",
    "    plt.xlabel('Degree')\n",
    "    plt.ylabel('P(k)')\n",
    "\n",
    "\n",
    "    \"\"\" Plot CDF \"\"\"\n",
    "    plt.subplot(1, 3, 2)\n",
    "    fit.plot_cdf()\n",
    "    plt.xlabel(\"Degree\")\n",
    "    plt.ylabel('CDF')\n",
    "\n",
    "    \"\"\" Plot CCDF \"\"\"\n",
    "    plt.subplot(1, 3, 3)\n",
    "    fit.plot_ccdf()\n",
    "    plt.ylabel('CCDF')\n",
    "    plt.xlabel('Degree')\n",
    "    plt.tight_layout()\n",
    "    plt.show()"
   ]
  },
  {
   "cell_type": "code",
   "execution_count": 12,
   "id": "1b867ca1",
   "metadata": {},
   "outputs": [
    {
     "name": "stdout",
     "output_type": "stream",
     "text": [
      "Calculating best minimal value for power law fit\n",
      "xmin progress: 00%\r",
      "xmin progress: 02%\r",
      "xmin progress: 04%\r",
      "xmin progress: 07%\r",
      "xmin progress: 09%\r",
      "xmin progress: 12%\r",
      "xmin progress: 14%\r",
      "xmin progress: 17%\r",
      "xmin progress: 19%\r",
      "xmin progress: 21%\r",
      "xmin progress: 24%\r",
      "xmin progress: 26%\r",
      "xmin progress: 29%\r",
      "xmin progress: 31%\r",
      "xmin progress: 34%\r",
      "xmin progress: 36%\r",
      "xmin progress: 39%\r",
      "xmin progress: 41%\r",
      "xmin progress: 43%\r",
      "xmin progress: 46%\r",
      "xmin progress: 48%\r",
      "xmin progress: 51%\r",
      "xmin progress: 53%\r",
      "xmin progress: 56%\r",
      "xmin progress: 58%\r",
      "xmin progress: 60%\r",
      "xmin progress: 63%\r",
      "xmin progress: 65%\r",
      "xmin progress: 68%\r",
      "xmin progress: 70%\r",
      "xmin progress: 73%\r",
      "xmin progress: 75%\r",
      "xmin progress: 78%\r",
      "xmin progress: 80%\r",
      "xmin progress: 82%\r",
      "xmin progress: 85%\r",
      "xmin progress: 87%\r",
      "xmin progress: 90%\r",
      "xmin progress: 92%\r",
      "xmin progress: 95%\r",
      "xmin progress: 97%\r"
     ]
    },
    {
     "data": {
      "image/png": "[encoded data removed]",
      "text/plain": [
       "<Figure size 1600x600 with 3 Axes>"
      ]
     },
     "metadata": {},
     "output_type": "display_data"
    }
   ],
   "source": [
    "plot_dist(G_und_rw)"
   ]
  },
  {
   "cell_type": "markdown",
   "id": "c3064157",
   "metadata": {},
   "source": [
    "## Graph components"
   ]
  },
  {
   "cell_type": "code",
   "execution_count": 13,
   "id": "2096902f",
   "metadata": {},
   "outputs": [
    {
     "data": {
      "text/plain": [
       "['omgpop']"
      ]
     },
     "execution_count": 13,
     "metadata": {},
     "output_type": "execute_result"
    }
   ],
   "source": [
    "list(G_und_rw.neighbors(first_node[0])) # obtain the list of neighobors for the first node"
   ]
  },
  {
   "cell_type": "code",
   "execution_count": 14,
   "id": "1ccd7e3f",
   "metadata": {},
   "outputs": [],
   "source": [
    "ego = nx.ego_graph(G_und_rw, first_node[0]) # ego network of the first node"
   ]
  },
  {
   "cell_type": "markdown",
   "id": "7cbb7ab9",
   "metadata": {},
   "source": [
    "## Connected components"
   ]
  },
  {
   "cell_type": "code",
   "execution_count": 15,
   "id": "33c1a936",
   "metadata": {},
   "outputs": [
    {
     "name": "stdout",
     "output_type": "stream",
     "text": [
      "Number of connected components:  299\n"
     ]
    }
   ],
   "source": [
    "giant_cc = list(nx.connected_components(G_und_rw))\n",
    "print(\"Number of connected components: \", len(giant_cc))"
   ]
  },
  {
   "cell_type": "code",
   "execution_count": 16,
   "id": "d8e7b78a",
   "metadata": {},
   "outputs": [
    {
     "name": "stdout",
     "output_type": "stream",
     "text": [
      "Length of the giant component:  1\n"
     ]
    }
   ],
   "source": [
    "# removes from the graph all nodes that are not in the giant component\n",
    "G_und_rw.remove_nodes_from([n for n in G if n not in set(giant_cc[0])]) \n",
    "giant_cc_2 = list(nx.connected_components(G_und_rw))\n",
    "print(\"Length of the giant component: \", len(giant_cc_2))"
   ]
  },
  {
   "cell_type": "markdown",
   "id": "ba7b83a9",
   "metadata": {},
   "source": [
    "## Path analysis"
   ]
  },
  {
   "cell_type": "markdown",
   "id": "78a693e6",
   "metadata": {},
   "source": [
    "Build a new graph with sampled nodes due to slowness of path analysis algorithms on the full-size network"
   ]
  },
  {
   "cell_type": "code",
   "execution_count": 17,
   "id": "1092eedd",
   "metadata": {},
   "outputs": [],
   "source": [
    "from random import sample"
   ]
  },
  {
   "cell_type": "code",
   "execution_count": 18,
   "id": "6eca1378",
   "metadata": {},
   "outputs": [
    {
     "data": {
      "text/plain": [
       "12676"
      ]
     },
     "execution_count": 18,
     "metadata": {},
     "output_type": "execute_result"
    }
   ],
   "source": [
    "node_list_cc=[]\n",
    "for user in G_und_rw.nodes:\n",
    "    node_list_cc.append(user)\n",
    "\n",
    "len(node_list_cc)"
   ]
  },
  {
   "cell_type": "markdown",
   "id": "5dbc949e",
   "metadata": {},
   "source": [
    "## Diameter"
   ]
  },
  {
   "cell_type": "code",
   "execution_count": 19,
   "id": "ed2470bd",
   "metadata": {},
   "outputs": [
    {
     "name": "stdout",
     "output_type": "stream",
     "text": [
      "['NoMeatFingering', 'Icatyes', 'WolandPT', 'Sam54123', 'Jolly-Address-8864', 'alexnag26', 'Gent2022', 'testdaswg234g', 'DrySociety7463', 'Tanzekabe', 'sunkenship08', 'dumbdumbuser', 'Bruhfiki', 'alcalde', 'xXdontshootmeXx', 'tyuoplop', 'XxDONGLORDxX', 'Salted_Sugars', 'areopagitic', 'meggyAnnP', 'B8magicx', 'fund-my-death', 'Marranyo', 'l1lym', 'throwaway2233344446', 'StephenRman', 'Direct_Show_7389', 'Novemberai', 'tangentrification', 'geoelectric', 'NvidiaRTX', 'TheRoyalsapphire', 'Particular_Ad_2856', 'ZiiDii', 'bitsconnect', 'AzureArmageddon', 'drewbug', 'sernamelikewhoishe', 'locomotive100', 'Austin27', 'DVGltd', 'coumineol', 'Zero_Smoke', 'Webdigitalblog', 'shelvac2', 'Zintom', 'WaldeDra', 'guapacz', 'Akeyl_Elwynn', 'deiteorg', 'pleeplious', 'Andwyr44', 'missusmilk', 'sadkins2244', 'LunchWhole4041', 'spinningfinger', 'TastyTastyScience', 'Small-Fall-6500', 'AltAcc34-a', '_karelias', 'CanaryRoyal7901', 'villanodev', 'qiaodan_ci', 'MandarkTheBand', 'diefartz', 'SoulofZ', 'Nightcomer', 'BaboonArt', 'leroyyyyyjenkinsssss', 'Particular_Elk7054', 'pend-bungley', 'HereJustForTheData', 'brennan2356', 'ColdFrixion', 'Aldoogie', 'Emergency_Cycle4811', 'Arsehna', 'Hypergraphe', 'bdr9', 'Fantastic-Jeweler781', 'soulaz1', 'sanjosanjo', 'ravery722', 'Positive-Nectarine48', 'psychedelic303', 'raincole', 'coupecasket327', 'WansleaSurvivor', 'Vuntorion', 'JGeorge102', 'Waffleid0', 'OffspringBR', 'DrHerbotico', 'alban228', 'Cause_Good_808', 'paprok', 'longhorn2118', 'YOwololoO', 'tsvk', 'sub_doesnt_exist_bot', 'keziahw', 'wingsofwarrior', 'TheAIMaster', 'DanM_Ro', 'folk_science', 'Gustavo6046', 'Donnie_Sucklong', 'Agitated_Risk4724', 'ThroughForests', 'Infamous-Willow1404', 'DragonOfBrevard', 'Kombucha_Hivemind', 'SleepyDerp', 'Trick-Section3546', 'Callipygian_Superman', 'Jarrion_gg', 'LinuxMatthews', 'PmButtPics4ADrawing', 'flashmoregash', 'psychopegasus190', 'thereplicatedman420', 'TheFunnyShah', 'ProcedureMindless123', 'FlowMasters', 'Purr-box', 'boringbobby', 'Star_Pilgrim', 'eboeard-game-gom3', 'WesleyRobertRose', 'asds999', 'MDKSA', 'Lr217', 'He_Still_Eatin_Ham', 'Alternative_Annual29', 'Scary_Efficiency3841', 'catonmeower', 'CoconutAgitated5513', 'Hot_Ice_7733', '22022020', 'Svetlash123', 'DeliriousPrecarious', '3choZulu', 'LeonDeSchal', 'elpresidentedeltoro', 'PeterIanStaker', 'call_Back_Function', 'Goldenier', 'UnknownSP', 'RcPilotx', 'flat5', 'techdrumboy', 'throwaway_lurker_123', 'Guitar_Nutt', 'Oh-Sasa-Lele', 'kzrfc10', 'merchandise_', 'possiblybaldman', 'theshadowturtle', 'moonlitcat2022', 'Own_Cartoonist_1540', 'Deep-Panda1719', 'Wise_Control', 'Ill_Sandwich5567', 'One-Suggestion6635', 'Icy_Holiday_1089', 'Out_Of_Work_Clown', 'toko92', 'SomeCoolBloke', 'ShenroEU', 'pirke_bh', 'Defcon_Negative', 'OstiaAntica', 'ilkemARICI', 'amtsh', 'Cardople', 'revrame', 'DeleteMetaInf', 'helllllo1234', 'Hella_matters', 'Chemical_Poet1745', 'stevep98', 'Nico_Weio', 'Miky617', 'precision1998', 'FISCHI1235', 'MrKermitKermits', 'oorkaas', 'Juusto3_3', 'Fresh_Upstairs_6291', 'ckerazor', 'Galtego', 'curiousdressing', 'DictatorPant', 'femtowave', 'Massive-Ad-5115', 'masterofallmars', 'astrognome_18', 'v4351', 'bongocopter', 'JacobTheNurse', 'Maroczy_Malezolent', 'BrilliantMoose7664', 'RainierPC', 'great_site_not', 'Excellent-Chemistry1', 'MrDover8', 'CaptainIowa', 'clevnumb', 'Another_AdamCF', 'Axolotl-Helpers', 'cline_ice', 'Chotaa_Don', 'Ajki-reddit', 'entrep', 'ForgottenTM', 'confidencedestroyer', 'DeckardWS', 'Toof', 'Serious-Host5073', 'Aggravating_Junket77', 'AmerRox', 'JoshSummers', 'captain_jack____', 'molossus99', 'Critical_Invite5675', 'Polstick1971', '00matchup', 'Grandpaforhire', 'ExtensionDress4733', 'FootBallFen', 'BrownieJoe', 'Zheniost', 'dookie_bot', 'IlNostroDioScuro', 'eras', 'thaiplant', 'Rude-Associate2283', '3_layers_deep', 'Baddy3shoez', 'zazthebitchfuck', 'JohnDiGriz', 'MonkeyPawWishes', 'kafqatamura', 'ForceSoft7793', 'Steowls', 'normal_nurse', 'whocareswhoami', 'Grouchy_Aardvark_303', 'osmarks', 'thecodingrecruiter', 'Financial-Debt9431', 'Eoxua', '7th_Spectrum', 'chosen566', 'eesahe', 'Yondar', 'backafterdeleting', 'Slow-Journalist-8250', 'Elctsuptb', 'stardust-sandwich', 'OptimizeAll', 'victorsaurus', 'PocketHobbit', 'Top_Criticism_4208', 'Wooden_Guidance7033', 'MirrorLake', 'MonstaGraphics', 'macdaddynick1', 'weslau', 'STONK_Hero', 'gonutsdonuts1', 'TE6cf32NQ22bcDQWnQ2g', 'GiraffeGroup', 'Busy-Ad6502', 'Karmadilla', 'goldenscience', 'Creig1013', 'CrazeeChimp', 'NoxiaDeus', 'zinky30', 'Hour_Astronomer', 'RemarkableGuidance44', 'yacoboidthesheep', 'ChrisRuss86', 'a_sassy_nation', 'chapeau_', 'Degil99', 'ben454545', 'alenym', 'EmeHera', 'Tronixtoken', 'Ok-Tourist7912', 'powerofguns', 'Negative-Guidance950', 'TheJimpsons', 'i_hate_fanboys', 'Shawnj2', 'DB-43', 'dolandonline', 'NeonUnderling', 'Jakeiscrazy', 'zhbrui', 'deaddiode', 'dezokokotar', 'SmolBabyWitch', 'mikuhero', 'Disastrous_Round3463', 'netskiesatnight', 'analyselyse', 'Iwitrag', 'conidig', 'xixi2', 'LordJonMichael', 'HerdOfBuffalo', 'Seppu477', 'Intelligent_Price685', 'kinkade', 'cpc2', 'steeelez', 'Vivalyrian', 'hellooomoneyy', 'Playful_Solid444', 'martapap', 'ComplexProof593', 'sillybilly8102', 'amitbhai', 'akWRLD', 'Nicklaus_s110', 'torchma', 'JakcCSGO', 'Rekenn', 'Ricenaros', 'Rexcoder', 'flarengo', 'ecom423', '87LuckyDucky87', 'dragonfableace', 'JimmyDonovan', 'Tone_tc', 'foxtreat747', 'KDLGates', 'TechnicallyNothing', 'mattsowa', 'Stuffssss', 'spudmix', 'Cat_kicker_2', 'rawalfredo', 'catchaway961', 'awesomeguy_66', 'defconoi', 'Yukina_Labyki', 'vorticalbox', '_xeru', 'thefunnyone691', 'EliteNugget69', 'Exotic_Channel', '1r0n1c', 'FammerHall', 'Famous-Software3432', 'Kaisaroll', 'softblob', 'kaloskagatos', 'kylechu', 'fairlywired', 'henriper', 'neozback1', 'Alevol02', 'Even-Display7623', 'roofing_contractor', 'tispis', 'Soft-Ad3466', 'HPLovecraft1890', 'Lenni-Da-Vinci', 'Salilah1173', 'Sunbay-man', 'totally_up_to_it', 'Adopted_Jaguar', 'kingbee0102', 'iMikle21', 'Joggy77', 'recontitter', 'RegularExcuse', 'Ok_Historian9538', '_Rap1d', 'sabotnoh', 'egoold123', 'looking4weirdfriends', '-world-', 'erictheauthor', 'Cturtlesrhappy', 'Comfortable-Chef56', 'just__jim', 'rubksu23', 'thedjwonder12', 'CosmicAbsurdity', 'Waldo_Juarez', 'OppaiTaking', 'ThatAd9098', 'Temporal_Light', 'EitiFrie', 'SulkyGovernment', 'DukeRusty', 'DominoUB', 'Mediocre_Chapter_575', 'LelNah', 'Affectionate_Pizza60', 'EstEnt', 'kastharnewala', 'Defiant-Snow8782', 'McDutchie', 'Alexschmidt711', 'topographx', 'GhostCheese', 'PBMthrowawayguy', 'solarisbnnna3w', 'Gestaltash', 'stonewebdev', 'ven_zr', 'fangbro', 'Ok-Operation2358', 'Vintageframe', 'P0J0', 'ParatusPlayerOne', 'Key-Soft-8248', 'accounting_cunt', 'Alexius08', 'Ameren', 'Separate_Zucchini_95', 'cizizen', 'GodOfSociety', 'orangybara3', 'noobnoob62', 'StinkyBoop', 'InternationalMatch13', 'lero1324', 'That007Spy', 'Miserysoft', 'dyna79', 'nikstick22', 'LittleRipper518', 'dresoccer4', 'C0nceptErr0r', '-paul-', 'bightbondo', 'Ettanlos', 'AlexKingstonsGigolo', 'hulaly', 'phoenixbbs', 'jwrado', 'DaitoAnonymous', 'nerps0n', 'ElectBenedict', 'ptear', 'Limp-Drive-1821', 'TexturalTriangle', 'AFruitShopOwner', 'blurrscreen', 'dolph42o', 'whatznext28', 'okocims_razor', 'Optimus_PrimeX', 'theTrueLodge', 'hawzie2002', 'MinnesotaBirdman', 'Elijah629YT-Real', 'bouncyprojector', 'Global_Moving', 'firepitideas', 'ettleboy', 'throwawaydthrowawayd', 'get_while_true', 'JophASL', 'geeceeza', 'Extreme_Ad7035', '9percentmilk', 'metam0rphosed', 'Anathematized1', 'RomanMines64', 'Signal-Army-1342', 'Luucas202', 'PP_Devy', 'gittor123', 'yo-chill', 'New_Relative_2268', 'sluuuurp', 'Sitk042', 'EducationFlaky238', 'Covid19-Pro-Max', 'menacingsparrow', 'Checktomato', 'doctorray', 'SmokingFromage', 'Fringolicious', 'Kriegnitz', 'CallowayMcSmithing', 'justV_2077', 'Joppekim', 'wordplayar', 'capitalofdingle', 'dontworryimvayne', 'Mowgi', 'Abdouredx135', 'MrDoe', 'nuthins_goodman', 'SaleDue', 'WalterWylderCeramics', 'osomfinch', 'fraktall', 'Accomplished-Tap-222', 'im_very_greatfool', 'mohalobaidi', 'RecommendationOdd193', 'coma24', 'disgruntled_pie', 'trashiernumb', 'nemo24601', 'Simply-Brisk', 'tragicdiffidence12', 'hauntedskin', 'Fortkes', 't00sm00th', 'bangwhosnext', 'hughbristic', 'tripongo3', 'TidyCog', 'Flofian1', 'JeyJeyKing', 'duongnguyen12', 'Ok-Tourist6010', 'zielonybanan1', 'Dionysus_2720', 'Aglavra', 'Ok_Fee2650', 'nomoneyisfree', 'Crim91', 'marr0602', 'kanthonyjr', 'cebu4u', 'heartybbq', '-manabreak', 'louiswright13', 'dont-ban-me-losers', 'Queue_Bit', 'Themistokles42', 'doggyboots', 'slippershoe', 'QubitSquirrel', 'algoriddm', 'SkullShapedCookie', 'WarProfessional3278', 't-solorio', 'drizel', 'FitsbitGottaWork', 'dball', 'nocrypto4you', 'TekaiGuy', 'rinntintin1', 'YuviManBro', 'LiquidLispyLizard', 'skittlesmcgee33', 'MrKnuffke', 'unrealJeb', 'IcyDudeDuh', 'holmseys', 'HyperVVenom', 'khaleyi', 'pain_point', 'RequiredGuyHere', 'CielaczekXXL', 'DumbassDrac', 'Upset_Shallot2616', 'arnetterolanda', 'EasyyInternational', 'Ifydoyif', 'EvidenceOverall8961', 'Boioioioiiing', 'metahipster1984', 'Elanir94', 'LivingPound2053', 'ggansorry', 'yeezyforsheezie', 'IngleWoods', 'OEMichael', 'mycall', 'Due_Tip_3051', 'bitter_byte', 'JumpKickMan2020', 'AngryGungan', 'effinpissed', 'slavingia', 'samonenate', 'Datmisty', 'conradslater', 'Kerro_', 'sirc314', 'plural_of_nemesis', 'JarJarBinks590', 'UserofDAN', 'atheist-projector', 'lalalalahola', 'YVAN_EHT_NIOJ_321', 'redditor_on_the_rise', 'Zodiac84_au', 'fossda92', 'agilepolarbear', 'Freefromcrazy', 'rexstiener', 'kob', 'HeyLittleTrain', 'WillyFlock', 'DrSaturnos', 'yumyumgimmesome', 'JanusGodOfChange', 'busterbus2', 'thenamelessthing', 'imakemememememememes', 'HeavierMetal89', 'ghost_of_dongerbot', 'gliptic', 'robobin750', 'TheLoneSniper470', 'Treeniks', 'SnackingRaccoon', 'savinelli_smoker', 'lordofmetis', 'Handsandditizer', 'Distinct_Canary_223', 'Jayelzibub', 'Educational-Wafer112', 'Low-Neighborhood3846', 'takeitassaid', 'kex', 'brbnio', 'Distinct-Analysis740', 'hagosantaclaus', 'slicknick654', 'Needsomeba3', 'beseeingyou18', 'Zer0D0wn83', 'TryHardDieHard', 'ILikePepperCheese', 'ghomerl', 'burtlambreks', 'perccptive', 'liquiddandruff', 'snackers21', 'zeugme', 'BasicPay7620', 'DueSuccess1017', 'kingky0te', 'quaxoid', 'Loud-Position-9654', 'jacklamanna', 'chabird', 'Mala_Kalypse', 'Just-A-Lucky-Guy', 'DumbGuy5005', 'Boxit379', 'SujitThinks', 'JNTHN4', 'faizajamil', 'vaughnegut', 'PuppersInc', 'hanktertelbaum', 'Thaasophobe', 'Life-Ad7654', 'TakiTikiToe', 'heathcliph24', 'Leomaner124', 'StayStrongKeepGoing', 'Live-Bodybuilder-119', 'Baseshot', 'Strickout', 'banana-user75', 'KimchiMaker', 'abdullahmnsr2', 'Duckerton375', 'wildjokers', 'MechanicalBengal', 'According_Music7370', 'ohkobe', 'prosequare', 'strouper_pooper', 'FictionalFail', 'disconnective', 'maxiedaniels', 'peeawaysj', 'No-Fox-1400', 'indigo945', 'flintcleastwoods', 'DreaminDemon177', 'MagicalSkyMan', 'rauland', 'TheLastAirBalancer', 'Ok-Panic-3940', 'Frosty_Cringe', 'Phenergan_boy', 'EthanTDN', 'No-Bear1059', 'lyagusha', 'ozba', 'Doggo_Is_Life_', 'Bibbi_12', 'JDMiller95', 'was_der_Fall_ist', 'Maximum_Fair', 'thewillonline', 'Warm_Ad_7572', 'tmlildude', 'kabelcard', 'mr_z06', 'Rocklobster92', 'throawaysecto38', 'zvive', 'thewhitebison', 'Blueby69', 'CyberSpliot', 'ExcitementAny4872', 'humbledrumble', 'Stillworking2021', 'cilvercenturion', 'PhobicBeast', 'Flench04', 'logicalprimeape', 'somethingnothing5', 'SneekyF', 'yellowfeverlime', 'hoidere66', 'betadecade_', 'Dear_Ad_3435', 'KnockKnockPizzasHere', 'r3b3l-tech', 'sorryicouldnthelpit', 'Overall-Sugar-1650', 'Nepharious_Bread', 'PerrinDreamWalker', 'Mandelvolt', 'swordsdancemew', 'Evylrune', 'Yetiski', 'pyronaur', 'The_Boopaduke', 'noriilikesleaves', 'rfwaverider', 'JourneyToThatPlace', 'DivineLasso', 'Mission-Moon-1', 'TwistedBrother', 'YAROBONZ-', 'pepsibluefan', 'Impossible_Ad2035', 'Thecone420', 'BrickInner6286', 'I_only_read_trash', 'CHKNSkratch', 'BKmaster2580', 'WorkingMedical3940', 'bobby-joe', 'Any-Bug9959', 'Luhhsxm', 'FoxTrotRoyale', 'Steelizard', 'twelvekings', 'casseroleplay', 'chameleon2828', 'arglarg', 'post-death_wave_core', 'TheFluffiestFur', 'itehmike', 'commander_shortstop', 'Even_Ad6407', 'severe_009', 'lilwindexx', '-Puzzled-Case-', 'Ok-Butterscotch7834', 'panos42', 'alexc0901', 'EximiusDK', 'iamblueguy', 'La_piscina_de_muerte', 'El_Duderino_Mepper', 'SubnauticaFan3', 'Leoniceno', 'legeri', 'Zainium', 'XzwordfeudzX', 'intelatominside', 'Kamratkalle123', 'AkaMustafa_', 'quiteawhile', 'MindlessComment', 'sharkymcstevenson2', 'zpokmn18', 'lde0hc', 'Sayemisloading', 'gonzatho000', 'self-assembled', 'asgar4ever', 'nickinparadise', 'noxsolitudo001', 'WeReAllCogs', 'Expensive-Garage-861', 'stanfordloser', 'RiseAboveHat', 'BobLablah1', 'zikoflux', 'stu73883', 'nuthinbutneuralnet', 'eazeaze', 'liquidocelotYT', 'AfSchool', 'VladVV', 'PitchSuch', 'TheIntrovrtedExtvert', 'BobKabab_', 'Silent-Stuff3366', 'Outside-Pen-3393', 'davdog00', 'warrenant', 'hypnoshock', 'neg_ersson', 'Phantomdude_YT', 'Jeremy_Winn', 'PUMPFISTS', 'The_Raven_SOT', 'SkinnyCheff', 'dirango', 'RabuSamurai', 'molpore', 'natercio12', 'a_unique_username_5', 'tompas7989', 'Leanardoe', 'Commercial-Penalty-7', 'Pallas', 'cchalk', 'Tina_Belmont', 'w633', 'Fresque', 'M0wl333', 'ioa94', 'ReleaseImportant7856', 'baselinefacetime', 'i_am_at_work123', 'iamluke', 'bonobro69', 'Reymarcelo', 'ferretux314', 'Nenotriple', 'dangrigoras', 'EnmaAi22', 'zerocodez', 'MeanPop6806', 'pkhel', 'luishgcom', 'Ice_Crash', 'ZooMTRauMA', 'rafuulz', 'Britishboy632', 'Flashy_Elderberry_95', 'SkilletHoomin', 'Crazyfish95', 'RabidHexley', 'brian1183', 'Blaistashen_Nein', 'No_Ninja3309_NoNoYes', 'JayF_W', 'Jojopiez', 'I_always_unzips', 'Hammeringhamster', 'totoCZE', 'No-Panic-1909', 'MSP-CrimeSolver', 'St0e', 'Emperor_of_Vietnam', 'netn10', 'Pale_Play_1068', 'vortzz', 'lilbro93', 'iceorcus', 'FishySquisher', 'ShrinkRayAssets', 'These-Pool-7176', 'SpockHisSocks', 'markehammons', 'jaikap99', 'tomoldbury', 'SlightlyOutOfPhase4B', 'VisLock', 'tias', 'CouchieWouchie', 'hateeverythingnow', 'AnInfiniteArc', 'xaxerov', 'boring_pencil', 'saberking321', 'not_american_ffs', 'Wrong_Bat_9636', 'SpiltMySoda', 'ChuckNorrisArgento', 'ceeruhl', 'JCAPER', 'woahwoahoahoah', 'Schaubesque', 'theincrediblehansmey', 'cheshire1388', 'frenchfry_wildcat', 'UlfarrVargr', 'GravySquad', 'poop_on_balls', 'Simple_Bass_1632', 'EmmyNoetherRing', 'EpicDroneImages', 'CanofPandas', 'djwoske', 'Intel81994', 'Successful-Two-6249', 'madwilliamflint', 'Ok_Rise_4506', 'cake_huge', 'matthewdude2345', 'Heavenly-alligator', 'netherlandsftw', 'Ok-Middle-5231', 'thingleboyz1', 'drillgorg', 'corner', 'Conscious-Walrus5659', 'DarkWaterResting', 'AbilityCharacter7634', '_wetmath_', 'inkubuss', 'Red-HawkEye', '-gauvins', 'bleep1912', 'Rebar4Life', 'raedr7n', 'bremidon', 'osures', 'themightychris', 'Tyrz', 'whateverasusual', 'twhmike', 'ninjafrog01', 'blongo_1', 'Tissuerejection', 'ccwhere', 'Nomad489', 'TomahawkJackson', 'poopingandpissing69', 'HarshTruth-', 'draoi28', 'Ok-Establishment9511', 'Smith1777', 'Dry_Try_8365', 'runboy135', 'Massive-Raise-1145', 'ajaysassoc', 'nutidizen', 'MrSnrubFarAway69', 'chimmichangasinhell', 'paynie80', 'agradychandler', 'oneoftwentygoodmen', 'Sgeo', 'meeseeks1991', 'AgentGiga', 'the-advice-bot', 'monkeydoo222', 'Beachhouse15', 'teaHX1138', 'nvaladi', 'pulkiittt', 'Valoid', 'provoko', 'AwareSalad5620', 'MartinsRedditAccount', 'TlstyMacek59', 'realgnac', 'hydnhyl', 'thanoswheat', 'HugePoet1890', 'Irrelephant_Username', 'mitten_hash', 'Appropriate-Brick-25', 'G1bs0nNZ', 'RACCOOOOOOOOOOOOOON', 'Paul_Swanson', 'fishybird', 'BlockOfRawIron', 'Hasan9781', '6d26d3af', 'horse-star-lord', 'h19x5', 'Oddball777', 'barrycarter', 'Longjumping-Ideal-55', 'Rankassraffilian', 'GrandAct', 'massiswicked', 'Sore_End_Kierkegaard', 'Parking-Reputation60', 'jonesmatty', 'generalgrievous9991', '2020button', 'Ryukaki', 'Future_Carrot3124', 'Accomplished-Pass388', 'MadeyesNL', 'TheTjalian', 'MediumSizedWalrus', 'ColdFusion10Years', 'Substantial-County27', 'Thestaris', 'bond2016', 'Mindless-Range-7764', 'Substantial-Future23', 'ChopieOB', 'Notcheating123', 'NDPNDNTVariable', 'NickoWasabio', 'JeromePowellAdmirer', 'Zero_Cool777', 'muchomuchacho', 'lewe38', 'NowStopThat', 'real_chim', 'most_triumphant_yeah', 'azzaisme', 'geekazine', 'zonezonezone', 'growe19', 'idontevenliftbrah', 'tingshuo', 'treesaresocool', 'cmd_command', 'SnooHabits907', 'VaheOfficialYea', 'bigdaddy2incher', 'Mt_Everest_8848', 'hnzie33', 'PolishedVodka', 'McKillney', 'Zetanite', 'guspix', 'CloudyBeep', 'Har2h', 'Equivalent-Bench5950', 'DrAllure', 'RealisticGhostPlays', 'FirstAd1544', 'weemellowtoby', 'bonziBuddy404', 'NooB_Programmer5', 'garagejunkie39', 'ShubhamPandeyy', 'CartographerLivid834', 'Liambp', 'Max_Laval', 'Milenialix', 'ExponentiallyLinear', 'syphon_404', 'SiamGiants', 'prysmatik', 'indieface', 'PSi_Terran', 'Lahmacun-el_Kebab', 'noonecaresUK', 'Old_Commission8584', 'boardpadawan', '__ingeniare__', 'tenniskidaaron1', '_generic_dude', 'JustinDias95', 'maskofffuckitmaskoff', 'P3r3grinus', 'DelayCrafty6854', 'Forked-Lightning-492', 'ProdbyThomas_', 'eranthomson', 'Miskellaneousness', 'Delta8Girl', 'Ashtar_Squirrel', 'reefered_beans', 'jeremyhoffman', 'VincentNacon', 'Yaboixandy', 'notyetzombie', 'Franz_the_clicker', 'Gael459', 'girlfriend_pregnant', 'Fine_Rhubarb3786', 'sloan', 'LightInside6036', 'megerrealist', 'ImZaryYT', 'jdp111', 'pareshmukh', 'MushroomsAndTomotoes', 'Rare_Jellyfish_3679', 'Opposite-Shine-1372', 'Sanji338', 'wind_dude', 'Southern-Badger5792', 'DisKiz', 'Apostolique', 'SardineEnBoite', 'kingsolobolo', 'DrinkingWithZhuangzi', 'jage9', 'carlosglz11', 'DontBuyMeGoldGiveBTC', 'devilpants', 'AngelLeliel', 'pengy99', 'UberPolice', 'JamieOvechkin', 'Andorwar', '6two', 'Chauliodus', 'Meutteman', 'Extreme_Ad8468', 'Expired_Gatorade', 'Jeffy29', 'That_Part-time_Dude', 'Snoo72521', 'BluRazz494', 'spywilliam', 'cd-surfer', 'Melishard', 'Laserplatypus07', 'Okashu', 'missazaar', '_Deus-EX-Machina_', 'Equivalent-Code-7743', 'gme186', 'Weapon_', 'Mewe14', 'christiangonzenbach_', 'schweetdoinkadoink', 'Hosni__Mubarak', 'TiffTiff4223', 'Blondeenosauce', 'Instant_Smack', 'N2itive1234', 'CryptoNarco', 'Aryangsuktekar', 'ScrimpyCat', 'jacobo', 'Mimimousegirl', 'dcooper8', 'hitherto_insignia', 'nowtestify24', 'Current-Judge', 'axii69', 'morkl777', 'zooterlooter', 'Kildemall', 'Phenenas', 'ghostofthecomputer', 'voneiden', 'jerbookins', 'fishintheboat', 'polycannaheathenmom', 'eviImongoose', 'TurnedOffReplyAlerts', 'velit', 'AmputatorBot', 'Affectionate-Fly-356', 'AbdelAtife', 'Karn1v3rus', 'APersonThatHatesNKG', 'DavidLorax9291', 'thephilth', 'Zealousideal-Skill84', 'T30000', 'authentic_scum', 'Magnesus', 'S7zy', 'WithoutReason1729', 'Grax_', 'muzik4machines', 'zShardoh', 'redauros', 'PR0JECT-7', 'Iveldie', 'PointlessForest', 'Recent_Intern31', 'LegitimateHasReddit', 'pat_abh', 'SMmania', 'wodex74380', 'cantypeist', 'OrionFucks', 'Complex_Traffic_530', 'andzlatin', '-GlobalFreedom-', 'InteractionBig2697', 'jessicastojadinovic', 'theotherquantumjim', 'Lucid_Hills', 'shady--me', 'gamerlaner', 'Suspicious_Board229', 'schwmm_unity', 'BlockyFromBFDI', 'some1else42', 'Cola_Dad', 'emodeca', 'Loverofallthingsdead', 'hybridmind27', 'ChaoticNeutralDragon', 'hikiri', 'PussyDistortiener', 'Therealvernon16', 'notpotat000', 'ThanielPIN', 'Meceka', 'AThrowAwayWorld', 'WhatuuupKrisp', 'DialaDuck', 'tomc128', 'jalp100', 'toliver38', 'Penguin4512', 'PerriCLewis', 'atemutest', 'JaWiCa', 'decixl', 'Ash0300', 'faulty_mainframe', 'whynotajb', 'Ultrume', 'Preseren', 'AlwaysWorkForBread', '0n6od', 'Keudn', 'NonoAnono12', 'KillAllEGirls_', 'dats_cool', 'Milchbanane', 'E-A-Fredrickson', 'mrpaulomendoza', 'Physical-Constant148', 'No_Raccoon9348', 'VRStocks31', 'zeropointo', 'Grock23', 'jeffreyianni', 'ManicCelary', 'Wonderful_Birthday34', 'witchwithadick33', 'ponesicek', 'm1thil3sh', 'nikolajhojer', 'BTR4120', 'Ooboga', 'innabhagavadgitababy', 'admirabletransmitter', 'hackers_d0zen', '8andage', 'JackONeill23', 'Aevum__', 'mayosmith', 'DuztyLipz', 'The_V2', 'IllDingo2777', 'GLaDOSexe', 'tspike', 'wassup369', 'djnuttsacc', 'ATXclnt', 'bluebushboogie', 'yairEO', 'pirufihhox', 'eshad89', 'ShaunPryszlak', 'coloradobatman', 'Nihilistic_automaton', 'darthpurpleturtle', 'bengeehymn', 'DiabloHunter96', 'Cncfan84', 'pearlmuter', '__MyronGainz__', 'shmegegeee', 'Puzzleheaded-Eye4458', 'chemZor', 'ETaroonie', 'mrtomhill', 'CheetahFart', 'meontheweb', 'KathodeN', 'Petonia_', 'BlazeVortex99', 'nic0lk', 'Ok_Assistant6773', 'coentertainer', 'DapperContribution69', 'EnergyRaising', 'Annafjyuxevf', 'PrincessPandaReddit', 'NoStretch7', 'superkp', 'HH8172', 'Chance-Focus4783', 'kauefr', 'sketchfag', 'Kind-Strain4165', 'grubbseuph11', 'Doug6388', 'TrumpetSC2', 'TouristOnMars', 'tbridge8773', 'Soupoint', 'sharedisaster', 'kamenpb', 'SiegeX', 'Trust-No-One_', 'Wild-Shift-1839', '3lcamin0', 'Immediate-Wash-896', 'TrapSam', 'evan2509', 'Nullifier69', '4eyedpeas', 'jonjiv', 'not-a_lizard', 'PerceptionIsDynamic', 'tavirabon', 'space_iio', 'WSDGuy', 'ShadowBannedAugustus', 'Joshua594', 'freylaverse', 'Ak171', 'ChenNgu', 'OhLook_aDeliMeat', 'filmantopia', 'madeInNY', 'Fearless_Strain_8870', 'ZonedForCoffee', 'Hesdonemiraclesonm3', 'billyflamingo', 'JeraldGaming2888', 'AlbatrossAirline', 'OOO000O0O0OOO00O00O0', 'PomegranatePrimary82', 'TheyStealUrTaxMoney', 'samspot', 'Royal-Astro', 'lycanter', 'JillSandwich19-98', 'UnexpectedVader', 'IiI_winky', 'BringIt007', 'fleegle2000', 'UzoicTondo', 'limerick2030', 'runvnc', 'ItachiUchiha_69', 'BaconShadow', 'Thisnickname', 'readparse', 'travelers_memoire', '8thacc', 'the-postminimalist', 'MerkyTV', 'CantaloupeSpecial', 'Simon_Lovec', 'ApartmentFew', 'ThenDetective6532', 'ARN0NYM_', 'Fulcrum9', 'jonhuang', 'MrAbc-42', 'ImpersonalLubricant', 'Affectionate_Pin4410', 'Nicerdata', 'imokwithcheese', 'Jmoseph', 'DanielCali2004', 'IntentionForeign1239', 'pengo', 'Casanova1337', 'Apprehensive_Disk486', 'Bananagamer273', 'aloC-DK', 'luckycharmz733', 'AnythingMachine', 'birolsun', 'im_gonna_be_famous', 'Flan_Fiction', 'ahushedlocus', 'Rogue2166', 'FickleChannel4845', 'AvatarJuan', 'Murky-Context9380', 'DonkeyPunnch', 'Express-Matter2928', 'Instrumedley2018', 'DannyMaliana', 'Eskanasi', 'Golfishe', '88adavis', 'boaby-wan-kenobi', 'Eddjj', 'RossSheingold', 'tusi2', 'COMINGINH0TTT', 'FredrictonOwl', '_leviora_', 'Jameshasconnected', 'Hanz_zee_German', 'no_ga', 'ratdreams_ai', 'SoulReddit13', 'throwaway957280', 'chown_chmod', 'mpcabete', 'sildurin', 'achenar_31', 'TheFlyingDutchMan_-', 'CatawompusSeattle', 'SalzaMaBalza', 'rambo0o0oohh', 'Successful-Water1950', 'solarill', 'bgighjigftuik', 'cyberpewpew10', 'magshum', 'Impossible_Map_2355', 'dont_tread_on_me_', 'JonnyOnChain', 'luc-vr', 'Any-Work7310', 'Freeholdkizw', 'JelloPorg', 'icy_elysium', 'oipoi', 'innia24', 'LoL2510', 'bdjdkdf', 'angeismyname', 'TommyKaira92', 'traveler_0027', 'chaudrea', 'bolting-hutch', 'Hockinator', 'Jonatan__5432', 'Sickcuntmate', 'QGunners22', 'SmallMermaid', 'bb70red', 'MoterBichael911', 'Jimmymork', 'Inside-Violinist-575', 'condition_oakland', 'Anonandr', 'LetMeSoloThem', 'orangatang91', 'RossZ428', 'international862_', 'Baldur-1', 'CompanyDOTA', 'Zestavar', 'Brooooook', 'Intelligent-Eagle918', 'whydontyouwork', 'konokou', 'Mechanicas', 'Paradox_Dolphin', 'Mandingodeep08', 'son_of_a_cupboard', 'jesperjames', 'PhillieUbr', 'simhol', 'Meme_KingalsoTech', 'PralineFresh9051', 'meilyn22', 'TechnicalBen', 'uadevua', 'Elyanes', 'Agile_Disk_5059', 'Valirak', 'ishmokin', 'race2tb', 'MediaSquare6786', 'crinklypaper', 'Sea-Goat-7506', 'Dirtycurta', 'sideways', '-stuey-', 'Critical-Year-7329', 'diuhetonixd', '1-1-2-3-5', 'entrepa', '6loud9', 'SCP222THJ', 'SPINDLE-TOP', 'Anonymkeiname', 'New_Pie_375', 'Inaeipathy', 'ricewbean', 'raul_midnight', 'FilmingMachine', 'wpsgdev', 'Ghostr0ck', 'umadbroo0', 'smokingbanman', 'Maxduel', 'sagunmdr', 'bigndfan175', 'exizt', 'joshcam', 'sadponyguerillagirl_', 'dysonsphere101', 'thefunkycowboy', 'Fi1thy_Mind', 'HugoButterbiscuit', 'Bloopyhead', 'loadedslayer', 'CrimsonPilgrim', 'saimonlandasecun', 'satoshi9', 'FiveThumbsPerHand', 'Em0tionisdead', 'koalakat_boos', 'Helpful_Drive_4542', 'Nerdenator', 'Faisal_v8', 'One2threebark', 'CapableAuthor3458', 'mrplate', 'acelana', 'ReyXwhy', 'royaleking51', 'Space_Pirate_R', 'deft_1', 'Legalfox7', 'GreenLurka', 'red_demon_king', 'inexternl', 'murlockadam', 'dada513', 'cviperr33', 'haytherecharlie', '_imNotSusYoureSus', 'quantumcuckoo', 'PJGSJ', 'FluffyTumbleweed6661', 'eternalfool', 'Ok_Calendar2143', 'LowReading3064', 'Noobodyspeciall', 'goofandaspoof', 'VoltronicEnergy', 'memesandpain', 'Kyouma118', 'Palodin', 'HHH_ART', 'TrianglesMakeCubes', 'CapHillster', 'bulirymasbulir', 'maryline12', 'uberblackninja', 'Sova-911', 'Leto2112', 'meilaki', 'Best_Sun8465', 'venicerocco', 'DigbyChickenZone', 'Solid_Jackson1', 'HerbalQuartz123', 'Nocturnal-Teacher', 'Few_Zookeepergame105', 'Apollo-Innovations', 'Jordancjb', 'EvenAtTheDoors', 'yumyum7782', 'splifflord_quazimoto', 'apodicity', 'qhxo', 'neoplastic_pleonasm', 'MrNokiaUser', 'CoffeeDup7', 'FractalZE', 'jshusky', 'MunchmaKoochy', 'chocuyt', 'festering_rodent', 'gutprof', 'cyberv1k1n9', 'OfficialT20', 'JMT37', 'Viktor_withaK', 'downhilltailwind', 'danylp', 'junaidshahid360', 'ikbegzzoxf', 'AYMAAAAAAAAAAAAAAAAN', 'DouglasHufferton', 'Generazn', 'ggppjj', '--DMH--', 'Chogo82', 'Kelainefes', 'dime-research', 'canyonkeeper', 'belowthebar_26', 'cathat12345', 'Blast-Radius', 'Code_Monkey_Lord', '1mattchu1', 'Gr3ylock', 'Squaroth', 'dannyboi786', 'luphoria', 'evanFFTF', 'nanowell', 'Unique_Sentence_3213', 'Dememria', '-GalaxySushi-', 'christoffer1917', 'NowWhoCouldItBe', 'ohiotech', 'TheIllusiveGuy', 'Darkspacer1', 'Puzzleheaded_Peach48', 'dizzle_1212', 'ayefaptime', 'SvampebobFirkant', 'Phil_Wil_Tape_U', 'Karujinga', 'quichemiata', 'ep-61', 'RueRoyal', 'redhawknr', 'Geofferic', 'Jmmcyclones', 'Levitz', 'HaywoodsAnkle', 'Centurion902', 'TwanderBender', 'Supertrinko', 'nullrecord', 'toolteralus', 'lilsatoshi', 'AllKarensMatter', 'DresIsNotReal', 'Math__ERROR', 'kittensandmermaids', 'Inner_Community_5701', 'BoboTMC', 'Usul_muhadib', 'Gab1024', 'astanouk', 'Organic_Abrocoma_733', 'AI-is-infinite', 'mejorqvos', 'costa-rozakis', '321eran', 'blade818', 'HairyGiraffe', 'count_zero11', 'tonyndory', 'Spartima', 'Schlawoon', 'Anthony01526', 'ben_builds_data', 'Starklet', 'thatisahugepileofshi', 'mcwobby', 'ufo-mah95', 'Ok_Acanthisitta_9369', 'oxymoronic_1', 'Karcinogene', 'iamwearingashirt', 'Suspiciously_Flawed', 'dgamma3', 'LivingTheTheDream', 'maskedpaki', 'AlexAegis', 'Sajun', '-Speechless', 'No-Bet4061', 'ShugNight', 'josephlegrand33', 'jessipoo451', 'GonnaBHell2Pay', 'wtjones', 'BigBadBudgieBoy', 'cifuentesalex3', 'goldenpickaxe1', 'nvwls300', 'Bigluser', '_saucemaster', 'PewdsIndianFans', 'sadnessemoji', 'HotScale5', 'robindronar', 'switchdance', 'Crafty_Ad_5209', 'mobileagnes', 'CharlestonChewChewie', 'DangoDaimao', 'Dystopia222', 'soberbrains', 'LeadershipComplex958', 'MrPopohum', 'Kamikaze_Cash', 'HunterXxX360', 'Cpt_Bacon97', 'WolfResponsible8483', 'rainy_moon_bear', 'berusplants', 'therealyorpyorpyorp', 'vegasim', 'nothingIastsforever', 'echoinear', 'crystalmystic2021', 'Blastdoor', 'hudsdsdsds', 'mrBlasty1', 'floerw', 'Successful_Plant_302', 'krieodbeiu', 'YoungDeshiDipper', 'Funky_Wizard', 'obammala', 'CalligrapherShip9717', 'FitOpportunity6237', 'rephlexi0n', 'Jschrade9', 'MrJeffers1021', 'lonefrontranger', 'molodchyk', 'Lone_Wolf', 'Aleni9', 'GLSRacer', 'MattDaMannnn', 'wad11656', '50YearsOld', 'bikaka22', 'jlharper', 'PEPPYaf', 'yokingato', 'eshields99', 'Josephosss', 'LeeSinDragonMagic', 'daynighttrade', 'spederan', 'Noitswrong', 'Chaseccentric', 'mobobreen', 'Afternoongaming', 'AshtonCroft37', 'banterboy0123', 'blitz0tto', 'Jibbyy', 'OutrageousView2057', 'DeltaSubz', 'jelindrael', 'mixerr2', 'EkkoGoBrrrrrrrrr', 'Awkward_Feed_5704', 'Cuckipede', 'EllyEscape', 'Livid_Zucchini_1625', 'KroolK1ng', 'JrinkyDink', 'oddjuicebox', 'dineramallama', 'sullenfps', 'Technical_Pressure58', 'paradoxinfinity', 'sn3akiwhizper', 'KeinNiemand', 'thelastanonymouse', 'Toredo226', 'ghrendela', 'Eather_Anteater', 'MayorAdamWest1', 'nirandor', 'Professional_Bag_262', 'GuGui98', 'shortpositivity', 'stalinskatya', 'fastlanedev', 'KingDinger666', 'nqbao', 'numtel', 'KRYPTECDEMISE', 'Static_Function', 'Individual-Quote2535', 'rebroad', 'NotClaudeGreenberg', 'Acceptable-Ad-7099', 'Mexrish', 'KrisMactavish', 'olivier24445', 'used_cow_3', 'pMathisen', 'Matt_M_3', 'stomach', 'TheVirumXD', 'ProkhorZakharov', 'MySpaceLegend', 'DepressionsSideKick', 'ReadersAreRedditors', 'itsnotlupus', 'dicnjane694U', 'bagholdegen', 'Cizhu', 'cothhum', 'Sensitive_Ad2281', '9tailNate', 'iamagro', 'jjpl_10', 'dnmaaya', 'NarcissisticXX-88', 'portlandmilf', 'brainfartfred', 'fatter-happier', '1GusGus1', 'virex4', 'Spursman14', 'LittleLuigiYT', 'Super-Guppy192', 'MegaChar64', 'knoot_knoot', 'marystwin', 'shillyshally', 'Fanlan', 'Madd0g', 'quantdev_nyc', 'ipondy', 'KNCSPROD', 'codernyc', 'alrightfornow', 'Confident-alien-7291', '-nomad-wanderer', 'AdityaSher1', 'Desperate-Ad8598', 'Sharpshooter_200', 're-edit_it', 'wpdm69', 'Oppqrx', 'theflyingweasle', 'Routine_Honest', 'Clutch_10001110101', 'deanochips', 'sagethesausage_911', 'dudeisbrendan03', 'IntroductionSad1324', 'Beginning-Effort3290', 'keithb', 'davesspacebar', 'No_Paint_1168', 'RaspyAtol20734', 'No_Pipe8848', 'loki700', 'Ramdoyen', 'ryleu', 'DogDickRedForman', 'stougerboar', 'An_Irrelevant-person', 'uknowwhatittakes', 'Skipperdabar', 'ryanho09', 'avtarsinghatwal', 'Professional-Top854', 'Vonderchicken', 'Head_Village6322', 'giga', 'Galahad555', 'power-house22', 'IaryBreko', 'maxchris', 'Wertesis42', 'jonplackett', 'JoeyDeNiro', 'Ok-Range1608', '2d6BrainDamage', 'skepticaleconomist', 'hlebbb', 'ElbieLG', 'zzbe', 'Crypt-NG', 'EagerSleeper', 'RTS24', 'padygotmad', 'ReeeeeDDDDDDDDDD', 'wendten', 'Neurogence', 'Maciek300', 'DutchTinCan', 'EldraziKlap', 'PacketRacket', 'Putrumpador', 'ProtonPanda', 'Ok_Resolution_4076', 'CleverVillain', 'kylorensgrandfather', 'viddy_well', 'gbur733', 'ava424', 'AleatoricFrogs', 'duselkay', 'catwithbenefits', 'yoBenjy', 'ureepamuree', 'Mrmoldani', 'KlutzyAd9112', 'Mother-Ability-848', '_benjaninja_', 'solgerboy259', 'GrtWhite', 'Ze_Anooky', 'moriarty069', 'hi65435', 'FatTruise', 'sopadops', 'erbankuglobal', 'OhneSkript', 'mrsavealot', 'Bordkant', 'Famous_Ad9626', 'Harabeck', 'Kingleonida97', 'shadow-_-king', 'BigBoomm', 'BookWhich5317', 'codefame', 'haz85', 'GeneETOs44', 'SubliminalSpectrum', 'corsair130', 'FrickMeBruh', 'Comfortable-Tax-7708', 'Deceiver144', 'Ansgarrock', 'donutlikethis', 'WestPlayer3', 'BitzenBoy', 'AlphaOrderedEntropy', 'BoBab', 'IsItKandar', 'ZephCode', 'Toffifee48', 'Sycix', 'Adityamk', 'TheDirtyDagger', 'ogMackBlack', 'thetitan555', 'slloverr_animations', 'Chewy_tha_Baller', 'gigi-pluto', 'ElysMustache', 'TheBioTechBro', 'mcfluffy0451', 'FLRbits', 'HotKami', 'Chance-Criticism1351', 'howevertheory98968', 'Raistael', 'Bushelsoflaughs', 'jmToast', 'FelipeReigosa', 'PostmandPerLoL', 'Willman3755', 'desdae', 'iotaxD', 'pintong', 'templeb94', 'showncute', 'narnarnarnia', 'ElvisPressRelease', 'super0rganism', 'gotb0unce', 'wirfsweg', 'Positive_Panda_4958', 'MrScarpet', 'Milwookie123', 'jaqenhgaar547', 'Crafty_Lifeguard5451', 'adijsad', 'loud-spider', 'im_suck_at_naming', 'spooky_redditor', 'Due_Recognition_3890', 'Simon_And_Betty', 'AnakinRagnarsson66', 'MSR8', 'node-757', 'cringobot', 'djosephwalsh', 'honze_net', 'iliketigers05', 'wornkyatt', 'CalGuy81', 'elfbarlover', 'SubjectHurry', 'Remove_Ayys', 'homesonthesound', 'QuantumonX', 'RutherfordTheButler', 'andrewhowe00', 'Puzzleheaded_Cat9611', 'Jealous_Community_54', 'HulkHunter', 'sahil082', 'WikiSummarizerBot', 'DTRademaker', 'luckyyyyy_', 'I_comment_on_stuff_', 'Friendly_Okra2236', 'mancatmonster', 'Maker2402', 'BaconSky', 'Koomberi', 'Imaharak', 'jzylan7', 'dzanis', 'HOLUPREDICTIONS', 'mvfsullivan', 'space-return', 'DCDOJ', 'x_goog', 'ashriot', 'Shished', 'Dezerox', 'jonoboly', 'orqa', 'ConsiderationHour710', 'nevermindever42', 'Genghis_Skum', 'supermangoman', 'Onion-Much', 'safcx21', 'pattiemcfattie', 'seahorsejoe', 'Mr_sushj', 'Farkle_Griffen2', 'EnvironmentLong4187', 'Jackyboi9273', 'Signal-Disk', 'pizzicatodreams', 'hoisinABC', 'Dxcesare', 'TheCrimsonArrow', 'CrazyJannis4444', 'gnutestoam', 'AveryNiceSockAccount', 'Styrofoam-Metru', 'Whillkey', 'kanripper', 'remghoost7', 'honorspren000', 'GroundbreakingGur930', 'PowerfulCr0w', 'notanotherredditid', 'MCK54', 'ReekrisSaves', 'Em3rgency', 'factguy12', 'amigammon', 'taleofbenji', 'NeverGiveCups', 'Pandaa2610', 'Theygonnagetme', 'Perk8one', 'evil666overlord', 'catfrompizzacat', 'Ecpeze', 'yugo1991', 'George_Askeladd', 'Ok_Silver_7282', 'T12J7M6', 'MinuteStreet172', 'spaghettipunsher', 'Just-Cartographer752', 'axpectKs', 'Puzzleheaded-Me-41', 'mulligan_sullivan', 'pataoAoC', 'AG-ape', 'aladin_lt', 'Sufficient_Ticket237', 'NoProfessional4650', 'TagliatelleBologna', 'croptsco', 'KobeOfficial_Brave', 'anmolraj1911', 'phonebatterylevelbot', 'chickenlover369', 'Lumpy-Aide6284', 'Po0pasaurus', 'applestrudelforlunch', 'Catillionaire', 'hwbaby', 'Burger_Destoyer', 'red_message', 'papi_joedin', 'regamox', 'Desperate-Piece3622', 'Shot_Barnacle_1385', 'Recent-Idea-2573', 'cybermerlo', 'yachty66', 'TerraEst', 'Haunting_Emu_3397', 'Dimmo17', 'sayitchad', 'drewbles82', 'OTK22', 'ApparentlyABot', 'johnbarry1985', 'Suspicious_Winner_70', 'itsIsaiahclark', 'CuteTorbjorn', 'PokeMaki', 'OrganicDroid', 'the_fabled_bard', 'henryrapalo', 'maxwokeup', 'son_lux_', 'knullsmurfen', 'Tsurutops', 'tinypieceofmeat', 'H_D_V_K_A', 'CevahirCombo', 'dbf8', 'thankarezos', 'raulcamposnascimento', 'whatdoyoudonext', 'stratosfeerick', 'Arnav1029', 'zayoe4', 'ArmDdea', 'HoldTacICU', 'Intelligent_Safe3708', 'fernando_doglio', 'w015prc', 'IHateDailyStandup', 'misterblobbie', 'bildramer', 'Good_At_English', 'kindness69', 'questakel', 'neomrwhite', 'JTRuno', 'EmergentSubject2336', 'thomasantony', 'syncope32', 'relativetriangle', 'ThatChadTho', 'EatThePooh', 'HumbleRevolter', 'BigMitch00', 'Ibex08', 'dokkanZelda', 'Some-Artichoke117', 'esmeinthewoods', 'xinxx073', 'berlq', 'wasalsa2', 'H3r0d0tu5', 'Diogenes71', 'jonadem', 'gentleman339', 'zippster77', 'Proxivirus', 'Fi3nd7', 'Shacreme', 'Cappydino', 'Harrisoned', 'wanker20001', 'PulpNonfictions', 'ElectricOne55', 'Royam0820', 'reed45678', 'mzorrilla89', 'Appropriate_Scar_262', 'gptai', 'Munib_Zain', 'Efficient-Breath-249', 'BurpYoshi', 'HappySmirk', 'jimofthestoneage', 'Qingy', 'Suenrio', 'nmkd', 'Chumphy', 'anatidaephile', 'FSP06', 'RightSideBlind', 'brandorambo25', 'slahser33', 'AyunaAni', 'therealdrewder', 'althius1', 'Awkward-Meringue5861', 'its_eyegor616', 'Looeelooee', 'delectomorfo', 'ZeusMcKraken', 'toluwalase', 'Mean_Ad_5989', 'wellthatmustbenice', 'oneirolife', 'Bubthemighty', 'HopefulHarmonian', 'bux0m', 'Pfaeff', 'benp2', 'ijko9713', 'toastypoop1', 'AI-Politician', 'twoworldsin1', 'EA_27', 'Ranen2003', 'Athiena', 'nepsmith', 'apolloskye', 'Comfortable-Hippo-43', 'Alarmed-Print1823', 'ckJay286444', 'Denaton_', 'eratonnn', 'mcbeardish', 'TeknosQuet', 'Willleelee', 'TheWorstGameDev', 'LeonardConsulting', 'Miitsu12', 'arggonest', 'philosophical_lens', 'DEFranco123', 'TopElderberry4960', 'nikgos', 'danielbln', 'linutis-mzk', 'eon01', 'Long_Equivalent9920', 'SouthZealousideal265', 'SquidIce', 'idrissAithafid', 'zazzologrendsyiyve', 'healthyordie', '-_kevin_-', '7734128', 'jangaling', 'UnicornLock', 'Jasom_forever', 'Knewly', 'IfgiU', 'UserMinusOne', 'frapastique', 'Tabarnouche', 'Golleggiante', 'BestKorea4Ever', 'ErgoNonSim', 'ledepression', 'acceria', 'iloveyou_most', 'Singular23', 'theindianappguy', 'Intelligent_Will_919', 'sthagar', 'Message_10', 'lowie046', 'redome', 'motoboi', 'NairbRevilo', 'MikeyTheGuy', 'Relevant-Turnover-10', 'djglass', 'Suppenreim', 'Samurai_Rachaek', 'KindStrangerWholesom', 'RunWhileYouStillCan', 'simonees', 'deadelusx', 'traphi', 'AnImmatureMind', 'International-Ad9966', 'XenonXMachina', 'ObjectiveAnalysis', 'Problematicar', 'ungoogleable', 'uxmono', 'ARGeconomist', 'PS_FuckYouJenny', 'nowonlytodayoffer', 'nuc_gr', 'jasondads1', 'Khazpar', 'Eximius_Shalaman', 'NaturalExternal7698', 'notfulofshit', 'LowCopiumHalo', 'jadenedaj', 'EstablishmentAny1608', 'driftking428', 'StaticSpace0', 'chadbarnier', 'TheCasualParry', 'reptheanon', 'luisbrudna', 'Commercial-Ideal-621', 'Apprehensive-Ad-2356', 'Snowfire9210', 'Ambitious-Toe4162', 'spatialdestiny', 'thatguyinarobe', 'Fun_Grape_7656', 'Dear-Bicycle', 'MrAlexMad', 'Gogeta-', 'After_Owl6962', 'YodaSpanker', 'Rorutop', 'Deiwos', 'Rokker84', 'According-Lunch-3168', 'Original-Aerie8', 'xorzs', 'nadirprice', 'IcyBoysenberry9570', 'Ohnoimhomeless', 'therealBeldar', 'iaiaiaian', 'CoastalSailing', 'Away_Active7903', 'jswhitten', 'DiscotopiaACNH', 'edjr5150', 'twotimefind', 'justalurkerrrrrr', 'rivvern', 'Zaltt', 'Massive_Rain8558', 'slacknewt', 'NeverInept', '_-Julian-', 'Kyles_UnchartedLyfe', 'qrayons', 'Wonderful_Winter_734', 'AnotherDullUsername', 'mattrobs', 'This-Television-6590', 'ant_man_fan', 'Due-Principle4680', 'Labroz', 'syrphus', 'Yareking', 'crissimon', 'LSATloveaffair', 'toxicitybv', 'RossPeili', 'Caring_Cactus', 'thatswhatsheeepsaid', 'pixelguy3d', 'SurfMyFractals', 'maxgames_NL', 'itsNonfiction', 'Bobby_Bouch', 'fatlandsea', 'Teccci', 'MentalCombination9', 'utrost', 'Oregonhastrees', 'CatBiceps', 'thorax', 'break_continue', 'calantus', 'pokemonguy1993', '2008and1', 'macguyversmusic', 'a2soup', 'pateandcognac', 'tilopoj62', 'blafurznarg', '-ToppedBottom', 'korosulen', 'andrew5500', 'bigfartchili', 'Striking-Bath9846', 'AlternativeCharge160', 'Hawkensen', 'rbaseless', 'KingSolomansLament', 'GraveSlayer726', 'Dharmist', 'Worried-Necessary-22', 'LittleHariSeldon', 'MauveBoi', 'hpela_', 'zarmin', 'FranklyPatheticAnswr', 'sSummonLessZiggurats', 'evil-wombat', 'XalAtoh', 'theTunkMan', 'bliss_jpg', '-----fuck-----', 'Titanduck', 'Nextil', 'SimpleDestiny', 'ovalbjotmal', 'jidannyc', 'Idiedtotheta', 'sargontheforgotten', 'SirAntique4166', 'Suinie', 'C-Class_hero_Satoru', 'dotdasher', 'balle17', 'RoggerPotter', 'ovenface2000', 'fl0bey', 'maamardli', 'elodd', 'ArtanisOfLorien', 'Floppal', 'Dave_SDay', 'XXXTentacion17_MOH', 'EngineEar8', 'Big_Ch33se', 'thebestdaysofmyflerm', 'Ok-Track-3109', 'Doumadu', 'bodden3113', 'thebarisu', 'O77V', 'emerl_j', 'Additional-Cap-7110', 'TheJmboDrgn', 'Urbanlegendxv', 'Heoduneriakal', 'unggnu', 'Sapiens_Curantis', 'excitedmicrobe', 'rslkk', 'PM_me_ab_ur_landlord', 'Ok-Computer-1145', 'CFDDCFC3', 'SaloGoldstein', 'ChrisHolmgren', 'derniydal', 'Jesweez', 'MolotovMully', 'Nimsdagod', 'qualityskootchtime', 'Layer_3', 'biopticstream', '-JG-77-', 'thehomeyskater', 'starcrafter84', 'Agile_Grizzly', 'Alystan2', 'putin_my_ass', 'lemonadesnow', 'wolfkeeper', 'eigenman', 's0men1ckname', 'DekeAvell', 'kurosh112', 'Creslin321', 'waasaabii', 'this_one_in_boots', 'ahtoshkaa2', 'Any-Zone-5806', 'cakeharry', 'TBK_Iron', 'Slow_Scientist_9439', 'underwear_dickholes', 'F0lks_', 'JadedSoulRat', 'lucaguiar', 'Gayfetus', 'denis-vi', 'cirkamrasol', '_-J-G-_', 'JohKohLoh', 'Ummgh23', 'CIearMind', 'rprend', 'christalmightywow', 'GHhost25', 'a_confusion', 'JJWabbaDoesntMeanAny', 'shaialon', 'asheroo92', 'SURPRISEURBAD', 'RingularCirc', 'az0O0', 'LunarWrathe', 'InsertWittySaying', 'AdolinKholin1', 'TechnologySpirit', 'Ryokence', 'HillarysFloppyChode', 'Anybody_Klutz', 'hello_woke_world', 'Numb_Nut', 'Utoko', 'Jeff_Bzzos', 'zoro412', 'VganFractor', 'Sad-Friendship5382', 'Debatox', 'math4tots', 'techie_boy69', 'Necessary_Still7834', 'fox-friend', 'vineeth_raj', 'Which-Board-4559', 'FreshColt', 'portal_penetrator', 'Acid_God_', 'NekrotikCodeNinja', 'Paul_Lanes', 'HeKixr0x', '--lolwutroflwaffle--', 'J_boooy', 'billywillyepic', 'xe3to', 'Ok-Application2669', 'Technical_Narwhal824', 'BioTheHuman', 'ReverseStripes', 'SportComprehensive96', 'bluevase1029', 'tfforums', 'Symmetric_Breaking', 'Feagleyy', 'Wheelthis', 'Alze_Lemon', 'FuckinMELVIN', 'The_EndsOfInvention', 'PuzzleheadedBuy1425', 'GenuineHippo', 'Forward-Extent-7819', 'kbranni23', 'HomemadeBananas', 'Literally_A_Brain', 'OkCarpenter5773', 'FujiiThunder', 'Sticky_Willy', 'hega72', 'HARVARDmyDREAM', 'EveryNameIWantIsGone', 'AlphaBetaGamma1962', 'PeteOnEarth', 'ferfactory6', 'FireWaterBern', 'Tozl7', 'hotstepperog', 'imverystupld', 'arghhgh', 'FrigidRock', 'thanksforletting', 'MrNobleGas', 'messy_brainz', 'vexaph0d', 'numsu', 'usedallmypowerups', 'nyc_brand', 'notgoneyet', 'Gasterfromdeltarune', 'Sri_Man_420', 'ObesesPieces', 'Craft_Severe', 'H4lloM8', 'boomerangotan', 'Grow_Beyond', 'TheOneTrueJason', 'Northlaned', 'jazzysandwich', 'Amon0295', 'montxogandia', 'MinePROphet', 'Imaginary_Name48', 'CJ87P', 'Wave_scraper', 'moonshine_ssbm', 'Dclarrk', 'feirefizz', 'Laps_F', 'RedditUsr2', 'Pozla', 'BahAilime', 'averageShouter', 'IRBMe', 'Admirable_Bet5739', 'bavindicator', 'qsmrf56', 'hurryup', 'JCASchorah', 'Imwaymoreflythanyou', 'wprooster', 'vitras', 'gman4757', 'gd_cow', 'mmptrsd', 'Wormfall', 'pumog', 'Floeperdoep', 'Creative-Painting-56', 'AmateurStockTrader', 'GunnarTravels', 'New-Crazy-4939', 'Plastic-Exam5280', 'Android-And-Ale', 'Ant-Resident', 'bbiizzccoo', 'elpala', 'annahaz', 'thetitanbolt', 'antigonemerlin', 'Additional_Ad_8131', 'SomnolentPro', 'handmadeby', 'lewsdesktop', '2legit2quit0071', 'throwaweyeyeyhey', 'Heffersonn', 'nowyouseemenowyoudo2', 'GardenShedster', 'inkslingerben', 'Promptmuse', 'injahwetrustt', 'Aljanah', 'metroidprimedude', 'Gamer15300', 'seekingcalm', 'Any_Independence_106', 'Markus_____', 'oukirl', 'nool_', 'Tolkienside', 'MemeExplorist', 'ShaunSmith1994', 'Madwand99', 'Oprah-Verified', 'qpki', '-Sourabh', 'sojithesoulja', 'PooSham', 'linky3dot', 'Highandfast', 'iamkimiam', 'sexaccountforhmm', 'forger7', 'justicarxxvi', 'tyrddabright-axe', 'PleaseFingerMeBro', 'andersjohansson', 'KDRadio1', 'fckw2', 'MysteryInc152', 'WalkProfessional8969', 'nplm85', 'mulletarian', 'SuperAppleLover', 'Albert3232', 'arnolds112', 'Dutch2211', 'Lyria_chan', 'boris-d-animal', 'KingJackWatch', 'The-Rushnut', 'dexahexatris', 'DdokBaroHae', 'Abracadabrism', 'TheAuthentic007', 'jackb1980', 'CarpeNoctome', 'deskbot008', 'JM-E-', 'gcmelb', 'Unable_Age6938', 'lucasg115', 'etheran123', 'yeoz', 'FamousOlSpiced', 'BrehBreh92', 'Waffles_Murdered', 'demsarebrainless', 'LUX1337', 'Wack0Wizard', 'wildstumbler', 'Cordycipitaceae', 'sparkledarkle', 'DoctorD98', 'x_roos', 'leonhelgo', 'Waarheid', 'einmensch7', 'turn_right_from_here', 'mathewmitchels', 'ojmt999', 'vaisaga', 'BiodieselBuck', 'ZZ3xhZz', 'Nyao', 'Kiz-Fil-A', 'ADTR9320', 'DorakAlba', 'SabirRupal', 'Longjumping-Slip2953', 'oratpart', 'Andydrumman', 'Wild_Impact781', 'Money_Pension_9325', 'CapableVanilla8275', 'jkibbe', 'Rickywalls137', 'francsoitv', 'FinnaToke', 'Tomimosa', 'Pirstheprotogen', 'activemotionpictures', 'Intelligent-Present1', 'Subscent', 'Arsenalfc10145', '21-10-25', 'ScaccoPazzo', 'web_dev1996', 'A_pawl_to_adorno', 'GambAntonio', 'LawBringer007', 'Puzzleheaded_Meet23', 'iHaveNoIdea40', 'chefben', '0011011100111001', 'scotch232', 'redmera', 'GonzoVeritas', 'Entire-Bag7533', 'larc3n', 'Traditional_Today_55', 'Ariaa_Insanityy', 'often_says_nice', 'areola_hotah', 'palhanor', 'Elia_31', 'poop-shark', 'Doofenshmirtz08', 'woodssssssss', 'JesusChrist_Himself', 'MBAH2017', 'HugoVSM', 'Sharp_Two9544', 'TheFreakazoidz', 'Deanadrian', 'pastelexuvia', 'El_effo', 'malkauns', 'Marazmi', 'Termitide', 'Cuauhizticoatl', 'Supercomposite', 'nh07120', '123blaze', 'wolttam', 'real_beary', 'shimoheihei2', 'Carolus94', 'WhyNotCollegeBoard', 'aminidp', 'phasE89', 'Jabs7777', 'aski3252', 'Round_Astronomer_89', 'Minetorpia', 'YesIwillcorrectyou', 'NoCost7', 'Icom742', 'FarisWheel21', 'Otradnoye', 'ZenMind55', 'Jonfreakr', 'Nice-Meat-6020', 'd34dc0d35', 'ProfessorTallguy', 'sg2468900', 'MisterRogers1', 'JamJarre', 'LockUp111', 'Definitely__someone', 'Alarmed_Function6067', '_Amazing_Wizard', 'slam3r', 'Various-Ad5542', 'ConceptHut', 'BobLoblaw_BirdLaw', 'sargeanthost', 'jbarger613', 'Crozyr', 'hewasaraverboy', 'ThinkBiscuit', 'hadaev', 'cemehob', 'WeeWooPeePoo69420', 'osayami', 'AdministrativeMap848', 'Interesting_End_4555', 'javiermd14', 'zopiclone', 'beavobeave', 'Sliced_Apples', 'Voicedtunic', 'generalamitt', 'yellowmonkeyzx93', 'iansoo', 'YesterdayClassic6919', 'Professional_Neat706', 'Fuzzy_Most_4780', 'Maleficent_Height_49', 'BaCaDaEa', 'Apprehensive-Back152', 'f112809', 'Hi5toryBuff', 'biinjo', 'Entity303BR', 'Adventurous_Help_604', 'First_Chip', 'chatchatbotbot', 'gamebuster', 'CookieDelivery', 'Actual_Instance3916', 'Charuru', 'liferaft', 'Livid-Ad3028', 'Professional-Bar-519', 'stronuk', 'Nicolas-matteo', 'Saotik', 'cipher0821', 'Specialist_Economy41', 'aeroniero', 'zoba', 'JVM_', 'onthedippy', 'MrZraya', 'thunderscreech22', 'KillaInstict', 'OGTradez', 'UpvoteBeast', 'max93der', 'q---p', 'ImaginarySituation72', 'ifarted70', 'aimasters', 'pevil', 'Few_Neighborhood_379', 'Bomaruto', 'DontBeSuspicious23', 'IamViktor78', 'teachersecret', 'Dry-Wienner-7100', 'arcticwolffox', 'lisanise', 'lunchtimeisnigh', 'RepJinsuh', 'pandrewski', 'unidentified-_-rosey', 'wow-signal', 'Emeri5', 'Conscious_Time_6649', 'TheRexedS', 'FlynnR_734', 'askanison4', 'Ripe_', 'zttt', 'orangefaporange', 'Mysteroo', 'felps_felposo', 'rudolf323', 'ITAraving', 'ajgoldie', 'Trillo41', 'SanityInAnarchy', 'AccordingAd7098', 'kiknatorta', 'leinilw', 'aTrueSauceBuckler', '1978Pinto', 'BadgerNips', 'Whereismyhalfrican', 'DudeDnB', 'harshsped', 'GreenMansLabs', 'dmit0820', 'astro_camille', 'Merastius', 'somerandompiggo2', 'JoMaster68', 'tangerino', 'averagedebatekid', 'smoothshiref', 'hermionieweasley', 'Presauced', 'SanguineJoker', 'hihahihahoho', 'hashmiusama', 'aaanon1', 'franky_reboot', 'californiarepublik', 'Account_109_______', 'looolmoski', 'eldiablo80', 'Enliof', 'Aidenthemadlad', '0bito', 'Yellen_Prints_Money', 'Rourkester', 'M00NB34RZ', 'The-Yaoi-Unicorn', 'TyBoogie', 'Haikaisk', 'Cobblethoughts', 'totorozuki', 'kenbsmith3', 'tavernierdk', 'dcannons', 'acemagex', 'lepinek', 'NickoBicko', 'mialdc', 'ToolWrangler', 'LCheongYu', 'SlowAtmosphere1862', 'repostit_', 'ImmediateSilver5828', 'VandyMarine', 'DoNotTestMeBii', 'BigSwingingProp', 'Illustrious-Tip-2051', 'acabust0000', 'cyberpitbully', '-pleaseandthankyou', 'NinjaBallista', 'Vashtye', 'ismansiete', 'MicheleMerelli', 'ale23arg', 'VariableVeritas', 'jman250', 'shun_master23', 'IntentionVisual8241', 'umbracattus', 'BALTIM0RE', 'NudeSeaman', 'iExodus1744', 'MinuteWay7007', 'mr_arion', 'UsefulReplacement', 'Fly0strich', 'IndyDrew85', 'SmaugTheMagnificent', 'anthblogs', 'Tobi_Lobi', 'sawyermiller99', 'honeybear182', 'Dad_in_Plaid', 'iamSlippy', 'NakedAi', 'el_cnid_antes_chuck', 'WasternSelf4088', 'Sunshinegoat', 'olta8', 'DarkSideOfGrogu', 'zackyy01', 'hobblyhoy', 'srkdpu', 'InformalSong7', 'peplo1214', 'zascar', 'nathanb131', 'MANAWAKES', '4T4R14N', 'SrchForAnswer', 'PixelisMania', 'gravenbirdman', 'TumblingBumbleBee', 'fatalkeystroke', 'magic_Mofy', 'Comfortable_Slip4025', 'Extension-Host-5829', 'BigsIice-', 'agentoha', 'ghoulapool', 'Sumner122', 'Cacts', 'Supahafiya', 'NetherRocker', 'No_Technician4037', 'Practical-Mix-4332', 'That-Row-3038', 'Slopz_', 'misfitdevil99', 'theorizable', 'StickiStickman', 'actionmous3', 'gamestroyer', 'elocoetam', 'Mooncake3078', 'DogeIsCut', 'RickThunderwood', 'thorin85', 'RussianInRecovery', 'CabinetOk4838', 'Crimkam', 'UpperStruggle2421', 'jer0n1m0', 'daxtron2', 'marco-eckstein', 'Rollno38', 'sneerpeer', 'Loovian', 'DeLuceArt', 'Tufflaw', 'Helewys', 'damiancd', 'OvercrowdedKangaroo', 'WInnieTheWhale', 'ThatBadMotivatorR2', 'needsomecoin', 'Masocult', 'PrestigiousVanguard', 'Valeriuv1', 'outlandishflamingo', 'No-Championship6044', 'InSearchOfUpdog', 'trollfaceinreallife', 'kickdooowndooors', 'Ai_Is_Here_To_Stay', 'UoftCompSciThrowAway', 'sinemhke', 'GobblerOfFire', 'CollectsLlamas', 'wajidnawaz', 'ZanderBander600', '-PM_ME_UR_SECRETS-', 'UmfufuMagoo', 'StunningEstates', 'Steve-2112', 'recce22', 'poozemusings', 'chorroxking', 'gottlikeKarthos', 'Sure-Engineer', 'i_give_you_gum', 'West_Wear4951']\n"
     ]
    },
    {
     "data": {
      "text/plain": [
       "3058"
      ]
     },
     "execution_count": 19,
     "metadata": {},
     "output_type": "execute_result"
    }
   ],
   "source": [
    "random.seed(1024)\n",
    "sample_n = random.sample(node_list_cc, 3058)\n",
    "print(sample_n)\n",
    "\n",
    "len(sample_n)"
   ]
  },
  {
   "cell_type": "code",
   "execution_count": 20,
   "id": "212bad9c",
   "metadata": {
    "scrolled": true
   },
   "outputs": [
    {
     "name": "stdout",
     "output_type": "stream",
     "text": [
      "[9, 11, 8, 9, 9, 9, 9, 9, 9, 9, 10, 9, 8, 10, 11, 9, 9, 9, 9, 9, 9, 9, 9, 9, 10, 9, 10, 10, 9, 8, 8, 9, 10, 9, 8, 9, 9, 9, 9, 9, 9, 9, 9, 9, 10, 8, 9, 9, 8, 9, 9, 11, 9, 10, 12, 9, 9, 9, 8, 10, 10, 10, 9, 10, 9, 9, 9, 10, 9, 9, 9, 9, 9, 11, 10, 9, 9, 9, 9, 9, 9, 8, 8, 9, 9, 8, 9, 9, 10, 10, 8, 9, 8, 9, 9, 9, 9, 10, 9, 9, 8, 9, 8, 11, 8, 10, 9, 10, 9, 9, 10, 9, 10, 10, 9, 10, 9, 9, 8, 10, 10, 9, 9, 8, 9, 9, 10, 9, 9, 9, 10, 9, 8, 9, 9, 8, 10, 9, 8, 9, 9, 10, 9, 9, 9, 8, 9, 9, 9, 8, 10, 11, 9, 8, 9, 9, 9, 8, 10, 9, 9, 9, 9, 10, 9, 9, 9, 9, 9, 10, 8, 10, 9, 9, 10, 10, 9, 9, 9, 9, 9, 8, 9, 8, 10, 10, 9, 10, 10, 9, 9, 9, 8, 9, 9, 9, 9, 10, 9, 9, 8, 8, 9, 9, 9, 9, 10, 9, 9, 9, 9, 8, 9, 9, 9, 9, 9, 9, 10, 9, 10, 9, 9, 8, 10, 9, 10, 9, 9, 9, 8, 9, 10, 8, 8, 9, 9, 8, 8, 10, 8, 9, 9, 9, 9, 9, 10, 9, 9, 9, 9, 9, 9, 9, 9, 8, 9, 9, 9, 8, 9, 9, 9, 9, 9, 9, 9, 11, 8, 10, 9, 9, 9, 10, 9, 10, 10, 9, 9, 9, 9, 8, 10, 9, 10, 10, 9, 9, 9, 10, 10, 9, 9, 8, 9, 9, 8, 8, 9, 9, 9, 9, 9, 9, 8, 9, 9, 9, 9, 11, 9, 8, 9, 9, 10, 9, 8, 10, 10, 9, 10, 9, 8, 9, 9, 8, 8, 9, 8, 8, 11, 9, 10, 9, 9, 9, 9, 9, 9, 10, 10, 9, 8, 8, 9, 10, 8, 9, 9, 9, 9, 9, 10, 9, 8, 9, 10, 9, 9, 9, 10, 8, 9, 9, 9, 10, 9, 8, 10, 9, 10, 9, 8, 9, 10, 8, 10, 8, 10, 9, 8, 9, 10, 9, 9, 9, 9, 9, 9, 10, 9, 9, 9, 9, 10, 10, 10, 10, 9, 9, 8, 9, 9, 9, 9, 10, 9, 10, 9, 10, 10, 9, 8, 11, 9, 9, 9, 9, 9, 12, 9, 9, 9, 9, 8, 10, 8, 10, 8, 10, 9, 9, 9, 9, 10, 10, 9, 11, 8, 9, 9, 8, 8, 10, 9, 10, 8, 9, 8, 8, 10, 9, 8, 9, 9, 9, 10, 9, 9, 10, 10, 10, 8, 8, 9, 8, 9, 9, 10, 9, 9, 10, 9, 10, 9, 9, 9, 9, 9, 9, 9, 9, 9, 9, 9, 9, 9, 9, 10, 9, 9, 9, 9, 9, 9, 9, 9, 9, 9, 9, 9, 9, 9, 11, 9, 9, 10, 9, 9, 9, 7, 10, 9, 8, 9, 10, 9, 9, 10, 8, 9, 9, 9, 9, 9, 9, 12, 9, 11, 10, 10, 9, 11, 10, 9, 9, 9, 9, 10, 10, 9, 9, 9, 9, 9, 9, 10, 10, 9, 9, 10, 9, 10, 8, 10, 10, 9, 10, 9, 9, 9, 9, 8, 10, 9, 9, 8, 10, 9, 9, 9, 10, 10, 10, 10, 9, 9, 8, 9, 9, 10, 9, 9, 9, 9, 9, 10, 8, 9, 9, 11, 9, 9, 9, 9, 10, 8, 10, 9, 10, 9, 9, 11, 8, 8, 8, 9, 10, 8, 11, 10, 9, 9, 9, 8, 8, 8, 8, 9, 8, 9, 8, 10, 10, 9, 9, 10, 9, 9, 9, 9, 9, 8, 10, 9, 9, 10, 10, 9, 9, 10, 8, 9, 9, 9, 10, 9, 8, 9, 9, 10, 10, 9, 9, 9, 8, 9, 10, 9, 8, 9, 9, 9, 9, 8, 9, 10, 8, 9, 8, 9, 8, 10, 9, 8, 9, 9, 10, 8, 9, 9, 9, 9, 9, 10, 9, 9, 9, 10, 9, 9, 9, 9, 9, 9, 8, 9, 9, 10, 10, 8, 9, 10, 9, 9, 8, 9, 9, 9, 10, 9, 9, 9, 8, 9, 10, 11, 9, 9, 9, 9, 8, 10, 8, 10, 9, 8, 9, 10, 8, 9, 9, 9, 9, 10, 9, 9, 9, 9, 9, 10, 9, 9, 9, 9, 9, 10, 9, 8, 9, 9, 9, 9, 9, 9, 9, 8, 8, 8, 9, 9, 9, 10, 9, 10, 9, 9, 9, 10, 9, 9, 8, 9, 9, 10, 10, 9, 10, 9, 9, 9, 9, 9, 9, 9, 8, 9, 9, 11, 9, 9, 9, 9, 10, 10, 9, 10, 9, 8, 9, 9, 8, 8, 10, 9, 9, 9, 9, 8, 8, 8, 8, 8, 9, 9, 9, 12, 9, 9, 9, 9, 10, 8, 10, 10, 9, 9, 9, 8, 9, 9, 10, 8, 9, 9, 9, 9, 9, 9, 9, 8, 10, 9, 10, 10, 9, 9, 9, 9, 9, 9, 9, 10, 10, 9, 9, 10, 9, 8, 10, 10, 10, 8, 9, 9, 9, 9, 8, 9, 10, 8, 10, 9, 9, 9, 10, 10, 9, 9, 9, 9, 9, 9, 9, 9, 10, 9, 9, 9, 8, 8, 9, 9, 10, 9, 8, 9, 9, 8, 10, 9, 9, 9, 9, 9, 10, 9, 8, 9, 9, 9, 8, 8, 9, 8, 8, 11, 9, 10, 9, 9, 8, 10, 9, 8, 9, 9, 9, 9, 9, 9, 10, 9, 9, 9, 9, 9, 9, 9, 8, 9, 9, 11, 9, 9, 10, 9, 9, 9, 9, 9, 8, 10, 9, 9, 10, 9, 9, 8, 8, 9, 10, 9, 9, 9, 10, 9, 9, 9, 9, 10, 10, 8, 8, 9, 9, 8, 9, 9, 9, 10, 9, 9, 8, 8, 9, 9, 9, 10, 9, 9, 11, 9, 9, 9, 9, 9, 10, 9, 9, 9, 8, 9, 8, 9, 9, 10, 9, 11, 9, 9, 9, 9, 8, 8, 9, 10, 9, 9, 9, 9, 10, 10, 10, 9, 10, 9, 9, 9, 10, 10, 9, 8, 9, 9, 8, 9, 9, 9, 10, 9, 8, 9, 11, 8, 10, 9, 8, 9, 10, 9, 9, 9, 10, 9, 10, 9, 9, 9, 9, 9, 10, 9, 8, 9, 9, 9, 8, 10, 8, 8, 9, 9, 7, 9, 9, 9, 10, 9, 9, 9, 10, 9, 9, 9, 10, 9, 9, 9, 10, 9, 9, 10, 9, 10, 9, 8, 9, 9, 9, 9, 9, 9, 9, 9, 9, 9, 9, 9, 10, 11, 9, 8, 8, 9, 11, 10, 9, 8, 9, 9, 10, 9, 8, 9, 10, 9, 9, 9, 11, 9, 8, 9, 9, 9, 8, 8, 8, 9, 9, 9, 9, 10, 10, 9, 9, 9, 9, 9, 9, 10, 9, 9, 9, 9, 9, 10, 10, 8, 10, 10, 9, 9, 9, 9, 9, 9, 9, 9, 9, 9, 10, 9, 9, 9, 9, 9, 8, 9, 9, 9, 9, 9, 9, 10, 9, 9, 8, 9, 9, 10, 9, 8, 9, 9, 9, 9, 9, 9, 9, 10, 8, 10, 10, 9, 9, 9, 10, 9, 9, 9, 9, 8, 9, 8, 10, 8, 8, 10, 9, 9, 9, 9, 9, 9, 9, 8, 9, 8, 9, 9, 10, 9, 9, 9, 9, 9, 8, 9, 8, 9, 11, 9, 9, 8, 10, 9, 12, 9, 10, 9, 10, 10, 9, 8, 9, 10, 10, 9, 8, 9, 9, 9, 10, 10, 9, 10, 8, 9, 8, 9, 8, 10, 9, 9, 9, 8, 10, 10, 9, 9, 9, 9, 9, 9, 9, 9, 9, 9, 10, 9, 9, 9, 9, 10, 9, 10, 9, 8, 9, 9, 8, 9, 9, 9, 8, 9, 9, 9, 10, 9, 10, 9, 9, 9, 8, 8, 9, 9, 9, 11, 10, 8, 8, 9, 9, 9, 8, 9, 9, 9, 9, 9, 9, 9, 10, 9, 10, 9, 9, 10, 8, 9, 8, 10, 9, 9, 8, 9, 9, 9, 9, 10, 9, 8, 9, 10, 9, 8, 9, 9, 9, 8, 9, 9, 8, 10, 9, 9, 9, 10, 8, 9, 9, 9, 10, 9, 9, 9, 9, 9, 9, 9, 10, 10, 10, 9, 9, 9, 9, 9, 11, 9, 9, 10, 9, 8, 9, 10, 9, 8, 9, 9, 9, 9, 8, 9, 9, 11, 9, 9, 10, 8, 10, 9, 8, 9, 9, 9, 9, 9, 9, 9, 9, 8, 9, 9, 9, 10, 9, 9, 8, 10, 9, 8, 10, 9, 9, 8, 9, 10, 8, 9, 9, 9, 9, 11, 8, 11, 8, 8, 11, 9, 8, 8, 9, 9, 8, 9, 10, 9, 9, 9, 9, 9, 9, 9, 11, 9, 8, 9, 8, 10, 9, 9, 9, 10, 10, 9, 10, 9, 9, 10, 9, 9, 10, 9, 10, 9, 9, 9, 9, 9, 9, 10, 9, 10, 10, 8, 10, 9, 8, 9, 9, 9, 10, 9, 9, 10, 10, 8, 8, 9, 9, 9, 9, 9, 8, 10, 9, 8, 8, 9, 9, 9, 10, 9, 9, 10, 10, 10, 9, 9, 10, 9, 9, 9, 8, 9, 10, 8, 10, 10, 9, 10, 9, 10, 8, 10, 9, 10, 9, 11, 10, 9, 9, 8, 10, 8, 8, 9, 9, 9, 9, 9, 9, 9, 9, 9, 9, 9, 10, 9, 9, 8, 9, 9, 10, 9, 9, 9, 8, 8, 9, 9, 9, 9, 9, 9, 11, 9, 9, 8, 10, 9, 10, 9, 9, 9, 9, 8, 10, 9, 9, 11, 9, 11, 9, 9, 9, 10, 10, 10, 10, 10, 9, 9, 8, 9, 9, 9, 10, 9, 9, 9, 9, 9, 9, 9, 8, 9, 8, 9, 10, 9, 9, 10, 9, 9, 9, 10, 9, 10, 9, 8, 8, 10, 9, 9, 9, 10, 9, 9, 9, 9, 9, 10, 10, 9, 9, 9, 10, 9, 9, 9, 8, 9, 9, 9, 9, 8, 9, 9, 9, 8, 10, 9, 9, 10, 8, 9, 9, 9, 8, 9, 9, 10, 10, 9, 10, 9, 11, 8, 9, 10, 8, 9, 10, 9, 9, 8, 8, 10, 8, 9, 9, 10, 9, 9, 8, 9, 9, 10, 9, 8, 10, 8, 9, 9, 9, 9, 9, 8, 9, 10, 9, 10, 8, 10, 10, 9, 9, 9, 10, 9, 8, 9, 9, 9, 9, 9, 10, 9, 10, 9, 10, 9, 10, 9, 11, 9, 11, 9, 9, 9, 9, 10, 9, 10, 10, 8, 9, 9, 9, 9, 9, 9, 8, 8, 9, 9, 10, 10, 9, 9, 9, 10, 9, 9, 10, 10, 9, 8, 8, 9, 10, 9, 10, 9, 9, 10, 8, 9, 8, 9, 8, 10, 9, 9, 10, 9, 9, 9, 8, 9, 9, 9, 10, 9, 9, 9, 12, 10, 9, 9, 10, 9, 9, 9, 10, 10, 9, 9, 9, 9, 9, 9, 8, 9, 9, 9, 9, 9, 9, 9, 10, 9, 10, 9, 8, 9, 8, 8, 9, 9, 9, 9, 9, 9, 10, 9, 8, 9, 8, 9, 9, 8, 11, 10, 8, 9, 9, 9, 10, 9, 9, 9, 10, 9, 9, 10, 9, 9, 12, 8, 8, 10, 9, 9, 9, 9, 9, 9, 8, 9, 9, 9, 9, 9, 8, 10, 9, 10, 8, 8, 9, 9, 9, 9, 8, 10, 8, 10, 9, 9, 11, 9, 10, 9, 9, 10, 8, 8, 8, 8, 9, 9, 9, 9, 9, 9, 9, 10, 10, 9, 9, 8, 9, 9, 10, 9, 9, 10, 9, 10, 9, 9, 9, 10, 10, 8, 9, 11, 10, 9, 8, 9, 10, 10, 10, 8, 9, 10, 9, 12, 10, 9, 9, 9, 9, 10, 9, 9, 11, 10, 10, 11, 9, 10, 10, 9, 9, 9, 9, 9, 9, 9, 10, 9, 10, 9, 9, 9, 9, 8, 9, 9, 9, 10, 9, 9, 9, 9, 10, 8, 10, 8, 9, 9, 8, 9, 9, 9, 8, 10, 10, 9, 9, 9, 11, 8, 9, 8, 9, 9, 9, 9, 9, 9, 9, 8, 9, 9, 9, 8, 8, 9, 9, 9, 9, 8, 9, 10, 9, 8, 8, 9, 9, 9, 9, 9, 8, 8, 8, 9, 10, 9, 8, 9, 9, 9, 10, 8, 9, 9, 10, 9, 9, 8, 9, 9, 9, 10, 9, 7, 10, 9, 9, 9, 8, 9, 9, 9, 9, 9, 9, 8, 8, 9, 8, 9, 11, 9, 10, 9, 9, 9, 9, 8, 9, 9, 9, 9, 9, 9, 9, 9, 8, 10, 10, 9, 10, 9, 10, 8, 9, 9, 9, 9, 9, 9, 9, 10, 10, 9, 9, 9, 10, 9, 10, 9, 8, 9, 8, 9, 9, 9, 8, 9, 9, 9, 9, 10, 9, 9, 9, 8, 9, 9, 9, 9, 9, 9, 8, 8, 9, 9, 9, 8, 9, 9, 9, 8, 10, 9, 12, 9, 9, 9, 8, 10, 9, 9, 9, 9, 9, 8, 8, 9, 9, 9, 9, 9, 8, 9, 9, 9, 9, 9, 9, 8, 9, 9, 9, 9, 9, 9, 9, 9, 8, 9, 8, 8, 9, 9, 10, 9, 10, 10, 10, 8, 9, 9, 9, 7, 9, 9, 9, 9, 9, 11, 9, 10, 10, 9, 9, 10, 9, 8, 9, 9, 9, 9, 10, 9, 8, 9, 9, 9, 9, 10, 9, 9, 9, 9, 9, 9, 9, 10, 9, 9, 10, 9, 8, 9, 9, 10, 9, 8, 9, 9, 9, 9, 9, 9, 9, 9, 10, 9, 9, 9, 10, 9, 8, 9, 9, 8, 8, 9, 9, 10, 9, 8, 9, 10, 8, 10, 9, 9, 9, 9, 9, 9, 9, 9, 9, 9, 10, 9, 8, 9, 9, 9, 9, 10, 8, 10, 8, 9, 9, 12, 9, 8, 9, 9, 10, 8, 9, 9, 9, 9, 9, 10, 9, 9, 10, 9, 9, 8, 9, 9, 9, 10, 8, 9, 9, 8, 9, 9, 8, 9, 9, 9, 10, 10, 8, 9, 10, 9, 9, 9, 9, 11, 9, 10, 9, 12, 9, 8, 9, 9, 9, 8, 9, 10, 9, 9, 9, 9, 9, 8, 9, 9, 9, 10, 9, 8, 10, 10, 10, 10, 9, 9, 9, 8, 9, 9, 8, 9, 10, 9, 10, 11, 9, 9, 9, 8, 8, 10, 9, 9, 9, 10, 9, 9, 8, 10, 9, 9, 9, 10, 9, 9, 10, 10, 9, 10, 10, 9, 9, 8, 8, 9, 9, 10, 10, 10, 9, 9, 9, 9, 9, 11, 9, 10, 9, 9, 9, 10, 10, 10, 10, 9, 9, 9, 9, 9, 8, 8, 9, 9, 9, 9, 9, 9, 10, 9, 9, 9, 9, 8, 7, 10, 10, 10, 10, 10, 9, 9, 9, 8, 9, 10, 9, 10, 8, 10, 9, 10, 9, 10, 9, 9, 9, 8, 9, 9, 9, 8, 9, 9, 9, 9, 9, 9, 8, 8, 9, 9, 10, 9, 9, 10, 9, 9, 10, 9, 10, 9, 9, 8, 10, 9, 8, 10, 9, 9, 8, 9, 9, 8, 9, 9, 12, 9, 9, 8, 11, 10, 8, 9, 9, 9, 9, 10, 10, 8, 10, 10, 8, 10, 9, 9, 10, 10, 9, 9, 10, 9, 9, 9, 9, 9, 9, 10, 10, 8, 10, 10, 9, 9, 9, 9, 9, 8, 9, 9, 9, 8, 9, 10, 9, 12, 8, 9, 9, 9, 9, 9, 9, 9, 10, 9, 9, 10, 10, 9, 8, 9, 9, 9, 9, 10, 9, 9, 9, 9, 9, 9, 9, 9, 9, 9, 10, 8, 8, 8, 10, 9, 9, 10, 9, 9, 9, 9, 9, 9, 9, 9, 8, 9, 10, 10, 9, 8, 9, 9, 8, 9, 9, 9, 8, 9, 9, 8, 8, 9, 8, 9, 9, 9, 9, 9, 10, 9, 10, 9, 8, 8, 9, 10, 8, 9, 9, 10, 9, 9, 9, 9, 9, 8, 8, 9, 9, 9, 10, 10, 10, 9, 10, 9, 10, 8, 8, 9, 9, 9, 8, 9, 9, 8, 8, 9, 9, 8, 11, 9, 9, 8, 10, 9, 9, 9, 10, 9, 9, 8, 9, 10, 8, 9, 9, 9, 9, 10, 10, 9, 8, 9, 9, 10, 9, 8, 10, 10, 9, 9, 8, 9, 9, 9, 9, 9, 10, 10, 10, 9, 9, 9, 9, 10, 10, 10, 10, 10, 9, 9, 10, 8, 9, 9, 9, 8, 8, 9, 9, 10, 9, 9, 7, 9, 10, 10, 9, 9, 8, 9, 9, 10, 9, 10, 8, 9, 10, 9, 8, 9, 9, 9, 9, 9, 10, 9, 10, 9, 10, 9, 8, 9, 9, 9, 11, 9, 10, 9, 9, 9, 9, 9, 9, 9, 9, 9, 9, 9, 9, 9, 8, 8, 8, 9, 9, 8, 9, 10, 9, 9, 10, 9, 9, 10, 9, 9, 9, 10, 9, 9, 11, 9, 9, 9, 10, 9, 10, 9, 9, 9, 9, 8, 9, 9, 9, 8, 9, 10, 9, 9, 9, 9, 10, 11, 10, 9, 10, 8, 9, 9, 10, 8, 9, 9, 9, 9, 9, 9, 9, 8, 8, 9, 11, 8, 9, 10, 10, 9, 9, 10, 10, 10, 8, 9, 9, 8, 9, 9, 9, 9, 9, 9, 11, 8, 9, 10, 9, 9, 9, 8, 10, 9, 9, 8, 9, 9, 9, 10, 9, 9, 8, 8, 9, 10, 9, 9, 9, 9, 9, 8, 9, 9, 10, 9, 9, 9, 9, 10, 10, 9, 9, 10, 9, 8, 9, 9, 9, 10, 9, 9, 9, 9, 9, 12, 9, 9, 9, 9, 9, 9, 9, 8, 9, 9, 9, 10, 9, 9, 9, 9, 9, 9, 9, 10, 9, 9, 10, 8, 9, 9, 9, 9, 9, 9, 9, 9, 9, 9, 9, 8, 8, 12, 10, 9, 9, 8, 9, 9, 10, 9, 9, 10, 8, 9, 9, 9, 9, 9, 9, 10, 8, 9, 9, 10, 9, 10, 9, 9, 10, 8, 8, 9, 9, 10, 9, 8, 9, 9, 8, 9, 8, 8, 9, 10, 9, 9, 8, 9, 9, 8, 9, 10, 9, 9, 9, 10, 9, 8, 10, 10, 9, 9, 8, 9, 9, 9, 9, 10, 9, 9, 9, 8, 9, 10, 9, 9, 9, 9, 8, 10, 7, 9, 9, 9, 9, 9, 11, 9, 8, 10, 9, 9, 9, 9, 10, 9, 9, 9, 10, 8, 9]\n"
     ]
    }
   ],
   "source": [
    "diam_samp=[]\n",
    "for node in sample_n:\n",
    "     diam_samp.append(nx.eccentricity(G_und_rw,node))\n",
    "print(diam_samp) "
   ]
  },
  {
   "cell_type": "code",
   "execution_count": 21,
   "id": "d07daec6",
   "metadata": {},
   "outputs": [
    {
     "data": {
      "text/plain": [
       "12"
      ]
     },
     "execution_count": 21,
     "metadata": {},
     "output_type": "execute_result"
    }
   ],
   "source": [
    "max(diam_samp)"
   ]
  },
  {
   "cell_type": "markdown",
   "id": "4af3fcda",
   "metadata": {},
   "source": [
    "\n",
    "### Shortest path"
   ]
  },
  {
   "cell_type": "code",
   "execution_count": 22,
   "id": "2880d174",
   "metadata": {},
   "outputs": [
    {
     "name": "stdout",
     "output_type": "stream",
     "text": [
      "Number of Connected Components:  1\n",
      "Average shortest path (of giant cc with) =  4.313121480715237\n"
     ]
    }
   ],
   "source": [
    "giant_cc = list(nx.connected_components(G_und_rw)) # return one single giant component\n",
    "print(\"Number of Connected Components: \", len(giant_cc))\n",
    "\n",
    "print(\"Average shortest path (of giant cc with) = \", nx.average_shortest_path_length(G_und_rw))"
   ]
  },
  {
   "cell_type": "markdown",
   "id": "ae60630c",
   "metadata": {},
   "source": [
    "## Clustering coefficient "
   ]
  },
  {
   "cell_type": "code",
   "execution_count": 23,
   "id": "3cbe5018",
   "metadata": {},
   "outputs": [
    {
     "name": "stdout",
     "output_type": "stream",
     "text": [
      "Global clustering coefficient: 0.045121689086150114\n"
     ]
    }
   ],
   "source": [
    "clustering_coefficient = nx.average_clustering(G_und_rw)  \n",
    "print('Global clustering coefficient:', clustering_coefficient)"
   ]
  },
  {
   "cell_type": "code",
   "execution_count": 24,
   "id": "3c732bff",
   "metadata": {},
   "outputs": [
    {
     "data": {
      "text/plain": [
       "{'-----fuck-----': 0,\n",
       " 'omgpop': 0,\n",
       " '---LefeverDream---': 0,\n",
       " 'SpaceNigiri': 0.022792022792022793,\n",
       " '---nom---': 0,\n",
       " 'MsolProd': 0.030303030303030304,\n",
       " '--DMH--': 0,\n",
       " 'KNCSPROD': 0,\n",
       " '--lolwutroflwaffle--': 0,\n",
       " 'bilbobeenus34': 0,\n",
       " 'mus3man42': 0,\n",
       " '--ticktock--': 0,\n",
       " 'justV_2077': 0,\n",
       " '-A1': 0,\n",
       " 'Broad_Safe8247': 0.01818181818181818,\n",
       " '-Amy_May-': 1.0,\n",
       " 'cigo999': 0.022058823529411766,\n",
       " '-BrowsingRandomly-': 0,\n",
       " 'swift_master': 0,\n",
       " 'ReduxedProfessor': 0.015384615384615385,\n",
       " '-captain_kirkland-': 0,\n",
       " 'Lord_Skellig': 0.03684210526315789,\n",
       " 'Vancapone': 0,\n",
       " '-CoachMcGuirk-': 0,\n",
       " 'Nillows': 0.020689655172413793,\n",
       " 'CoherentPanda': 0.018648018648018648,\n",
       " 'marc6854': 0.029239766081871343,\n",
       " '-Dareme9366': 0,\n",
       " 'robbmanes-com': 0.012477718360071301,\n",
       " '-DeathItself-': 0,\n",
       " 'SameVanilla6657': 0,\n",
       " '-doomrah-': 0.030303030303030304,\n",
       " 'WalkProfessional8969': 0.03484320557491289,\n",
       " 'thecoffeejesus': 0.013793103448275862,\n",
       " 'Kimosh_7': 0,\n",
       " 'Tinsnow1': 0.009523809523809525,\n",
       " 'Leomaner124': 0.01818181818181818,\n",
       " 'Mewe14': 0,\n",
       " 'Liambp': 0.025,\n",
       " 'Dequagon': 0,\n",
       " 'Fresh-Cow-1931': 0.007575757575757576,\n",
       " 'wajidnawaz': 0.01741654571843251,\n",
       " 'abelkaykay': 0.008432539682539682,\n",
       " '-emanresUesoohC-': 0,\n",
       " 'fulis': 0.01904761904761905,\n",
       " 'mvfsullivan': 0.00808080808080808,\n",
       " '-Famouse': 0,\n",
       " 'Florida_man2022': 0.03076923076923077,\n",
       " '-Gameoholic-': 0.027777777777777776,\n",
       " 'xenomorph856': 0.0115957078573901,\n",
       " 'japan_noob': 0,\n",
       " '-gauvins': 0,\n",
       " 'MasterOfTheSkies95': 0,\n",
       " 'KC7NEC-UT': 0.006259780907668232,\n",
       " 'WorldOfEndlessData': 0.020875420875420877,\n",
       " 'Austin27': 0.01818181818181818,\n",
       " '-GlobalFreedom-': 0,\n",
       " 'Starklet': 0.013815695769833358,\n",
       " '-HesitatingBeauty': 0,\n",
       " 'cristiano-potato': 0.020125283220045316,\n",
       " '-Hyperion88-': 0.022167487684729065,\n",
       " 'gbgbaby1': 0.03218390804597701,\n",
       " '-_kevin_-': 0,\n",
       " 'onrespectvol': 0.07272727272727272,\n",
       " 'ieraaa': 0.0196078431372549,\n",
       " 'synexo': 0.024305555555555556,\n",
       " 'kamus10': 0.015188633023027927,\n",
       " 'elkhornslew': 0,\n",
       " 'machyume': 0.02511415525114155,\n",
       " 'GrayRoberts': 0.10989010989010989,\n",
       " 'Far-Responsibility72': 0.01282051282051282,\n",
       " 'GhostOfSkeletor': 0.047619047619047616,\n",
       " 'Perfect_Dark3589': 0,\n",
       " 'johnnyjfrank': 0,\n",
       " 'danudey': 0,\n",
       " 'hijirah': 0.1111111111111111,\n",
       " 'Gene-Parmesan-ah': 0,\n",
       " 'hudsdsdsds': 0.047619047619047616,\n",
       " 'BongRipsForBoognish': 0,\n",
       " 'Mental-Ad-40': 0,\n",
       " 'Radyschen': 0.04411764705882353,\n",
       " 'EndymionDreaming': 0.19047619047619047,\n",
       " '-iamaredditor-': 0,\n",
       " 'JNTHN4': 0,\n",
       " '-Jack-23': 0,\n",
       " 'wwjdwibba': 0.015855855855855857,\n",
       " '-JG-77-': 0,\n",
       " 'sneed_capital_group': 0.016783216783216783,\n",
       " '-Kayun-': 0,\n",
       " 'azigari': 0.009523809523809525,\n",
       " 'walkerspider': 0.011154570476604375,\n",
       " '-LeifErikson-': 0,\n",
       " 'profanitycounter': 0.14285714285714285,\n",
       " '-Lord_Gothic-': 0,\n",
       " 'theshadowturtle': 0.027093596059113302,\n",
       " '-Mahn': 0.08791208791208792,\n",
       " 'Fit-Meet1359': 0.01161995898838004,\n",
       " 'hi_there_bitch': 0.0013437816128399089,\n",
       " 'ai_will_destroy_us': 0.09523809523809523,\n",
       " 'independentTeamwork': 0.024547048509643482,\n",
       " 'hobblyhoy': 0.0012658227848101266,\n",
       " 'AngelLeliel': 0.01935483870967742,\n",
       " 'swarmy1': 0.02535211267605634,\n",
       " 'inglandation': 0.010582010582010581,\n",
       " 'mcr1974': 0.03296703296703297,\n",
       " 'wendten': 0.004301075268817204,\n",
       " '-manabreak': 0,\n",
       " '6d26d3af': 0,\n",
       " '-NakatomiPlaza-': 0.008333333333333333,\n",
       " 'Playful_Dot_537': 0.01282051282051282,\n",
       " 'SardineEnBoite': 0.008333333333333333,\n",
       " 'patate_russe': 0.058823529411764705,\n",
       " 'BaconShadow': 0.009523809523809525,\n",
       " '-nomad-wanderer': 0.022222222222222223,\n",
       " 'RoyalCities': 0.04086021505376344,\n",
       " 'iliketigers05': 0.02564102564102564,\n",
       " 'arglarg': 0.024390243902439025,\n",
       " 'niklassander': 0.0213903743315508,\n",
       " '-OrionFive-': 0.008534850640113799,\n",
       " 'yaosio': 0.019358741681790685,\n",
       " 'Die_Rich': 0.027777777777777776,\n",
       " 'No_Coach_3249': 0,\n",
       " 'bryanlvd': 0.021645021645021644,\n",
       " 'cpt_melon': 0.06666666666666667,\n",
       " 'ProfessorTallguy': 0.6666666666666666,\n",
       " '3_layers_deep': 0.021052631578947368,\n",
       " 'REAL_CONSENT_MATTERS': 0.02435897435897436,\n",
       " 'savageotter': 0.051470588235294115,\n",
       " '0xSnib': 0.16666666666666666,\n",
       " 'anonynown': 0.022222222222222223,\n",
       " 'No-Ability461': 0,\n",
       " 'copofteashirt': 0.06666666666666667,\n",
       " 'divdiv23': 0,\n",
       " 'Super_Dentist_1094': 0,\n",
       " 'Shade1260': 0,\n",
       " 'dr_wonder': 0.03571428571428571,\n",
       " 'stratosfeerick': 0.03296703296703297,\n",
       " 'Aglavra': 0.01282051282051282,\n",
       " 'ddoubles': 0.008588498879761016,\n",
       " 'wittegijt': 0,\n",
       " 'visarga': 0.06,\n",
       " 'Maxduel': 0.14285714285714285,\n",
       " 'Purr-box': 0.03439153439153439,\n",
       " 'Guttmacher': 0.021739130434782608,\n",
       " 'Karmadilla': 0,\n",
       " 'Wertesis42': 0,\n",
       " 'Great-King-of-Evil': 0.013414634146341463,\n",
       " 'PiecesOfProducts': 0.007905138339920948,\n",
       " 'absurtnerd': 0.011363636363636364,\n",
       " 'fishintheboat': 0.0380952380952381,\n",
       " 'Red_Stick_Figure': 0.013257575757575758,\n",
       " 'Massive-Mountain7157': 0.030252100840336135,\n",
       " '-paul-': 0,\n",
       " 'BuonoVibes': 0,\n",
       " 'ErectricCars2': 0,\n",
       " '-pLx-': 0,\n",
       " 'Barack_obameme': 0.022222222222222223,\n",
       " 'Allaun': 0,\n",
       " '-PM_ME_UR_SECRETS-': 0,\n",
       " 'illusionst': 0.010869565217391304,\n",
       " 'fallenlegend117': 0.016835016835016835,\n",
       " '-preposterosity-': 0,\n",
       " 'cognitivedissidence_': 0,\n",
       " '-Puzzled-Case-': 0,\n",
       " '-RichardCranium-': 0.030303030303030304,\n",
       " 'Sophira': 0.014399059653247136,\n",
       " 'gcruzatto': 0.02207792207792208,\n",
       " 'Killingagency': 0,\n",
       " 'DanPreacher': 0.16666666666666666,\n",
       " 'JackCrainium': 0.05454545454545454,\n",
       " 'pantalonedilimone': 0,\n",
       " 'jimmy011087': 0.1111111111111111,\n",
       " '-Sephandrius-': 0.5,\n",
       " 'jackb1980': 0.015864621893178214,\n",
       " 'Banzai51': 0.16666666666666666,\n",
       " 'fxpv': 0.2,\n",
       " 'sedulouspellucidsoft': 0.01818181818181818,\n",
       " '-Sourabh': 0,\n",
       " 'exizt': 0.0106951871657754,\n",
       " '-Speechless': 0.022222222222222223,\n",
       " 'totally_up_to_it': 0,\n",
       " 'DraconicLegacy': 0.02844950213371266,\n",
       " 'MonoNova': 0.029239766081871343,\n",
       " 'luckindy': 0,\n",
       " 'no-name-here': 0,\n",
       " 'cold-flame1': 0.02713773681515617,\n",
       " '-Sprocket': 0,\n",
       " 'lucaguiar': 0,\n",
       " 'zeJaeger': 0.0011737089201877935,\n",
       " 'SonGatsu_Inc': 0,\n",
       " '-stuey-': 0,\n",
       " 'yellowfeverlime': 0.016233766233766232,\n",
       " '-ThatGingerKid-': 0,\n",
       " 'BasketBrawler': 0,\n",
       " 'DriskanCz': 0,\n",
       " '-The-_-Dude': 0,\n",
       " 'twogreeneyes_': 0.3333333333333333,\n",
       " '-TheExtraMile-': 0.14285714285714285,\n",
       " 'Sanji338': 0,\n",
       " 'boomer_wife': 0.011759384893713252,\n",
       " 'Orlandogameschool': 0.04743083003952569,\n",
       " 'dep': 0.01522956326987682,\n",
       " '-ToppedBottom': 0,\n",
       " 'Shyvadi': 0,\n",
       " '-what-just-happened-': 0,\n",
       " 'goofandaspoof': 0,\n",
       " '-world-': 0,\n",
       " 'Better_Call_Salsa': 0.047619047619047616,\n",
       " '-ZeroRelevance-': 0.06666666666666667,\n",
       " 'InSearchOfUpdog': 0.0128099173553719,\n",
       " 'CYHSM': 0,\n",
       " 'LukeChriswalker': 0,\n",
       " 'trg1408': 0,\n",
       " '-_1_2_3_-': 0.023076923076923078,\n",
       " 'calbhollo': 0.03986710963455149,\n",
       " 'ChatGTP': 0.020351526364477335,\n",
       " 'eliquy': 0.029036004645760744,\n",
       " 'underwear_dickholes': 0,\n",
       " 'esgarnix': 0.3333333333333333,\n",
       " 'virtualmang': 0.016666666666666666,\n",
       " 'recurrenttheme': 0.16666666666666666,\n",
       " 'ikillhim': 0.047619047619047616,\n",
       " '__ValidUsername__': 0.03571428571428571,\n",
       " 'PinguinGirl03': 0.015488215488215488,\n",
       " 'AsteroidFilter': 0.0196078431372549,\n",
       " 'Defiant_Result_6395': 0,\n",
       " 'joshcam': 0,\n",
       " 'cureforhiccupsat4am': 0.1,\n",
       " 'headwars': 0.025,\n",
       " 'PrincessBlackCat39': 0.016317016317016316,\n",
       " 'moriarty069': 0,\n",
       " 'wordyplayer': 0.009446693657219974,\n",
       " 'sexual--predditor': 0.02197802197802198,\n",
       " 'Apprehensive_Loan776': 0.16666666666666666,\n",
       " 'Educational-Nobody47': 0.025,\n",
       " 'Stone_Like_Rock': 0.047619047619047616,\n",
       " 'hezwat': 0.013942307692307693,\n",
       " 'FireblastU': 0.012468300929839391,\n",
       " 'bongocopter': 0,\n",
       " 'KeinNiemand': 0,\n",
       " 'bimtom': 0.06666666666666667,\n",
       " '-_Xela_-': 0.022222222222222223,\n",
       " 'Skavau': 0,\n",
       " '0011011100111001': 0,\n",
       " 'GalaxyDog2289': 0,\n",
       " '00matchup': 0,\n",
       " 'wintermutt': 0.06666666666666667,\n",
       " '00PT': 0.02262443438914027,\n",
       " 'uselesssurprise': 0.01950354609929078,\n",
       " 'ken81987': 0.03368794326241135,\n",
       " 'sigterm666': 0.05454545454545454,\n",
       " 'Ihaveamodel3': 0.058333333333333334,\n",
       " 'abloblololo': 0.03201970443349754,\n",
       " 'nuclear213': 0.016290726817042606,\n",
       " 'KimchiMaker': 0.1,\n",
       " 'ILikePracticalGifts': 0.02,\n",
       " 'frequenttimetraveler': 0.027133872416891285,\n",
       " 'Sufficient_Ticket237': 0.3333333333333333,\n",
       " 'masterstarfish': 0.037037037037037035,\n",
       " 'BernhardRordin': 0.14545454545454545,\n",
       " 'antigonemerlin': 0.015796334636914346,\n",
       " 'maxmoo1207': 0.022222222222222223,\n",
       " '__Hello_my_name_is__': 0.16666666666666666,\n",
       " 'Middle-Scene-731': 0.16666666666666666,\n",
       " 'Me-Right-You-Wrong': 0.017543859649122806,\n",
       " 'LittleLuigiYT': 0.022222222222222223,\n",
       " 'Gambaguy': 0.005259835893120134,\n",
       " 'watertrainer22': 0.004032258064516129,\n",
       " 'vcrtech': 0.03684210526315789,\n",
       " 'Yuli-Ban': 0,\n",
       " 'farox': 0.04411764705882353,\n",
       " 'Stripes_plus_solids': 0.004012345679012346,\n",
       " 'StaticCaravan': 0.054945054945054944,\n",
       " '6two': 0.04411764705882353,\n",
       " 'jlpt1591': 0,\n",
       " 'Ok-Hunt-5902': 0.008655887636779356,\n",
       " 'mredda': 0.006580645161290323,\n",
       " 'LoonieLens': 0.06666666666666667,\n",
       " 'Evoke_App': 0.01176250933532487,\n",
       " 'EfficiencyStrong3026': 0.0380952380952381,\n",
       " 'IsraelZulu': 0.01098901098901099,\n",
       " '0800happydude': 0,\n",
       " 'illuminatus235': 0.004195804195804196,\n",
       " '0bito': 0.047619047619047616,\n",
       " 'Fatherofmedicine2k': 0.016666666666666666,\n",
       " '0lushcka0': 0,\n",
       " 'EllyEscape': 0.008658008658008658,\n",
       " '0N1Y': 0.16666666666666666,\n",
       " 'doppelkeks90': 0.019027484143763214,\n",
       " 'martinmick': 0,\n",
       " 'Bush_did_PearlHarbor': 0.00784313725490196,\n",
       " '0n6od': 0,\n",
       " 'EnsignElessar': 0.024912280701754386,\n",
       " 'Seakawn': 0.009523809523809525,\n",
       " '0TheLioness0': 0,\n",
       " 'Thecid0': 0.07272727272727272,\n",
       " 'CuyahogaRiver': 0,\n",
       " '0x456': 0,\n",
       " 'Ismail_Saleh_1999': 0,\n",
       " '0xgreenapole': 0,\n",
       " 'S1Bothered': 0,\n",
       " 'tex_nc': 0,\n",
       " 'shadieboyy': 0,\n",
       " '0xmerkle': 1.0,\n",
       " '0xM_Joe': 0.3333333333333333,\n",
       " 'gdaycaz': 0,\n",
       " 'RobeertIV': 0.09523809523809523,\n",
       " 'Enough_Guess_2606': 0,\n",
       " '1-1-2-3-5': 0,\n",
       " 'ReginaSpektorsVJ': 0.01282051282051282,\n",
       " '100dude': 0.3333333333333333,\n",
       " 'UnnamedAlt': 0.015810276679841896,\n",
       " '10Drive': 0.030303030303030304,\n",
       " 'NoMeatFingering': 0.07142857142857142,\n",
       " 'MrHi_VEVO': 0.07142857142857142,\n",
       " 'Sheeporoth': 0,\n",
       " 'TerrySharpHY': 0.0033122375347489205,\n",
       " 'HelloGoodbyeFriend': 0.03296703296703297,\n",
       " '10ZackT': 0,\n",
       " 'oorkaas': 0,\n",
       " '1101alt': 0.06666666666666667,\n",
       " 'jssmith42': 0.009513742071881607,\n",
       " 'Admirable_Bet5739': 0.017592592592592594,\n",
       " 'Odballl': 0.006666666666666667,\n",
       " 'Pleasant-Crazy1830': 0,\n",
       " 'GoldenretriverYT': 0.010526315789473684,\n",
       " '12342ekd': 0,\n",
       " 'shuggies': 0.06666666666666667,\n",
       " '12345678msinmy': 0,\n",
       " 'NewbieOrange': 0,\n",
       " 'perturbaitor': 0.011602610587382161,\n",
       " 'in-search4truth': 0.1,\n",
       " '123blaze': 0.13333333333333333,\n",
       " 'Mr_sushj': 0,\n",
       " 'Doofenshmirtz08': 0,\n",
       " 'Starship_2_Mars': 0.3333333333333333,\n",
       " 'disconnective': 0.3333333333333333,\n",
       " '123nottherealmes': 0,\n",
       " 'X-Aceris-X': 0,\n",
       " '123trinitroxypropane': 0,\n",
       " 'CommercialTadpole329': 0.009852216748768473,\n",
       " '12apor': 0,\n",
       " '12e21': 0,\n",
       " 'SnipingNinja': 0.013720598717034925,\n",
       " '13131123': 0,\n",
       " 'jaybook64': 0.01818181818181818,\n",
       " '13ass13ass': 0,\n",
       " 'pumog': 0,\n",
       " 'flipcoder': 0.008461131676361713,\n",
       " '13fingerfx': 0.02631578947368421,\n",
       " 'DemonOfUnholyFat': 0,\n",
       " '_karelias': 0,\n",
       " 'AltAcc34-a': 0.018018018018018018,\n",
       " 'notgoneyet': 0,\n",
       " 'Sixhaunt': 0.013876040703052728,\n",
       " 'noop_noob': 0.09523809523809523,\n",
       " 'ninjafrog01': 0,\n",
       " 'only_fun_topics': 0.011544011544011544,\n",
       " '150420throwaway': 0,\n",
       " 'reddit_hater': 0.036923076923076927,\n",
       " '15cmOnTibiaOrGTFO': 0,\n",
       " 'BKmaster2580': 0,\n",
       " '1917-was-lit': 0,\n",
       " 'LoneRedWolf24': 0.01098901098901099,\n",
       " '1978Pinto': 0,\n",
       " 'Traveltracks': 0,\n",
       " '1997Luka1997': 0,\n",
       " 'Looeelooee': 0.014605647517039922,\n",
       " 'RandomNumbers8285': 0,\n",
       " '1comment_here': 0,\n",
       " 'GraveSlayer726': 0.010869565217391304,\n",
       " 'skeletons_of_closet': 0,\n",
       " '1dolinski': 0,\n",
       " '1en5tig': 0,\n",
       " 'fishybird': 0,\n",
       " 'JuustoUkko': 0.02564102564102564,\n",
       " 'Wingman143': 0.046370967741935484,\n",
       " 'SuperSinestro': 0,\n",
       " '1giantsleep4mankind': 0,\n",
       " 'CarReal8917': 0,\n",
       " 'Interesting_Plum_805': 0,\n",
       " '1GusGus1': 0,\n",
       " 'G915wdcc142up': 0.0071301247771836,\n",
       " '1h8fulkat': 0.03571428571428571,\n",
       " 'Mike_______': 0.011363636363636364,\n",
       " 'silverud': 0.008441558441558441,\n",
       " 'corsair130': 0,\n",
       " 'Logical-Cup17240': 0.04411764705882353,\n",
       " 'spinningfinger': 0,\n",
       " 'TheKing01': 0.012307692307692308,\n",
       " '1imy': 0.16666666666666666,\n",
       " '1Kernel': 0,\n",
       " '1KinGuy': 0,\n",
       " '1mattchu1': 0,\n",
       " 'NovaStrike76': 0.007112375533428165,\n",
       " '1MrPro1': 0.027777777777777776,\n",
       " 'brighttar': 0,\n",
       " 'OGTradez': 0.01904761904761905,\n",
       " '1N0OB': 0,\n",
       " 'Aquaritek': 0,\n",
       " '1nventioning': 0,\n",
       " '1OWI': 0,\n",
       " '7heJoker': 0.0067226890756302525,\n",
       " '1pfen': 0,\n",
       " 'deadfermata': 0.06666666666666667,\n",
       " '1r0n1c': 0,\n",
       " 'AG-ape': 0,\n",
       " '1rudster': 0.3333333333333333,\n",
       " 'AutomaticVentilator': 0.02431372549019608,\n",
       " '1straycat': 0,\n",
       " 'Amondupe': 0,\n",
       " '1VruthaFan': 0,\n",
       " 'godlysporkk': 0,\n",
       " '1will2000will1': 0,\n",
       " '2-18-2018': 0,\n",
       " 'SketchSlayer': 0,\n",
       " '2008and1': 0,\n",
       " 'ClinicalIllusionist': 0.009930915371329879,\n",
       " '2013bspoke': 0,\n",
       " 'SwollenRaccoon': 0.006991260923845194,\n",
       " '21-10-25': 0.09523809523809523,\n",
       " 'wow-signal': 0.011494252873563218,\n",
       " 'brohamsontheright': 0.009665621734587251,\n",
       " 'J2MES': 0.09523809523809523,\n",
       " 'Readityesterday2': 0.019963702359346643,\n",
       " '21S0ULz': 0,\n",
       " 'CarryImmediate7498': 0,\n",
       " '22022020': 0.16666666666666666,\n",
       " 'Just-A-abnormal-Guy': 0,\n",
       " 'Reasonable-Yam6767': 0,\n",
       " '22radiodogs': 0,\n",
       " '808_Scalawag': 0.019943019943019943,\n",
       " '23kcarlson': 0,\n",
       " 'Paradox_Dolphin': 0.017699115044247787,\n",
       " '24kPatriot': 1.0,\n",
       " '27CF': 0.09523809523809523,\n",
       " 'post-death_wave_core': 0.05555555555555555,\n",
       " 'idontevenliftbrah': 0.00646900269541779,\n",
       " 'maxchris': 0.015345268542199489,\n",
       " '28er58pp4uwg': 0,\n",
       " 'noobminer40': 0.01818181818181818,\n",
       " '2A_Libtard': 0,\n",
       " 'cybersphere9': 0,\n",
       " '2blazen': 0,\n",
       " 'SanityInAnarchy': 0,\n",
       " '2cbTaibot': 0,\n",
       " 'MjrK': 0.023333333333333334,\n",
       " '2cimarafa': 0,\n",
       " 'ImaginarySituation72': 0,\n",
       " 'Acid_God_': 0.00725689404934688,\n",
       " 'rocklou': 0.02564102564102564,\n",
       " '2d6BrainDamage': 0,\n",
       " 'drekmonger': 0.011250348092453356,\n",
       " '2legit2quit0071': 0,\n",
       " 'Rabbit0fCaerbannog': 0.034482758620689655,\n",
       " '2positive': 0,\n",
       " 'pizzicatodreams': 0.07142857142857142,\n",
       " '2Timothy215': 0,\n",
       " 'BtotheTM': 0.012244897959183673,\n",
       " '3141592653589793230': 0,\n",
       " '3choZulu': 0,\n",
       " 'Deep_Age4643': 0.03557312252964427,\n",
       " '3cxMonkey': 0,\n",
       " 'Lostpathway': 0,\n",
       " '3ddelano': 0.07692307692307693,\n",
       " '3DPianiat': 0.03,\n",
       " 'Mackerel_Scales': 0.06060606060606061,\n",
       " 'Dalmahr': 0.014141414141414142,\n",
       " 'fignewtgingrich': 0,\n",
       " 'nish_3000': 0,\n",
       " 'RonSwazy': 0.02857142857142857,\n",
       " 'zvive': 0.017502612330198536,\n",
       " 'ThunderKant_1': 0.015151515151515152,\n",
       " 'lestep': 0.1,\n",
       " 'FAlady': 0,\n",
       " 'Golfishe': 0.16363636363636364,\n",
       " 'philly_boul85': 0,\n",
       " 'francsoitv': 0,\n",
       " 'Agrauwin': 0.028956228956228958,\n",
       " '3l0nMusk': 0,\n",
       " 'damnhowdidigethere': 0,\n",
       " 'Dear_Ad_3435': 0.011857707509881422,\n",
       " '3lcamin0': 0,\n",
       " 'therealestestest': 0,\n",
       " '3shotsdown': 0,\n",
       " 'bbiizzccoo': 0.13333333333333333,\n",
       " '3X3SLC': 0.018115942028985508,\n",
       " 'asongscout': 0.027777777777777776,\n",
       " 'Opitmus_Prime': 0,\n",
       " 'Mk_Makanaki': 0.023809523809523808,\n",
       " 'llamango': 0,\n",
       " 'Artistic_Profile3331': 0.09523809523809523,\n",
       " 'phobotany': 0,\n",
       " 'kaenith108': 0.005263157894736842,\n",
       " 'V6exy': 0,\n",
       " 'Edlaucis': 0,\n",
       " 'WhiteishLlama': 0.0036231884057971015,\n",
       " 'TheGillos': 0.010482180293501049,\n",
       " 'IntroDucktory_Clause': 0.005194805194805195,\n",
       " 'BigMoist3267': 0.022222222222222223,\n",
       " 'josephcrios': 0.0053475935828877,\n",
       " '3xplo': 0.1,\n",
       " 'ImZaryYT': 0,\n",
       " 'Venmorr': 0,\n",
       " 'Ziggote': 0.023232323232323233,\n",
       " 'fatherseamus': 0.01030715316429602,\n",
       " 'Delwyn_dodwick': 0.010582010582010581,\n",
       " 'dontchangeyourplans': 0,\n",
       " 'nanowell': 0,\n",
       " 'Kujo17': 0,\n",
       " 'MailboxBottle': 0,\n",
       " 'Mr_Compyuterhead': 0.021155830753353973,\n",
       " 'DeGandalf': 0.012307692307692308,\n",
       " 'The_Tequila_Monster': 0.13333333333333333,\n",
       " 'jazzysandwich': 0.2,\n",
       " 'LightRefrac': 0,\n",
       " 'Anal-examination': 0.02857142857142857,\n",
       " '42-stories': 0,\n",
       " 'OkDot9878': 0.011363636363636364,\n",
       " '420bIaze': 0,\n",
       " 'iddq-tea': 0.1,\n",
       " '420BigDawg_': 0.16666666666666666,\n",
       " 'TheHouseOfApples': 0.03333333333333333,\n",
       " 'waffleking': 0,\n",
       " 'switchdance': 0.026884862653419054,\n",
       " '42gauge': 0.06666666666666667,\n",
       " 'Introsium': 0.026143790849673203,\n",
       " 'Postbreak_KQM': 0.03296703296703297,\n",
       " 'wodex74380': 0,\n",
       " 'hiboucoucou': 0.044444444444444446,\n",
       " '42GOLDSTANDARD42': 0,\n",
       " 'trevor1400E': 0,\n",
       " 'nick_murain': 0,\n",
       " '440Presents': 0,\n",
       " 'madewithlov': 0.027777777777777776,\n",
       " '4as': 0,\n",
       " 'TheRedGuy60': 0.03024193548387097,\n",
       " '4eyedpeas': 0,\n",
       " '____cire4____': 0.017970401691331923,\n",
       " '4n3ver': 0,\n",
       " '4ndr01d5': 0,\n",
       " '4ork_Reddit': 0,\n",
       " 'redmera': 0.01309810211173483,\n",
       " '4skin3ater': 0,\n",
       " '4TuitouSynchro': 0,\n",
       " 'GadFlyBy': 0,\n",
       " '4winyt': 0.3333333333333333,\n",
       " 'MegaAutist': 1.0,\n",
       " '50YearsOld': 0,\n",
       " 'Emergency_Duty8823': 0.011614401858304297,\n",
       " '5kisbetterthan4k': 0,\n",
       " 'nebson10': 0.00865460267505901,\n",
       " '5x69fq29d0f6m33k17b0': 0.022222222222222223,\n",
       " 'SvampebobFirkant': 0.015151515151515152,\n",
       " 'johnny_rebel_music32': 0,\n",
       " 'Kodiologist': 0.008547008547008548,\n",
       " 'G3ck0': 0.033846153846153845,\n",
       " 'usandholt': 0.027093596059113302,\n",
       " 'stravo2020': 0,\n",
       " 'LaOread': 0.04093567251461988,\n",
       " '6026d0S314mp4': 0,\n",
       " '63686b6e6f6f646c65': 0,\n",
       " 'michaelochurch': 0.02836474395583476,\n",
       " 'sanjosanjo': 0,\n",
       " 'Cultural_Contract512': 0.010080645161290322,\n",
       " '669966': 0,\n",
       " '69Mind_fucker69': 0,\n",
       " 'ultramagician': 0,\n",
       " '69_breeze_69': 0,\n",
       " 'EminemChatGPT': 0.011363636363636364,\n",
       " '6loud9': 0,\n",
       " 'ParatusPlayerOne': 0,\n",
       " 'Dclarrk': 0,\n",
       " 'Gaming_over_sleep': 0.012307692307692308,\n",
       " 'this_one_in_boots': 0,\n",
       " 'torchma': 0.01995305164319249,\n",
       " 'NvidiaRTX': 0.022857142857142857,\n",
       " 'Unlucky-Alfalfa3485': 0,\n",
       " 'MrSnrubFarAway69': 0.06666666666666667,\n",
       " 'GreenDave113': 0.05454545454545454,\n",
       " 'meddit-throwaway': 0,\n",
       " 'DepressionsSideKick': 0.01818181818181818,\n",
       " 'agentwc1945': 0.02154882154882155,\n",
       " '74oshua': 0,\n",
       " 'Superloopertive': 0.012548262548262547,\n",
       " '76vangel': 0,\n",
       " 'CardinalsVSBrowns': 0.010526315789473684,\n",
       " '7734128': 0,\n",
       " 'justabot69420': 0.013279678068410463,\n",
       " 'Throwaway__shmoe': 0,\n",
       " 'kingky0te': 0.009523809523809525,\n",
       " 'ethtips': 0.01984126984126984,\n",
       " 'TheOtherMikeCaputo': 0.06666666666666667,\n",
       " '777Z': 0,\n",
       " 'creztor': 0,\n",
       " 'Messytrackpants': 0.047619047619047616,\n",
       " '79cent': 0,\n",
       " 'MainAccountRev_01': 0,\n",
       " 'brokencompass502': 0.3333333333333333,\n",
       " '7coloursummer': 0,\n",
       " 'leinilw': 0.031578947368421054,\n",
       " 'imaginexus': 0.011428571428571429,\n",
       " 'gettheflyoffmycock': 0,\n",
       " 'SlipFellLandedOn': 0.16666666666666666,\n",
       " 'kinkade': 0.3333333333333333,\n",
       " 'lilsatoshi': 0.014285714285714285,\n",
       " 'YourCasualNerd1': 0,\n",
       " '_threads': 0,\n",
       " 'C3KNGS': 0,\n",
       " 'itzjolle': 0,\n",
       " 'Abnull': 0,\n",
       " 'Ok-Establishment6011': 0,\n",
       " 'gieserj10': 0.04093567251461988,\n",
       " 'bromethazine45': 0,\n",
       " '7lick': 0.3333333333333333,\n",
       " 'ironicsans': 0.008441558441558441,\n",
       " 'psychohistorian8': 0.027469316189362946,\n",
       " '7th_Spectrum': 0,\n",
       " 'Poisonedhero': 0,\n",
       " '7xmxni': 0,\n",
       " 'thedaklad': 0,\n",
       " '807561353': 0,\n",
       " 'Apprehensive_Disk486': 0,\n",
       " 'WholeCod9693': 0,\n",
       " 'Schaubesque': 0,\n",
       " 'paprok': 0.02564102564102564,\n",
       " 'ImpersonalLubricant': 0,\n",
       " 'noonewilltakemealive': 0.005263157894736842,\n",
       " 'Markus_____': 0.047619047619047616,\n",
       " 'OccasionalDoomer': 0.13333333333333333,\n",
       " 'PC-Bjorn': 0.03201970443349754,\n",
       " 'Colonel-Cathcart': 0.1,\n",
       " 'Melonpeal': 0,\n",
       " 'EstablishmentOld9707': 0.01950354609929078,\n",
       " 'RuttaDev': 0.09523809523809523,\n",
       " 'bongingnaut': 0.022222222222222223,\n",
       " 'AnImmatureMind': 0,\n",
       " 'Zelensexual': 0.08888888888888889,\n",
       " 'Icy-Potato-4180': 0,\n",
       " 'Admirable_keith': 0,\n",
       " '83aussie': 0,\n",
       " 'rawalfredo': 0,\n",
       " '87LuckyDucky87': 0,\n",
       " 'hereisthepart': 0.01849217638691323,\n",
       " '888888888888880': 0,\n",
       " 'Dezerox': 0,\n",
       " 'Butterbacke71': 0.07575757575757576,\n",
       " '88adavis': 0,\n",
       " '897843': 0,\n",
       " 'great_site_not': 0,\n",
       " 'royaleking51': 0.010752688172043012,\n",
       " 'Maker2402': 0,\n",
       " '8andage': 0,\n",
       " '8thacc': 0.026969857218402962,\n",
       " 'MinnesotaBirdman': 0.045454545454545456,\n",
       " 'engdahl80': 0.06060606060606061,\n",
       " 'commentaror': 0.08791208791208792,\n",
       " 'AnselmFox': 0,\n",
       " 'CrispinMK': 0.013071895424836602,\n",
       " 'SuddenDragonfly8125': 0.023788015657934355,\n",
       " 'logicalprimeape': 0.09523809523809523,\n",
       " 'A_Bran_Muffin': 0,\n",
       " 'pat_abh': 0,\n",
       " 'JustADoughnut': 0.06666666666666667,\n",
       " 'josericardodasilva': 0.03409090909090909,\n",
       " 'Playful-Ad8851': 0.03571428571428571,\n",
       " 'shezzron': 0.3333333333333333,\n",
       " 'CommutativeCanadian': 0,\n",
       " 'Dyson1337': 0.012980269989615784,\n",
       " '8thParadigmShift': 0,\n",
       " 'hello232323331': 0.03296703296703297,\n",
       " '922153': 0,\n",
       " '92MsNeverGoHungry': 0,\n",
       " 'Em3rgency': 0.022596153846153846,\n",
       " '9percentmilk': 0,\n",
       " 'Th30n3_R': 0.04086021505376344,\n",
       " '9tailNate': 0,\n",
       " 'Alexschmidt711': 0,\n",
       " 'A-Free-Mystery': 0,\n",
       " 'Arotobo': 0.0641025641025641,\n",
       " 'A-Grey-World': 0,\n",
       " 'superkp': 0,\n",
       " 'qrayons': 0.03333333333333333,\n",
       " 'MSR8': 0,\n",
       " 'A-Marko': 0,\n",
       " 'LimeAwkward': 0,\n",
       " 'EmmyNoetherRing': 0.025098039215686273,\n",
       " 'benritter2': 0,\n",
       " 'Charles__town': 0,\n",
       " 'TrekForce': 0,\n",
       " 'lgastako': 0.00975177304964539,\n",
       " 'a2soup': 0.2,\n",
       " 'alchemist1e9': 0.015126050420168067,\n",
       " 'a32m50': 0.3333333333333333,\n",
       " 'a51m0v': 0,\n",
       " 'wtjones': 0,\n",
       " '_imNotSusYoureSus': 0.042081949058693245,\n",
       " 'AAACONSUL': 0,\n",
       " 'tiltedlens': 0.015053763440860216,\n",
       " 'aaanon1': 0,\n",
       " 'Competitive-Doubt298': 0.012987012987012988,\n",
       " 'Juiceddc2': 0,\n",
       " 'aamir21khan2002': 0.047619047619047616,\n",
       " 'Shiini18': 0.13333333333333333,\n",
       " 'Virtual_Theory_5836': 0,\n",
       " 'AfSchool': 0.02857142857142857,\n",
       " 'Boris_Ivanovski': 0,\n",
       " 'Ok-Range1608': 0,\n",
       " 'aar2you': 0.030303030303030304,\n",
       " 'catsdgs': 0.03840682788051209,\n",
       " 'thomas_f1701': 0.16666666666666666,\n",
       " 'Utoko': 0.02774327122153209,\n",
       " 'Zealousideal-Total43': 0.2,\n",
       " 'Nearby-RabbitEater': 0,\n",
       " 'PancakeBoy110': 0,\n",
       " 'Logical_Grape970': 0.022222222222222223,\n",
       " 'CHKNSkratch': 0,\n",
       " 'VICODE78': 0,\n",
       " 'Jaffacakesss': 0.009427609427609427,\n",
       " 'AMR_GAMER_yt': 0,\n",
       " 'Aardovis': 0,\n",
       " 'titus1776': 0.02197802197802198,\n",
       " 'aaronjamt': 0,\n",
       " 'MeatTornado_': 0.03333333333333333,\n",
       " 'aaronr93': 0,\n",
       " 'SstonedinWonderland': 0.13333333333333333,\n",
       " 'aayyyyyyyyy': 0,\n",
       " 'KlutzyAd9112': 0.016042780748663103,\n",
       " 'abap4life': 0,\n",
       " 'abarthsimpson': 0,\n",
       " 'AbbreviationsKey9315': 0,\n",
       " 'abclop99': 0,\n",
       " 'jonny_wonny': 0.027777777777777776,\n",
       " 'Orwan': 0,\n",
       " 'AbdelAtife': 0,\n",
       " 'kriven_risvan': 0.022745098039215685,\n",
       " 'abderrahmane44': 0,\n",
       " 'puppet_masterrr': 0,\n",
       " 'AbdouH_': 0.06666666666666667,\n",
       " 'Last-Caterpillar-112': 0.012698412698412698,\n",
       " 'Abdouredx135': 0.3333333333333333,\n",
       " 'zookeeper1797': 0.011198208286674132,\n",
       " 'abdullahmangi': 0,\n",
       " 'Ok_Appointment2593': 0,\n",
       " 'abdullahmnsr2': 0,\n",
       " 'winston_everlast': 0.011655011655011656,\n",
       " 'ExternaJudgment': 0.014919011082693947,\n",
       " 'wantobelong': 0.023715415019762844,\n",
       " 'dementiadaddy': 0.017508417508417508,\n",
       " 'crismack58': 0.02564102564102564,\n",
       " 'Alarmed-Print1823': 0.3333333333333333,\n",
       " 'stevenbrown375': 0.019762845849802372,\n",
       " 'madwilliamflint': 0,\n",
       " 'norbeey': 0,\n",
       " 'abelrivers': 0,\n",
       " 'AbilityCharacter7634': 0,\n",
       " 'kmdr': 0.014492753623188406,\n",
       " 'abjedhowiz': 0.009523809523809525,\n",
       " 'Key_Attitude_5289': 0,\n",
       " 'MrPopohum': 0.009523809523809525,\n",
       " 'GuraySenova': 0,\n",
       " 'Thisnickname': 0.02026554856743536,\n",
       " 'magic_sebi': 0,\n",
       " 'inxrx8': 0.0054446460980036296,\n",
       " 'This_Entertainment82': 0,\n",
       " 'tibby_real': 0,\n",
       " 'mkass84': 0.06666666666666667,\n",
       " 'Highandfast': 0,\n",
       " 'Va-Va-Vooom': 0,\n",
       " 'botwfreak': 0.05128205128205128,\n",
       " 'flivflov': 0.07142857142857142,\n",
       " 'm44ever': 0.018145161290322582,\n",
       " 'Crusty_Shart': 0.047619047619047616,\n",
       " 'ZenManifold': 0.3333333333333333,\n",
       " 'deepinterstate': 0.05128205128205128,\n",
       " 'zee_dot': 0.16666666666666666,\n",
       " 'Chumphy': 0.032679738562091505,\n",
       " 'adoremerp': 0.01849217638691323,\n",
       " 'AccomplishedLake1183': 0,\n",
       " 'ABQRoberto': 0,\n",
       " 'Rourkester': 0,\n",
       " 'Abracadabrism': 0,\n",
       " '2004_Ps': 0.018518518518518517,\n",
       " 'Intelligent_Safe3708': 0.032679738562091505,\n",
       " 'AbrahamThunderwolf': 0,\n",
       " 'Deeplyunprincipled': 0.13333333333333333,\n",
       " 'absGeekNZ': 0,\n",
       " 'absoluteuseless': 0,\n",
       " 'AbstractQbit': 0,\n",
       " 'i_did_ur_mom_AMA': 0,\n",
       " 'mmzappdev': 0.018115942028985508,\n",
       " 'donterioo': 0,\n",
       " 'Etheikin': 0.013333333333333334,\n",
       " 'ABtestaquisitor': 1.0,\n",
       " 'Abu2ar3a': 0.14545454545454545,\n",
       " 'disgruntled_pie': 0.026938775510204082,\n",
       " 't9b': 0.027777777777777776,\n",
       " 'faustoc5': 0.016156462585034014,\n",
       " 'acabust0000': 0,\n",
       " 'MildlyMoistSock': 0.000333000333000333,\n",
       " 'Academic-Ad1218': 0,\n",
       " 'Anarcheddon': 0.03296703296703297,\n",
       " 'Academic-Sky-565': 0,\n",
       " 'Jakeandmorty': 0.3333333333333333,\n",
       " 'Academic-Tax4606': 0,\n",
       " 'Akimbo333': 0.09523809523809523,\n",
       " 'acaexplorers': 0,\n",
       " 'ximeleta': 0,\n",
       " 'nicbint': 0.16666666666666666,\n",
       " 'Acalme-se_Satan': 0,\n",
       " 'Okashu': 0,\n",
       " 'Accelerated_Dragons': 0,\n",
       " 'TrixAreForTeens': 0,\n",
       " 'Acceptable-Ad-7099': 0,\n",
       " 'Acceptable-Apple-666': 0,\n",
       " 'geri43': 0.010854816824966078,\n",
       " 'Spaaacce': 0.02857142857142857,\n",
       " 'Acceptable-Cress-374': 0.047619047619047616,\n",
       " 'jeffwadsworth': 0.031746031746031744,\n",
       " 'QuiQuondam': 1.0,\n",
       " 'Sea_Emu_4259': 0.021778584392014518,\n",
       " 'Shudnawz': 0.02564102564102564,\n",
       " 'Barzuka': 0,\n",
       " 'CasparV': 0,\n",
       " 'pro-redditor101': 0,\n",
       " 'MaybeTheDoctor': 0.02661826981246219,\n",
       " 'seekjan': 0,\n",
       " 'gamesitwatch': 0.015151515151515152,\n",
       " 'Kittingsl': 0.0291005291005291,\n",
       " 'Aurelius_Red': 0.017543859649122806,\n",
       " 'VladVV': 0.04710144927536232,\n",
       " 'justfortrees': 0.1,\n",
       " 'burg_philo2': 0.03333333333333333,\n",
       " 'slacknewt': 0,\n",
       " 'CrashCrashDummy': 0.029871977240398292,\n",
       " 'TwoCoresOneThread': 0.008247892458418775,\n",
       " 'FuckRedditIShit': 0.009523809523809525,\n",
       " 'AcceptableWalrus6': 0,\n",
       " 'acceria': 0,\n",
       " 'CourseCorrections': 0.03974358974358974,\n",
       " 'AccidentalAllNighter': 0,\n",
       " 'kreigiron': 0,\n",
       " 'AccidentNo3143': 0,\n",
       " 'Accobys': 0,\n",
       " 'RagtagJack': 0.16666666666666666,\n",
       " 'Accomplished-Back526': 0,\n",
       " 'Accomplished-Line69': 0.6666666666666666,\n",
       " 'Pianol': 0.020350877192982456,\n",
       " 'highestshroom': 0.16666666666666666,\n",
       " 'Accomplished-Low3305': 0,\n",
       " 'LiesToldbySociety': 0,\n",
       " 'Accomplished-Tap-222': 0,\n",
       " 'AlexKingstonsGigolo': 0,\n",
       " 'howevertheory98968': 0,\n",
       " 'Rbanh15': 0,\n",
       " 'AccomplishedOne2147': 0,\n",
       " 'MicheleMerelli': 0,\n",
       " 'AccomplishedVideo960': 0,\n",
       " 'zvi_t': 0.04093567251461988,\n",
       " 'Accomplished_Hand_24': 0.16666666666666666,\n",
       " 'LowCopiumHalo': 0.03571428571428571,\n",
       " 'Simon_And_Betty': 0,\n",
       " 'xxxnxxxxxxx': 0.031746031746031744,\n",
       " 'According-Lunch-3168': 0,\n",
       " 'lorderon99999': 0.012337662337662338,\n",
       " 'According-Pipe-3575': 0,\n",
       " 'AccordingAd7098': 1.0,\n",
       " 'Denaton_': 0.10714285714285714,\n",
       " 'According_Ad_688': 0,\n",
       " 'Farkle_Griffen2': 0.026143790849673203,\n",
       " 'According_Music7370': 0,\n",
       " 'AccountantAsleep': 0,\n",
       " 'lil_pepper09': 0,\n",
       " 'AstronomerTraining72': 0.01904761904761905,\n",
       " 'gaudiocomplex': 0,\n",
       " 'RiskyTrizkit': 0.02857142857142857,\n",
       " 'accounting_cunt': 0.045454545454545456,\n",
       " 'TheTerrasque': 0.01293759512937595,\n",
       " 'thelastpizzaslice': 0.015384615384615385,\n",
       " 'cleverestx': 0.013333333333333334,\n",
       " 'ricewbean': 0,\n",
       " 'eon01': 0,\n",
       " 'Best_Astronaut_9356': 0,\n",
       " 'Account_109_______': 1.0,\n",
       " 'No-Vehicle6028': 0.2,\n",
       " 'account_anonymity': 0,\n",
       " 'Dinierto': 0.02122448979591837,\n",
       " 'Copy-Pro-Guy': 0.01818181818181818,\n",
       " 'Accurate-Wrongdoer-9': 0,\n",
       " 'Accurate_Kangaroo241': 0,\n",
       " 'jaydayl': 0.023809523809523808,\n",
       " 'Ace-0f_Spikes': 0,\n",
       " 'AceAttorneyMaster111': 0,\n",
       " 'acelana': 0,\n",
       " 'tdupro': 0,\n",
       " 'Floeperdoep': 0.026143790849673203,\n",
       " 'Hands0L0': 0.02857142857142857,\n",
       " 'acerbink88': 0,\n",
       " 'Wide-Law8007': 0.022058823529411766,\n",
       " 'NotElonMuzk': 0,\n",
       " 'AcesFullOfKings': 0,\n",
       " 'AnteaterGoesMoo': 0,\n",
       " 'Ace_08': 0,\n",
       " 'jsonathan': 0.02564102564102564,\n",
       " 'Ace_Snowlight': 0,\n",
       " 'boaby-wan-kenobi': 0.023715415019762844,\n",
       " 'ACheca7': 0,\n",
       " 'mikkolukas': 0.02689075630252101,\n",
       " 'tolesto': 0,\n",
       " 'SpiltMySoda': 0.01282051282051282,\n",
       " 'CarlPeligro': 0.02,\n",
       " 'StarWarser1': 0,\n",
       " 'OnlyWearGarbage': 0,\n",
       " 'Acid147': 0,\n",
       " 'AcidicAzide': 0,\n",
       " 'l-L-li': 0.06666666666666667,\n",
       " 'acogjester': 0,\n",
       " 'WhiteHeadbanger': 0.05555555555555555,\n",
       " 'tiggytigtigtig': 0,\n",
       " 'gonzatho000': 0,\n",
       " 'hopeisall48': 0,\n",
       " 'Acrobatic-Scratch178': 0,\n",
       " 'Greydox': 0,\n",
       " 'Acrobatic_Hippo_7312': 0.03333333333333333,\n",
       " 'DeathGPT': 0.029239766081871343,\n",
       " 'True-Feeling-4773': 0,\n",
       " 'YMGenesis': 0.02631578947368421,\n",
       " 'something-quirky-': 0,\n",
       " 'jshusky': 0,\n",
       " 'CreatureWarrior': 0.014124293785310734,\n",
       " 'meontheweb': 0,\n",
       " 'matthewfelgate': 0,\n",
       " 'Static_Function': 0,\n",
       " '_ShakashuriBlowdown': 0.032679738562091505,\n",
       " 'Safe_Use554': 1.0,\n",
       " 'acscriven': 0,\n",
       " 'Traditional-Dingo604': 0,\n",
       " 'actionmous3': 0,\n",
       " 'MayorAdamWest1': 0.010959636460839348,\n",
       " 'Pointless_Porcupine': 0.09558823529411764,\n",
       " 'ActionQuakeII': 0,\n",
       " 'NocniSob': 0.005398110661268556,\n",
       " 'Reasonable-JPEG': 0.006153846153846154,\n",
       " 'osnapitzme': 0.047619047619047616,\n",
       " 'activemotionpictures': 0,\n",
       " 'ActualHunt2945': 0,\n",
       " 'Firered_Productions': 0.010651629072681704,\n",
       " 'actual_factual_bear': 0.3333333333333333,\n",
       " 'Independent_Pop6959': 1.0,\n",
       " 'PitchSuch': 0.031578947368421054,\n",
       " 'Actual_Instance3916': 0,\n",
       " 'thomash': 0.007458405048766495,\n",
       " 'acunaviera1': 0,\n",
       " 'acutelychronicpanic': 0.07142857142857142,\n",
       " 'Yguy2000': 0.10507246376811594,\n",
       " 'squareOfTwo': 0.009523809523809525,\n",
       " 'ithinkoutloudtoo': 0.047619047619047616,\n",
       " 'billyflamingo': 0.13333333333333333,\n",
       " 'zamcsaba': 0.6666666666666666,\n",
       " 'shebbbby': 0.01893939393939394,\n",
       " 'acyiz': 0,\n",
       " 'Ad-3646': 0,\n",
       " 'taggwest': 0.014778325123152709,\n",
       " 'Voodjin': 0,\n",
       " 'Wack0Wizard': 0,\n",
       " 'Adamar88999': 0.054945054945054944,\n",
       " 'KwxMirageRaceway': 0,\n",
       " 'Ah_Q': 0.016118836915297093,\n",
       " 'GuerrillaSteve': 0.013414634146341463,\n",
       " 'Alphactory': 0,\n",
       " 'ulenfeder': 0.025252525252525252,\n",
       " 'PooSham': 0.011857707509881422,\n",
       " 'AdamHenryB': 0,\n",
       " 'adamjeup': 0,\n",
       " 'honeybadger9': 0.03571428571428571,\n",
       " 'IAmAQuantumMechanic': 0,\n",
       " 'adamm708': 0,\n",
       " 'Powerkaninchen': 0,\n",
       " 'sumane12': 0.02162478082992402,\n",
       " 'adamtayloryoung': 0,\n",
       " 'noobnoob62': 0,\n",
       " 'Adam_M1234': 0,\n",
       " 'Rizean': 0.044444444444444446,\n",
       " 'HOLUPREDICTIONS': 0.015151515151515152,\n",
       " 'Rosa-Amanita': 0.018115942028985508,\n",
       " 'AdaptivePath': 0.16666666666666666,\n",
       " 'adarkuccio': 0,\n",
       " 'Adda717': 0,\n",
       " 'addictedposter': 0.1,\n",
       " 'AlAv812': 0.02682701202590194,\n",
       " 'Bubbly_Sell5448': 0.006968641114982578,\n",
       " 'mopteh': 0.029239766081871343,\n",
       " 'Additional-Age-7174': 0,\n",
       " 'Additional-Cap-7110': 0.04,\n",
       " 'jaygreen720': 0.009750812567713976,\n",
       " 'Sgeo': 0.3333333333333333,\n",
       " 'Bobnini': 0.02197802197802198,\n",
       " 'HereJustForTheData': 0.05454545454545454,\n",
       " 'sirdong': 0.04395604395604396,\n",
       " 'notcharldeon': 0,\n",
       " ...}"
      ]
     },
     "execution_count": 24,
     "metadata": {},
     "output_type": "execute_result"
    }
   ],
   "source": [
    "nx.clustering(G_und_rw)"
   ]
  },
  {
   "cell_type": "markdown",
   "id": "60b98e4c",
   "metadata": {},
   "source": [
    "## Density"
   ]
  },
  {
   "cell_type": "code",
   "execution_count": 25,
   "id": "95b2eb5c",
   "metadata": {},
   "outputs": [
    {
     "name": "stdout",
     "output_type": "stream",
     "text": [
      "density: 0.00042224881946220877\n"
     ]
    }
   ],
   "source": [
    "density=nx.density(G_und_rw)\n",
    "print('density:', density)"
   ]
  },
  {
   "cell_type": "markdown",
   "id": "dee374af",
   "metadata": {},
   "source": [
    "## Centrality analysis"
   ]
  },
  {
   "cell_type": "markdown",
   "id": "11b2ca42",
   "metadata": {},
   "source": [
    "for simplicity's sake the analysis is performed on the undirected version of the network"
   ]
  },
  {
   "cell_type": "markdown",
   "id": "1a91c026",
   "metadata": {},
   "source": [
    "**Ho fatto tutto per il grafo indiretto, forse cambiano risultati**"
   ]
  },
  {
   "cell_type": "code",
   "execution_count": 26,
   "id": "65bbcf9b",
   "metadata": {},
   "outputs": [],
   "source": [
    "degrees = dict(G_und_rw.degree())"
   ]
  },
  {
   "cell_type": "code",
   "execution_count": 27,
   "id": "a8c93b0f",
   "metadata": {},
   "outputs": [],
   "source": [
    "# different results, maybe on the old data"
   ]
  },
  {
   "cell_type": "code",
   "execution_count": 28,
   "id": "492c1694",
   "metadata": {},
   "outputs": [
    {
     "data": {
      "text/plain": [
       "[('hi_there_bitch', 892),\n",
       " ('TerrySharpHY', 321),\n",
       " ('TwoCoresOneThread', 212),\n",
       " ('perturbaitor', 199),\n",
       " ('ClinicalIllusionist', 195),\n",
       " ('drekmonger', 192),\n",
       " ('SnipingNinja', 186),\n",
       " ('FireblastU', 171),\n",
       " ('antigonemerlin', 164),\n",
       " ('kamus10', 159)]"
      ]
     },
     "execution_count": 28,
     "metadata": {},
     "output_type": "execute_result"
    }
   ],
   "source": [
    "# top 10 nodes with highest degree\n",
    "\n",
    "ranks = [(k, v) for k, v in sorted(degrees.items(), key=lambda item: -item[1])]\n",
    "ranks[0:10] "
   ]
  },
  {
   "cell_type": "markdown",
   "id": "983c0dc5",
   "metadata": {},
   "source": [
    "### Closeness Centrality Measure"
   ]
  },
  {
   "cell_type": "code",
   "execution_count": 29,
   "id": "146ccc76",
   "metadata": {},
   "outputs": [],
   "source": [
    "closeness = nx.closeness_centrality(G_und_rw) # compute the closeness centrality of all nodes "
   ]
  },
  {
   "cell_type": "code",
   "execution_count": 30,
   "id": "98d7c57a",
   "metadata": {},
   "outputs": [],
   "source": [
    "ranks = [(k, v) for k, v in sorted(closeness.items(), key=lambda item: -item[1])]\n",
    "coleseness_10 = ranks[0:10]"
   ]
  },
  {
   "cell_type": "code",
   "execution_count": 31,
   "id": "61843875",
   "metadata": {},
   "outputs": [],
   "source": [
    "dict_close = dict(coleseness_10)"
   ]
  },
  {
   "cell_type": "code",
   "execution_count": 32,
   "id": "bfbf3958",
   "metadata": {},
   "outputs": [
    {
     "data": {
      "text/html": [
       "<div>\n",
       "<style scoped>\n",
       "    .dataframe tbody tr th:only-of-type {\n",
       "        vertical-align: middle;\n",
       "    }\n",
       "\n",
       "    .dataframe tbody tr th {\n",
       "        vertical-align: top;\n",
       "    }\n",
       "\n",
       "    .dataframe thead th {\n",
       "        text-align: right;\n",
       "    }\n",
       "</style>\n",
       "<table border=\"1\" class=\"dataframe\">\n",
       "  <thead>\n",
       "    <tr style=\"text-align: right;\">\n",
       "      <th></th>\n",
       "      <th>Closeness Value</th>\n",
       "    </tr>\n",
       "  </thead>\n",
       "  <tbody>\n",
       "    <tr>\n",
       "      <th>hi_there_bitch</th>\n",
       "      <td>0.361554</td>\n",
       "    </tr>\n",
       "    <tr>\n",
       "      <th>Mr_Compyuterhead</th>\n",
       "      <td>0.348674</td>\n",
       "    </tr>\n",
       "    <tr>\n",
       "      <th>Eriane</th>\n",
       "      <td>0.342558</td>\n",
       "    </tr>\n",
       "    <tr>\n",
       "      <th>TerrySharpHY</th>\n",
       "      <td>0.342531</td>\n",
       "    </tr>\n",
       "    <tr>\n",
       "      <th>antigonemerlin</th>\n",
       "      <td>0.340122</td>\n",
       "    </tr>\n",
       "    <tr>\n",
       "      <th>SnipingNinja</th>\n",
       "      <td>0.339667</td>\n",
       "    </tr>\n",
       "    <tr>\n",
       "      <th>TwoCoresOneThread</th>\n",
       "      <td>0.338940</td>\n",
       "    </tr>\n",
       "    <tr>\n",
       "      <th>kamus10</th>\n",
       "      <td>0.338542</td>\n",
       "    </tr>\n",
       "    <tr>\n",
       "      <th>FireblastU</th>\n",
       "      <td>0.337766</td>\n",
       "    </tr>\n",
       "    <tr>\n",
       "      <th>drekmonger</th>\n",
       "      <td>0.337595</td>\n",
       "    </tr>\n",
       "  </tbody>\n",
       "</table>\n",
       "</div>"
      ],
      "text/plain": [
       "                   Closeness Value\n",
       "hi_there_bitch            0.361554\n",
       "Mr_Compyuterhead          0.348674\n",
       "Eriane                    0.342558\n",
       "TerrySharpHY              0.342531\n",
       "antigonemerlin            0.340122\n",
       "SnipingNinja              0.339667\n",
       "TwoCoresOneThread         0.338940\n",
       "kamus10                   0.338542\n",
       "FireblastU                0.337766\n",
       "drekmonger                0.337595"
      ]
     },
     "execution_count": 32,
     "metadata": {},
     "output_type": "execute_result"
    }
   ],
   "source": [
    "closeness_value_frame=pd.DataFrame.from_dict(dict_close,orient='index', columns=['Closeness Value'])\n",
    "closeness_value_frame"
   ]
  },
  {
   "cell_type": "code",
   "execution_count": 33,
   "id": "bd47239d",
   "metadata": {},
   "outputs": [
    {
     "data": {
      "image/png": "[encoded data removed]",
      "text/plain": [
       "<Figure size 640x480 with 1 Axes>"
      ]
     },
     "metadata": {},
     "output_type": "display_data"
    }
   ],
   "source": [
    "closeness_value_frame = closeness_value_frame.sort_values(by='Closeness Value', ascending=True)\n",
    "\n",
    "fig = plt.figure()\n",
    "ax = fig.add_subplot()\n",
    "\n",
    "closeness_value_frame.plot(kind='barh', color='blue', ax=ax)\n",
    "plt.xlim(0, 1)\n",
    "\n",
    "for y, x in enumerate(closeness_value_frame['Closeness Value']):\n",
    "    plt.annotate(str(x), xy=(x, y), va='center')\n",
    "\n",
    "plt.show()"
   ]
  },
  {
   "cell_type": "markdown",
   "id": "8e063a1a",
   "metadata": {},
   "source": [
    "### Betweenness Centrality"
   ]
  },
  {
   "cell_type": "code",
   "execution_count": 34,
   "id": "46bb313c",
   "metadata": {},
   "outputs": [],
   "source": [
    "betweenness = nx.betweenness_centrality(G_und_rw) "
   ]
  },
  {
   "cell_type": "code",
   "execution_count": 35,
   "id": "9dbfb2da",
   "metadata": {},
   "outputs": [
    {
     "data": {
      "text/plain": [
       "[('hi_there_bitch', 0.14843812864425898),\n",
       " ('TerrySharpHY', 0.04501477864951547),\n",
       " ('TwoCoresOneThread', 0.030883998475627974),\n",
       " ('drekmonger', 0.029608464172886668),\n",
       " ('SnipingNinja', 0.028314852640342926),\n",
       " ('ClinicalIllusionist', 0.027544723589424183),\n",
       " ('Mr_Compyuterhead', 0.02700412328679219),\n",
       " ('FireblastU', 0.026099661974099766),\n",
       " ('perturbaitor', 0.025617109937742306),\n",
       " ('antigonemerlin', 0.023846232171968545),\n",
       " ('kamus10', 0.02313610398453143),\n",
       " ('Ok-Hunt-5902', 0.020139036528725875),\n",
       " ('Eriane', 0.018584041542587703),\n",
       " ('nebson10', 0.01763196545248895),\n",
       " ('InSearchOfUpdog', 0.017624100925631894),\n",
       " ('Dyson1337', 0.01692451652391397),\n",
       " ('Paradox_Dolphin', 0.01626873378738752),\n",
       " ('jaygreen720', 0.016044733096053927),\n",
       " ('mredda', 0.01563462745383339),\n",
       " ('cristiano-potato', 0.01554450472719984)]"
      ]
     },
     "execution_count": 35,
     "metadata": {},
     "output_type": "execute_result"
    }
   ],
   "source": [
    "ranks = [(k, v) for k, v in sorted(betweenness.items(), key=lambda item: -item[1])]\n",
    "ranks[0:20]"
   ]
  },
  {
   "cell_type": "markdown",
   "id": "58ebe5ba",
   "metadata": {},
   "source": [
    "### Harmonic Centrality"
   ]
  },
  {
   "cell_type": "markdown",
   "id": "afb8ccd6",
   "metadata": {},
   "source": [
    "### Harmonic mean of the geodesic (shorted paths) distances from a given node to all others"
   ]
  },
  {
   "cell_type": "code",
   "execution_count": 36,
   "id": "4bf2e255",
   "metadata": {},
   "outputs": [],
   "source": [
    "harmonic = nx.harmonic_centrality(G_und_rw)"
   ]
  },
  {
   "cell_type": "code",
   "execution_count": 37,
   "id": "eb791a5f",
   "metadata": {},
   "outputs": [
    {
     "data": {
      "text/plain": [
       "[('hi_there_bitch', 5182.2107142855775),\n",
       " ('Mr_Compyuterhead', 4758.622619047692),\n",
       " ('TerrySharpHY', 4721.579761904851),\n",
       " ('Eriane', 4656.198809523917),\n",
       " ('antigonemerlin', 4636.908333333453),\n",
       " ('kamus10', 4621.0416666667925),\n",
       " ('TwoCoresOneThread', 4619.136904762042),\n",
       " ('SnipingNinja', 4617.220238095372),\n",
       " ('drekmonger', 4593.354761904904),\n",
       " ('FireblastU', 4591.630952381093),\n",
       " ('ClinicalIllusionist', 4564.320238095427),\n",
       " ('michaelochurch', 4552.7583333335115),\n",
       " ('perturbaitor', 4541.515476190661),\n",
       " ('Paradox_Dolphin', 4498.755952381176),\n",
       " ('Dyson1337', 4492.946428571619),\n",
       " ('SuddenDragonfly8125', 4474.075000000199),\n",
       " ('Ok-Hunt-5902', 4462.446428571661),\n",
       " ('frequenttimetraveler', 4457.015476190676),\n",
       " ('cristiano-potato', 4414.307142857391),\n",
       " ('redmera', 4408.547619047838)]"
      ]
     },
     "execution_count": 37,
     "metadata": {},
     "output_type": "execute_result"
    }
   ],
   "source": [
    "ranks = [(k, v) for k, v in sorted(harmonic.items(), key=lambda item: -item[1])]\n",
    "ranks[0:20]"
   ]
  },
  {
   "cell_type": "markdown",
   "id": "450eae33",
   "metadata": {},
   "source": [
    "### PageRank Centrality"
   ]
  },
  {
   "cell_type": "code",
   "execution_count": 38,
   "id": "92b48fd3",
   "metadata": {},
   "outputs": [],
   "source": [
    "pagerank = nx.pagerank(G_und_rw)"
   ]
  },
  {
   "cell_type": "code",
   "execution_count": 39,
   "id": "a9f04110",
   "metadata": {},
   "outputs": [
    {
     "data": {
      "text/plain": [
       "[('hi_there_bitch', 0.01585766526027533),\n",
       " ('TerrySharpHY', 0.005216585678577523),\n",
       " ('TwoCoresOneThread', 0.0027231277179534156),\n",
       " ('ClinicalIllusionist', 0.002485181248050116),\n",
       " ('perturbaitor', 0.002411717772825016),\n",
       " ('drekmonger', 0.002351614183181277),\n",
       " ('SnipingNinja', 0.002082540744441492),\n",
       " ('FireblastU', 0.0020257069088619466),\n",
       " ('antigonemerlin', 0.001992206067718328),\n",
       " ('Ok-Hunt-5902', 0.001956338389231213),\n",
       " ('kamus10', 0.0019270824274090536),\n",
       " ('MildlyMoistSock', 0.0018512531612161418),\n",
       " ('Mr_Compyuterhead', 0.0018143632281440241),\n",
       " ('jaygreen720', 0.0018051685968689109),\n",
       " ('mredda', 0.0017095476416635097),\n",
       " ('hobblyhoy', 0.0016768458244222368),\n",
       " ('nebson10', 0.0016439429993911417),\n",
       " ('InSearchOfUpdog', 0.0016101502874522038),\n",
       " ('Fresh-Cow-1931', 0.0015652159936003194),\n",
       " ('walkerspider', 0.0015217830621573516)]"
      ]
     },
     "execution_count": 39,
     "metadata": {},
     "output_type": "execute_result"
    }
   ],
   "source": [
    "ranks = [(k, v) for k, v in sorted(pagerank.items(), key=lambda item: -item[1])]\n",
    "ranks[0:20]"
   ]
  },
  {
   "cell_type": "markdown",
   "id": "68c57a72",
   "metadata": {},
   "source": [
    "### Eigenvector Centrality"
   ]
  },
  {
   "cell_type": "code",
   "execution_count": 40,
   "id": "8c989eb7",
   "metadata": {},
   "outputs": [],
   "source": [
    "eigen = nx.eigenvector_centrality(G_und_rw, max_iter = 500)"
   ]
  },
  {
   "cell_type": "code",
   "execution_count": 41,
   "id": "4e24da9c",
   "metadata": {},
   "outputs": [
    {
     "data": {
      "text/plain": [
       "[('hi_there_bitch', 0.5052275657348251),\n",
       " ('TerrySharpHY', 0.11643471175513195),\n",
       " ('antigonemerlin', 0.10821887788497501),\n",
       " ('Mr_Compyuterhead', 0.10745884527778413),\n",
       " ('perturbaitor', 0.10117562491170601),\n",
       " ('kamus10', 0.10066546280772568),\n",
       " ('SnipingNinja', 0.0977714933393425),\n",
       " ('Eriane', 0.09466996280203491),\n",
       " ('drekmonger', 0.09429281685629799),\n",
       " ('TwoCoresOneThread', 0.09099386232594989),\n",
       " ('michaelochurch', 0.08822266540322841),\n",
       " ('FireblastU', 0.08294296377130894),\n",
       " ('ClinicalIllusionist', 0.0812350788829264),\n",
       " ('frequenttimetraveler', 0.08109653193570746),\n",
       " ('SuddenDragonfly8125', 0.06734341178371644),\n",
       " ('Paradox_Dolphin', 0.06693833367790254),\n",
       " ('cristiano-potato', 0.06680199732476018),\n",
       " ('Ok-Hunt-5902', 0.06450390432900793),\n",
       " ('Ah_Q', 0.06091912680366541),\n",
       " ('machyume', 0.060553019587244634)]"
      ]
     },
     "execution_count": 41,
     "metadata": {},
     "output_type": "execute_result"
    }
   ],
   "source": [
    "ranks = [(k, v) for k, v in sorted(eigen.items(), key=lambda item: -item[1])]\n",
    "ranks[0:20]"
   ]
  },
  {
   "cell_type": "markdown",
   "id": "4b271c67",
   "metadata": {},
   "source": [
    "### Newman's Assortativity"
   ]
  },
  {
   "cell_type": "markdown",
   "id": "8c73ffce",
   "metadata": {},
   "source": [
    "Quantifies homophily while scalar node properties are involved (e.g., degree). \n",
    "Degree assortative: nodes tends to connect homogeneously w.r.t. their degree (e.g., hubs with hubs). \n",
    "Degree disassortative: nodes tends to connect in a star-like topology"
   ]
  },
  {
   "cell_type": "code",
   "execution_count": 42,
   "id": "68d84277",
   "metadata": {},
   "outputs": [
    {
     "data": {
      "text/plain": [
       "-0.06721012013355883"
      ]
     },
     "execution_count": 42,
     "metadata": {},
     "output_type": "execute_result"
    }
   ],
   "source": [
    "nx.degree_assortativity_coefficient(G_und_rw)  #varia di poco dovrebe essere 0.065"
   ]
  },
  {
   "cell_type": "markdown",
   "id": "f1ccf584",
   "metadata": {},
   "source": [
    "# COMPARISON WITH ER AND BA MODELS"
   ]
  },
  {
   "cell_type": "markdown",
   "id": "e40b0c39",
   "metadata": {},
   "source": [
    "## Erdos-Renyi graph"
   ]
  },
  {
   "cell_type": "markdown",
   "id": "8e48b0bb",
   "metadata": {},
   "source": [
    "p = 2L/N(N-1) = 240948 / (13171 13170) = 0,0004721262694"
   ]
  },
  {
   "cell_type": "code",
   "execution_count": 43,
   "id": "775959a0",
   "metadata": {},
   "outputs": [
    {
     "data": {
      "text/plain": [
       "13171"
      ]
     },
     "execution_count": 43,
     "metadata": {},
     "output_type": "execute_result"
    }
   ],
   "source": [
    "N"
   ]
  },
  {
   "cell_type": "code",
   "execution_count": 44,
   "id": "5f9e8b50",
   "metadata": {},
   "outputs": [
    {
     "data": {
      "text/plain": [
       "0.0004721262694"
      ]
     },
     "execution_count": 44,
     "metadata": {},
     "output_type": "execute_result"
    }
   ],
   "source": [
    "p = 0.0004721262694\n",
    "p"
   ]
  },
  {
   "cell_type": "code",
   "execution_count": 45,
   "id": "ba76c084",
   "metadata": {},
   "outputs": [],
   "source": [
    "er = nx.erdos_renyi_graph(N, p, seed=None) # inverse formula: p(n(n-1)/2)"
   ]
  },
  {
   "cell_type": "code",
   "execution_count": 46,
   "id": "bf79f4f2",
   "metadata": {},
   "outputs": [
    {
     "data": {
      "text/plain": [
       "<networkx.classes.graph.Graph at 0x221db9fc8b0>"
      ]
     },
     "execution_count": 46,
     "metadata": {},
     "output_type": "execute_result"
    }
   ],
   "source": [
    "er"
   ]
  },
  {
   "cell_type": "code",
   "execution_count": 47,
   "id": "66b29593",
   "metadata": {},
   "outputs": [
    {
     "data": {
      "text/plain": [
       "13171"
      ]
     },
     "execution_count": 47,
     "metadata": {},
     "output_type": "execute_result"
    }
   ],
   "source": [
    "N_er = er.number_of_nodes()\n",
    "N_er"
   ]
  },
  {
   "cell_type": "code",
   "execution_count": 48,
   "id": "b875e043",
   "metadata": {},
   "outputs": [
    {
     "data": {
      "text/plain": [
       "40739"
      ]
     },
     "execution_count": 48,
     "metadata": {},
     "output_type": "execute_result"
    }
   ],
   "source": [
    "\n",
    "E_er = er.number_of_edges() #dovrebbe essere 40917\n",
    "E_er\n",
    "\n"
   ]
  },
  {
   "cell_type": "code",
   "execution_count": 49,
   "id": "aa785e66",
   "metadata": {},
   "outputs": [
    {
     "data": {
      "text/plain": [
       "False"
      ]
     },
     "execution_count": 49,
     "metadata": {},
     "output_type": "execute_result"
    }
   ],
   "source": [
    "er.is_directed()"
   ]
  },
  {
   "cell_type": "code",
   "execution_count": 50,
   "id": "14f5c218",
   "metadata": {},
   "outputs": [
    {
     "data": {
      "image/png": "[encoded data removed]",
      "text/plain": [
       "<Figure size 640x480 with 1 Axes>"
      ]
     },
     "metadata": {},
     "output_type": "display_data"
    }
   ],
   "source": [
    "hist = nx.degree_histogram(er)\n",
    "    \n",
    "plt.plot(range(0, len(hist)), hist, \".\")\n",
    "plt.title(\"Degree Distribution\")\n",
    "plt.xlabel(\"Degree\")\n",
    "plt.ylabel(\"#Nodes\")\n",
    "plt.show()"
   ]
  },
  {
   "cell_type": "code",
   "execution_count": 51,
   "id": "db57fe65",
   "metadata": {},
   "outputs": [
    {
     "data": {
      "image/png": "[encoded data removed]",
      "text/plain": [
       "<Figure size 640x480 with 1 Axes>"
      ]
     },
     "metadata": {},
     "output_type": "display_data"
    }
   ],
   "source": [
    "hist = nx.degree_histogram(er)\n",
    "    \n",
    "plt.plot(range(0, len(hist)), hist, \".\")\n",
    "plt.title(\"Degree Distribution\")\n",
    "plt.xlabel(\"Degree\")\n",
    "plt.ylabel(\"#Nodes\")\n",
    "plt.loglog()\n",
    "plt.show()"
   ]
  },
  {
   "cell_type": "markdown",
   "id": "efb21a42",
   "metadata": {},
   "source": [
    "## Network base statistics"
   ]
  },
  {
   "cell_type": "code",
   "execution_count": 52,
   "id": "42bbbecd",
   "metadata": {},
   "outputs": [
    {
     "data": {
      "text/plain": [
       "13171"
      ]
     },
     "execution_count": 52,
     "metadata": {},
     "output_type": "execute_result"
    }
   ],
   "source": [
    "N_er = er.number_of_nodes()\n",
    "N_er"
   ]
  },
  {
   "cell_type": "code",
   "execution_count": 53,
   "id": "ea80f488",
   "metadata": {},
   "outputs": [
    {
     "data": {
      "text/plain": [
       "40739"
      ]
     },
     "execution_count": 53,
     "metadata": {},
     "output_type": "execute_result"
    }
   ],
   "source": [
    "E_er = er.number_of_edges() #dovrebbe essere 40917\n",
    "E_er"
   ]
  },
  {
   "cell_type": "code",
   "execution_count": 54,
   "id": "7eeae19c",
   "metadata": {},
   "outputs": [
    {
     "data": {
      "text/plain": [
       "False"
      ]
     },
     "execution_count": 54,
     "metadata": {},
     "output_type": "execute_result"
    }
   ],
   "source": [
    "er.is_directed()"
   ]
  },
  {
   "cell_type": "markdown",
   "id": "50d4c507",
   "metadata": {},
   "source": [
    "### Degree distribution"
   ]
  },
  {
   "cell_type": "code",
   "execution_count": 55,
   "id": "66bc7c63",
   "metadata": {},
   "outputs": [
    {
     "data": {
      "text/plain": [
       "10"
      ]
     },
     "execution_count": 55,
     "metadata": {},
     "output_type": "execute_result"
    }
   ],
   "source": [
    "# degree for node 1\n",
    "degrees = er.degree\n",
    "first_node = next(iter(degrees))\n",
    "first_node[1] #dovrebbe essere 3"
   ]
  },
  {
   "cell_type": "code",
   "execution_count": 56,
   "id": "52ff339d",
   "metadata": {},
   "outputs": [
    {
     "data": {
      "text/plain": [
       "6.1861665780882245"
      ]
     },
     "execution_count": 56,
     "metadata": {},
     "output_type": "execute_result"
    }
   ],
   "source": [
    "sum(dict(er.degree()).values())/float(len(er)) #dovrebbe essere 6.21"
   ]
  },
  {
   "cell_type": "markdown",
   "id": "ebd43e25",
   "metadata": {},
   "source": [
    "## Graph components"
   ]
  },
  {
   "cell_type": "code",
   "execution_count": 57,
   "id": "4a978bff",
   "metadata": {},
   "outputs": [],
   "source": [
    "## dovrebbero esserci solo 3 "
   ]
  },
  {
   "cell_type": "code",
   "execution_count": 58,
   "id": "dc78c5ce",
   "metadata": {},
   "outputs": [
    {
     "data": {
      "text/plain": [
       "[150, 920, 1411, 3521, 4297, 4561, 5336, 8910, 9539, 12267]"
      ]
     },
     "execution_count": 58,
     "metadata": {},
     "output_type": "execute_result"
    }
   ],
   "source": [
    "list(er.neighbors(first_node[0])) # obtain the list of neighobors for the first node"
   ]
  },
  {
   "cell_type": "code",
   "execution_count": 59,
   "id": "36f90d8c",
   "metadata": {},
   "outputs": [],
   "source": [
    "ego = nx.ego_graph(er, first_node[0]) # ego network of the first node"
   ]
  },
  {
   "cell_type": "markdown",
   "id": "bb999bd7",
   "metadata": {},
   "source": [
    "## Connected components"
   ]
  },
  {
   "cell_type": "code",
   "execution_count": 60,
   "id": "992108da",
   "metadata": {},
   "outputs": [
    {
     "data": {
      "text/plain": [
       "28"
      ]
     },
     "execution_count": 60,
     "metadata": {},
     "output_type": "execute_result"
    }
   ],
   "source": [
    "nx.number_connected_components(er) #31"
   ]
  },
  {
   "cell_type": "code",
   "execution_count": 61,
   "id": "c19766c2",
   "metadata": {},
   "outputs": [],
   "source": [
    "comps = list(nx.connected_components(er))\n",
    "comp_0 = nx.subgraph(er, comps[0])"
   ]
  },
  {
   "cell_type": "code",
   "execution_count": 62,
   "id": "6549f520",
   "metadata": {},
   "outputs": [
    {
     "name": "stdout",
     "output_type": "stream",
     "text": [
      "Calculating best minimal value for power law fit\n",
      "xmin progress: 00%\r",
      "xmin progress: 05%\r",
      "xmin progress: 11%\r",
      "xmin progress: 16%\r",
      "xmin progress: 22%\r",
      "xmin progress: 27%\r",
      "xmin progress: 33%\r",
      "xmin progress: 38%\r",
      "xmin progress: 44%\r",
      "xmin progress: 50%\r",
      "xmin progress: 55%\r",
      "xmin progress: 61%\r",
      "xmin progress: 66%\r",
      "xmin progress: 72%\r",
      "xmin progress: 77%\r",
      "xmin progress: 83%\r",
      "xmin progress: 88%\r",
      "xmin progress: 94%\r"
     ]
    },
    {
     "data": {
      "image/png": "[encoded data removed]",
      "text/plain": [
       "<Figure size 1600x600 with 3 Axes>"
      ]
     },
     "metadata": {},
     "output_type": "display_data"
    }
   ],
   "source": [
    "plot_dist(er)"
   ]
  },
  {
   "cell_type": "markdown",
   "id": "6e9cc1ff",
   "metadata": {},
   "source": [
    "Type of regime"
   ]
  },
  {
   "cell_type": "markdown",
   "id": "d7bd00ce",
   "metadata": {},
   "source": [
    "**Supercritial**  regime p > 1/N --> 0.00047 > 0.000076"
   ]
  },
  {
   "cell_type": "markdown",
   "id": "ff356624",
   "metadata": {},
   "source": [
    "## Path analysis"
   ]
  },
  {
   "cell_type": "code",
   "execution_count": 63,
   "id": "0c08984c",
   "metadata": {},
   "outputs": [],
   "source": [
    "giant_cc = sorted(nx.connected_components(er), key=len, reverse=True) \n",
    "\n",
    "#rimuove dal grafo tutto i nodi che non sono nella componente gigante\n",
    "er.remove_nodes_from([n for n in G if n not in set(giant_cc[0])])"
   ]
  },
  {
   "cell_type": "code",
   "execution_count": 64,
   "id": "3c015b59",
   "metadata": {},
   "outputs": [
    {
     "data": {
      "text/plain": [
       "13171"
      ]
     },
     "execution_count": 64,
     "metadata": {},
     "output_type": "execute_result"
    }
   ],
   "source": [
    "node_list_cc_er=[]\n",
    "for user in er.nodes:\n",
    "    node_list_cc_er.append(user)\n",
    "\n",
    "len(node_list_cc_er)"
   ]
  },
  {
   "cell_type": "markdown",
   "id": "dbfa062f",
   "metadata": {},
   "source": [
    "### Diameter"
   ]
  },
  {
   "cell_type": "code",
   "execution_count": 65,
   "id": "2b1ff286",
   "metadata": {},
   "outputs": [
    {
     "name": "stdout",
     "output_type": "stream",
     "text": [
      "[13058, 313, 7921, 6380, 5295, 12986, 8516, 1645, 7292, 8403, 5994, 11826, 11730, 6042, 6363, 13009, 1573, 11656, 12203, 2296, 13068, 6381, 1675, 6711, 2540, 7146, 7765, 7310, 12038, 8600, 5687, 10101, 9959, 1446, 576, 1368, 10427, 12615, 1344, 1677, 5931, 11292, 5477, 55, 6075, 4928, 2989, 2209, 2615, 6375, 4683, 2639, 1488, 3752, 9545, 1982, 7528, 11170, 9202, 388, 11431, 6724, 352, 351, 4046, 12322, 2537, 5466, 5636, 7558, 10000, 2853, 9000, 11331, 13072, 13096, 6983, 997, 1098, 6284, 1611, 11911, 9771, 6373, 3071, 3511, 11561, 563, 3069, 10124, 10768, 5410, 4931, 6723, 7615, 8451, 1345, 10184, 5939, 1554, 4204, 625, 13032, 1141, 12564, 13020, 9781, 2987, 2056, 8673, 7954, 5304, 6950, 7553, 5794, 1276, 9513, 8066, 12752, 5876, 8827, 2806, 1556, 4016, 8338, 9057, 12625, 10630, 6882, 10775, 8366, 8078, 10735, 2219, 142, 3631, 5070, 6127, 12402, 2440, 11683, 9177, 3355, 1765, 5568, 4192, 4652, 7824, 427, 11769, 5512, 460, 8997, 6277, 2321, 4021, 7422, 12239, 3514, 1584, 2353, 12044, 2589, 1030, 8895, 9480, 10678, 94, 9688, 10365, 5465, 5946, 7993, 10271, 1890, 3412, 6474, 7414, 1117, 10571, 3583, 10341, 7982, 12368, 4124, 11018, 5504, 7690, 7688, 4372, 11666, 9998, 7072, 10711, 3246, 12283, 319, 6662, 7097, 4527, 1958, 5150, 5622, 6773, 5756, 7978, 8663, 9869, 238, 8291, 2119, 4569, 9925, 649, 5973, 2159, 4096, 2575, 2087, 2748, 4590, 3399, 1476, 5592, 6967, 4812, 3663, 12110, 11291, 1265, 1846, 8553, 4107, 8777, 5063, 1073, 245, 12836, 7460, 6615, 6961, 1837, 2230, 5817, 7994, 6432, 11891, 11130, 125, 6827, 10858, 8505, 9678, 8640, 6963, 12864, 11659, 9920, 12917, 7511, 10340, 11932, 6809, 6405, 617, 4423, 6176, 6389, 2870, 11475, 6064, 6821, 3235, 12316, 3790, 12122, 12960, 9607, 8683, 9224, 6830, 10460, 7429, 4053, 7347, 3177, 144, 2378, 4992, 4967, 10105, 13109, 3929, 3831, 13016, 3365, 2816, 4301, 12608, 5491, 3135, 1620, 6306, 12154, 10223, 2287, 5908, 11951, 7220, 1498, 5396, 5784, 3327, 8312, 13103, 5432, 2544, 3762, 9170, 5699, 4613, 1899, 6156, 4817, 1683, 8080, 7704, 11287, 8135, 604, 4944, 11655, 12176, 7392, 10613, 12824, 9329, 4787, 12436, 11380, 1849, 1514, 9988, 575, 8307, 10971, 12457, 10676, 11020, 3535, 8602, 642, 5666, 3160, 12106, 6993, 7336, 11878, 3297, 4891, 12531, 11615, 4201, 641, 4179, 2721, 4345, 2627, 2098, 13164, 11944, 1864, 1562, 405, 4989, 2898, 8646, 11519, 4977, 8890, 6646, 6951, 5815, 1624, 5422, 11095, 12076, 3279, 7831, 5425, 7321, 10992, 180, 1111, 1087, 5216, 8497, 6829, 10970, 10235, 6438, 11164, 6196, 9128, 206, 3905, 5115, 2975, 1906, 8168, 4060, 4916, 12456, 12845, 10304, 11896, 11869, 6207, 6249, 6039, 5788, 9446, 5786, 1197, 6499, 8687, 5476, 9421, 677, 3274, 1596, 7382, 11524, 7306, 11682, 6999, 6679, 10216, 5516, 12730, 9901, 571, 6564, 876, 1633, 1836, 6801, 4518, 11607, 9903, 12410, 980, 11670, 6911, 8999, 6760, 9612, 3516, 2014, 4840, 12558, 5929, 3958, 152, 3270, 6522, 852, 7846, 10519, 6336, 2186, 10662, 3217, 1666, 1491, 6471, 1212, 3483, 2173, 7184, 5735, 10315, 6663, 4607, 654, 6246, 3068, 7379, 8087, 6523, 7771, 2653, 7663, 7273, 5570, 674, 9491, 1911, 9347, 11373, 3847, 1655, 5515, 12246, 13034, 3354, 2467, 11423, 6163, 4938, 12303, 3346, 4358, 5767, 10559, 3922, 11897, 4019, 12, 6934, 12964, 4080, 5810, 9056, 740, 1309, 10142, 8357, 12849, 7789, 7007, 851, 8043, 8273, 10940, 4724, 12620, 795, 12135, 9937, 11397, 12131, 7649, 6981, 1236, 2968, 10205, 12148, 11497, 6902, 8442, 6051, 2628, 7452, 5678, 137, 10234, 10055, 9013, 4314, 8676, 4223, 7670, 106, 9164, 12329, 1335, 1891, 10935, 5778, 11470, 6808, 12158, 11185, 11448, 12859, 4119, 5954, 1694, 5397, 10362, 11864, 11047, 13057, 9063, 7036, 9742, 12682, 1225, 7790, 7880, 8748, 9584, 5274, 4490, 6041, 12731, 2397, 6120, 7953, 6551, 3558, 6378, 5412, 4939, 7312, 13026, 8079, 8749, 4603, 6037, 12124, 5948, 8587, 2016, 12102, 4767, 11463, 11203, 5354, 4824, 8731, 11132, 9058, 6300, 12744, 1860, 8913, 1741, 11915, 13118, 6987, 1269, 4006, 3539, 8815, 7725, 12934, 5974, 3899, 6602, 3910, 4561, 7266, 7077, 7328, 7372, 11069, 7899, 7188, 11490, 11232, 8878, 2437, 5722, 8352, 6161, 9175, 12448, 4004, 4978, 1408, 5721, 7330, 10458, 9927, 3196, 6658, 12631, 5324, 7317, 4760, 5952, 9062, 11489, 13099, 3028, 6025, 12065, 590, 11723, 9158, 8276, 4262, 9277, 8591, 6044, 12379, 3667, 11721, 83, 6651, 11553, 10789, 7606, 6301, 9033, 11813, 5898, 36, 2130, 3319, 3020, 11689, 2946, 254, 744, 6011, 6955, 1058, 870, 10190, 10753, 11693, 6799, 336, 5545, 10467, 7956, 2972, 4993, 2964, 3760, 10905, 11957, 1308, 7112, 10509, 6508, 10028, 9209, 8775, 5777, 6916, 7241, 8069, 5924, 5841, 3173, 12554, 8636, 7099, 11079, 9555, 471, 12463, 3472, 5193, 6590, 7063, 11669, 4499, 10129, 4587, 660, 11539, 3853, 191, 7581, 3210, 481, 4964, 10849, 2598, 10355, 9941, 10487, 3512, 11781, 6581, 12885, 10809, 12221, 12466, 10074, 7263, 3498, 5724, 9617, 12185, 10807, 4579, 9957, 12180, 1113, 4505, 3755, 6890, 716, 361, 2792, 3521, 1255, 9189, 6995, 2433, 10405, 3850, 4287, 116, 436, 10513, 8218, 12011, 4753, 12152, 6544, 1592, 9048, 163, 3348, 10406, 1630, 6598, 7318, 8962, 6290, 3376, 5664, 6183, 3586, 3796, 8125, 11495, 1486, 4015, 9579, 1629, 3855, 3410, 5355, 919, 7037, 2441, 9987, 8839, 12884, 6296, 4523, 12171, 11054, 3152, 13108, 4686, 10141, 6125, 1133, 705, 830, 949, 8554, 3534, 1746, 10350, 5360, 12860, 6532, 9933, 12159, 10506, 2204, 10786, 12476, 5112, 5684, 3610, 9668, 9880, 1165, 12572, 2418, 1370, 8228, 4213, 12539, 2620, 5120, 5455, 8183, 10975, 6259, 8244, 4800, 3582, 11022, 6781, 1298, 5283, 6368, 11003, 9432, 10586, 9190, 2940, 13126, 9167, 1377, 2897, 11438, 4972, 1346, 3751, 1779, 7733, 8354, 6834, 8242, 7598, 1048, 10036, 12858, 12391, 4768, 6339, 6704, 10392, 12822, 2565, 7926, 6847, 5222, 5228, 11602, 9321, 5672, 1839, 3240, 11879, 1246, 2120, 2111, 5520, 2040, 12993, 3632, 11161, 10097, 2518, 909, 12723, 4228, 8384, 11914, 8770, 624, 12414, 4380, 7053, 3700, 4960, 8261, 11396, 686, 1479, 1844, 5741, 8124, 5537, 752, 10237, 3991, 1739, 1452, 9949, 12966, 12479, 5944, 4910, 12030, 2223, 4688, 755, 1735, 8089, 4101, 51, 3419, 10537, 10863, 3737, 10343, 2022, 12676, 12899, 12653, 356, 8664, 12544, 3046, 6479, 12565, 10668, 7639, 5885, 9887, 10765, 1929, 9897, 9348, 1472, 1470, 578, 4404, 10459, 4888, 9626, 995, 9449, 1229, 12970, 9677, 3073, 7566, 10144, 5298, 5478, 10760, 2711, 3608, 12553, 10931, 7869, 12353, 7841, 8199, 9047, 2298, 7187, 7083, 5160, 374, 11691, 3438, 7641, 107, 11935, 3864, 2481, 7418, 1083, 12116, 7140, 1318, 10099, 9346, 11555, 4264, 8528, 5907, 2863, 7403, 7177, 6021, 9241, 9777, 2453, 4707, 12160, 12452, 3574, 9577, 12756, 9072, 6885, 4144, 3938, 6936, 12686, 9797, 9010, 6159, 7894, 9703, 7616, 7274, 13122, 7514, 437, 12540, 9532, 4630, 10799, 11930, 2153, 12031, 3263, 1609, 7769, 2066, 9424, 7506, 5910, 4619, 7619, 6423, 2010, 4118, 2716, 12874, 3585, 9884, 7238, 11367, 4155, 38, 9406, 9569, 6612, 13013, 11371, 10681, 6282, 10767, 2278, 8620, 10254, 1086, 3045, 11687, 12338, 1734, 2162, 4873, 2012, 5501, 6968, 10737, 6430, 3250, 5514, 2471, 10960, 8416, 6219, 6795, 2037, 7012, 7212, 7350, 11647, 6815, 9939, 1252, 6742, 502, 8166, 9914, 5254, 10897, 10305, 198, 1272, 1759, 2452, 11969, 2268, 110, 8420, 3894, 8302, 4139, 5805, 5591, 101, 1502, 12681, 4848, 1907, 273, 4350, 9496, 6631, 6609, 4804, 6461, 11501, 3482, 12067, 4218, 1508, 7445, 810, 3110, 3770, 2178, 6828, 4995, 37, 2530, 11247, 10599, 4011, 3441, 11839, 8122, 8206, 5098, 9653, 3484, 8289, 9574, 5404, 7764, 10102, 1341, 2741, 9693, 6080, 9717, 5263, 7326, 12821, 8415, 149, 11772, 10660, 6553, 10841, 12782, 1861, 1176, 734, 5667, 2247, 5072, 12440, 2430, 10096, 2622, 7792, 11159, 4736, 9775, 9819, 13131, 10943, 10699, 5706, 10646, 1466, 8984, 662, 12107, 528, 4071, 10334, 11770, 4790, 1990, 56, 8145, 8249, 12438, 11780, 7924, 11582, 1963, 7229, 12217, 12749, 2077, 9530, 4690, 3718, 6066, 7868, 4300, 5505, 10796, 12441, 11566, 12659, 4396, 1242, 2543, 12905, 5617, 12568, 8314, 9559, 4900, 10486, 2535, 11885, 11667, 3600, 2105, 2443, 2690, 12921, 6924, 10714, 1790, 291, 5875, 1991, 8764, 2651, 3122, 6100, 2523, 10532, 6576, 10189, 13092, 7505, 8396, 6763, 11112, 12629, 10664, 11559, 9218, 2478, 3858, 10295, 8094, 1069, 5033, 652, 8279, 1160, 9414, 6073, 9547, 7984, 7358, 12636, 10853, 5737, 2242, 3470, 6225, 10573, 4953, 5423, 1919, 10002, 11139, 4786, 5616, 4634, 10465, 13168, 11511, 11355, 4454, 4376, 6503, 9762, 4366, 930, 8689, 8417, 3415, 3335, 10233, 4668, 6360, 6349, 2047, 1097, 10079, 681, 5694, 4295, 8691, 5192, 8771, 7519, 4934, 1338, 12592, 12294, 7523, 11339, 8723, 7700, 11833, 1989, 482, 7390, 8103, 6535, 10134, 537, 8531, 3322, 5867, 3284, 4469, 12983, 6322, 6218, 3239, 1482, 4377, 10191, 5865, 7473, 6757, 5878, 7608, 957, 8412, 11443, 1555, 5825, 5325, 2181, 11206, 1840, 6776, 5571, 6351, 3006, 1653, 6891, 11674, 12753, 1045, 11560, 1153, 8212, 112, 761, 3164, 12505, 653, 7126, 9484, 4067, 1207, 11010, 1950, 2393, 6794, 8530, 11609, 9724, 626, 1196, 4303, 6978, 8481, 10244, 8143, 10471, 3914, 622, 2952, 1267, 9186, 2229, 3356, 8039, 5236, 1350, 9155, 6798, 2669, 9808, 5793, 6613, 8123, 5306, 6128, 475, 647, 905, 3206, 11104, 12651, 4750, 7027, 13154, 11569, 8317, 7607, 6409, 10903, 2110, 7081, 4429, 6210, 11812, 11882, 12404, 4177, 4013, 10491, 3606, 11967, 3236, 5189, 9256, 4601, 5813, 8536, 5292, 11145, 7045, 4104, 6229, 10193, 8096, 8020, 3064, 1997, 10635, 1186, 4348, 2730, 7774, 2769, 8432, 10818, 2788, 3044, 4716, 3298, 1191, 4809, 11280, 2065, 1945, 8713, 11105, 6391, 2923, 4770, 12583, 3808, 8129, 12920, 5913, 11429, 5043, 433, 9297, 11994, 8422, 10512, 4159, 8813, 4167, 9459, 12309, 7087, 6283, 1271, 4890, 8201, 10854, 9445, 5001, 12052, 5692, 3189, 190, 5055, 5723, 308, 6386, 11356, 570, 2342, 12043, 8029, 6355, 8044, 880, 10906, 5061, 12977, 7327, 12694, 4542, 141, 1181, 3280, 178, 226, 11598, 6094, 1108, 6793, 7843, 1426, 7871, 4997, 7196, 11269, 11654, 6862, 6294, 4709, 7696, 9944, 6266, 4267, 3034, 9751, 893, 11023, 13113, 650, 6302, 5486, 3635, 1532, 12327, 8064, 9810, 5221, 5176, 11637, 696, 9261, 3767, 11535, 6928, 6507, 8938, 9744, 10062, 205, 1506, 9472, 1230, 1293, 7736, 10887, 4076, 3875, 9337, 12680, 5638, 9006, 9458, 3209, 1883, 4645, 11971, 2604, 6694, 6788, 2260, 8542, 6541, 5261, 12047, 2253, 10819, 7163, 9746, 4677, 1636, 928, 3701, 4415, 3619, 6984, 5194, 6324, 8482, 2322, 5852, 1104, 8588, 7965, 2754, 5847, 10730, 6982, 6, 4416, 8715, 5655, 4072, 3131, 11364, 11953, 3408, 4664, 393, 7455, 6506, 3771, 3542, 5757, 508, 2373, 5522, 3611, 4448, 10103, 2524, 3638, 5334, 6644, 1518, 2752, 553, 3563, 8179, 1016, 6407, 11558, 10954, 7297, 9909, 9008, 7657, 4243, 12652, 11395, 1150, 4591, 12581, 605, 1681, 5928, 9364, 8797, 2623, 3545, 12748, 7198, 2505, 10331, 1389, 5604, 3973, 12443, 13065, 7426, 8593, 12577, 10312, 11673, 2103, 10290, 57, 6545, 9427, 3588, 7069, 10368, 8680, 7909, 12216, 12219, 1608, 9083, 9340, 1625, 8112, 179, 10029, 11804, 7612, 8424, 7428, 695, 3252, 1432, 2279, 10145, 2202, 3692, 10502, 4592, 2468, 11825, 7206, 524, 4952, 5863, 4309, 5277, 6095, 1261, 1551, 759, 4341, 5555, 4947, 9736, 6573, 3194, 3125, 11413, 4115, 2522, 5101, 3409, 77, 8637, 6900, 9290, 8850, 13043, 7147, 12906, 4012, 6858, 11409, 8270, 9740, 9115, 9664, 9120, 1619, 7384, 2636, 12648, 548, 3300, 6092, 10482, 13035, 6489, 2593, 8978, 5392, 12033, 10052, 11239, 4327, 9650, 1220, 8650, 2992, 3437, 8925, 10349, 4606, 8401, 10004, 2678, 2736, 1140, 286, 5421, 11111, 8870, 8567, 10174, 5658, 5244, 12313, 10415, 11931, 239, 12422, 12465, 7329, 6122, 938, 10017, 10744, 2226, 5157, 12081, 2064, 2597, 10123, 3569, 8873, 932, 8061, 4731, 5940, 813, 9500, 8855, 12269, 6276, 9563, 9382, 12126, 12458, 6953, 5297, 11044, 581, 6019, 4776, 5621, 2919, 2558, 4926, 11716, 676, 4419, 8471, 5761, 9875, 6402, 3709, 6738, 381, 5460, 5238, 265, 8214, 9451, 8811, 9338, 1164, 10904, 6680, 2511, 10827, 8188, 7, 4663, 1720, 4815, 113, 11024, 1054, 5573, 9864, 11340, 9776, 10306, 7520, 11550, 4627, 1535, 11732, 6015, 4342, 3113, 1012, 5365, 10114, 1742, 5047, 9110, 11295, 11580, 5772, 3893, 2235, 12688, 12813, 10339, 2705, 3579, 5700, 11108, 7664, 1447, 4986, 7905, 7914, 438, 145, 8539, 8495, 707, 451, 1745, 7767, 12289, 13137, 5087, 6106, 11551, 9234, 2307, 105, 5114, 9236, 6068, 6220, 1499, 1565, 10758, 9345, 11065, 4581, 5836, 12796, 4666, 11832, 2665, 1615, 6056, 4200, 7497, 3896, 9581, 727, 3202, 10311, 12016, 7517, 7001, 230, 6709, 6741, 11996, 6436, 8943, 10769, 2485, 3626, 6676, 7620, 3780, 11746, 3258, 3596, 2571, 7658, 1046, 12157, 386, 7098, 4743, 5450, 2092, 5814, 12889, 3379, 1705, 2170, 8204, 12372, 11388, 1403, 1053, 11224, 8164, 12455, 11913, 1712, 7340, 6285, 12392, 9422, 6923, 7821, 4291, 853, 12942, 3891, 3537, 6771, 10683, 12931, 3615, 8185, 10565, 3212, 11798, 12192, 9876, 6279, 12259, 7444, 9071, 1278, 6439, 9573, 8335, 3325, 1051, 9159, 4554, 11735, 1671, 861, 1232, 683, 5209, 5000, 1451, 5105, 115, 9582, 4001, 6243, 12156, 2137, 9679, 5945, 2483, 1955, 3309, 8392, 7847, 11611, 2148, 6006, 9188, 8251, 3648, 6316, 651, 2889, 1342, 8007, 8630, 6096, 10878, 983, 45, 12015, 5400, 13014, 2166, 2163, 645, 8538, 10335, 4460, 1339, 7289, 12194, 3681, 11604, 4830, 4598, 333, 869, 2146, 8287, 11809, 456, 7776, 1743, 10420, 4973, 1875, 2679, 5457, 8590, 8675, 11404, 3306, 7512, 3508, 10082, 9423, 10867, 11381, 673, 2828, 1847, 11934, 6778, 1882, 1760, 12464, 4739, 6556, 4186, 6144, 9368, 6812, 3070, 3782, 2049, 7413, 8592, 2749, 11214, 9802, 10439, 406, 1520, 257, 3904, 12263, 1363, 9774, 2045, 2950, 2188, 9145, 4275, 2286, 9286, 7867, 3884, 3184, 1492, 1029, 5575, 11796, 8597, 5188, 11444, 3165, 7651, 5656, 6046, 5930, 10344, 2271, 5164, 11564, 8226, 10716, 9546, 4883, 10330, 5962, 7699, 9402, 6842, 8814, 6725, 12542, 10595, 5495, 4255, 10726, 5398, 12352, 3403, 12898, 136, 2394, 1644, 8557, 7780, 783, 6779, 12834, 5168, 2655, 3311, 2735, 5527, 11251, 7324, 2135, 4229, 12495, 12238, 11392, 7968, 6124, 7851, 3278, 7918, 5783, 8596, 6492, 6722, 3181, 2514, 2731, 5676, 10570, 7201, 2991, 13114, 11173, 2832, 10119, 1898, 2578, 12852, 1493, 6227, 4874, 11379, 2129, 2305, 7449, 9805, 6184, 3889, 7614, 7068, 11236, 1218, 1766, 10692, 776, 1913, 7117, 4742, 9733, 12654, 2759, 1240, 1771, 4887, 8232, 367, 5502, 13100, 13066, 9433, 8833, 10275, 3867, 7807, 3931, 4682, 3145, 7960, 6424, 1393, 12664, 6126, 1448, 2541, 9943, 2261, 3898, 750, 4529, 867, 4485, 9419, 12323, 9854, 11881, 8994, 8703, 2369, 10667, 1553, 5485, 12600, 10516, 10003, 5284, 4670, 881, 12399, 9124, 11567, 12069, 4121, 1250, 7667, 62, 587, 8332, 7550, 8341, 5546, 3605, 12742, 5985, 7239, 6198, 3205, 4361, 5409, 838, 7999, 1626, 2442, 8139, 11991, 9487, 7058, 1718, 6919, 9861, 9541, 8301, 5249, 12201, 11638, 8498, 2086, 3614, 5433, 4453, 636, 8148, 12256, 8207, 2702, 1440, 13052, 2368, 8856, 9932, 10390, 1050, 8343, 4696, 2667, 3753, 10088, 860, 1123, 6495, 5943, 12097, 4271, 5111, 11419, 7935, 1495, 2289, 11958, 1825, 5281, 10805, 7152, 5439, 1585, 11473, 1222, 10864, 11522, 5497, 5488, 863, 1754, 4491, 9857, 7934, 5014, 11350, 11011, 11427, 4637, 2715, 8485, 5705, 3402, 11074, 8282, 11480, 13067, 9350, 833, 9958, 10120, 8892, 682, 4268, 5600, 9374, 5826, 2201, 6022, 8903, 12242, 13019, 5019, 1286, 12594, 2257, 4135, 12103, 10987, 10015, 5215, 1543, 3529, 6734, 12305, 9474, 4802, 10723, 4178, 9086, 3735, 10377, 3994, 5499, 416, 9226, 691, 9039, 7665, 1371, 202, 8840, 1946, 3265, 12144, 1758, 7655, 11336, 8785, 370, 5615, 10560, 9588, 4265, 9386, 7830, 13073, 7010, 2134, 6555, 10738, 12146, 3436, 0, 12545, 9749, 7416, 5748, 8022, 13030, 7942, 4339, 11360, 12172, 3956, 5838, 2931, 11507, 9139, 6872, 9222, 6274, 2420, 6307, 5370, 13011, 6353, 3291, 12386, 10224, 5523, 3553, 2381, 8382, 6320, 993, 12416, 12735, 3186, 10323, 8889, 11650, 3581, 11547, 11041, 10198, 4257, 9253, 4438, 2532, 1949, 9667, 10012, 11240, 8955, 3344, 86, 10435, 9782, 12090, 1273, 1796, 11212, 10634, 12953, 6203, 9102, 5500, 8881, 4994, 12286, 574, 1328, 2218, 3986, 1199, 2256, 217, 4929, 8299, 187, 4465, 5532, 4510, 10202, 3129, 1610, 7976, 4056, 11523, 4446, 5719, 2807, 13077, 10639, 2449, 9871, 11469, 2763, 9200, 1035, 1092, 12315, 6636, 4217, 2222, 7692, 10137, 711, 8398, 6562, 9087, 11595, 5447, 9359, 12307, 4969, 2728, 12802, 13155, 7094, 11082, 449, 5260, 12385, 7683, 8, 8631, 10252, 3323, 12996, 8724, 12310, 3347, 9533, 10325, 11179, 3479, 11948, 6574, 6753, 10183, 12907, 9523, 3616, 12469, 11216, 7293, 2025, 8697, 6892, 9068, 10590, 7135, 6444, 7676, 7219, 2551, 1701, 5872, 6774, 6843, 11887, 7822, 8037, 2371, 7102, 10337, 4735, 9745, 9140, 12791, 4832, 11968, 8090, 353, 7251, 12072, 10547, 4959, 7578, 2168, 7516, 6700, 10076, 514, 1855, 8573, 9590, 8004, 3609, 12865, 9689, 572, 6766, 2470, 11369, 10671, 11103, 9207, 2677, 5440, 322, 3039, 9210, 3255, 8385, 5191, 1122, 7481, 7388, 7271, 2581, 12971, 347, 895, 4979, 10169, 1809, 7549, 9961, 3659, 1975, 2095, 485, 6275, 2048, 9682, 260, 1010, 1892, 7604, 2330, 453, 12511, 7675, 11680, 5068, 7583, 11160, 8088, 1664, 9495, 7427, 5027, 2233, 628, 10743, 1361, 1194, 9469, 13150, 9244, 6236, 11237, 177, 11966, 971, 9051, 767, 7897, 1289, 6966, 8609, 5067, 11026, 1923, 8708, 6749, 5028, 32, 4842, 9801, 3213, 1559, 2399, 6062, 1282, 3633, 8781, 10804, 5607, 3723, 781, 10640, 173, 4147, 5567, 4131, 7261, 5372, 2609, 4434, 6826, 6675, 3736, 12105, 5531, 4988, 964, 12926, 4907, 12024, 5765, 1957, 6575, 9620, 6029, 4511, 6482, 9839, 9784, 3337, 13124, 6315, 8802, 1132, 5830, 5564, 7527, 10720, 1983, 12927, 9674, 9970, 4074, 8475, 10045, 12151, 477, 6816, 12570, 10979, 944, 8131, 12598, 2414, 420, 8702, 4360, 2813, 3141, 6047, 9820, 2140, 4368, 243, 1853, 542, 2790, 6385, 8933, 10603, 2374, 8108, 2364, 10793, 6244, 11077, 334, 4401, 8427, 6222, 7844, 1362, 12407, 4176, 10838, 6293, 7576, 8021, 8100, 5116, 1172, 10366, 332, 1024, 10475, 1925, 8548, 12922, 6878, 2033, 8268, 2484, 11056, 7589, 10572, 10431, 7931, 6691, 5612, 3943, 8529, 10369, 5213, 124, 2707, 10262, 9625, 8324, 9104, 5483, 1530, 13141, 3457, 12770, 4796, 2958, 6226, 9084, 5074, 7724, 12174, 5526, 4237, 10372, 9764, 1063, 10446, 8346, 8521, 3088, 10399, 12817, 10161, 6422, 13027, 3895, 9073, 11157, 2984, 3693, 2860, 9014, 3860, 7738, 3299, 2224, 1146, 6845, 4331, 7227, 4850, 950, 1806, 9035, 9080, 10534, 10032, 10483, 7631, 10380, 7623, 4508, 11386, 1155, 8860, 3485, 8146, 1614, 11933, 8762, 9830, 397, 1612, 9391, 11228, 448, 6331, 3404, 9193, 13093, 3570, 5803, 7908, 4020, 5993, 9856, 2356, 5601, 9201, 11410, 10803, 12707, 9889, 421, 6319, 10073, 4829, 10541, 6946, 2480, 11472, 12240, 10717, 6729, 2861, 3593, 5078, 1474, 10627, 444, 866, 6362, 600, 2596, 364, 2909, 12908, 6013, 7638, 7484, 5276, 2528, 8863, 11982, 8523, 11425, 2676, 7262, 7580, 11123, 9372, 7747, 7642, 699, 1027, 2927, 883, 9130, 6217, 6367, 1411, 283, 3187, 780, 9215, 11860, 5842, 7582, 4639, 10930, 9783, 2026, 8704, 5399, 8665, 3496, 3249, 9504, 12582, 9091, 2896, 12910]\n"
     ]
    },
    {
     "data": {
      "text/plain": [
       "3058"
      ]
     },
     "execution_count": 65,
     "metadata": {},
     "output_type": "execute_result"
    }
   ],
   "source": [
    "random.seed(1024)\n",
    "sample_n_er = random.sample(node_list_cc_er, 3058)\n",
    "print(sample_n_er)\n",
    "\n",
    "len(sample_n_er)"
   ]
  },
  {
   "cell_type": "code",
   "execution_count": 69,
   "id": "53f21202",
   "metadata": {},
   "outputs": [
    {
     "name": "stdout",
     "output_type": "stream",
     "text": [
      "The graph isn't connected\n"
     ]
    }
   ],
   "source": [
    "diam_samp_er=[]\n",
    "if nx.is_connected(er):\n",
    "    for node in sample_n_er:\n",
    "         diam_samp_er.append(nx.eccentricity(er,node))\n",
    "    print(diam_samp_er)\n",
    "else:\n",
    "    print(\"The graph is not connected\")"
   ]
  },
  {
   "cell_type": "code",
   "execution_count": 70,
   "id": "e0abde7e",
   "metadata": {},
   "outputs": [],
   "source": [
    "#max(diam_samp)"
   ]
  },
  {
   "cell_type": "markdown",
   "id": "31dfc374",
   "metadata": {},
   "source": [
    "### Shortest path"
   ]
  },
  {
   "cell_type": "code",
   "execution_count": 72,
   "id": "a3dbccb9",
   "metadata": {},
   "outputs": [
    {
     "name": "stdout",
     "output_type": "stream",
     "text": [
      "The graph isn't connected\n"
     ]
    }
   ],
   "source": [
    "if nx.is_connected(er):\n",
    "    giant_cc_er = list(nx.connected_components(er)) #ok ritorna solo 1 componente gigante\n",
    "    print(\"Number of Connected Components of 'G_indiretto': \", len(giant_cc_er))\n",
    "\n",
    "    print(\"Average shortest path (of giant cc with) = \", (x.values() for x in nx.average_shortest_path_length(er)))\n",
    "else:\n",
    "    print(\"The graph is not connected\")"
   ]
  },
  {
   "cell_type": "markdown",
   "id": "259f87cb",
   "metadata": {},
   "source": [
    "## Clustering Coefficient"
   ]
  },
  {
   "cell_type": "code",
   "execution_count": 73,
   "id": "e76642af",
   "metadata": {},
   "outputs": [
    {
     "name": "stdout",
     "output_type": "stream",
     "text": [
      "Global clustering coefficient: 0.00038551111362591093\n"
     ]
    }
   ],
   "source": [
    "clustering_coefficient = nx.average_clustering(er)\n",
    "print('Global clustering coefficient:', clustering_coefficient)"
   ]
  },
  {
   "cell_type": "code",
   "execution_count": 74,
   "id": "e3753f28",
   "metadata": {},
   "outputs": [
    {
     "data": {
      "text/plain": [
       "{0: 0,\n",
       " 1: 0,\n",
       " 2: 0,\n",
       " 3: 0,\n",
       " 4: 0,\n",
       " 5: 0,\n",
       " 6: 0.022222222222222223,\n",
       " 7: 0,\n",
       " 8: 0,\n",
       " 9: 0,\n",
       " 10: 0,\n",
       " 11: 0,\n",
       " 12: 0,\n",
       " 13: 0,\n",
       " 14: 0,\n",
       " 15: 0,\n",
       " 16: 0,\n",
       " 17: 0,\n",
       " 18: 0,\n",
       " 19: 0,\n",
       " 20: 0,\n",
       " 21: 0,\n",
       " 22: 0,\n",
       " 23: 0,\n",
       " 24: 0,\n",
       " 25: 0,\n",
       " 26: 0,\n",
       " 27: 0,\n",
       " 28: 0,\n",
       " 29: 0,\n",
       " 30: 0,\n",
       " 31: 0,\n",
       " 32: 0,\n",
       " 33: 0,\n",
       " 34: 0,\n",
       " 35: 0,\n",
       " 36: 0,\n",
       " 37: 0,\n",
       " 38: 0,\n",
       " 39: 0,\n",
       " 40: 0,\n",
       " 41: 0,\n",
       " 42: 0,\n",
       " 43: 0,\n",
       " 44: 0,\n",
       " 45: 0,\n",
       " 46: 0,\n",
       " 47: 0,\n",
       " 48: 0,\n",
       " 49: 0,\n",
       " 50: 0,\n",
       " 51: 0,\n",
       " 52: 0,\n",
       " 53: 0,\n",
       " 54: 0,\n",
       " 55: 0,\n",
       " 56: 0,\n",
       " 57: 0,\n",
       " 58: 0,\n",
       " 59: 0,\n",
       " 60: 0,\n",
       " 61: 0,\n",
       " 62: 0,\n",
       " 63: 0,\n",
       " 64: 0,\n",
       " 65: 0,\n",
       " 66: 0,\n",
       " 67: 0,\n",
       " 68: 0,\n",
       " 69: 0,\n",
       " 70: 0,\n",
       " 71: 0,\n",
       " 72: 0,\n",
       " 73: 0,\n",
       " 74: 0,\n",
       " 75: 0,\n",
       " 76: 0,\n",
       " 77: 0,\n",
       " 78: 0,\n",
       " 79: 0,\n",
       " 80: 0,\n",
       " 81: 0,\n",
       " 82: 0,\n",
       " 83: 0,\n",
       " 84: 0,\n",
       " 85: 0,\n",
       " 86: 0,\n",
       " 87: 0,\n",
       " 88: 0,\n",
       " 89: 0,\n",
       " 90: 0,\n",
       " 91: 0,\n",
       " 92: 0,\n",
       " 93: 0,\n",
       " 94: 0,\n",
       " 95: 0,\n",
       " 96: 0,\n",
       " 97: 0,\n",
       " 98: 0,\n",
       " 99: 0,\n",
       " 100: 0,\n",
       " 101: 0,\n",
       " 102: 0,\n",
       " 103: 0,\n",
       " 104: 0,\n",
       " 105: 0,\n",
       " 106: 0,\n",
       " 107: 0,\n",
       " 108: 0,\n",
       " 109: 0,\n",
       " 110: 0,\n",
       " 111: 0,\n",
       " 112: 0,\n",
       " 113: 0,\n",
       " 114: 0,\n",
       " 115: 0,\n",
       " 116: 0,\n",
       " 117: 0,\n",
       " 118: 0,\n",
       " 119: 0,\n",
       " 120: 0,\n",
       " 121: 0,\n",
       " 122: 0,\n",
       " 123: 0,\n",
       " 124: 0,\n",
       " 125: 0,\n",
       " 126: 0,\n",
       " 127: 0,\n",
       " 128: 0,\n",
       " 129: 0,\n",
       " 130: 0,\n",
       " 131: 0,\n",
       " 132: 0,\n",
       " 133: 0,\n",
       " 134: 0,\n",
       " 135: 0,\n",
       " 136: 0,\n",
       " 137: 0,\n",
       " 138: 0,\n",
       " 139: 0,\n",
       " 140: 0,\n",
       " 141: 0,\n",
       " 142: 0,\n",
       " 143: 0,\n",
       " 144: 0,\n",
       " 145: 0,\n",
       " 146: 0,\n",
       " 147: 0,\n",
       " 148: 0,\n",
       " 149: 0,\n",
       " 150: 0,\n",
       " 151: 0,\n",
       " 152: 0,\n",
       " 153: 0,\n",
       " 154: 0,\n",
       " 155: 0.047619047619047616,\n",
       " 156: 0,\n",
       " 157: 0,\n",
       " 158: 0,\n",
       " 159: 0,\n",
       " 160: 0,\n",
       " 161: 0,\n",
       " 162: 0,\n",
       " 163: 0,\n",
       " 164: 0,\n",
       " 165: 0,\n",
       " 166: 0,\n",
       " 167: 0,\n",
       " 168: 0,\n",
       " 169: 0,\n",
       " 170: 0,\n",
       " 171: 0,\n",
       " 172: 0,\n",
       " 173: 0,\n",
       " 174: 0,\n",
       " 175: 0,\n",
       " 176: 0,\n",
       " 177: 0,\n",
       " 178: 0,\n",
       " 179: 0,\n",
       " 180: 0,\n",
       " 181: 0,\n",
       " 182: 0,\n",
       " 183: 0,\n",
       " 184: 0,\n",
       " 185: 0,\n",
       " 186: 0,\n",
       " 187: 0,\n",
       " 188: 0,\n",
       " 189: 0,\n",
       " 190: 0,\n",
       " 191: 0,\n",
       " 192: 0,\n",
       " 193: 0,\n",
       " 194: 0,\n",
       " 195: 0,\n",
       " 196: 0,\n",
       " 197: 0,\n",
       " 198: 0,\n",
       " 199: 0,\n",
       " 200: 0,\n",
       " 201: 0,\n",
       " 202: 0,\n",
       " 203: 0,\n",
       " 204: 0,\n",
       " 205: 0,\n",
       " 206: 0,\n",
       " 207: 0,\n",
       " 208: 0,\n",
       " 209: 0,\n",
       " 210: 0,\n",
       " 211: 0,\n",
       " 212: 0,\n",
       " 213: 0,\n",
       " 214: 0,\n",
       " 215: 0,\n",
       " 216: 0,\n",
       " 217: 0,\n",
       " 218: 0,\n",
       " 219: 0,\n",
       " 220: 0,\n",
       " 221: 0,\n",
       " 222: 0,\n",
       " 223: 0,\n",
       " 224: 0,\n",
       " 225: 0,\n",
       " 226: 0,\n",
       " 227: 0,\n",
       " 228: 0,\n",
       " 229: 0,\n",
       " 230: 0,\n",
       " 231: 0,\n",
       " 232: 0,\n",
       " 233: 0,\n",
       " 234: 0,\n",
       " 235: 0,\n",
       " 236: 0,\n",
       " 237: 0,\n",
       " 238: 0,\n",
       " 239: 0,\n",
       " 240: 0,\n",
       " 241: 0,\n",
       " 242: 0,\n",
       " 243: 0,\n",
       " 244: 0,\n",
       " 245: 0,\n",
       " 246: 0,\n",
       " 247: 0,\n",
       " 248: 0,\n",
       " 249: 0,\n",
       " 250: 0,\n",
       " 251: 0,\n",
       " 252: 0,\n",
       " 253: 0,\n",
       " 254: 0,\n",
       " 255: 0,\n",
       " 256: 0,\n",
       " 257: 0,\n",
       " 258: 0,\n",
       " 259: 0,\n",
       " 260: 0,\n",
       " 261: 0,\n",
       " 262: 0,\n",
       " 263: 0,\n",
       " 264: 0,\n",
       " 265: 0,\n",
       " 266: 0,\n",
       " 267: 0,\n",
       " 268: 0,\n",
       " 269: 0,\n",
       " 270: 0,\n",
       " 271: 0,\n",
       " 272: 0,\n",
       " 273: 0,\n",
       " 274: 0,\n",
       " 275: 0,\n",
       " 276: 0,\n",
       " 277: 0,\n",
       " 278: 0,\n",
       " 279: 0,\n",
       " 280: 0,\n",
       " 281: 0,\n",
       " 282: 0,\n",
       " 283: 0,\n",
       " 284: 0,\n",
       " 285: 0,\n",
       " 286: 0,\n",
       " 287: 0,\n",
       " 288: 0,\n",
       " 289: 0,\n",
       " 290: 0,\n",
       " 291: 0,\n",
       " 292: 0,\n",
       " 293: 0,\n",
       " 294: 0,\n",
       " 295: 0,\n",
       " 296: 0,\n",
       " 297: 0,\n",
       " 298: 0,\n",
       " 299: 0,\n",
       " 300: 0,\n",
       " 301: 0,\n",
       " 302: 0,\n",
       " 303: 0,\n",
       " 304: 0,\n",
       " 305: 0,\n",
       " 306: 0,\n",
       " 307: 0,\n",
       " 308: 0,\n",
       " 309: 0,\n",
       " 310: 0,\n",
       " 311: 0,\n",
       " 312: 0,\n",
       " 313: 0,\n",
       " 314: 0,\n",
       " 315: 0,\n",
       " 316: 0,\n",
       " 317: 0,\n",
       " 318: 0,\n",
       " 319: 0,\n",
       " 320: 0,\n",
       " 321: 0,\n",
       " 322: 0,\n",
       " 323: 0,\n",
       " 324: 0,\n",
       " 325: 0,\n",
       " 326: 0,\n",
       " 327: 0,\n",
       " 328: 0,\n",
       " 329: 0,\n",
       " 330: 0,\n",
       " 331: 0,\n",
       " 332: 0,\n",
       " 333: 0.047619047619047616,\n",
       " 334: 0,\n",
       " 335: 0,\n",
       " 336: 0,\n",
       " 337: 0,\n",
       " 338: 0,\n",
       " 339: 0,\n",
       " 340: 0,\n",
       " 341: 0,\n",
       " 342: 0,\n",
       " 343: 0,\n",
       " 344: 0,\n",
       " 345: 0,\n",
       " 346: 0,\n",
       " 347: 0,\n",
       " 348: 0,\n",
       " 349: 0,\n",
       " 350: 0,\n",
       " 351: 0,\n",
       " 352: 0,\n",
       " 353: 0,\n",
       " 354: 0,\n",
       " 355: 0,\n",
       " 356: 0,\n",
       " 357: 0,\n",
       " 358: 0,\n",
       " 359: 0,\n",
       " 360: 0,\n",
       " 361: 0,\n",
       " 362: 0,\n",
       " 363: 0,\n",
       " 364: 0,\n",
       " 365: 0,\n",
       " 366: 0,\n",
       " 367: 0,\n",
       " 368: 0,\n",
       " 369: 0,\n",
       " 370: 0,\n",
       " 371: 0,\n",
       " 372: 0,\n",
       " 373: 0,\n",
       " 374: 0,\n",
       " 375: 0,\n",
       " 376: 0,\n",
       " 377: 0,\n",
       " 378: 0,\n",
       " 379: 0,\n",
       " 380: 0,\n",
       " 381: 0,\n",
       " 382: 0,\n",
       " 383: 0,\n",
       " 384: 0,\n",
       " 385: 0,\n",
       " 386: 0,\n",
       " 387: 0,\n",
       " 388: 0,\n",
       " 389: 0,\n",
       " 390: 0,\n",
       " 391: 0,\n",
       " 392: 0,\n",
       " 393: 0,\n",
       " 394: 0,\n",
       " 395: 0,\n",
       " 396: 0,\n",
       " 397: 0,\n",
       " 398: 0,\n",
       " 399: 0,\n",
       " 400: 0,\n",
       " 401: 0,\n",
       " 402: 0,\n",
       " 403: 0,\n",
       " 404: 0,\n",
       " 405: 0,\n",
       " 406: 0,\n",
       " 407: 0,\n",
       " 408: 0,\n",
       " 409: 0,\n",
       " 410: 0,\n",
       " 411: 0,\n",
       " 412: 0.1,\n",
       " 413: 0,\n",
       " 414: 0,\n",
       " 415: 0,\n",
       " 416: 0,\n",
       " 417: 0,\n",
       " 418: 0,\n",
       " 419: 0,\n",
       " 420: 0,\n",
       " 421: 0,\n",
       " 422: 0,\n",
       " 423: 0,\n",
       " 424: 0,\n",
       " 425: 0,\n",
       " 426: 0,\n",
       " 427: 0,\n",
       " 428: 0,\n",
       " 429: 0,\n",
       " 430: 0,\n",
       " 431: 0,\n",
       " 432: 0,\n",
       " 433: 0,\n",
       " 434: 0,\n",
       " 435: 0,\n",
       " 436: 0,\n",
       " 437: 0,\n",
       " 438: 0,\n",
       " 439: 0,\n",
       " 440: 0,\n",
       " 441: 0,\n",
       " 442: 0,\n",
       " 443: 0,\n",
       " 444: 0,\n",
       " 445: 0,\n",
       " 446: 0,\n",
       " 447: 0,\n",
       " 448: 0,\n",
       " 449: 0,\n",
       " 450: 0,\n",
       " 451: 0,\n",
       " 452: 0,\n",
       " 453: 0,\n",
       " 454: 0,\n",
       " 455: 0,\n",
       " 456: 0,\n",
       " 457: 0,\n",
       " 458: 0,\n",
       " 459: 0,\n",
       " 460: 0,\n",
       " 461: 0,\n",
       " 462: 0,\n",
       " 463: 0,\n",
       " 464: 0,\n",
       " 465: 0,\n",
       " 466: 0,\n",
       " 467: 0,\n",
       " 468: 0,\n",
       " 469: 0,\n",
       " 470: 0,\n",
       " 471: 0,\n",
       " 472: 0,\n",
       " 473: 0,\n",
       " 474: 0,\n",
       " 475: 0,\n",
       " 476: 0,\n",
       " 477: 0,\n",
       " 478: 0,\n",
       " 479: 0,\n",
       " 480: 0,\n",
       " 481: 0,\n",
       " 482: 0,\n",
       " 483: 0,\n",
       " 484: 0,\n",
       " 485: 0,\n",
       " 486: 0,\n",
       " 487: 0,\n",
       " 488: 0,\n",
       " 489: 0,\n",
       " 490: 0,\n",
       " 491: 0,\n",
       " 492: 0,\n",
       " 493: 0,\n",
       " 494: 0,\n",
       " 495: 0,\n",
       " 496: 0,\n",
       " 497: 0,\n",
       " 498: 0,\n",
       " 499: 0,\n",
       " 500: 0,\n",
       " 501: 0,\n",
       " 502: 0,\n",
       " 503: 0,\n",
       " 504: 0,\n",
       " 505: 0,\n",
       " 506: 0,\n",
       " 507: 0,\n",
       " 508: 0,\n",
       " 509: 0,\n",
       " 510: 0,\n",
       " 511: 0,\n",
       " 512: 0,\n",
       " 513: 0,\n",
       " 514: 0,\n",
       " 515: 0,\n",
       " 516: 0,\n",
       " 517: 0,\n",
       " 518: 0,\n",
       " 519: 0,\n",
       " 520: 0,\n",
       " 521: 0,\n",
       " 522: 0,\n",
       " 523: 0,\n",
       " 524: 0,\n",
       " 525: 0,\n",
       " 526: 0,\n",
       " 527: 0,\n",
       " 528: 0,\n",
       " 529: 0,\n",
       " 530: 0,\n",
       " 531: 0,\n",
       " 532: 0,\n",
       " 533: 0,\n",
       " 534: 0,\n",
       " 535: 0,\n",
       " 536: 0,\n",
       " 537: 0,\n",
       " 538: 0,\n",
       " 539: 0,\n",
       " 540: 0,\n",
       " 541: 0,\n",
       " 542: 0,\n",
       " 543: 0,\n",
       " 544: 0,\n",
       " 545: 0,\n",
       " 546: 0,\n",
       " 547: 0,\n",
       " 548: 0,\n",
       " 549: 0,\n",
       " 550: 0,\n",
       " 551: 0,\n",
       " 552: 0,\n",
       " 553: 0,\n",
       " 554: 0,\n",
       " 555: 0,\n",
       " 556: 0,\n",
       " 557: 0,\n",
       " 558: 0,\n",
       " 559: 0,\n",
       " 560: 0,\n",
       " 561: 0,\n",
       " 562: 0,\n",
       " 563: 0,\n",
       " 564: 0,\n",
       " 565: 0,\n",
       " 566: 0,\n",
       " 567: 0,\n",
       " 568: 0,\n",
       " 569: 0,\n",
       " 570: 0,\n",
       " 571: 0,\n",
       " 572: 0,\n",
       " 573: 0,\n",
       " 574: 0,\n",
       " 575: 0,\n",
       " 576: 0,\n",
       " 577: 0,\n",
       " 578: 0,\n",
       " 579: 0,\n",
       " 580: 0,\n",
       " 581: 0,\n",
       " 582: 0,\n",
       " 583: 0,\n",
       " 584: 0,\n",
       " 585: 0,\n",
       " 586: 0,\n",
       " 587: 0,\n",
       " 588: 0,\n",
       " 589: 0,\n",
       " 590: 0,\n",
       " 591: 0,\n",
       " 592: 0,\n",
       " 593: 0,\n",
       " 594: 0,\n",
       " 595: 0,\n",
       " 596: 0,\n",
       " 597: 0,\n",
       " 598: 0,\n",
       " 599: 0,\n",
       " 600: 0,\n",
       " 601: 0,\n",
       " 602: 0,\n",
       " 603: 0,\n",
       " 604: 0,\n",
       " 605: 0,\n",
       " 606: 0,\n",
       " 607: 0,\n",
       " 608: 0,\n",
       " 609: 0,\n",
       " 610: 0,\n",
       " 611: 0,\n",
       " 612: 0,\n",
       " 613: 0,\n",
       " 614: 0,\n",
       " 615: 0,\n",
       " 616: 0,\n",
       " 617: 0,\n",
       " 618: 0,\n",
       " 619: 0,\n",
       " 620: 0,\n",
       " 621: 0,\n",
       " 622: 0,\n",
       " 623: 0,\n",
       " 624: 0,\n",
       " 625: 0,\n",
       " 626: 0,\n",
       " 627: 0,\n",
       " 628: 0,\n",
       " 629: 0,\n",
       " 630: 0,\n",
       " 631: 0,\n",
       " 632: 0,\n",
       " 633: 0,\n",
       " 634: 0,\n",
       " 635: 0,\n",
       " 636: 0,\n",
       " 637: 0,\n",
       " 638: 0,\n",
       " 639: 0,\n",
       " 640: 0,\n",
       " 641: 0,\n",
       " 642: 0,\n",
       " 643: 0,\n",
       " 644: 0,\n",
       " 645: 0,\n",
       " 646: 0,\n",
       " 647: 0.027777777777777776,\n",
       " 648: 0,\n",
       " 649: 0,\n",
       " 650: 0,\n",
       " 651: 0,\n",
       " 652: 0,\n",
       " 653: 0,\n",
       " 654: 0,\n",
       " 655: 0,\n",
       " 656: 0,\n",
       " 657: 0,\n",
       " 658: 0,\n",
       " 659: 0,\n",
       " 660: 0,\n",
       " 661: 0,\n",
       " 662: 0,\n",
       " 663: 0,\n",
       " 664: 0,\n",
       " 665: 0,\n",
       " 666: 0,\n",
       " 667: 0,\n",
       " 668: 0,\n",
       " 669: 0,\n",
       " 670: 0,\n",
       " 671: 0,\n",
       " 672: 0,\n",
       " 673: 0,\n",
       " 674: 0,\n",
       " 675: 0,\n",
       " 676: 0,\n",
       " 677: 0,\n",
       " 678: 0,\n",
       " 679: 0,\n",
       " 680: 0,\n",
       " 681: 0,\n",
       " 682: 0,\n",
       " 683: 0,\n",
       " 684: 0,\n",
       " 685: 0,\n",
       " 686: 0,\n",
       " 687: 0,\n",
       " 688: 0,\n",
       " 689: 0,\n",
       " 690: 0,\n",
       " 691: 0,\n",
       " 692: 0,\n",
       " 693: 0,\n",
       " 694: 0,\n",
       " 695: 0,\n",
       " 696: 0,\n",
       " 697: 0,\n",
       " 698: 0,\n",
       " 699: 0,\n",
       " 700: 0,\n",
       " 701: 0,\n",
       " 702: 0,\n",
       " 703: 0,\n",
       " 704: 0,\n",
       " 705: 0,\n",
       " 706: 0,\n",
       " 707: 0,\n",
       " 708: 0,\n",
       " 709: 0,\n",
       " 710: 0,\n",
       " 711: 0,\n",
       " 712: 0,\n",
       " 713: 0,\n",
       " 714: 0,\n",
       " 715: 0,\n",
       " 716: 0,\n",
       " 717: 0,\n",
       " 718: 0,\n",
       " 719: 0,\n",
       " 720: 0,\n",
       " 721: 0,\n",
       " 722: 0,\n",
       " 723: 0,\n",
       " 724: 0,\n",
       " 725: 0,\n",
       " 726: 0,\n",
       " 727: 0,\n",
       " 728: 0,\n",
       " 729: 0,\n",
       " 730: 0,\n",
       " 731: 0,\n",
       " 732: 0,\n",
       " 733: 0,\n",
       " 734: 0,\n",
       " 735: 0,\n",
       " 736: 0,\n",
       " 737: 0,\n",
       " 738: 0,\n",
       " 739: 0,\n",
       " 740: 0,\n",
       " 741: 0,\n",
       " 742: 0,\n",
       " 743: 0,\n",
       " 744: 0,\n",
       " 745: 0,\n",
       " 746: 0,\n",
       " 747: 0,\n",
       " 748: 0,\n",
       " 749: 0,\n",
       " 750: 0,\n",
       " 751: 0,\n",
       " 752: 0,\n",
       " 753: 0,\n",
       " 754: 0,\n",
       " 755: 0,\n",
       " 756: 0,\n",
       " 757: 0,\n",
       " 758: 0,\n",
       " 759: 0,\n",
       " 760: 0,\n",
       " 761: 0,\n",
       " 762: 0,\n",
       " 763: 0,\n",
       " 764: 0,\n",
       " 765: 0,\n",
       " 766: 0,\n",
       " 767: 0,\n",
       " 768: 0.1,\n",
       " 769: 0,\n",
       " 770: 0,\n",
       " 771: 0,\n",
       " 772: 0,\n",
       " 773: 0,\n",
       " 774: 0,\n",
       " 775: 0,\n",
       " 776: 0,\n",
       " 777: 0,\n",
       " 778: 0,\n",
       " 779: 0,\n",
       " 780: 0,\n",
       " 781: 0,\n",
       " 782: 0,\n",
       " 783: 0,\n",
       " 784: 0,\n",
       " 785: 0,\n",
       " 786: 0,\n",
       " 787: 0,\n",
       " 788: 0,\n",
       " 789: 0,\n",
       " 790: 0,\n",
       " 791: 0,\n",
       " 792: 0,\n",
       " 793: 0,\n",
       " 794: 0,\n",
       " 795: 0,\n",
       " 796: 0,\n",
       " 797: 0,\n",
       " 798: 0,\n",
       " 799: 0,\n",
       " 800: 0,\n",
       " 801: 0,\n",
       " 802: 0,\n",
       " 803: 0,\n",
       " 804: 0,\n",
       " 805: 0,\n",
       " 806: 0,\n",
       " 807: 0,\n",
       " 808: 0,\n",
       " 809: 0,\n",
       " 810: 0,\n",
       " 811: 0,\n",
       " 812: 0,\n",
       " 813: 0,\n",
       " 814: 0,\n",
       " 815: 0,\n",
       " 816: 0,\n",
       " 817: 0,\n",
       " 818: 0,\n",
       " 819: 0,\n",
       " 820: 0,\n",
       " 821: 0,\n",
       " 822: 0,\n",
       " 823: 0,\n",
       " 824: 0,\n",
       " 825: 0,\n",
       " 826: 0,\n",
       " 827: 0,\n",
       " 828: 0,\n",
       " 829: 0,\n",
       " 830: 0,\n",
       " 831: 0,\n",
       " 832: 0,\n",
       " 833: 0,\n",
       " 834: 0,\n",
       " 835: 0,\n",
       " 836: 0,\n",
       " 837: 0,\n",
       " 838: 0,\n",
       " 839: 0,\n",
       " 840: 0,\n",
       " 841: 0,\n",
       " 842: 0,\n",
       " 843: 0,\n",
       " 844: 0,\n",
       " 845: 0,\n",
       " 846: 0,\n",
       " 847: 0,\n",
       " 848: 0,\n",
       " 849: 0,\n",
       " 850: 0,\n",
       " 851: 0,\n",
       " 852: 0,\n",
       " 853: 0,\n",
       " 854: 0,\n",
       " 855: 0,\n",
       " 856: 0,\n",
       " 857: 0,\n",
       " 858: 0,\n",
       " 859: 0,\n",
       " 860: 0,\n",
       " 861: 0,\n",
       " 862: 0,\n",
       " 863: 0,\n",
       " 864: 0,\n",
       " 865: 0,\n",
       " 866: 0,\n",
       " 867: 0,\n",
       " 868: 0,\n",
       " 869: 0,\n",
       " 870: 0,\n",
       " 871: 0,\n",
       " 872: 0,\n",
       " 873: 0,\n",
       " 874: 0,\n",
       " 875: 0,\n",
       " 876: 0,\n",
       " 877: 0,\n",
       " 878: 0,\n",
       " 879: 0,\n",
       " 880: 0,\n",
       " 881: 0,\n",
       " 882: 0,\n",
       " 883: 0,\n",
       " 884: 0,\n",
       " 885: 0,\n",
       " 886: 0,\n",
       " 887: 0,\n",
       " 888: 0,\n",
       " 889: 0,\n",
       " 890: 0,\n",
       " 891: 0,\n",
       " 892: 0,\n",
       " 893: 0,\n",
       " 894: 0,\n",
       " 895: 0,\n",
       " 896: 0,\n",
       " 897: 0,\n",
       " 898: 0,\n",
       " 899: 0,\n",
       " 900: 0,\n",
       " 901: 0,\n",
       " 902: 0,\n",
       " 903: 0,\n",
       " 904: 0,\n",
       " 905: 0,\n",
       " 906: 0,\n",
       " 907: 0,\n",
       " 908: 0,\n",
       " 909: 0,\n",
       " 910: 0,\n",
       " 911: 0,\n",
       " 912: 0,\n",
       " 913: 0,\n",
       " 914: 0,\n",
       " 915: 0,\n",
       " 916: 0,\n",
       " 917: 0,\n",
       " 918: 0,\n",
       " 919: 0.027777777777777776,\n",
       " 920: 0,\n",
       " 921: 0,\n",
       " 922: 0,\n",
       " 923: 0,\n",
       " 924: 0,\n",
       " 925: 0,\n",
       " 926: 0,\n",
       " 927: 0,\n",
       " 928: 0,\n",
       " 929: 0,\n",
       " 930: 0,\n",
       " 931: 0,\n",
       " 932: 0,\n",
       " 933: 0,\n",
       " 934: 0,\n",
       " 935: 0,\n",
       " 936: 0,\n",
       " 937: 0,\n",
       " 938: 0,\n",
       " 939: 0,\n",
       " 940: 0,\n",
       " 941: 0,\n",
       " 942: 0,\n",
       " 943: 0,\n",
       " 944: 0,\n",
       " 945: 0,\n",
       " 946: 0,\n",
       " 947: 0,\n",
       " 948: 0,\n",
       " 949: 0,\n",
       " 950: 0,\n",
       " 951: 0,\n",
       " 952: 0,\n",
       " 953: 0.027777777777777776,\n",
       " 954: 0,\n",
       " 955: 0,\n",
       " 956: 0,\n",
       " 957: 0,\n",
       " 958: 0,\n",
       " 959: 0,\n",
       " 960: 0,\n",
       " 961: 0,\n",
       " 962: 0,\n",
       " 963: 0,\n",
       " 964: 0,\n",
       " 965: 0,\n",
       " 966: 0,\n",
       " 967: 0,\n",
       " 968: 0,\n",
       " 969: 0,\n",
       " 970: 0,\n",
       " 971: 0,\n",
       " 972: 0,\n",
       " 973: 0,\n",
       " 974: 0,\n",
       " 975: 0,\n",
       " 976: 0,\n",
       " 977: 0,\n",
       " 978: 0,\n",
       " 979: 0,\n",
       " 980: 0,\n",
       " 981: 0,\n",
       " 982: 0,\n",
       " 983: 0,\n",
       " 984: 0,\n",
       " 985: 0,\n",
       " 986: 0,\n",
       " 987: 0,\n",
       " 988: 0,\n",
       " 989: 0,\n",
       " 990: 0,\n",
       " 991: 0,\n",
       " 992: 0,\n",
       " 993: 0,\n",
       " 994: 0,\n",
       " 995: 0,\n",
       " 996: 0,\n",
       " 997: 0,\n",
       " 998: 0,\n",
       " 999: 0,\n",
       " ...}"
      ]
     },
     "execution_count": 74,
     "metadata": {},
     "output_type": "execute_result"
    }
   ],
   "source": [
    "nx.clustering(er)"
   ]
  },
  {
   "cell_type": "markdown",
   "id": "c97a7307",
   "metadata": {},
   "source": [
    "## Density"
   ]
  },
  {
   "cell_type": "code",
   "execution_count": 75,
   "id": "2554e77b",
   "metadata": {},
   "outputs": [
    {
     "name": "stdout",
     "output_type": "stream",
     "text": [
      "density: 0.00046971652073562824\n"
     ]
    }
   ],
   "source": [
    "density=nx.density(er)\n",
    "print('density:', density)"
   ]
  },
  {
   "cell_type": "markdown",
   "id": "4a970911",
   "metadata": {},
   "source": [
    "## Centrality analysis"
   ]
  },
  {
   "cell_type": "code",
   "execution_count": 76,
   "id": "9e35b7b0",
   "metadata": {},
   "outputs": [],
   "source": [
    "degrees = dict(er.degree())"
   ]
  },
  {
   "cell_type": "code",
   "execution_count": 77,
   "id": "f8920e23",
   "metadata": {},
   "outputs": [
    {
     "data": {
      "text/plain": [
       "[(8799, 18),\n",
       " (10426, 16),\n",
       " (11781, 16),\n",
       " (11795, 16),\n",
       " (293, 15),\n",
       " (679, 15),\n",
       " (1126, 15),\n",
       " (3874, 15),\n",
       " (6496, 15),\n",
       " (8310, 15)]"
      ]
     },
     "execution_count": 77,
     "metadata": {},
     "output_type": "execute_result"
    }
   ],
   "source": [
    "ranks = [(k, v) for k, v in sorted(degrees.items(), key=lambda item: -item[1])]\n",
    "ranks[0:10]"
   ]
  },
  {
   "cell_type": "markdown",
   "id": "7caf6b91",
   "metadata": {},
   "source": [
    "## Closeness Centrality Measure"
   ]
  },
  {
   "cell_type": "code",
   "execution_count": 78,
   "id": "db5c24ad",
   "metadata": {},
   "outputs": [],
   "source": [
    "closeness_er = nx.closeness_centrality(er) # compute the closeness centrality of all nodes "
   ]
  },
  {
   "cell_type": "code",
   "execution_count": 79,
   "id": "a7f433b7",
   "metadata": {},
   "outputs": [],
   "source": [
    "ranks = [(k, v) for k, v in sorted(closeness_er.items(), key=lambda item: -item[1])]\n",
    "coleseness_10_er = ranks[0:10]"
   ]
  },
  {
   "cell_type": "code",
   "execution_count": 80,
   "id": "9c7740b7",
   "metadata": {},
   "outputs": [],
   "source": [
    "dict_close_er = dict(coleseness_10_er)"
   ]
  },
  {
   "cell_type": "code",
   "execution_count": 81,
   "id": "8567e6e8",
   "metadata": {},
   "outputs": [
    {
     "data": {
      "text/html": [
       "<div>\n",
       "<style scoped>\n",
       "    .dataframe tbody tr th:only-of-type {\n",
       "        vertical-align: middle;\n",
       "    }\n",
       "\n",
       "    .dataframe tbody tr th {\n",
       "        vertical-align: top;\n",
       "    }\n",
       "\n",
       "    .dataframe thead th {\n",
       "        text-align: right;\n",
       "    }\n",
       "</style>\n",
       "<table border=\"1\" class=\"dataframe\">\n",
       "  <thead>\n",
       "    <tr style=\"text-align: right;\">\n",
       "      <th></th>\n",
       "      <th>Closeness Value</th>\n",
       "    </tr>\n",
       "  </thead>\n",
       "  <tbody>\n",
       "    <tr>\n",
       "      <th>12885</th>\n",
       "      <td>0.211389</td>\n",
       "    </tr>\n",
       "    <tr>\n",
       "      <th>8799</th>\n",
       "      <td>0.209268</td>\n",
       "    </tr>\n",
       "    <tr>\n",
       "      <th>1126</th>\n",
       "      <td>0.208105</td>\n",
       "    </tr>\n",
       "    <tr>\n",
       "      <th>10426</th>\n",
       "      <td>0.207931</td>\n",
       "    </tr>\n",
       "    <tr>\n",
       "      <th>7224</th>\n",
       "      <td>0.207861</td>\n",
       "    </tr>\n",
       "    <tr>\n",
       "      <th>9577</th>\n",
       "      <td>0.207496</td>\n",
       "    </tr>\n",
       "    <tr>\n",
       "      <th>4454</th>\n",
       "      <td>0.207228</td>\n",
       "    </tr>\n",
       "    <tr>\n",
       "      <th>11795</th>\n",
       "      <td>0.207113</td>\n",
       "    </tr>\n",
       "    <tr>\n",
       "      <th>6496</th>\n",
       "      <td>0.207028</td>\n",
       "    </tr>\n",
       "    <tr>\n",
       "      <th>10590</th>\n",
       "      <td>0.206542</td>\n",
       "    </tr>\n",
       "  </tbody>\n",
       "</table>\n",
       "</div>"
      ],
      "text/plain": [
       "       Closeness Value\n",
       "12885         0.211389\n",
       "8799          0.209268\n",
       "1126          0.208105\n",
       "10426         0.207931\n",
       "7224          0.207861\n",
       "9577          0.207496\n",
       "4454          0.207228\n",
       "11795         0.207113\n",
       "6496          0.207028\n",
       "10590         0.206542"
      ]
     },
     "execution_count": 81,
     "metadata": {},
     "output_type": "execute_result"
    }
   ],
   "source": [
    "closeness_value_frame_er=pd.DataFrame.from_dict(dict_close_er,orient='index', columns=['Closeness Value'])\n",
    "closeness_value_frame_er"
   ]
  },
  {
   "cell_type": "code",
   "execution_count": 82,
   "id": "be70f11e",
   "metadata": {},
   "outputs": [
    {
     "data": {
      "image/png": "[encoded data removed]",
      "text/plain": [
       "<Figure size 640x480 with 1 Axes>"
      ]
     },
     "metadata": {},
     "output_type": "display_data"
    }
   ],
   "source": [
    "closeness_value_frame_er = closeness_value_frame_er.sort_values(by='Closeness Value', ascending=True)\n",
    "\n",
    "fig = plt.figure()\n",
    "ax = fig.add_subplot()\n",
    "\n",
    "closeness_value_frame_er.plot(kind='barh', color='blue', ax=ax)\n",
    "plt.xlim(0, 1)\n",
    "\n",
    "for y, x in enumerate(closeness_value_frame_er['Closeness Value']):\n",
    "    plt.annotate(str(x), xy=(x, y), va='center')\n",
    "\n",
    "plt.show()"
   ]
  },
  {
   "cell_type": "markdown",
   "id": "b4f18e54",
   "metadata": {},
   "source": [
    "## Betweenness Centrality"
   ]
  },
  {
   "cell_type": "code",
   "execution_count": 83,
   "id": "c5832b4c",
   "metadata": {},
   "outputs": [],
   "source": [
    "betweenness_er = nx.betweenness_centrality(er) "
   ]
  },
  {
   "cell_type": "code",
   "execution_count": 84,
   "id": "3d5f1c55",
   "metadata": {},
   "outputs": [
    {
     "data": {
      "text/plain": [
       "[(8799, 0.0023295468931819018),\n",
       " (10426, 0.0019752795866410503),\n",
       " (12885, 0.001955436144255777),\n",
       " (3874, 0.0019022873846180682),\n",
       " (11795, 0.0018983927441386227),\n",
       " (9577, 0.0018102279722746473),\n",
       " (1126, 0.0018096889347488448),\n",
       " (11781, 0.00179244896644086),\n",
       " (6496, 0.0017772343070347125),\n",
       " (4454, 0.0017766104369881283),\n",
       " (293, 0.0017713803262153353),\n",
       " (9133, 0.0017046384963085178),\n",
       " (4876, 0.00163891516607957),\n",
       " (10868, 0.0016235240130450918),\n",
       " (7224, 0.0015982899379734714),\n",
       " (12300, 0.0015709935917529237),\n",
       " (9972, 0.0015694131653142458),\n",
       " (4521, 0.0015617497816110344),\n",
       " (11677, 0.0015596560927088011),\n",
       " (1603, 0.0015527606486697998)]"
      ]
     },
     "execution_count": 84,
     "metadata": {},
     "output_type": "execute_result"
    }
   ],
   "source": [
    "ranks = [(k, v) for k, v in sorted(betweenness_er.items(), key=lambda item: -item[1])]\n",
    "ranks[0:20]"
   ]
  },
  {
   "cell_type": "markdown",
   "id": "f1b0efb0",
   "metadata": {},
   "source": [
    "## Harmonic Centrality"
   ]
  },
  {
   "cell_type": "code",
   "execution_count": 85,
   "id": "ced4aee0",
   "metadata": {},
   "outputs": [],
   "source": [
    "harmonic_er = nx.harmonic_centrality(er)"
   ]
  },
  {
   "cell_type": "code",
   "execution_count": 86,
   "id": "a12e502f",
   "metadata": {},
   "outputs": [
    {
     "data": {
      "text/plain": [
       "[(12885, 2888.345238095001),\n",
       " (8799, 2862.520238095014),\n",
       " (1126, 2842.967857142632),\n",
       " (10426, 2842.161904761663),\n",
       " (7224, 2838.5285714283464),\n",
       " (9577, 2835.5785714283443),\n",
       " (4454, 2831.5178571426436),\n",
       " (11795, 2829.979761904547),\n",
       " (6496, 2828.991666666429),\n",
       " (293, 2819.4035714283573),\n",
       " (10590, 2818.570238095013),\n",
       " (413, 2818.479761904552),\n",
       " (1913, 2817.2940476188355),\n",
       " (4876, 2816.6214285712153),\n",
       " (3874, 2812.407142856929),\n",
       " (11677, 2810.820238095028),\n",
       " (3972, 2810.6285714283563),\n",
       " (11781, 2807.999999999796),\n",
       " (1603, 2807.920238095029),\n",
       " (6114, 2807.8619047616753)]"
      ]
     },
     "execution_count": 86,
     "metadata": {},
     "output_type": "execute_result"
    }
   ],
   "source": [
    "ranks = [(k, v) for k, v in sorted(harmonic_er.items(), key=lambda item: -item[1])]\n",
    "ranks[0:20]"
   ]
  },
  {
   "cell_type": "markdown",
   "id": "d6a19a97",
   "metadata": {},
   "source": [
    "## PageRank Centrality"
   ]
  },
  {
   "cell_type": "code",
   "execution_count": 87,
   "id": "b2906a2b",
   "metadata": {},
   "outputs": [],
   "source": [
    "pagerank_er = nx.pagerank(er)"
   ]
  },
  {
   "cell_type": "code",
   "execution_count": 88,
   "id": "a8554643",
   "metadata": {},
   "outputs": [
    {
     "data": {
      "text/plain": [
       "[(8799, 0.0001974226886782025),\n",
       " (10426, 0.0001789055583568514),\n",
       " (11781, 0.0001761853819788731),\n",
       " (11795, 0.00017372111981707287),\n",
       " (8310, 0.0001731593756186676),\n",
       " (8553, 0.0001706628294869949),\n",
       " (679, 0.00016826025375177658),\n",
       " (12300, 0.00016698849605771842),\n",
       " (9782, 0.00016661073686199187),\n",
       " (10868, 0.0001647880278604324),\n",
       " (293, 0.00016433361027948646),\n",
       " (3874, 0.0001628633081876319),\n",
       " (1126, 0.0001619756817499523),\n",
       " (6496, 0.00016170475687302918),\n",
       " (9577, 0.00016169455059354383),\n",
       " (1398, 0.00015931192604398578),\n",
       " (11677, 0.00015871524053258943),\n",
       " (119, 0.0001584810236825713),\n",
       " (2321, 0.00015812940934756454),\n",
       " (12885, 0.00015789552003716336)]"
      ]
     },
     "execution_count": 88,
     "metadata": {},
     "output_type": "execute_result"
    }
   ],
   "source": [
    "ranks = [(k, v) for k, v in sorted(pagerank_er.items(), key=lambda item: -item[1])]\n",
    "ranks[0:20]"
   ]
  },
  {
   "cell_type": "markdown",
   "id": "1bd11e82",
   "metadata": {},
   "source": [
    "## Eigenvector Centrality"
   ]
  },
  {
   "cell_type": "code",
   "execution_count": 89,
   "id": "cc38ab8d",
   "metadata": {},
   "outputs": [],
   "source": [
    "eigen_er = nx.eigenvector_centrality(er, max_iter = 500)"
   ]
  },
  {
   "cell_type": "code",
   "execution_count": 90,
   "id": "e4d5076d",
   "metadata": {},
   "outputs": [
    {
     "data": {
      "text/plain": [
       "[(12885, 0.0322186631802678),\n",
       " (8799, 0.030182919766169866),\n",
       " (10426, 0.027944630932420125),\n",
       " (1126, 0.026842844300026654),\n",
       " (9577, 0.0265037033240497),\n",
       " (6496, 0.02631262531600236),\n",
       " (4454, 0.026184005695089035),\n",
       " (293, 0.025896951305965237),\n",
       " (11795, 0.025753491905391827),\n",
       " (7224, 0.025548948839919827),\n",
       " (10590, 0.024638445118622582),\n",
       " (11781, 0.02453174929056812),\n",
       " (1913, 0.024477859637007052),\n",
       " (4876, 0.024445394211357434),\n",
       " (9777, 0.02429333429899892),\n",
       " (2992, 0.02388999549051978),\n",
       " (10731, 0.023851976813846147),\n",
       " (1603, 0.02382504441495637),\n",
       " (11677, 0.0236206638273084),\n",
       " (6114, 0.023443634750311935)]"
      ]
     },
     "execution_count": 90,
     "metadata": {},
     "output_type": "execute_result"
    }
   ],
   "source": [
    "ranks = [(k, v) for k, v in sorted(eigen_er.items(), key=lambda item: -item[1])]\n",
    "ranks[0:20]"
   ]
  },
  {
   "cell_type": "markdown",
   "id": "71d8e9b5",
   "metadata": {},
   "source": [
    "## Newman's Assortativity"
   ]
  },
  {
   "cell_type": "code",
   "execution_count": 91,
   "id": "684576a2",
   "metadata": {},
   "outputs": [
    {
     "data": {
      "text/plain": [
       "-0.0009006516859808513"
      ]
     },
     "execution_count": 91,
     "metadata": {},
     "output_type": "execute_result"
    }
   ],
   "source": [
    "nx.degree_assortativity_coefficient(er) "
   ]
  },
  {
   "cell_type": "markdown",
   "id": "5325f3f9",
   "metadata": {},
   "source": [
    "# Barabasi-Albert graph"
   ]
  },
  {
   "cell_type": "markdown",
   "id": "420107e9",
   "metadata": {},
   "source": [
    "m = < k >/2 = 6.217902968643231/2 = 3.1089514843216155"
   ]
  },
  {
   "cell_type": "code",
   "execution_count": 92,
   "id": "bdbb461e",
   "metadata": {},
   "outputs": [],
   "source": [
    "m = 3 # 3.1089514843216155\n",
    "ba = nx.barabasi_albert_graph(N, m)"
   ]
  },
  {
   "cell_type": "markdown",
   "id": "5c7334f1",
   "metadata": {},
   "source": [
    "## Network base statistics"
   ]
  },
  {
   "cell_type": "code",
   "execution_count": 93,
   "id": "204861f6",
   "metadata": {},
   "outputs": [
    {
     "data": {
      "text/plain": [
       "13171"
      ]
     },
     "execution_count": 93,
     "metadata": {},
     "output_type": "execute_result"
    }
   ],
   "source": [
    "N"
   ]
  },
  {
   "cell_type": "code",
   "execution_count": 94,
   "id": "a9d18e8f",
   "metadata": {},
   "outputs": [
    {
     "data": {
      "text/plain": [
       "13171"
      ]
     },
     "execution_count": 94,
     "metadata": {},
     "output_type": "execute_result"
    }
   ],
   "source": [
    "N_ba = ba.number_of_nodes()\n",
    "N_ba"
   ]
  },
  {
   "cell_type": "code",
   "execution_count": 95,
   "id": "09a5f79a",
   "metadata": {},
   "outputs": [
    {
     "data": {
      "text/plain": [
       "39504"
      ]
     },
     "execution_count": 95,
     "metadata": {},
     "output_type": "execute_result"
    }
   ],
   "source": [
    "E_ba = ba.number_of_edges() \n",
    "E_ba"
   ]
  },
  {
   "cell_type": "code",
   "execution_count": 96,
   "id": "5a8ea475",
   "metadata": {},
   "outputs": [
    {
     "data": {
      "text/plain": [
       "False"
      ]
     },
     "execution_count": 96,
     "metadata": {},
     "output_type": "execute_result"
    }
   ],
   "source": [
    "ba.is_directed()"
   ]
  },
  {
   "cell_type": "markdown",
   "id": "94704f10",
   "metadata": {},
   "source": [
    "## Degree Distribution"
   ]
  },
  {
   "cell_type": "code",
   "execution_count": 97,
   "id": "f1990cf4",
   "metadata": {},
   "outputs": [
    {
     "data": {
      "text/plain": [
       "231"
      ]
     },
     "execution_count": 97,
     "metadata": {},
     "output_type": "execute_result"
    }
   ],
   "source": [
    "# degree for node 1\n",
    "degrees = ba.degree\n",
    "first_node = next(iter(degrees))\n",
    "first_node[1] #390"
   ]
  },
  {
   "cell_type": "code",
   "execution_count": 98,
   "id": "52c1d601",
   "metadata": {},
   "outputs": [
    {
     "data": {
      "text/plain": [
       "5.998633361172272"
      ]
     },
     "execution_count": 98,
     "metadata": {},
     "output_type": "execute_result"
    }
   ],
   "source": [
    "sum(dict(ba.degree()).values())/float(len(ba)) #7."
   ]
  },
  {
   "cell_type": "code",
   "execution_count": 99,
   "id": "51d27cdb",
   "metadata": {},
   "outputs": [
    {
     "data": {
      "image/png": "[encoded data removed]",
      "text/plain": [
       "<Figure size 640x480 with 1 Axes>"
      ]
     },
     "metadata": {},
     "output_type": "display_data"
    }
   ],
   "source": [
    "hist = nx.degree_histogram(ba)\n",
    "    \n",
    "plt.plot(range(0, len(hist)), hist, \".\")\n",
    "plt.title(\"Degree Distribution\")\n",
    "plt.xlabel(\"Degree\")\n",
    "plt.ylabel(\"#Nodes\")\n",
    "plt.loglog()\n",
    "plt.show()"
   ]
  },
  {
   "cell_type": "code",
   "execution_count": 100,
   "id": "cdbb8209",
   "metadata": {},
   "outputs": [
    {
     "name": "stdout",
     "output_type": "stream",
     "text": [
      "Calculating best minimal value for power law fit\n",
      "xmin progress: 00%\r",
      "xmin progress: 03%\r",
      "xmin progress: 06%\r",
      "xmin progress: 09%\r",
      "xmin progress: 12%\r",
      "xmin progress: 15%\r",
      "xmin progress: 18%\r",
      "xmin progress: 21%\r",
      "xmin progress: 24%\r",
      "xmin progress: 27%\r",
      "xmin progress: 30%\r",
      "xmin progress: 33%\r",
      "xmin progress: 36%\r",
      "xmin progress: 39%\r",
      "xmin progress: 42%\r",
      "xmin progress: 45%\r",
      "xmin progress: 48%\r",
      "xmin progress: 51%\r",
      "xmin progress: 54%\r",
      "xmin progress: 57%\r",
      "xmin progress: 60%\r",
      "xmin progress: 63%\r",
      "xmin progress: 66%\r",
      "xmin progress: 69%\r",
      "xmin progress: 72%\r",
      "xmin progress: 75%\r",
      "xmin progress: 78%\r",
      "xmin progress: 81%\r",
      "xmin progress: 84%\r",
      "xmin progress: 87%\r",
      "xmin progress: 90%\r",
      "xmin progress: 93%\r",
      "xmin progress: 96%\r"
     ]
    },
    {
     "data": {
      "image/png": "[encoded data removed]",
      "text/plain": [
       "<Figure size 1600x600 with 3 Axes>"
      ]
     },
     "metadata": {},
     "output_type": "display_data"
    }
   ],
   "source": [
    "plot_dist(ba)"
   ]
  },
  {
   "cell_type": "markdown",
   "id": "c6d90dd3",
   "metadata": {},
   "source": [
    "## Graph components"
   ]
  },
  {
   "cell_type": "code",
   "execution_count": 101,
   "id": "45c95288",
   "metadata": {},
   "outputs": [
    {
     "data": {
      "text/plain": [
       "[1,\n",
       " 2,\n",
       " 3,\n",
       " 4,\n",
       " 6,\n",
       " 8,\n",
       " 9,\n",
       " 18,\n",
       " 20,\n",
       " 31,\n",
       " 32,\n",
       " 35,\n",
       " 46,\n",
       " 71,\n",
       " 90,\n",
       " 97,\n",
       " 105,\n",
       " 116,\n",
       " 145,\n",
       " 152,\n",
       " 191,\n",
       " 193,\n",
       " 219,\n",
       " 227,\n",
       " 253,\n",
       " 267,\n",
       " 283,\n",
       " 292,\n",
       " 318,\n",
       " 358,\n",
       " 458,\n",
       " 463,\n",
       " 465,\n",
       " 475,\n",
       " 478,\n",
       " 488,\n",
       " 517,\n",
       " 538,\n",
       " 542,\n",
       " 574,\n",
       " 601,\n",
       " 625,\n",
       " 626,\n",
       " 632,\n",
       " 676,\n",
       " 713,\n",
       " 733,\n",
       " 748,\n",
       " 755,\n",
       " 757,\n",
       " 766,\n",
       " 775,\n",
       " 781,\n",
       " 798,\n",
       " 833,\n",
       " 866,\n",
       " 906,\n",
       " 922,\n",
       " 959,\n",
       " 1002,\n",
       " 1014,\n",
       " 1018,\n",
       " 1022,\n",
       " 1051,\n",
       " 1074,\n",
       " 1096,\n",
       " 1100,\n",
       " 1141,\n",
       " 1162,\n",
       " 1187,\n",
       " 1339,\n",
       " 1340,\n",
       " 1357,\n",
       " 1377,\n",
       " 1379,\n",
       " 1429,\n",
       " 1603,\n",
       " 1610,\n",
       " 1620,\n",
       " 1624,\n",
       " 1647,\n",
       " 1654,\n",
       " 1655,\n",
       " 1708,\n",
       " 1775,\n",
       " 1786,\n",
       " 1804,\n",
       " 1847,\n",
       " 1923,\n",
       " 1939,\n",
       " 1967,\n",
       " 2052,\n",
       " 2094,\n",
       " 2102,\n",
       " 2266,\n",
       " 2296,\n",
       " 2338,\n",
       " 2388,\n",
       " 2389,\n",
       " 2494,\n",
       " 2520,\n",
       " 2661,\n",
       " 2789,\n",
       " 2805,\n",
       " 2820,\n",
       " 2858,\n",
       " 2859,\n",
       " 2901,\n",
       " 2986,\n",
       " 2999,\n",
       " 3159,\n",
       " 3250,\n",
       " 3353,\n",
       " 3367,\n",
       " 3477,\n",
       " 3552,\n",
       " 3582,\n",
       " 3647,\n",
       " 3655,\n",
       " 3748,\n",
       " 3772,\n",
       " 3785,\n",
       " 3933,\n",
       " 3967,\n",
       " 4046,\n",
       " 4084,\n",
       " 4129,\n",
       " 4140,\n",
       " 4152,\n",
       " 4231,\n",
       " 4253,\n",
       " 4358,\n",
       " 4371,\n",
       " 4390,\n",
       " 4404,\n",
       " 4445,\n",
       " 4448,\n",
       " 4449,\n",
       " 4464,\n",
       " 4588,\n",
       " 4743,\n",
       " 4804,\n",
       " 4906,\n",
       " 4952,\n",
       " 4962,\n",
       " 5004,\n",
       " 5019,\n",
       " 5127,\n",
       " 5178,\n",
       " 5211,\n",
       " 5246,\n",
       " 5330,\n",
       " 5583,\n",
       " 5698,\n",
       " 5764,\n",
       " 5872,\n",
       " 5939,\n",
       " 5991,\n",
       " 6000,\n",
       " 6086,\n",
       " 6286,\n",
       " 6304,\n",
       " 6335,\n",
       " 6495,\n",
       " 6764,\n",
       " 6765,\n",
       " 6878,\n",
       " 6902,\n",
       " 7177,\n",
       " 7231,\n",
       " 7275,\n",
       " 7298,\n",
       " 7432,\n",
       " 7443,\n",
       " 7727,\n",
       " 7748,\n",
       " 7843,\n",
       " 7855,\n",
       " 8015,\n",
       " 8062,\n",
       " 8109,\n",
       " 8137,\n",
       " 8204,\n",
       " 8262,\n",
       " 8370,\n",
       " 8444,\n",
       " 8464,\n",
       " 8492,\n",
       " 8662,\n",
       " 8711,\n",
       " 9041,\n",
       " 9062,\n",
       " 9261,\n",
       " 9276,\n",
       " 9300,\n",
       " 9340,\n",
       " 9362,\n",
       " 9476,\n",
       " 9597,\n",
       " 9732,\n",
       " 9833,\n",
       " 9897,\n",
       " 10022,\n",
       " 10040,\n",
       " 10147,\n",
       " 10154,\n",
       " 10273,\n",
       " 10436,\n",
       " 10462,\n",
       " 10530,\n",
       " 10578,\n",
       " 10667,\n",
       " 10771,\n",
       " 10880,\n",
       " 10893,\n",
       " 11089,\n",
       " 11258,\n",
       " 11368,\n",
       " 11552,\n",
       " 11719,\n",
       " 11838,\n",
       " 11922,\n",
       " 11948,\n",
       " 11989,\n",
       " 12187,\n",
       " 12217,\n",
       " 12304,\n",
       " 12435,\n",
       " 12634,\n",
       " 12711,\n",
       " 12782]"
      ]
     },
     "execution_count": 101,
     "metadata": {},
     "output_type": "execute_result"
    }
   ],
   "source": [
    "list(ba.neighbors(first_node[0])) # obtain the list of neighobors for the first node"
   ]
  },
  {
   "cell_type": "code",
   "execution_count": 102,
   "id": "72ac20ef",
   "metadata": {},
   "outputs": [],
   "source": [
    "ego = nx.ego_graph(ba, first_node[0]) # ego network of the first node"
   ]
  },
  {
   "cell_type": "markdown",
   "id": "844b2271",
   "metadata": {},
   "source": [
    "## Connected components"
   ]
  },
  {
   "cell_type": "code",
   "execution_count": 103,
   "id": "dca395d1",
   "metadata": {},
   "outputs": [
    {
     "data": {
      "text/plain": [
       "1"
      ]
     },
     "execution_count": 103,
     "metadata": {},
     "output_type": "execute_result"
    }
   ],
   "source": [
    "nx.number_connected_components(ba)"
   ]
  },
  {
   "cell_type": "code",
   "execution_count": 104,
   "id": "a7487fe7",
   "metadata": {},
   "outputs": [],
   "source": [
    "comps = list(nx.connected_components(ba))\n",
    "comp_0 = nx.subgraph(ba, comps[0])"
   ]
  },
  {
   "cell_type": "markdown",
   "id": "e7c94c4d",
   "metadata": {},
   "source": [
    "## Path analysis"
   ]
  },
  {
   "cell_type": "code",
   "execution_count": 105,
   "id": "30a13ea2",
   "metadata": {},
   "outputs": [],
   "source": [
    "giant_cc = sorted(nx.connected_components(ba), key=len, reverse=True) \n",
    "\n",
    "#rimuove dal grafo tutto i nodi che non sono nella componente gigante\n",
    "ba.remove_nodes_from([n for n in G if n not in set(giant_cc[0])])"
   ]
  },
  {
   "cell_type": "code",
   "execution_count": 106,
   "id": "ce37bc2c",
   "metadata": {},
   "outputs": [
    {
     "data": {
      "text/plain": [
       "13171"
      ]
     },
     "execution_count": 106,
     "metadata": {},
     "output_type": "execute_result"
    }
   ],
   "source": [
    "node_list_cc_ba=[]\n",
    "for user in ba.nodes:\n",
    "    node_list_cc_ba.append(user)\n",
    "\n",
    "len(node_list_cc_ba)"
   ]
  },
  {
   "cell_type": "markdown",
   "id": "f1bacc4f",
   "metadata": {},
   "source": [
    "## Diameter"
   ]
  },
  {
   "cell_type": "code",
   "execution_count": 107,
   "id": "13d120af",
   "metadata": {},
   "outputs": [
    {
     "name": "stdout",
     "output_type": "stream",
     "text": [
      "[13058, 313, 7921, 6380, 5295, 12986, 8516, 1645, 7292, 8403, 5994, 11826, 11730, 6042, 6363, 13009, 1573, 11656, 12203, 2296, 13068, 6381, 1675, 6711, 2540, 7146, 7765, 7310, 12038, 8600, 5687, 10101, 9959, 1446, 576, 1368, 10427, 12615, 1344, 1677, 5931, 11292, 5477, 55, 6075, 4928, 2989, 2209, 2615, 6375, 4683, 2639, 1488, 3752, 9545, 1982, 7528, 11170, 9202, 388, 11431, 6724, 352, 351, 4046, 12322, 2537, 5466, 5636, 7558, 10000, 2853, 9000, 11331, 13072, 13096, 6983, 997, 1098, 6284, 1611, 11911, 9771, 6373, 3071, 3511, 11561, 563, 3069, 10124, 10768, 5410, 4931, 6723, 7615, 8451, 1345, 10184, 5939, 1554, 4204, 625, 13032, 1141, 12564, 13020, 9781, 2987, 2056, 8673, 7954, 5304, 6950, 7553, 5794, 1276, 9513, 8066, 12752, 5876, 8827, 2806, 1556, 4016, 8338, 9057, 12625, 10630, 6882, 10775, 8366, 8078, 10735, 2219, 142, 3631, 5070, 6127, 12402, 2440, 11683, 9177, 3355, 1765, 5568, 4192, 4652, 7824, 427, 11769, 5512, 460, 8997, 6277, 2321, 4021, 7422, 12239, 3514, 1584, 2353, 12044, 2589, 1030, 8895, 9480, 10678, 94, 9688, 10365, 5465, 5946, 7993, 10271, 1890, 3412, 6474, 7414, 1117, 10571, 3583, 10341, 7982, 12368, 4124, 11018, 5504, 7690, 7688, 4372, 11666, 9998, 7072, 10711, 3246, 12283, 319, 6662, 7097, 4527, 1958, 5150, 5622, 6773, 5756, 7978, 8663, 9869, 238, 8291, 2119, 4569, 9925, 649, 5973, 2159, 4096, 2575, 2087, 2748, 4590, 3399, 1476, 5592, 6967, 4812, 3663, 12110, 11291, 1265, 1846, 8553, 4107, 8777, 5063, 1073, 245, 12836, 7460, 6615, 6961, 1837, 2230, 5817, 7994, 6432, 11891, 11130, 125, 6827, 10858, 8505, 9678, 8640, 6963, 12864, 11659, 9920, 12917, 7511, 10340, 11932, 6809, 6405, 617, 4423, 6176, 6389, 2870, 11475, 6064, 6821, 3235, 12316, 3790, 12122, 12960, 9607, 8683, 9224, 6830, 10460, 7429, 4053, 7347, 3177, 144, 2378, 4992, 4967, 10105, 13109, 3929, 3831, 13016, 3365, 2816, 4301, 12608, 5491, 3135, 1620, 6306, 12154, 10223, 2287, 5908, 11951, 7220, 1498, 5396, 5784, 3327, 8312, 13103, 5432, 2544, 3762, 9170, 5699, 4613, 1899, 6156, 4817, 1683, 8080, 7704, 11287, 8135, 604, 4944, 11655, 12176, 7392, 10613, 12824, 9329, 4787, 12436, 11380, 1849, 1514, 9988, 575, 8307, 10971, 12457, 10676, 11020, 3535, 8602, 642, 5666, 3160, 12106, 6993, 7336, 11878, 3297, 4891, 12531, 11615, 4201, 641, 4179, 2721, 4345, 2627, 2098, 13164, 11944, 1864, 1562, 405, 4989, 2898, 8646, 11519, 4977, 8890, 6646, 6951, 5815, 1624, 5422, 11095, 12076, 3279, 7831, 5425, 7321, 10992, 180, 1111, 1087, 5216, 8497, 6829, 10970, 10235, 6438, 11164, 6196, 9128, 206, 3905, 5115, 2975, 1906, 8168, 4060, 4916, 12456, 12845, 10304, 11896, 11869, 6207, 6249, 6039, 5788, 9446, 5786, 1197, 6499, 8687, 5476, 9421, 677, 3274, 1596, 7382, 11524, 7306, 11682, 6999, 6679, 10216, 5516, 12730, 9901, 571, 6564, 876, 1633, 1836, 6801, 4518, 11607, 9903, 12410, 980, 11670, 6911, 8999, 6760, 9612, 3516, 2014, 4840, 12558, 5929, 3958, 152, 3270, 6522, 852, 7846, 10519, 6336, 2186, 10662, 3217, 1666, 1491, 6471, 1212, 3483, 2173, 7184, 5735, 10315, 6663, 4607, 654, 6246, 3068, 7379, 8087, 6523, 7771, 2653, 7663, 7273, 5570, 674, 9491, 1911, 9347, 11373, 3847, 1655, 5515, 12246, 13034, 3354, 2467, 11423, 6163, 4938, 12303, 3346, 4358, 5767, 10559, 3922, 11897, 4019, 12, 6934, 12964, 4080, 5810, 9056, 740, 1309, 10142, 8357, 12849, 7789, 7007, 851, 8043, 8273, 10940, 4724, 12620, 795, 12135, 9937, 11397, 12131, 7649, 6981, 1236, 2968, 10205, 12148, 11497, 6902, 8442, 6051, 2628, 7452, 5678, 137, 10234, 10055, 9013, 4314, 8676, 4223, 7670, 106, 9164, 12329, 1335, 1891, 10935, 5778, 11470, 6808, 12158, 11185, 11448, 12859, 4119, 5954, 1694, 5397, 10362, 11864, 11047, 13057, 9063, 7036, 9742, 12682, 1225, 7790, 7880, 8748, 9584, 5274, 4490, 6041, 12731, 2397, 6120, 7953, 6551, 3558, 6378, 5412, 4939, 7312, 13026, 8079, 8749, 4603, 6037, 12124, 5948, 8587, 2016, 12102, 4767, 11463, 11203, 5354, 4824, 8731, 11132, 9058, 6300, 12744, 1860, 8913, 1741, 11915, 13118, 6987, 1269, 4006, 3539, 8815, 7725, 12934, 5974, 3899, 6602, 3910, 4561, 7266, 7077, 7328, 7372, 11069, 7899, 7188, 11490, 11232, 8878, 2437, 5722, 8352, 6161, 9175, 12448, 4004, 4978, 1408, 5721, 7330, 10458, 9927, 3196, 6658, 12631, 5324, 7317, 4760, 5952, 9062, 11489, 13099, 3028, 6025, 12065, 590, 11723, 9158, 8276, 4262, 9277, 8591, 6044, 12379, 3667, 11721, 83, 6651, 11553, 10789, 7606, 6301, 9033, 11813, 5898, 36, 2130, 3319, 3020, 11689, 2946, 254, 744, 6011, 6955, 1058, 870, 10190, 10753, 11693, 6799, 336, 5545, 10467, 7956, 2972, 4993, 2964, 3760, 10905, 11957, 1308, 7112, 10509, 6508, 10028, 9209, 8775, 5777, 6916, 7241, 8069, 5924, 5841, 3173, 12554, 8636, 7099, 11079, 9555, 471, 12463, 3472, 5193, 6590, 7063, 11669, 4499, 10129, 4587, 660, 11539, 3853, 191, 7581, 3210, 481, 4964, 10849, 2598, 10355, 9941, 10487, 3512, 11781, 6581, 12885, 10809, 12221, 12466, 10074, 7263, 3498, 5724, 9617, 12185, 10807, 4579, 9957, 12180, 1113, 4505, 3755, 6890, 716, 361, 2792, 3521, 1255, 9189, 6995, 2433, 10405, 3850, 4287, 116, 436, 10513, 8218, 12011, 4753, 12152, 6544, 1592, 9048, 163, 3348, 10406, 1630, 6598, 7318, 8962, 6290, 3376, 5664, 6183, 3586, 3796, 8125, 11495, 1486, 4015, 9579, 1629, 3855, 3410, 5355, 919, 7037, 2441, 9987, 8839, 12884, 6296, 4523, 12171, 11054, 3152, 13108, 4686, 10141, 6125, 1133, 705, 830, 949, 8554, 3534, 1746, 10350, 5360, 12860, 6532, 9933, 12159, 10506, 2204, 10786, 12476, 5112, 5684, 3610, 9668, 9880, 1165, 12572, 2418, 1370, 8228, 4213, 12539, 2620, 5120, 5455, 8183, 10975, 6259, 8244, 4800, 3582, 11022, 6781, 1298, 5283, 6368, 11003, 9432, 10586, 9190, 2940, 13126, 9167, 1377, 2897, 11438, 4972, 1346, 3751, 1779, 7733, 8354, 6834, 8242, 7598, 1048, 10036, 12858, 12391, 4768, 6339, 6704, 10392, 12822, 2565, 7926, 6847, 5222, 5228, 11602, 9321, 5672, 1839, 3240, 11879, 1246, 2120, 2111, 5520, 2040, 12993, 3632, 11161, 10097, 2518, 909, 12723, 4228, 8384, 11914, 8770, 624, 12414, 4380, 7053, 3700, 4960, 8261, 11396, 686, 1479, 1844, 5741, 8124, 5537, 752, 10237, 3991, 1739, 1452, 9949, 12966, 12479, 5944, 4910, 12030, 2223, 4688, 755, 1735, 8089, 4101, 51, 3419, 10537, 10863, 3737, 10343, 2022, 12676, 12899, 12653, 356, 8664, 12544, 3046, 6479, 12565, 10668, 7639, 5885, 9887, 10765, 1929, 9897, 9348, 1472, 1470, 578, 4404, 10459, 4888, 9626, 995, 9449, 1229, 12970, 9677, 3073, 7566, 10144, 5298, 5478, 10760, 2711, 3608, 12553, 10931, 7869, 12353, 7841, 8199, 9047, 2298, 7187, 7083, 5160, 374, 11691, 3438, 7641, 107, 11935, 3864, 2481, 7418, 1083, 12116, 7140, 1318, 10099, 9346, 11555, 4264, 8528, 5907, 2863, 7403, 7177, 6021, 9241, 9777, 2453, 4707, 12160, 12452, 3574, 9577, 12756, 9072, 6885, 4144, 3938, 6936, 12686, 9797, 9010, 6159, 7894, 9703, 7616, 7274, 13122, 7514, 437, 12540, 9532, 4630, 10799, 11930, 2153, 12031, 3263, 1609, 7769, 2066, 9424, 7506, 5910, 4619, 7619, 6423, 2010, 4118, 2716, 12874, 3585, 9884, 7238, 11367, 4155, 38, 9406, 9569, 6612, 13013, 11371, 10681, 6282, 10767, 2278, 8620, 10254, 1086, 3045, 11687, 12338, 1734, 2162, 4873, 2012, 5501, 6968, 10737, 6430, 3250, 5514, 2471, 10960, 8416, 6219, 6795, 2037, 7012, 7212, 7350, 11647, 6815, 9939, 1252, 6742, 502, 8166, 9914, 5254, 10897, 10305, 198, 1272, 1759, 2452, 11969, 2268, 110, 8420, 3894, 8302, 4139, 5805, 5591, 101, 1502, 12681, 4848, 1907, 273, 4350, 9496, 6631, 6609, 4804, 6461, 11501, 3482, 12067, 4218, 1508, 7445, 810, 3110, 3770, 2178, 6828, 4995, 37, 2530, 11247, 10599, 4011, 3441, 11839, 8122, 8206, 5098, 9653, 3484, 8289, 9574, 5404, 7764, 10102, 1341, 2741, 9693, 6080, 9717, 5263, 7326, 12821, 8415, 149, 11772, 10660, 6553, 10841, 12782, 1861, 1176, 734, 5667, 2247, 5072, 12440, 2430, 10096, 2622, 7792, 11159, 4736, 9775, 9819, 13131, 10943, 10699, 5706, 10646, 1466, 8984, 662, 12107, 528, 4071, 10334, 11770, 4790, 1990, 56, 8145, 8249, 12438, 11780, 7924, 11582, 1963, 7229, 12217, 12749, 2077, 9530, 4690, 3718, 6066, 7868, 4300, 5505, 10796, 12441, 11566, 12659, 4396, 1242, 2543, 12905, 5617, 12568, 8314, 9559, 4900, 10486, 2535, 11885, 11667, 3600, 2105, 2443, 2690, 12921, 6924, 10714, 1790, 291, 5875, 1991, 8764, 2651, 3122, 6100, 2523, 10532, 6576, 10189, 13092, 7505, 8396, 6763, 11112, 12629, 10664, 11559, 9218, 2478, 3858, 10295, 8094, 1069, 5033, 652, 8279, 1160, 9414, 6073, 9547, 7984, 7358, 12636, 10853, 5737, 2242, 3470, 6225, 10573, 4953, 5423, 1919, 10002, 11139, 4786, 5616, 4634, 10465, 13168, 11511, 11355, 4454, 4376, 6503, 9762, 4366, 930, 8689, 8417, 3415, 3335, 10233, 4668, 6360, 6349, 2047, 1097, 10079, 681, 5694, 4295, 8691, 5192, 8771, 7519, 4934, 1338, 12592, 12294, 7523, 11339, 8723, 7700, 11833, 1989, 482, 7390, 8103, 6535, 10134, 537, 8531, 3322, 5867, 3284, 4469, 12983, 6322, 6218, 3239, 1482, 4377, 10191, 5865, 7473, 6757, 5878, 7608, 957, 8412, 11443, 1555, 5825, 5325, 2181, 11206, 1840, 6776, 5571, 6351, 3006, 1653, 6891, 11674, 12753, 1045, 11560, 1153, 8212, 112, 761, 3164, 12505, 653, 7126, 9484, 4067, 1207, 11010, 1950, 2393, 6794, 8530, 11609, 9724, 626, 1196, 4303, 6978, 8481, 10244, 8143, 10471, 3914, 622, 2952, 1267, 9186, 2229, 3356, 8039, 5236, 1350, 9155, 6798, 2669, 9808, 5793, 6613, 8123, 5306, 6128, 475, 647, 905, 3206, 11104, 12651, 4750, 7027, 13154, 11569, 8317, 7607, 6409, 10903, 2110, 7081, 4429, 6210, 11812, 11882, 12404, 4177, 4013, 10491, 3606, 11967, 3236, 5189, 9256, 4601, 5813, 8536, 5292, 11145, 7045, 4104, 6229, 10193, 8096, 8020, 3064, 1997, 10635, 1186, 4348, 2730, 7774, 2769, 8432, 10818, 2788, 3044, 4716, 3298, 1191, 4809, 11280, 2065, 1945, 8713, 11105, 6391, 2923, 4770, 12583, 3808, 8129, 12920, 5913, 11429, 5043, 433, 9297, 11994, 8422, 10512, 4159, 8813, 4167, 9459, 12309, 7087, 6283, 1271, 4890, 8201, 10854, 9445, 5001, 12052, 5692, 3189, 190, 5055, 5723, 308, 6386, 11356, 570, 2342, 12043, 8029, 6355, 8044, 880, 10906, 5061, 12977, 7327, 12694, 4542, 141, 1181, 3280, 178, 226, 11598, 6094, 1108, 6793, 7843, 1426, 7871, 4997, 7196, 11269, 11654, 6862, 6294, 4709, 7696, 9944, 6266, 4267, 3034, 9751, 893, 11023, 13113, 650, 6302, 5486, 3635, 1532, 12327, 8064, 9810, 5221, 5176, 11637, 696, 9261, 3767, 11535, 6928, 6507, 8938, 9744, 10062, 205, 1506, 9472, 1230, 1293, 7736, 10887, 4076, 3875, 9337, 12680, 5638, 9006, 9458, 3209, 1883, 4645, 11971, 2604, 6694, 6788, 2260, 8542, 6541, 5261, 12047, 2253, 10819, 7163, 9746, 4677, 1636, 928, 3701, 4415, 3619, 6984, 5194, 6324, 8482, 2322, 5852, 1104, 8588, 7965, 2754, 5847, 10730, 6982, 6, 4416, 8715, 5655, 4072, 3131, 11364, 11953, 3408, 4664, 393, 7455, 6506, 3771, 3542, 5757, 508, 2373, 5522, 3611, 4448, 10103, 2524, 3638, 5334, 6644, 1518, 2752, 553, 3563, 8179, 1016, 6407, 11558, 10954, 7297, 9909, 9008, 7657, 4243, 12652, 11395, 1150, 4591, 12581, 605, 1681, 5928, 9364, 8797, 2623, 3545, 12748, 7198, 2505, 10331, 1389, 5604, 3973, 12443, 13065, 7426, 8593, 12577, 10312, 11673, 2103, 10290, 57, 6545, 9427, 3588, 7069, 10368, 8680, 7909, 12216, 12219, 1608, 9083, 9340, 1625, 8112, 179, 10029, 11804, 7612, 8424, 7428, 695, 3252, 1432, 2279, 10145, 2202, 3692, 10502, 4592, 2468, 11825, 7206, 524, 4952, 5863, 4309, 5277, 6095, 1261, 1551, 759, 4341, 5555, 4947, 9736, 6573, 3194, 3125, 11413, 4115, 2522, 5101, 3409, 77, 8637, 6900, 9290, 8850, 13043, 7147, 12906, 4012, 6858, 11409, 8270, 9740, 9115, 9664, 9120, 1619, 7384, 2636, 12648, 548, 3300, 6092, 10482, 13035, 6489, 2593, 8978, 5392, 12033, 10052, 11239, 4327, 9650, 1220, 8650, 2992, 3437, 8925, 10349, 4606, 8401, 10004, 2678, 2736, 1140, 286, 5421, 11111, 8870, 8567, 10174, 5658, 5244, 12313, 10415, 11931, 239, 12422, 12465, 7329, 6122, 938, 10017, 10744, 2226, 5157, 12081, 2064, 2597, 10123, 3569, 8873, 932, 8061, 4731, 5940, 813, 9500, 8855, 12269, 6276, 9563, 9382, 12126, 12458, 6953, 5297, 11044, 581, 6019, 4776, 5621, 2919, 2558, 4926, 11716, 676, 4419, 8471, 5761, 9875, 6402, 3709, 6738, 381, 5460, 5238, 265, 8214, 9451, 8811, 9338, 1164, 10904, 6680, 2511, 10827, 8188, 7, 4663, 1720, 4815, 113, 11024, 1054, 5573, 9864, 11340, 9776, 10306, 7520, 11550, 4627, 1535, 11732, 6015, 4342, 3113, 1012, 5365, 10114, 1742, 5047, 9110, 11295, 11580, 5772, 3893, 2235, 12688, 12813, 10339, 2705, 3579, 5700, 11108, 7664, 1447, 4986, 7905, 7914, 438, 145, 8539, 8495, 707, 451, 1745, 7767, 12289, 13137, 5087, 6106, 11551, 9234, 2307, 105, 5114, 9236, 6068, 6220, 1499, 1565, 10758, 9345, 11065, 4581, 5836, 12796, 4666, 11832, 2665, 1615, 6056, 4200, 7497, 3896, 9581, 727, 3202, 10311, 12016, 7517, 7001, 230, 6709, 6741, 11996, 6436, 8943, 10769, 2485, 3626, 6676, 7620, 3780, 11746, 3258, 3596, 2571, 7658, 1046, 12157, 386, 7098, 4743, 5450, 2092, 5814, 12889, 3379, 1705, 2170, 8204, 12372, 11388, 1403, 1053, 11224, 8164, 12455, 11913, 1712, 7340, 6285, 12392, 9422, 6923, 7821, 4291, 853, 12942, 3891, 3537, 6771, 10683, 12931, 3615, 8185, 10565, 3212, 11798, 12192, 9876, 6279, 12259, 7444, 9071, 1278, 6439, 9573, 8335, 3325, 1051, 9159, 4554, 11735, 1671, 861, 1232, 683, 5209, 5000, 1451, 5105, 115, 9582, 4001, 6243, 12156, 2137, 9679, 5945, 2483, 1955, 3309, 8392, 7847, 11611, 2148, 6006, 9188, 8251, 3648, 6316, 651, 2889, 1342, 8007, 8630, 6096, 10878, 983, 45, 12015, 5400, 13014, 2166, 2163, 645, 8538, 10335, 4460, 1339, 7289, 12194, 3681, 11604, 4830, 4598, 333, 869, 2146, 8287, 11809, 456, 7776, 1743, 10420, 4973, 1875, 2679, 5457, 8590, 8675, 11404, 3306, 7512, 3508, 10082, 9423, 10867, 11381, 673, 2828, 1847, 11934, 6778, 1882, 1760, 12464, 4739, 6556, 4186, 6144, 9368, 6812, 3070, 3782, 2049, 7413, 8592, 2749, 11214, 9802, 10439, 406, 1520, 257, 3904, 12263, 1363, 9774, 2045, 2950, 2188, 9145, 4275, 2286, 9286, 7867, 3884, 3184, 1492, 1029, 5575, 11796, 8597, 5188, 11444, 3165, 7651, 5656, 6046, 5930, 10344, 2271, 5164, 11564, 8226, 10716, 9546, 4883, 10330, 5962, 7699, 9402, 6842, 8814, 6725, 12542, 10595, 5495, 4255, 10726, 5398, 12352, 3403, 12898, 136, 2394, 1644, 8557, 7780, 783, 6779, 12834, 5168, 2655, 3311, 2735, 5527, 11251, 7324, 2135, 4229, 12495, 12238, 11392, 7968, 6124, 7851, 3278, 7918, 5783, 8596, 6492, 6722, 3181, 2514, 2731, 5676, 10570, 7201, 2991, 13114, 11173, 2832, 10119, 1898, 2578, 12852, 1493, 6227, 4874, 11379, 2129, 2305, 7449, 9805, 6184, 3889, 7614, 7068, 11236, 1218, 1766, 10692, 776, 1913, 7117, 4742, 9733, 12654, 2759, 1240, 1771, 4887, 8232, 367, 5502, 13100, 13066, 9433, 8833, 10275, 3867, 7807, 3931, 4682, 3145, 7960, 6424, 1393, 12664, 6126, 1448, 2541, 9943, 2261, 3898, 750, 4529, 867, 4485, 9419, 12323, 9854, 11881, 8994, 8703, 2369, 10667, 1553, 5485, 12600, 10516, 10003, 5284, 4670, 881, 12399, 9124, 11567, 12069, 4121, 1250, 7667, 62, 587, 8332, 7550, 8341, 5546, 3605, 12742, 5985, 7239, 6198, 3205, 4361, 5409, 838, 7999, 1626, 2442, 8139, 11991, 9487, 7058, 1718, 6919, 9861, 9541, 8301, 5249, 12201, 11638, 8498, 2086, 3614, 5433, 4453, 636, 8148, 12256, 8207, 2702, 1440, 13052, 2368, 8856, 9932, 10390, 1050, 8343, 4696, 2667, 3753, 10088, 860, 1123, 6495, 5943, 12097, 4271, 5111, 11419, 7935, 1495, 2289, 11958, 1825, 5281, 10805, 7152, 5439, 1585, 11473, 1222, 10864, 11522, 5497, 5488, 863, 1754, 4491, 9857, 7934, 5014, 11350, 11011, 11427, 4637, 2715, 8485, 5705, 3402, 11074, 8282, 11480, 13067, 9350, 833, 9958, 10120, 8892, 682, 4268, 5600, 9374, 5826, 2201, 6022, 8903, 12242, 13019, 5019, 1286, 12594, 2257, 4135, 12103, 10987, 10015, 5215, 1543, 3529, 6734, 12305, 9474, 4802, 10723, 4178, 9086, 3735, 10377, 3994, 5499, 416, 9226, 691, 9039, 7665, 1371, 202, 8840, 1946, 3265, 12144, 1758, 7655, 11336, 8785, 370, 5615, 10560, 9588, 4265, 9386, 7830, 13073, 7010, 2134, 6555, 10738, 12146, 3436, 0, 12545, 9749, 7416, 5748, 8022, 13030, 7942, 4339, 11360, 12172, 3956, 5838, 2931, 11507, 9139, 6872, 9222, 6274, 2420, 6307, 5370, 13011, 6353, 3291, 12386, 10224, 5523, 3553, 2381, 8382, 6320, 993, 12416, 12735, 3186, 10323, 8889, 11650, 3581, 11547, 11041, 10198, 4257, 9253, 4438, 2532, 1949, 9667, 10012, 11240, 8955, 3344, 86, 10435, 9782, 12090, 1273, 1796, 11212, 10634, 12953, 6203, 9102, 5500, 8881, 4994, 12286, 574, 1328, 2218, 3986, 1199, 2256, 217, 4929, 8299, 187, 4465, 5532, 4510, 10202, 3129, 1610, 7976, 4056, 11523, 4446, 5719, 2807, 13077, 10639, 2449, 9871, 11469, 2763, 9200, 1035, 1092, 12315, 6636, 4217, 2222, 7692, 10137, 711, 8398, 6562, 9087, 11595, 5447, 9359, 12307, 4969, 2728, 12802, 13155, 7094, 11082, 449, 5260, 12385, 7683, 8, 8631, 10252, 3323, 12996, 8724, 12310, 3347, 9533, 10325, 11179, 3479, 11948, 6574, 6753, 10183, 12907, 9523, 3616, 12469, 11216, 7293, 2025, 8697, 6892, 9068, 10590, 7135, 6444, 7676, 7219, 2551, 1701, 5872, 6774, 6843, 11887, 7822, 8037, 2371, 7102, 10337, 4735, 9745, 9140, 12791, 4832, 11968, 8090, 353, 7251, 12072, 10547, 4959, 7578, 2168, 7516, 6700, 10076, 514, 1855, 8573, 9590, 8004, 3609, 12865, 9689, 572, 6766, 2470, 11369, 10671, 11103, 9207, 2677, 5440, 322, 3039, 9210, 3255, 8385, 5191, 1122, 7481, 7388, 7271, 2581, 12971, 347, 895, 4979, 10169, 1809, 7549, 9961, 3659, 1975, 2095, 485, 6275, 2048, 9682, 260, 1010, 1892, 7604, 2330, 453, 12511, 7675, 11680, 5068, 7583, 11160, 8088, 1664, 9495, 7427, 5027, 2233, 628, 10743, 1361, 1194, 9469, 13150, 9244, 6236, 11237, 177, 11966, 971, 9051, 767, 7897, 1289, 6966, 8609, 5067, 11026, 1923, 8708, 6749, 5028, 32, 4842, 9801, 3213, 1559, 2399, 6062, 1282, 3633, 8781, 10804, 5607, 3723, 781, 10640, 173, 4147, 5567, 4131, 7261, 5372, 2609, 4434, 6826, 6675, 3736, 12105, 5531, 4988, 964, 12926, 4907, 12024, 5765, 1957, 6575, 9620, 6029, 4511, 6482, 9839, 9784, 3337, 13124, 6315, 8802, 1132, 5830, 5564, 7527, 10720, 1983, 12927, 9674, 9970, 4074, 8475, 10045, 12151, 477, 6816, 12570, 10979, 944, 8131, 12598, 2414, 420, 8702, 4360, 2813, 3141, 6047, 9820, 2140, 4368, 243, 1853, 542, 2790, 6385, 8933, 10603, 2374, 8108, 2364, 10793, 6244, 11077, 334, 4401, 8427, 6222, 7844, 1362, 12407, 4176, 10838, 6293, 7576, 8021, 8100, 5116, 1172, 10366, 332, 1024, 10475, 1925, 8548, 12922, 6878, 2033, 8268, 2484, 11056, 7589, 10572, 10431, 7931, 6691, 5612, 3943, 8529, 10369, 5213, 124, 2707, 10262, 9625, 8324, 9104, 5483, 1530, 13141, 3457, 12770, 4796, 2958, 6226, 9084, 5074, 7724, 12174, 5526, 4237, 10372, 9764, 1063, 10446, 8346, 8521, 3088, 10399, 12817, 10161, 6422, 13027, 3895, 9073, 11157, 2984, 3693, 2860, 9014, 3860, 7738, 3299, 2224, 1146, 6845, 4331, 7227, 4850, 950, 1806, 9035, 9080, 10534, 10032, 10483, 7631, 10380, 7623, 4508, 11386, 1155, 8860, 3485, 8146, 1614, 11933, 8762, 9830, 397, 1612, 9391, 11228, 448, 6331, 3404, 9193, 13093, 3570, 5803, 7908, 4020, 5993, 9856, 2356, 5601, 9201, 11410, 10803, 12707, 9889, 421, 6319, 10073, 4829, 10541, 6946, 2480, 11472, 12240, 10717, 6729, 2861, 3593, 5078, 1474, 10627, 444, 866, 6362, 600, 2596, 364, 2909, 12908, 6013, 7638, 7484, 5276, 2528, 8863, 11982, 8523, 11425, 2676, 7262, 7580, 11123, 9372, 7747, 7642, 699, 1027, 2927, 883, 9130, 6217, 6367, 1411, 283, 3187, 780, 9215, 11860, 5842, 7582, 4639, 10930, 9783, 2026, 8704, 5399, 8665, 3496, 3249, 9504, 12582, 9091, 2896, 12910]\n"
     ]
    },
    {
     "data": {
      "text/plain": [
       "3058"
      ]
     },
     "execution_count": 107,
     "metadata": {},
     "output_type": "execute_result"
    }
   ],
   "source": [
    "random.seed(1024)\n",
    "sample_n_ba = random.sample(node_list_cc_ba, 3058)\n",
    "print(sample_n_ba)\n",
    "\n",
    "len(sample_n_ba)"
   ]
  },
  {
   "cell_type": "code",
   "execution_count": 108,
   "id": "682fee9a",
   "metadata": {},
   "outputs": [
    {
     "name": "stdout",
     "output_type": "stream",
     "text": [
      "[6, 6, 6, 6, 6, 6, 6, 6, 6, 6, 6, 6, 6, 6, 6, 6, 6, 6, 6, 5, 6, 6, 5, 6, 6, 6, 6, 6, 6, 6, 6, 5, 6, 6, 6, 6, 7, 7, 6, 6, 6, 6, 6, 5, 6, 6, 6, 5, 6, 6, 6, 6, 6, 6, 6, 6, 6, 7, 7, 5, 6, 6, 6, 5, 6, 6, 6, 6, 6, 6, 6, 6, 7, 7, 6, 6, 6, 6, 6, 6, 6, 6, 6, 6, 6, 6, 6, 6, 6, 6, 7, 6, 6, 6, 5, 6, 6, 6, 6, 6, 6, 6, 6, 6, 6, 7, 6, 6, 6, 6, 5, 6, 6, 6, 5, 6, 7, 6, 6, 6, 6, 6, 6, 6, 6, 7, 6, 6, 6, 6, 7, 7, 7, 6, 5, 6, 6, 6, 6, 6, 6, 6, 6, 6, 6, 6, 6, 7, 5, 6, 6, 6, 6, 6, 6, 6, 6, 6, 6, 6, 6, 6, 6, 6, 6, 7, 7, 5, 7, 7, 6, 6, 6, 6, 6, 6, 7, 6, 6, 7, 6, 7, 6, 6, 6, 6, 6, 7, 7, 6, 6, 6, 7, 5, 6, 6, 6, 6, 6, 6, 6, 6, 7, 7, 7, 6, 6, 7, 6, 6, 6, 6, 6, 6, 6, 6, 7, 6, 6, 5, 6, 6, 6, 6, 6, 7, 6, 6, 6, 6, 6, 6, 6, 6, 7, 6, 5, 6, 6, 6, 6, 6, 6, 6, 6, 6, 6, 6, 6, 7, 6, 6, 6, 6, 6, 6, 6, 6, 6, 6, 6, 6, 6, 6, 6, 5, 5, 7, 6, 5, 6, 6, 6, 6, 7, 6, 6, 6, 6, 6, 5, 6, 6, 6, 6, 6, 5, 6, 6, 6, 7, 6, 6, 6, 6, 6, 6, 6, 6, 6, 6, 5, 6, 6, 6, 6, 6, 7, 7, 6, 6, 6, 6, 6, 6, 6, 6, 6, 6, 6, 6, 6, 7, 6, 6, 6, 7, 6, 5, 5, 6, 6, 7, 6, 7, 6, 6, 6, 6, 6, 6, 6, 6, 6, 6, 7, 7, 7, 6, 6, 7, 6, 6, 6, 6, 6, 7, 6, 6, 6, 7, 6, 5, 6, 6, 6, 6, 6, 6, 7, 6, 5, 6, 5, 6, 6, 7, 6, 6, 6, 6, 6, 6, 6, 5, 7, 7, 6, 6, 6, 6, 6, 6, 6, 6, 6, 6, 6, 7, 6, 6, 6, 6, 7, 5, 6, 6, 6, 5, 7, 6, 6, 7, 6, 6, 6, 6, 6, 6, 6, 6, 6, 6, 6, 6, 7, 6, 6, 6, 6, 7, 7, 6, 6, 6, 7, 6, 6, 6, 6, 6, 6, 6, 6, 6, 6, 7, 6, 7, 7, 6, 6, 6, 6, 6, 6, 5, 6, 6, 6, 6, 6, 5, 5, 6, 6, 6, 6, 7, 6, 6, 6, 6, 6, 6, 6, 6, 6, 6, 6, 6, 6, 6, 6, 6, 7, 6, 6, 6, 6, 7, 6, 6, 6, 6, 6, 7, 6, 6, 7, 7, 6, 6, 6, 6, 6, 6, 6, 6, 6, 7, 6, 5, 6, 6, 6, 7, 6, 5, 6, 7, 6, 6, 6, 6, 6, 6, 6, 6, 6, 6, 6, 6, 6, 6, 6, 6, 6, 7, 6, 6, 6, 6, 6, 6, 6, 6, 6, 6, 6, 7, 6, 6, 6, 6, 5, 6, 6, 6, 6, 6, 6, 5, 5, 6, 6, 6, 6, 6, 6, 6, 7, 7, 6, 6, 6, 6, 6, 6, 6, 6, 6, 6, 6, 6, 7, 7, 6, 5, 6, 6, 6, 6, 6, 5, 6, 7, 6, 6, 6, 6, 6, 6, 6, 6, 5, 7, 6, 6, 7, 6, 6, 7, 7, 5, 6, 7, 6, 7, 6, 6, 6, 6, 6, 6, 5, 6, 6, 6, 6, 6, 6, 6, 6, 6, 6, 6, 6, 6, 6, 6, 6, 6, 6, 6, 7, 6, 6, 6, 6, 6, 6, 6, 6, 6, 6, 6, 6, 5, 6, 6, 6, 6, 6, 7, 7, 6, 6, 6, 6, 6, 6, 6, 6, 6, 6, 6, 6, 6, 5, 6, 6, 6, 6, 6, 6, 6, 7, 6, 7, 5, 6, 6, 7, 6, 6, 6, 6, 6, 5, 6, 6, 6, 6, 6, 6, 6, 6, 6, 6, 6, 6, 7, 6, 6, 5, 6, 7, 6, 7, 7, 6, 6, 6, 6, 6, 6, 6, 5, 6, 6, 6, 6, 6, 5, 6, 7, 6, 6, 6, 6, 6, 6, 6, 5, 6, 6, 7, 6, 6, 6, 6, 6, 6, 6, 6, 6, 5, 6, 6, 6, 6, 6, 6, 7, 6, 6, 6, 6, 7, 7, 7, 6, 7, 6, 6, 6, 7, 7, 6, 7, 7, 6, 6, 6, 6, 6, 6, 6, 6, 6, 6, 6, 6, 6, 6, 7, 6, 6, 5, 6, 6, 5, 6, 6, 7, 6, 6, 6, 5, 6, 6, 6, 6, 6, 7, 6, 6, 6, 6, 6, 6, 6, 6, 6, 6, 6, 6, 5, 6, 6, 6, 6, 6, 6, 7, 6, 5, 6, 7, 6, 6, 6, 6, 7, 6, 5, 6, 5, 6, 6, 7, 6, 7, 6, 6, 7, 6, 6, 6, 5, 6, 5, 6, 6, 6, 6, 6, 6, 7, 6, 6, 6, 6, 7, 6, 6, 6, 6, 6, 6, 6, 6, 6, 7, 6, 5, 6, 6, 6, 6, 7, 7, 6, 6, 6, 5, 6, 6, 6, 6, 6, 6, 7, 6, 7, 6, 6, 5, 6, 5, 6, 6, 6, 6, 6, 6, 6, 6, 7, 6, 5, 6, 6, 6, 6, 6, 6, 6, 6, 5, 6, 6, 6, 6, 7, 6, 6, 6, 6, 6, 6, 7, 6, 6, 6, 6, 6, 6, 6, 6, 7, 6, 6, 6, 5, 6, 6, 6, 7, 6, 6, 6, 6, 7, 7, 6, 6, 6, 5, 6, 6, 6, 6, 6, 5, 6, 6, 6, 6, 7, 6, 7, 6, 6, 5, 6, 6, 6, 6, 7, 7, 6, 6, 6, 7, 6, 6, 7, 6, 6, 6, 6, 6, 5, 7, 6, 6, 6, 6, 6, 6, 7, 6, 6, 6, 6, 6, 7, 6, 6, 6, 6, 6, 6, 6, 6, 6, 6, 6, 6, 7, 6, 6, 5, 6, 6, 6, 6, 6, 6, 6, 6, 7, 6, 7, 6, 6, 6, 6, 7, 6, 6, 7, 6, 6, 6, 6, 6, 6, 6, 6, 6, 6, 6, 6, 7, 6, 6, 6, 6, 6, 6, 6, 6, 7, 7, 6, 6, 6, 6, 7, 6, 5, 7, 6, 6, 6, 6, 6, 6, 6, 6, 6, 6, 6, 6, 6, 6, 6, 6, 6, 6, 6, 5, 6, 6, 6, 6, 6, 6, 6, 6, 6, 6, 6, 6, 6, 6, 7, 6, 6, 6, 6, 7, 6, 6, 6, 6, 5, 7, 7, 6, 6, 6, 6, 6, 6, 6, 6, 6, 6, 6, 5, 5, 7, 6, 6, 6, 6, 6, 6, 6, 6, 6, 6, 5, 6, 6, 6, 6, 6, 6, 5, 6, 6, 6, 6, 6, 6, 6, 6, 6, 6, 6, 7, 6, 7, 6, 6, 7, 6, 6, 6, 6, 6, 6, 5, 6, 6, 6, 6, 6, 6, 6, 6, 6, 6, 6, 7, 6, 6, 6, 7, 6, 6, 6, 6, 7, 6, 6, 6, 7, 5, 7, 7, 6, 6, 5, 6, 6, 6, 6, 6, 6, 6, 6, 6, 6, 6, 7, 6, 6, 6, 6, 6, 6, 6, 7, 6, 6, 6, 6, 6, 6, 6, 7, 6, 6, 5, 6, 6, 7, 6, 7, 6, 6, 7, 6, 7, 6, 6, 6, 6, 6, 6, 6, 6, 6, 6, 6, 6, 6, 6, 6, 6, 6, 7, 6, 6, 6, 6, 6, 6, 7, 6, 6, 6, 6, 6, 6, 7, 6, 5, 6, 6, 6, 6, 5, 6, 6, 6, 6, 6, 6, 6, 6, 6, 6, 6, 6, 6, 6, 6, 6, 6, 6, 5, 6, 6, 6, 5, 6, 6, 6, 5, 6, 7, 7, 6, 6, 6, 6, 6, 6, 6, 6, 7, 6, 6, 6, 6, 7, 6, 6, 6, 5, 6, 6, 6, 6, 6, 6, 6, 7, 6, 6, 6, 6, 6, 6, 6, 6, 6, 7, 7, 6, 6, 6, 7, 6, 6, 6, 6, 6, 6, 6, 6, 7, 6, 6, 6, 6, 6, 7, 6, 7, 6, 6, 6, 6, 6, 6, 5, 6, 6, 6, 6, 6, 5, 6, 6, 7, 6, 6, 7, 5, 6, 6, 6, 6, 6, 6, 6, 6, 6, 6, 6, 6, 6, 6, 6, 6, 6, 6, 6, 6, 6, 6, 7, 6, 6, 6, 7, 6, 6, 6, 6, 6, 6, 6, 6, 6, 6, 5, 6, 6, 6, 6, 6, 5, 6, 6, 6, 6, 7, 6, 6, 6, 6, 6, 7, 6, 6, 6, 6, 7, 5, 6, 6, 6, 7, 6, 6, 6, 7, 6, 6, 6, 7, 7, 6, 7, 6, 6, 7, 6, 7, 6, 6, 7, 6, 7, 6, 6, 7, 7, 6, 7, 6, 6, 6, 6, 6, 7, 6, 6, 6, 6, 6, 6, 6, 6, 7, 6, 6, 7, 6, 6, 7, 6, 6, 6, 6, 6, 6, 6, 6, 6, 6, 6, 6, 6, 6, 7, 6, 6, 6, 6, 6, 6, 6, 6, 6, 6, 6, 6, 6, 6, 6, 6, 6, 6, 7, 6, 7, 7, 5, 5, 5, 6, 6, 6, 6, 6, 6, 6, 7, 6, 6, 6, 6, 7, 6, 6, 7, 6, 6, 5, 6, 6, 5, 6, 6, 6, 6, 6, 6, 5, 6, 6, 6, 6, 6, 6, 7, 6, 6, 6, 6, 6, 6, 6, 6, 7, 6, 5, 6, 6, 5, 6, 6, 7, 6, 6, 6, 6, 6, 5, 5, 6, 7, 6, 6, 6, 5, 6, 6, 6, 6, 6, 6, 6, 6, 6, 6, 6, 6, 6, 6, 6, 6, 6, 6, 5, 6, 6, 6, 6, 6, 6, 6, 6, 6, 6, 6, 6, 6, 6, 6, 6, 6, 6, 6, 6, 6, 6, 6, 5, 6, 7, 6, 6, 6, 6, 4, 6, 6, 6, 6, 6, 7, 6, 6, 6, 6, 6, 6, 6, 6, 6, 5, 6, 6, 6, 5, 6, 6, 6, 6, 6, 6, 7, 6, 6, 6, 6, 6, 6, 7, 6, 6, 6, 7, 6, 6, 6, 6, 6, 6, 6, 6, 6, 6, 7, 6, 6, 6, 6, 6, 6, 6, 6, 6, 6, 6, 6, 7, 7, 6, 6, 6, 6, 5, 7, 6, 6, 6, 6, 6, 6, 6, 6, 6, 7, 6, 6, 6, 5, 6, 6, 6, 7, 7, 6, 6, 5, 6, 6, 6, 6, 6, 6, 6, 6, 6, 6, 6, 6, 6, 6, 6, 6, 6, 5, 6, 6, 6, 7, 6, 6, 5, 6, 6, 6, 6, 6, 5, 6, 6, 7, 7, 6, 6, 7, 6, 6, 6, 6, 6, 6, 6, 6, 5, 6, 6, 7, 5, 6, 6, 7, 6, 6, 6, 7, 6, 7, 6, 6, 6, 6, 6, 6, 6, 6, 7, 6, 6, 6, 7, 6, 6, 6, 6, 6, 6, 6, 6, 7, 6, 6, 6, 6, 7, 6, 6, 7, 7, 6, 6, 6, 6, 6, 6, 7, 6, 6, 6, 6, 6, 6, 6, 7, 6, 6, 6, 7, 6, 6, 6, 6, 6, 6, 6, 6, 6, 6, 6, 6, 6, 6, 6, 6, 6, 5, 6, 6, 6, 6, 6, 6, 6, 6, 6, 5, 5, 7, 6, 6, 6, 6, 6, 7, 6, 7, 6, 5, 6, 6, 6, 5, 6, 6, 7, 6, 6, 6, 6, 6, 6, 6, 6, 6, 6, 6, 6, 6, 6, 6, 6, 6, 6, 6, 6, 6, 6, 6, 7, 6, 6, 6, 6, 6, 6, 6, 6, 6, 7, 7, 6, 5, 6, 5, 6, 5, 6, 6, 7, 7, 6, 5, 6, 6, 6, 5, 6, 6, 6, 6, 5, 6, 6, 6, 6, 5, 6, 7, 6, 6, 6, 5, 7, 6, 7, 6, 5, 6, 6, 6, 6, 7, 6, 6, 6, 6, 6, 6, 6, 6, 6, 6, 6, 6, 6, 6, 6, 6, 6, 6, 6, 7, 6, 6, 5, 6, 6, 6, 6, 6, 6, 6, 5, 6, 6, 6, 6, 6, 6, 6, 6, 6, 7, 6, 6, 7, 6, 6, 6, 6, 6, 6, 6, 6, 6, 7, 6, 6, 6, 5, 7, 7, 6, 6, 6, 6, 6, 5, 6, 7, 6, 5, 6, 6, 6, 6, 6, 6, 6, 6, 6, 6, 6, 7, 6, 6, 6, 6, 6, 6, 7, 6, 6, 6, 5, 7, 6, 6, 6, 7, 6, 6, 6, 7, 6, 6, 6, 7, 5, 6, 6, 6, 5, 7, 6, 6, 6, 6, 6, 6, 6, 6, 6, 6, 6, 6, 6, 6, 6, 6, 6, 6, 7, 6, 6, 6, 6, 6, 6, 6, 6, 6, 6, 7, 6, 6, 6, 6, 6, 6, 6, 6, 6, 6, 6, 6, 6, 6, 6, 6, 6, 6, 6, 7, 6, 6, 6, 6, 6, 6, 6, 6, 7, 6, 7, 6, 6, 6, 6, 7, 6, 6, 6, 6, 6, 6, 6, 6, 7, 6, 6, 6, 6, 6, 6, 6, 7, 6, 6, 6, 7, 5, 6, 6, 6, 6, 6, 6, 6, 6, 6, 6, 6, 6, 7, 6, 6, 6, 6, 5, 6, 7, 6, 6, 6, 6, 6, 6, 6, 6, 6, 6, 6, 6, 5, 6, 6, 6, 6, 6, 6, 7, 6, 6, 6, 7, 6, 6, 6, 6, 6, 6, 6, 6, 7, 6, 6, 6, 6, 6, 6, 6, 6, 6, 7, 6, 6, 6, 6, 6, 6, 6, 5, 6, 7, 6, 6, 6, 6, 6, 6, 7, 7, 7, 6, 6, 6, 6, 5, 6, 6, 6, 6, 6, 6, 6, 7, 5, 6, 6, 6, 6, 7, 7, 6, 6, 6, 5, 6, 6, 6, 6, 6, 7, 6, 6, 6, 6, 6, 6, 6, 6, 6, 6, 6, 7, 7, 7, 6, 5, 6, 6, 6, 6, 6, 6, 6, 6, 6, 6, 6, 6, 6, 7, 6, 6, 7, 5, 5, 6, 7, 6, 6, 6, 7, 6, 6, 6, 6, 6, 6, 6, 6, 6, 6, 6, 6, 6, 6, 6, 7, 7, 6, 7, 6, 5, 6, 6, 6, 6, 6, 5, 5, 6, 7, 6, 6, 5, 6, 6, 6, 6, 7, 6, 6, 6, 6, 6, 6, 6, 6, 6, 6, 6, 6, 6, 7, 6, 6, 6, 6, 6, 6, 6, 6, 5, 6, 7, 6, 6, 7, 6, 7, 6, 6, 6, 7, 6, 6, 7, 6, 6, 6, 6, 6, 6, 6, 6, 6, 6, 6, 6, 5, 6, 6, 7, 6, 6, 6, 6, 7, 6, 5, 7, 7, 5, 6, 6, 7, 6, 6, 7, 6, 6, 6, 6, 6, 6, 6, 7, 6, 6, 6, 6, 6, 7, 6, 6, 6, 6, 5, 6, 7, 6, 5, 7, 6, 5, 6, 6, 6, 6, 5, 5, 6, 6, 6, 6, 6, 6, 7, 6, 6, 6, 6, 6, 6, 5, 6, 5, 6, 6, 6, 6, 6, 6, 6, 7, 6, 6, 6, 6, 6, 6, 6, 6, 6, 6, 6, 7, 6, 6, 6, 6, 7, 7, 6, 6, 5, 6, 5, 6, 6, 6, 7, 7, 6, 7, 6, 6, 6, 6, 6, 6, 6, 6, 6, 7, 7, 6, 5, 7, 6, 5, 6, 6, 6, 6, 7, 6, 6, 6, 6, 6, 6, 5, 6, 6, 6, 6, 6, 5, 5, 7, 5, 6, 6, 6, 6, 6, 5, 7, 6, 6, 6, 6, 6, 7, 7, 6, 7, 6, 6, 6, 6, 6, 7, 6, 6, 6, 7, 6, 6, 6, 6, 6, 7, 6, 7, 7, 6, 6, 7, 6, 6, 6, 5, 6, 6, 6, 5, 7, 6, 6, 6, 7, 7, 6, 7, 6, 6, 6, 6, 7, 6, 7, 7, 6, 6, 7, 6, 6, 6, 6, 7, 6, 6, 6, 6, 6, 6, 6, 6, 6, 6, 6, 6, 6, 6, 6, 7, 6, 6, 6, 7, 7, 6, 6, 6, 6, 6, 5, 6, 6, 6, 6, 6, 6, 6, 6, 6, 6, 6, 6, 6, 6, 6, 5, 7, 6, 7, 6, 7, 6, 6, 6, 5, 6, 6, 5, 6, 6, 6, 6, 6, 6, 6, 6, 6, 6, 6, 6, 6, 6, 6, 6, 5, 6, 6, 6, 6, 6, 6, 5, 6, 6, 6, 6, 6, 6, 7, 6, 6, 6, 6, 6, 7, 6, 6, 6, 6, 6, 6, 6, 6, 7, 6, 6, 6, 5, 6, 6, 6, 6, 6, 6, 7, 6, 6, 6, 6, 6, 6, 6, 5, 6, 6, 6, 6, 6, 6, 6, 6, 6, 6, 6, 6, 6, 7, 6, 6, 6, 6, 6, 6, 6, 7, 6, 6, 6, 6, 6, 6, 6, 6, 6, 7, 6, 6, 5, 6, 6, 6, 6, 7, 6, 7, 6, 6, 6, 6, 6, 6, 6, 6, 6, 6, 6, 6, 6, 7, 6, 6, 6, 7, 6, 6, 6, 6, 6, 6, 5, 6, 6, 7, 6, 6, 6, 6, 6, 6, 6, 5, 6, 6, 6, 6, 6, 6, 6, 7, 6, 6, 5, 6, 7, 6, 6, 6, 6, 6, 6, 6, 6, 6, 6, 6, 6, 6, 6, 6, 7, 6, 6, 6, 6, 6, 7, 6, 6, 6, 7, 7, 7, 6, 7, 6, 6, 6, 6, 5, 6, 6, 7, 7, 6, 6, 6, 7, 6, 7, 6, 6, 6, 6, 6, 7, 7, 6, 6, 6, 6, 6, 6, 6, 6, 6, 6, 7, 6, 6, 7, 5, 6, 7, 6, 7, 6, 6, 6, 6, 6, 6, 6, 6, 6, 6, 6, 6, 6, 6, 7, 6, 7, 6, 6, 6, 6, 6, 6, 6, 7, 6, 7, 6, 6, 6, 5, 5, 6, 6, 7, 6, 7, 5, 6, 6, 6, 6, 6, 6, 7, 6, 6, 6, 6, 7, 6, 7, 6, 6, 7, 6, 6, 6, 6, 5, 5, 6, 6, 6, 6, 6, 6, 6, 7, 5, 5, 6, 6, 6, 6, 5, 6, 6, 6, 6, 6, 6, 7, 6, 6, 6, 6, 6, 6, 6, 7, 6, 6, 5, 6, 6, 5, 6, 6, 7, 6, 5, 6, 5, 6, 6, 6, 6, 6, 6, 6, 6, 6, 7, 7, 6, 6, 7, 6, 6, 6, 7]\n"
     ]
    }
   ],
   "source": [
    "diam_samp_ba=[]\n",
    "for node in sample_n_ba:\n",
    "     diam_samp_ba.append(nx.eccentricity(ba,node))\n",
    "print(diam_samp_ba)"
   ]
  },
  {
   "cell_type": "code",
   "execution_count": 109,
   "id": "1305e859",
   "metadata": {},
   "outputs": [
    {
     "data": {
      "text/plain": [
       "7"
      ]
     },
     "execution_count": 109,
     "metadata": {},
     "output_type": "execute_result"
    }
   ],
   "source": [
    "max(diam_samp_ba)"
   ]
  },
  {
   "cell_type": "markdown",
   "id": "42a92bc4",
   "metadata": {},
   "source": [
    "## Shortest path"
   ]
  },
  {
   "cell_type": "code",
   "execution_count": 110,
   "id": "c803289f",
   "metadata": {},
   "outputs": [
    {
     "name": "stdout",
     "output_type": "stream",
     "text": [
      "Number of Connected Components of 'G_indiretto':  1\n",
      "Average shortest path (of giant cc with) =  4.399144931223293\n"
     ]
    }
   ],
   "source": [
    "giant_cc_ba = list(nx.connected_components(ba)) #ok ritorna solo 1 componente gigante\n",
    "print(\"Number of Connected Components of 'G_indiretto': \", len(giant_cc_ba))\n",
    "\n",
    "print(\"Average shortest path (of giant cc with) = \",nx.average_shortest_path_length(ba))"
   ]
  },
  {
   "cell_type": "markdown",
   "id": "bd587ab6",
   "metadata": {},
   "source": [
    "## Clustering coefficient"
   ]
  },
  {
   "cell_type": "code",
   "execution_count": 111,
   "id": "d5340f1b",
   "metadata": {},
   "outputs": [
    {
     "name": "stdout",
     "output_type": "stream",
     "text": [
      "Global clustering coefficient: 0.003084265106645402\n"
     ]
    }
   ],
   "source": [
    "clustering_coefficient = nx.average_clustering(ba)\n",
    "print('Global clustering coefficient:', clustering_coefficient)"
   ]
  },
  {
   "cell_type": "code",
   "execution_count": 112,
   "id": "856351f5",
   "metadata": {},
   "outputs": [
    {
     "data": {
      "text/plain": [
       "{0: 0.0018068887634105025,\n",
       " 1: 0.003007170946102244,\n",
       " 2: 0.0014809751651856916,\n",
       " 3: 0.002158273381294964,\n",
       " 4: 0.0016866781017724414,\n",
       " 5: 0.0023391812865497076,\n",
       " 6: 0.0014658726523133303,\n",
       " 7: 0.00273224043715847,\n",
       " 8: 0.0019157088122605363,\n",
       " 9: 0.0010867202782003911,\n",
       " 10: 0.004091174751607247,\n",
       " 11: 0.0019409937888198758,\n",
       " 12: 0.0011299435028248588,\n",
       " 13: 0.0031729243786356425,\n",
       " 14: 0.0017689331122166944,\n",
       " 15: 0.000992063492063492,\n",
       " 16: 0.0018315018315018315,\n",
       " 17: 0.002844950213371266,\n",
       " 18: 0.0022982635342185904,\n",
       " 19: 0.0032967032967032967,\n",
       " 20: 0.005398110661268556,\n",
       " 21: 0.0013548299688389107,\n",
       " 22: 0.0016247969003874516,\n",
       " 23: 0.0024623803009575923,\n",
       " 24: 0.001564945226917058,\n",
       " 25: 0.004759386567953464,\n",
       " 26: 0.0015677491601343784,\n",
       " 27: 0.0012422360248447205,\n",
       " 28: 0.0018648018648018648,\n",
       " 29: 0.0009615384615384616,\n",
       " 30: 0.0018358248098610018,\n",
       " 31: 0.0038461538461538464,\n",
       " 32: 0.00273224043715847,\n",
       " 33: 0.0005120327700972862,\n",
       " 34: 0.0033222591362126247,\n",
       " 35: 0.0004389815627743635,\n",
       " 36: 0,\n",
       " 37: 0.002902757619738752,\n",
       " 38: 0.004251700680272109,\n",
       " 39: 0.003952569169960474,\n",
       " 40: 0.001332001332001332,\n",
       " 41: 0.0004807692307692308,\n",
       " 42: 0.0007614696363982486,\n",
       " 43: 0.00202020202020202,\n",
       " 44: 0.0038461538461538464,\n",
       " 45: 0.007246376811594203,\n",
       " 46: 0.0049261083743842365,\n",
       " 47: 0,\n",
       " 48: 0,\n",
       " 49: 0.0008503401360544217,\n",
       " 50: 0.003171247357293869,\n",
       " 51: 0.0008048289738430583,\n",
       " 52: 0.000496031746031746,\n",
       " 53: 0.006896551724137931,\n",
       " 54: 0.00044888340253619125,\n",
       " 55: 0.0031746031746031746,\n",
       " 56: 0.0020161290322580645,\n",
       " 57: 0.0036231884057971015,\n",
       " 58: 0.0005601194921583271,\n",
       " 59: 0,\n",
       " 60: 0.0008048289738430583,\n",
       " 61: 0.001349527665317139,\n",
       " 62: 0.0017825311942959,\n",
       " 63: 0.0036231884057971015,\n",
       " 64: 0.0022988505747126436,\n",
       " 65: 0,\n",
       " 66: 0.00202020202020202,\n",
       " 67: 0.0010240655401945725,\n",
       " 68: 0.002564102564102564,\n",
       " 69: 0.000380517503805175,\n",
       " 70: 0,\n",
       " 71: 0.0010570824524312897,\n",
       " 72: 0,\n",
       " 73: 0,\n",
       " 74: 0.0016806722689075631,\n",
       " 75: 0.0008163265306122449,\n",
       " 76: 0,\n",
       " 77: 0,\n",
       " 78: 0,\n",
       " 79: 0,\n",
       " 80: 0.008547008547008548,\n",
       " 81: 0.004032258064516129,\n",
       " 82: 0.0030303030303030303,\n",
       " 83: 0.010526315789473684,\n",
       " 84: 0,\n",
       " 85: 0.009523809523809525,\n",
       " 86: 0.0038461538461538464,\n",
       " 87: 0.0005737234652897303,\n",
       " 88: 0,\n",
       " 89: 0.0011689070718877848,\n",
       " 90: 0.001568627450980392,\n",
       " 91: 0.002014652014652015,\n",
       " 92: 0,\n",
       " 93: 0.0006049606775559589,\n",
       " 94: 0.0016806722689075631,\n",
       " 95: 0.007389162561576354,\n",
       " 96: 0.0005844535359438924,\n",
       " 97: 0,\n",
       " 98: 0.0015082956259426848,\n",
       " 99: 0,\n",
       " 100: 0.005847953216374269,\n",
       " 101: 0.01818181818181818,\n",
       " 102: 0.0012987012987012987,\n",
       " 103: 0,\n",
       " 104: 0,\n",
       " 105: 0.5,\n",
       " 106: 0.0017825311942959,\n",
       " 107: 0.0023228803716608595,\n",
       " 108: 0.002506265664160401,\n",
       " 109: 0,\n",
       " 110: 0,\n",
       " 111: 0.006535947712418301,\n",
       " 112: 0,\n",
       " 113: 0,\n",
       " 114: 0.0035650623885918,\n",
       " 115: 0,\n",
       " 116: 0,\n",
       " 117: 0,\n",
       " 118: 0.0013468013468013469,\n",
       " 119: 0.001932367149758454,\n",
       " 120: 0.0007541478129713424,\n",
       " 121: 0.0006265664160401002,\n",
       " 122: 0.004329004329004329,\n",
       " 123: 0.002150537634408602,\n",
       " 124: 0,\n",
       " 125: 0,\n",
       " 126: 0,\n",
       " 127: 0.0017825311942959,\n",
       " 128: 0.0011614401858304297,\n",
       " 129: 0.0007017543859649122,\n",
       " 130: 0,\n",
       " 131: 0,\n",
       " 132: 0.0016096579476861167,\n",
       " 133: 0,\n",
       " 134: 0.0011198208286674132,\n",
       " 135: 0,\n",
       " 136: 0,\n",
       " 137: 0,\n",
       " 138: 0,\n",
       " 139: 0,\n",
       " 140: 0,\n",
       " 141: 0.0033333333333333335,\n",
       " 142: 0,\n",
       " 143: 0.008333333333333333,\n",
       " 144: 0.0016326530612244899,\n",
       " 145: 0,\n",
       " 146: 0.0016096579476861167,\n",
       " 147: 0.0016806722689075631,\n",
       " 148: 0,\n",
       " 149: 0.0036231884057971015,\n",
       " 150: 0.003076923076923077,\n",
       " 151: 0.0022148394241417496,\n",
       " 152: 0.002849002849002849,\n",
       " 153: 0,\n",
       " 154: 0,\n",
       " 155: 0,\n",
       " 156: 0.0017006802721088435,\n",
       " 157: 0,\n",
       " 158: 0.007246376811594203,\n",
       " 159: 0,\n",
       " 160: 0,\n",
       " 161: 0,\n",
       " 162: 0.004251700680272109,\n",
       " 163: 0.004301075268817204,\n",
       " 164: 0.005263157894736842,\n",
       " 165: 0,\n",
       " 166: 0,\n",
       " 167: 0.022222222222222223,\n",
       " 168: 0,\n",
       " 169: 0.001282051282051282,\n",
       " 170: 0,\n",
       " 171: 0.0022988505747126436,\n",
       " 172: 0.004761904761904762,\n",
       " 173: 0.005847953216374269,\n",
       " 174: 0.02197802197802198,\n",
       " 175: 0.008333333333333333,\n",
       " 176: 0,\n",
       " 177: 0.002150537634408602,\n",
       " 178: 0,\n",
       " 179: 0.003658536585365854,\n",
       " 180: 0.027777777777777776,\n",
       " 181: 0.003076923076923077,\n",
       " 182: 0,\n",
       " 183: 0.015151515151515152,\n",
       " 184: 0.004329004329004329,\n",
       " 185: 0,\n",
       " 186: 0,\n",
       " 187: 0,\n",
       " 188: 0.006535947712418301,\n",
       " 189: 0,\n",
       " 190: 0.002849002849002849,\n",
       " 191: 0.0009615384615384616,\n",
       " 192: 0.002564102564102564,\n",
       " 193: 0.001402524544179523,\n",
       " 194: 0,\n",
       " 195: 0.01818181818181818,\n",
       " 196: 0.0005288207297726071,\n",
       " 197: 0,\n",
       " 198: 0,\n",
       " 199: 0,\n",
       " 200: 0,\n",
       " 201: 0,\n",
       " 202: 0.0008865248226950354,\n",
       " 203: 0.001422475106685633,\n",
       " 204: 0,\n",
       " 205: 0,\n",
       " 206: 0,\n",
       " 207: 0,\n",
       " 208: 0.015151515151515152,\n",
       " 209: 0,\n",
       " 210: 0.001893939393939394,\n",
       " 211: 0,\n",
       " 212: 0,\n",
       " 213: 0,\n",
       " 214: 0.0015015015015015015,\n",
       " 215: 0.0016806722689075631,\n",
       " 216: 0,\n",
       " 217: 0,\n",
       " 218: 0,\n",
       " 219: 0.0038461538461538464,\n",
       " 220: 0,\n",
       " 221: 0.008547008547008548,\n",
       " 222: 0,\n",
       " 223: 0,\n",
       " 224: 0,\n",
       " 225: 0,\n",
       " 226: 0,\n",
       " 227: 0,\n",
       " 228: 0,\n",
       " 229: 0,\n",
       " 230: 0.005263157894736842,\n",
       " 231: 0.01818181818181818,\n",
       " 232: 0.004032258064516129,\n",
       " 233: 0,\n",
       " 234: 0.006535947712418301,\n",
       " 235: 0.0031746031746031746,\n",
       " 236: 0,\n",
       " 237: 0.008333333333333333,\n",
       " 238: 0.015151515151515152,\n",
       " 239: 0,\n",
       " 240: 0.016666666666666666,\n",
       " 241: 0,\n",
       " 242: 0,\n",
       " 243: 0,\n",
       " 244: 0,\n",
       " 245: 0.0017825311942959,\n",
       " 246: 0,\n",
       " 247: 0,\n",
       " 248: 0,\n",
       " 249: 0,\n",
       " 250: 0.0008865248226950354,\n",
       " 251: 0,\n",
       " 252: 0,\n",
       " 253: 0.0016806722689075631,\n",
       " 254: 0,\n",
       " 255: 0,\n",
       " 256: 0,\n",
       " 257: 0.022222222222222223,\n",
       " 258: 0,\n",
       " 259: 0,\n",
       " 260: 0.004329004329004329,\n",
       " 261: 0.0036231884057971015,\n",
       " 262: 0.006535947712418301,\n",
       " 263: 0.0023228803716608595,\n",
       " 264: 0,\n",
       " 265: 0,\n",
       " 266: 0,\n",
       " 267: 0,\n",
       " 268: 0,\n",
       " 269: 0.006535947712418301,\n",
       " 270: 0,\n",
       " 271: 0.001422475106685633,\n",
       " 272: 0.01098901098901099,\n",
       " 273: 0,\n",
       " 274: 0.0036231884057971015,\n",
       " 275: 0.0015873015873015873,\n",
       " 276: 0.01282051282051282,\n",
       " 277: 0,\n",
       " 278: 0.001282051282051282,\n",
       " 279: 0.01098901098901099,\n",
       " 280: 0,\n",
       " 281: 0,\n",
       " 282: 0,\n",
       " 283: 0.017543859649122806,\n",
       " 284: 0,\n",
       " 285: 0,\n",
       " 286: 0,\n",
       " 287: 0,\n",
       " 288: 0,\n",
       " 289: 0,\n",
       " 290: 0.01282051282051282,\n",
       " 291: 0.002150537634408602,\n",
       " 292: 0.005698005698005698,\n",
       " 293: 0.0026455026455026454,\n",
       " 294: 0.06666666666666667,\n",
       " 295: 0,\n",
       " 296: 0.0011614401858304297,\n",
       " 297: 0,\n",
       " 298: 0,\n",
       " 299: 0,\n",
       " 300: 0,\n",
       " 301: 0,\n",
       " 302: 0,\n",
       " 303: 0,\n",
       " 304: 0,\n",
       " 305: 0,\n",
       " 306: 0.0045045045045045045,\n",
       " 307: 0.004761904761904762,\n",
       " 308: 0.0036231884057971015,\n",
       " 309: 0,\n",
       " 310: 0.009523809523809525,\n",
       " 311: 0.047619047619047616,\n",
       " 312: 0,\n",
       " 313: 0,\n",
       " 314: 0,\n",
       " 315: 0,\n",
       " 316: 0,\n",
       " 317: 0,\n",
       " 318: 0,\n",
       " 319: 0,\n",
       " 320: 0,\n",
       " 321: 0,\n",
       " 322: 0,\n",
       " 323: 0.004761904761904762,\n",
       " 324: 0,\n",
       " 325: 0,\n",
       " 326: 0,\n",
       " 327: 0,\n",
       " 328: 0,\n",
       " 329: 0,\n",
       " 330: 0.006666666666666667,\n",
       " 331: 0,\n",
       " 332: 0,\n",
       " 333: 0,\n",
       " 334: 0,\n",
       " 335: 0,\n",
       " 336: 0.001893939393939394,\n",
       " 337: 0,\n",
       " 338: 0,\n",
       " 339: 0,\n",
       " 340: 0,\n",
       " 341: 0,\n",
       " 342: 0.0033333333333333335,\n",
       " 343: 0.0024630541871921183,\n",
       " 344: 0,\n",
       " 345: 0.0020161290322580645,\n",
       " 346: 0,\n",
       " 347: 0.005847953216374269,\n",
       " 348: 0,\n",
       " 349: 0,\n",
       " 350: 0,\n",
       " 351: 0.01282051282051282,\n",
       " 352: 0,\n",
       " 353: 0,\n",
       " 354: 0.005681818181818182,\n",
       " 355: 0,\n",
       " 356: 0,\n",
       " 357: 0,\n",
       " 358: 0,\n",
       " 359: 0,\n",
       " 360: 0.0022988505747126436,\n",
       " 361: 0,\n",
       " 362: 0,\n",
       " 363: 0,\n",
       " 364: 0,\n",
       " 365: 0,\n",
       " 366: 0,\n",
       " 367: 0.01818181818181818,\n",
       " 368: 0,\n",
       " 369: 0,\n",
       " 370: 0,\n",
       " 371: 0,\n",
       " 372: 0,\n",
       " 373: 0.03571428571428571,\n",
       " 374: 0,\n",
       " 375: 0,\n",
       " 376: 0,\n",
       " 377: 0.002699055330634278,\n",
       " 378: 0,\n",
       " 379: 0.0036231884057971015,\n",
       " 380: 0,\n",
       " 381: 0.0026455026455026454,\n",
       " 382: 0,\n",
       " 383: 0,\n",
       " 384: 0,\n",
       " 385: 0,\n",
       " 386: 0,\n",
       " 387: 0,\n",
       " 388: 0,\n",
       " 389: 0,\n",
       " 390: 0,\n",
       " 391: 0,\n",
       " 392: 0,\n",
       " 393: 0.013071895424836602,\n",
       " 394: 0,\n",
       " 395: 0,\n",
       " 396: 0,\n",
       " 397: 0,\n",
       " 398: 0,\n",
       " 399: 0,\n",
       " 400: 0,\n",
       " 401: 0.003952569169960474,\n",
       " 402: 0.006535947712418301,\n",
       " 403: 0,\n",
       " 404: 0,\n",
       " 405: 0,\n",
       " 406: 0,\n",
       " 407: 0,\n",
       " 408: 0,\n",
       " 409: 0,\n",
       " 410: 0,\n",
       " 411: 0,\n",
       " 412: 0,\n",
       " 413: 0,\n",
       " 414: 0.0026455026455026454,\n",
       " 415: 0.027777777777777776,\n",
       " 416: 0,\n",
       " 417: 0,\n",
       " 418: 0,\n",
       " 419: 0,\n",
       " 420: 0.01904761904761905,\n",
       " 421: 0,\n",
       " 422: 0,\n",
       " 423: 0,\n",
       " 424: 0,\n",
       " 425: 0,\n",
       " 426: 0.004329004329004329,\n",
       " 427: 0,\n",
       " 428: 0,\n",
       " 429: 0.009523809523809525,\n",
       " 430: 0,\n",
       " 431: 0,\n",
       " 432: 0,\n",
       " 433: 0.0036231884057971015,\n",
       " 434: 0,\n",
       " 435: 0,\n",
       " 436: 0,\n",
       " 437: 0,\n",
       " 438: 0,\n",
       " 439: 0,\n",
       " 440: 0,\n",
       " 441: 0,\n",
       " 442: 0.01818181818181818,\n",
       " 443: 0,\n",
       " 444: 0,\n",
       " 445: 0,\n",
       " 446: 0,\n",
       " 447: 0.002699055330634278,\n",
       " 448: 0.01098901098901099,\n",
       " 449: 0,\n",
       " 450: 0,\n",
       " 451: 0,\n",
       " 452: 0,\n",
       " 453: 0.047619047619047616,\n",
       " 454: 0,\n",
       " 455: 0,\n",
       " 456: 0,\n",
       " 457: 0,\n",
       " 458: 0,\n",
       " 459: 0.0026455026455026454,\n",
       " 460: 0.015151515151515152,\n",
       " 461: 0.006535947712418301,\n",
       " 462: 0.011695906432748537,\n",
       " 463: 0,\n",
       " 464: 0,\n",
       " 465: 0,\n",
       " 466: 0,\n",
       " 467: 0.044444444444444446,\n",
       " 468: 0,\n",
       " 469: 0.006535947712418301,\n",
       " 470: 0,\n",
       " 471: 0,\n",
       " 472: 0,\n",
       " 473: 0.05555555555555555,\n",
       " 474: 0.008333333333333333,\n",
       " 475: 0.005847953216374269,\n",
       " 476: 0,\n",
       " 477: 0,\n",
       " 478: 0.01098901098901099,\n",
       " 479: 0,\n",
       " 480: 0.03571428571428571,\n",
       " 481: 0,\n",
       " 482: 0.004761904761904762,\n",
       " 483: 0.005263157894736842,\n",
       " 484: 0,\n",
       " 485: 0,\n",
       " 486: 0,\n",
       " 487: 0,\n",
       " 488: 0,\n",
       " 489: 0,\n",
       " 490: 0,\n",
       " 491: 0,\n",
       " 492: 0,\n",
       " 493: 0,\n",
       " 494: 0,\n",
       " 495: 0,\n",
       " 496: 0,\n",
       " 497: 0,\n",
       " 498: 0,\n",
       " 499: 0,\n",
       " 500: 0,\n",
       " 501: 0,\n",
       " 502: 0,\n",
       " 503: 0,\n",
       " 504: 0,\n",
       " 505: 0,\n",
       " 506: 0,\n",
       " 507: 0,\n",
       " 508: 0,\n",
       " 509: 0.007246376811594203,\n",
       " 510: 0,\n",
       " 511: 0,\n",
       " 512: 0,\n",
       " 513: 0.003952569169960474,\n",
       " 514: 0.006535947712418301,\n",
       " 515: 0.015151515151515152,\n",
       " 516: 0,\n",
       " 517: 0.015151515151515152,\n",
       " 518: 0,\n",
       " 519: 0,\n",
       " 520: 0,\n",
       " 521: 0.01098901098901099,\n",
       " 522: 0,\n",
       " 523: 0,\n",
       " 524: 0,\n",
       " 525: 0,\n",
       " 526: 0,\n",
       " 527: 0.005263157894736842,\n",
       " 528: 0,\n",
       " 529: 0,\n",
       " 530: 0,\n",
       " 531: 0,\n",
       " 532: 0,\n",
       " 533: 0.007352941176470588,\n",
       " 534: 0,\n",
       " 535: 0,\n",
       " 536: 0,\n",
       " 537: 0.009523809523809525,\n",
       " 538: 0.003076923076923077,\n",
       " 539: 0,\n",
       " 540: 0,\n",
       " 541: 0,\n",
       " 542: 0.009523809523809525,\n",
       " 543: 0,\n",
       " 544: 0,\n",
       " 545: 0,\n",
       " 546: 0,\n",
       " 547: 0,\n",
       " 548: 0.05128205128205128,\n",
       " 549: 0.006535947712418301,\n",
       " 550: 0,\n",
       " 551: 0,\n",
       " 552: 0,\n",
       " 553: 0,\n",
       " 554: 0,\n",
       " 555: 0,\n",
       " 556: 0,\n",
       " 557: 0,\n",
       " 558: 0,\n",
       " 559: 0,\n",
       " 560: 0,\n",
       " 561: 0,\n",
       " 562: 0.03571428571428571,\n",
       " 563: 0,\n",
       " 564: 0,\n",
       " 565: 0,\n",
       " 566: 0,\n",
       " 567: 0,\n",
       " 568: 0,\n",
       " 569: 0,\n",
       " 570: 0,\n",
       " 571: 0,\n",
       " 572: 0.003952569169960474,\n",
       " 573: 0,\n",
       " 574: 0,\n",
       " 575: 0,\n",
       " 576: 0,\n",
       " 577: 0,\n",
       " 578: 0,\n",
       " 579: 0.012987012987012988,\n",
       " 580: 0,\n",
       " 581: 0,\n",
       " 582: 0,\n",
       " 583: 0,\n",
       " 584: 0,\n",
       " 585: 0,\n",
       " 586: 0,\n",
       " 587: 0.013071895424836602,\n",
       " 588: 0,\n",
       " 589: 0.01098901098901099,\n",
       " 590: 0,\n",
       " 591: 0,\n",
       " 592: 0,\n",
       " 593: 0,\n",
       " 594: 0,\n",
       " 595: 0,\n",
       " 596: 0,\n",
       " 597: 0,\n",
       " 598: 0.01282051282051282,\n",
       " 599: 0,\n",
       " 600: 0,\n",
       " 601: 0,\n",
       " 602: 0.0024630541871921183,\n",
       " 603: 0,\n",
       " 604: 0.009523809523809525,\n",
       " 605: 0,\n",
       " 606: 0,\n",
       " 607: 0,\n",
       " 608: 0,\n",
       " 609: 0,\n",
       " 610: 0.015151515151515152,\n",
       " 611: 0,\n",
       " 612: 0.047619047619047616,\n",
       " 613: 0,\n",
       " 614: 0,\n",
       " 615: 0,\n",
       " 616: 0,\n",
       " 617: 0,\n",
       " 618: 0,\n",
       " 619: 0,\n",
       " 620: 0,\n",
       " 621: 0.3333333333333333,\n",
       " 622: 0,\n",
       " 623: 0,\n",
       " 624: 0.015151515151515152,\n",
       " 625: 0,\n",
       " 626: 0,\n",
       " 627: 0,\n",
       " 628: 0,\n",
       " 629: 0,\n",
       " 630: 0,\n",
       " 631: 0.005263157894736842,\n",
       " 632: 0.03571428571428571,\n",
       " 633: 0,\n",
       " 634: 0.007352941176470588,\n",
       " 635: 0,\n",
       " 636: 0,\n",
       " 637: 0,\n",
       " 638: 0,\n",
       " 639: 0,\n",
       " 640: 0,\n",
       " 641: 0,\n",
       " 642: 0,\n",
       " 643: 0.01098901098901099,\n",
       " 644: 0,\n",
       " 645: 0.005263157894736842,\n",
       " 646: 0,\n",
       " 647: 0,\n",
       " 648: 0,\n",
       " 649: 0.03571428571428571,\n",
       " 650: 0,\n",
       " 651: 0,\n",
       " 652: 0,\n",
       " 653: 0,\n",
       " 654: 0,\n",
       " 655: 0,\n",
       " 656: 0,\n",
       " 657: 0.03571428571428571,\n",
       " 658: 0,\n",
       " 659: 0,\n",
       " 660: 0.008333333333333333,\n",
       " 661: 0,\n",
       " 662: 0,\n",
       " 663: 0,\n",
       " 664: 0.006535947712418301,\n",
       " 665: 0,\n",
       " 666: 0.003076923076923077,\n",
       " 667: 0,\n",
       " 668: 0,\n",
       " 669: 0,\n",
       " 670: 0,\n",
       " 671: 0,\n",
       " 672: 0,\n",
       " 673: 0,\n",
       " 674: 0.005847953216374269,\n",
       " 675: 0,\n",
       " 676: 0.007352941176470588,\n",
       " 677: 0,\n",
       " 678: 0,\n",
       " 679: 0,\n",
       " 680: 0,\n",
       " 681: 0,\n",
       " 682: 0,\n",
       " 683: 0,\n",
       " 684: 0,\n",
       " 685: 0.047619047619047616,\n",
       " 686: 0,\n",
       " 687: 0,\n",
       " 688: 0,\n",
       " 689: 0,\n",
       " 690: 0,\n",
       " 691: 0,\n",
       " 692: 0,\n",
       " 693: 0,\n",
       " 694: 0,\n",
       " 695: 0.005263157894736842,\n",
       " 696: 0,\n",
       " 697: 0,\n",
       " 698: 0.1,\n",
       " 699: 0,\n",
       " 700: 0,\n",
       " 701: 0,\n",
       " 702: 0,\n",
       " 703: 0,\n",
       " 704: 0,\n",
       " 705: 0,\n",
       " 706: 0,\n",
       " 707: 0,\n",
       " 708: 0,\n",
       " 709: 0,\n",
       " 710: 0,\n",
       " 711: 0,\n",
       " 712: 0,\n",
       " 713: 0,\n",
       " 714: 0,\n",
       " 715: 0,\n",
       " 716: 0,\n",
       " 717: 0,\n",
       " 718: 0,\n",
       " 719: 0,\n",
       " 720: 0,\n",
       " 721: 0,\n",
       " 722: 0,\n",
       " 723: 0,\n",
       " 724: 0,\n",
       " 725: 0,\n",
       " 726: 0,\n",
       " 727: 0,\n",
       " 728: 0,\n",
       " 729: 0,\n",
       " 730: 0,\n",
       " 731: 0,\n",
       " 732: 0,\n",
       " 733: 0,\n",
       " 734: 0,\n",
       " 735: 0.0026455026455026454,\n",
       " 736: 0.047619047619047616,\n",
       " 737: 0,\n",
       " 738: 0,\n",
       " 739: 0,\n",
       " 740: 0,\n",
       " 741: 0.03571428571428571,\n",
       " 742: 0,\n",
       " 743: 0,\n",
       " 744: 0,\n",
       " 745: 0,\n",
       " 746: 0,\n",
       " 747: 0,\n",
       " 748: 0.025,\n",
       " 749: 0,\n",
       " 750: 0,\n",
       " 751: 0,\n",
       " 752: 0,\n",
       " 753: 0,\n",
       " 754: 0,\n",
       " 755: 0,\n",
       " 756: 0,\n",
       " 757: 0,\n",
       " 758: 0.003076923076923077,\n",
       " 759: 0,\n",
       " 760: 0,\n",
       " 761: 0,\n",
       " 762: 0,\n",
       " 763: 0.016666666666666666,\n",
       " 764: 0,\n",
       " 765: 0,\n",
       " 766: 0,\n",
       " 767: 0,\n",
       " 768: 0,\n",
       " 769: 0,\n",
       " 770: 0.0026455026455026454,\n",
       " 771: 0,\n",
       " 772: 0,\n",
       " 773: 0,\n",
       " 774: 0,\n",
       " 775: 0.022222222222222223,\n",
       " 776: 0,\n",
       " 777: 0,\n",
       " 778: 0,\n",
       " 779: 0,\n",
       " 780: 0,\n",
       " 781: 0.01818181818181818,\n",
       " 782: 0,\n",
       " 783: 0,\n",
       " 784: 0,\n",
       " 785: 0,\n",
       " 786: 0,\n",
       " 787: 0,\n",
       " 788: 0.047619047619047616,\n",
       " 789: 0,\n",
       " 790: 0,\n",
       " 791: 0,\n",
       " 792: 0,\n",
       " 793: 0,\n",
       " 794: 0,\n",
       " 795: 0.006535947712418301,\n",
       " 796: 0,\n",
       " 797: 0,\n",
       " 798: 0.004761904761904762,\n",
       " 799: 0,\n",
       " 800: 0,\n",
       " 801: 0,\n",
       " 802: 0,\n",
       " 803: 0,\n",
       " 804: 0,\n",
       " 805: 0,\n",
       " 806: 0,\n",
       " 807: 0,\n",
       " 808: 0,\n",
       " 809: 0,\n",
       " 810: 0,\n",
       " 811: 0,\n",
       " 812: 0,\n",
       " 813: 0,\n",
       " 814: 0,\n",
       " 815: 0,\n",
       " 816: 0,\n",
       " 817: 0,\n",
       " 818: 0,\n",
       " 819: 0,\n",
       " 820: 0,\n",
       " 821: 0,\n",
       " 822: 0.03571428571428571,\n",
       " 823: 0,\n",
       " 824: 0.004329004329004329,\n",
       " 825: 0,\n",
       " 826: 0,\n",
       " 827: 0,\n",
       " 828: 0,\n",
       " 829: 0,\n",
       " 830: 0.007352941176470588,\n",
       " 831: 0,\n",
       " 832: 0,\n",
       " 833: 0.07142857142857142,\n",
       " 834: 0,\n",
       " 835: 0,\n",
       " 836: 0,\n",
       " 837: 0,\n",
       " 838: 0,\n",
       " 839: 0,\n",
       " 840: 0,\n",
       " 841: 0,\n",
       " 842: 0,\n",
       " 843: 0,\n",
       " 844: 0,\n",
       " 845: 0,\n",
       " 846: 0,\n",
       " 847: 0,\n",
       " 848: 0,\n",
       " 849: 0.06666666666666667,\n",
       " 850: 0,\n",
       " 851: 0,\n",
       " 852: 0,\n",
       " 853: 0,\n",
       " 854: 0,\n",
       " 855: 0,\n",
       " 856: 0,\n",
       " 857: 0,\n",
       " 858: 0,\n",
       " 859: 0,\n",
       " 860: 0,\n",
       " 861: 0,\n",
       " 862: 0,\n",
       " 863: 0,\n",
       " 864: 0,\n",
       " 865: 0,\n",
       " 866: 0,\n",
       " 867: 0,\n",
       " 868: 0,\n",
       " 869: 0,\n",
       " 870: 0,\n",
       " 871: 0.006535947712418301,\n",
       " 872: 0.01098901098901099,\n",
       " 873: 0,\n",
       " 874: 0.0010570824524312897,\n",
       " 875: 0,\n",
       " 876: 0,\n",
       " 877: 0,\n",
       " 878: 0,\n",
       " 879: 0,\n",
       " 880: 0,\n",
       " 881: 0,\n",
       " 882: 0,\n",
       " 883: 0,\n",
       " 884: 0,\n",
       " 885: 0,\n",
       " 886: 0,\n",
       " 887: 0,\n",
       " 888: 0,\n",
       " 889: 0,\n",
       " 890: 0,\n",
       " 891: 0,\n",
       " 892: 0,\n",
       " 893: 0,\n",
       " 894: 0,\n",
       " 895: 0,\n",
       " 896: 0,\n",
       " 897: 0.16666666666666666,\n",
       " 898: 0,\n",
       " 899: 0,\n",
       " 900: 0,\n",
       " 901: 0,\n",
       " 902: 0.005263157894736842,\n",
       " 903: 0,\n",
       " 904: 0,\n",
       " 905: 0,\n",
       " 906: 0,\n",
       " 907: 0,\n",
       " 908: 0,\n",
       " 909: 0,\n",
       " 910: 0,\n",
       " 911: 0,\n",
       " 912: 0,\n",
       " 913: 0,\n",
       " 914: 0,\n",
       " 915: 0,\n",
       " 916: 0,\n",
       " 917: 0,\n",
       " 918: 0,\n",
       " 919: 0,\n",
       " 920: 0,\n",
       " 921: 0,\n",
       " 922: 0,\n",
       " 923: 0.005847953216374269,\n",
       " 924: 0,\n",
       " 925: 0,\n",
       " 926: 0,\n",
       " 927: 0,\n",
       " 928: 0,\n",
       " 929: 0,\n",
       " 930: 0,\n",
       " 931: 0.014492753623188406,\n",
       " 932: 0,\n",
       " 933: 0,\n",
       " 934: 0,\n",
       " 935: 0,\n",
       " 936: 0,\n",
       " 937: 0,\n",
       " 938: 0,\n",
       " 939: 0,\n",
       " 940: 0.015151515151515152,\n",
       " 941: 0.01282051282051282,\n",
       " 942: 0,\n",
       " 943: 0,\n",
       " 944: 0,\n",
       " 945: 0,\n",
       " 946: 0,\n",
       " 947: 0.003076923076923077,\n",
       " 948: 0,\n",
       " 949: 0,\n",
       " 950: 0,\n",
       " 951: 0,\n",
       " 952: 0,\n",
       " 953: 0.03571428571428571,\n",
       " 954: 0,\n",
       " 955: 0,\n",
       " 956: 0,\n",
       " 957: 0,\n",
       " 958: 0,\n",
       " 959: 0,\n",
       " 960: 0,\n",
       " 961: 0,\n",
       " 962: 0,\n",
       " 963: 0,\n",
       " 964: 0,\n",
       " 965: 0,\n",
       " 966: 0,\n",
       " 967: 0,\n",
       " 968: 0,\n",
       " 969: 0,\n",
       " 970: 0.009523809523809525,\n",
       " 971: 0,\n",
       " 972: 0,\n",
       " 973: 0,\n",
       " 974: 0,\n",
       " 975: 0,\n",
       " 976: 0,\n",
       " 977: 0,\n",
       " 978: 0,\n",
       " 979: 0,\n",
       " 980: 0,\n",
       " 981: 0,\n",
       " 982: 0,\n",
       " 983: 0.01282051282051282,\n",
       " 984: 0,\n",
       " 985: 0,\n",
       " 986: 0,\n",
       " 987: 0,\n",
       " 988: 0,\n",
       " 989: 0,\n",
       " 990: 0,\n",
       " 991: 0,\n",
       " 992: 0,\n",
       " 993: 0.09523809523809523,\n",
       " 994: 0,\n",
       " 995: 0,\n",
       " 996: 0,\n",
       " 997: 0,\n",
       " 998: 0,\n",
       " 999: 0,\n",
       " ...}"
      ]
     },
     "execution_count": 112,
     "metadata": {},
     "output_type": "execute_result"
    }
   ],
   "source": [
    "nx.clustering(ba)"
   ]
  },
  {
   "cell_type": "markdown",
   "id": "529593a1",
   "metadata": {},
   "source": [
    "## Density"
   ]
  },
  {
   "cell_type": "code",
   "execution_count": 113,
   "id": "3a9c522b",
   "metadata": {},
   "outputs": [
    {
     "name": "stdout",
     "output_type": "stream",
     "text": [
      "density: 0.000455477096520294\n"
     ]
    }
   ],
   "source": [
    "density=nx.density(ba)\n",
    "print('density:', density)"
   ]
  },
  {
   "cell_type": "markdown",
   "id": "6a4040ca",
   "metadata": {},
   "source": [
    "## Centrality analysis"
   ]
  },
  {
   "cell_type": "code",
   "execution_count": 114,
   "id": "843224b1",
   "metadata": {},
   "outputs": [],
   "source": [
    "degrees = dict(ba.degree())"
   ]
  },
  {
   "cell_type": "code",
   "execution_count": 115,
   "id": "2ef95f22",
   "metadata": {},
   "outputs": [
    {
     "data": {
      "text/plain": [
       "[(6, 296),\n",
       " (4, 265),\n",
       " (0, 231),\n",
       " (9, 215),\n",
       " (5, 171),\n",
       " (11, 161),\n",
       " (3, 140),\n",
       " (14, 135),\n",
       " (54, 134),\n",
       " (2, 133)]"
      ]
     },
     "execution_count": 115,
     "metadata": {},
     "output_type": "execute_result"
    }
   ],
   "source": [
    "# top 10 nodes with highest degree\n",
    "\n",
    "ranks = [(k, v) for k, v in sorted(degrees.items(), key=lambda item: -item[1])]\n",
    "ranks[0:10]"
   ]
  },
  {
   "cell_type": "markdown",
   "id": "8b953c50",
   "metadata": {},
   "source": [
    "## Closeness Centrality Measure"
   ]
  },
  {
   "cell_type": "code",
   "execution_count": 116,
   "id": "eb1a4780",
   "metadata": {},
   "outputs": [],
   "source": [
    "closeness_ba = nx.closeness_centrality(ba) # compute the closeness centrality of all nodes"
   ]
  },
  {
   "cell_type": "code",
   "execution_count": 117,
   "id": "c4288039",
   "metadata": {},
   "outputs": [],
   "source": [
    "ranks = [(k, v) for k, v in sorted(closeness_ba.items(), key=lambda item: -item[1])]\n",
    "coleseness_10_ba = ranks[0:10]"
   ]
  },
  {
   "cell_type": "code",
   "execution_count": 118,
   "id": "ed48ef16",
   "metadata": {},
   "outputs": [],
   "source": [
    "dict_close_ba = dict(coleseness_10_ba)"
   ]
  },
  {
   "cell_type": "code",
   "execution_count": 119,
   "id": "a875eed7",
   "metadata": {},
   "outputs": [
    {
     "data": {
      "text/html": [
       "<div>\n",
       "<style scoped>\n",
       "    .dataframe tbody tr th:only-of-type {\n",
       "        vertical-align: middle;\n",
       "    }\n",
       "\n",
       "    .dataframe tbody tr th {\n",
       "        vertical-align: top;\n",
       "    }\n",
       "\n",
       "    .dataframe thead th {\n",
       "        text-align: right;\n",
       "    }\n",
       "</style>\n",
       "<table border=\"1\" class=\"dataframe\">\n",
       "  <thead>\n",
       "    <tr style=\"text-align: right;\">\n",
       "      <th></th>\n",
       "      <th>Closeness Value</th>\n",
       "    </tr>\n",
       "  </thead>\n",
       "  <tbody>\n",
       "    <tr>\n",
       "      <th>6</th>\n",
       "      <td>0.354891</td>\n",
       "    </tr>\n",
       "    <tr>\n",
       "      <th>4</th>\n",
       "      <td>0.348856</td>\n",
       "    </tr>\n",
       "    <tr>\n",
       "      <th>0</th>\n",
       "      <td>0.344782</td>\n",
       "    </tr>\n",
       "    <tr>\n",
       "      <th>11</th>\n",
       "      <td>0.338839</td>\n",
       "    </tr>\n",
       "    <tr>\n",
       "      <th>9</th>\n",
       "      <td>0.337096</td>\n",
       "    </tr>\n",
       "    <tr>\n",
       "      <th>5</th>\n",
       "      <td>0.336433</td>\n",
       "    </tr>\n",
       "    <tr>\n",
       "      <th>1</th>\n",
       "      <td>0.332232</td>\n",
       "    </tr>\n",
       "    <tr>\n",
       "      <th>8</th>\n",
       "      <td>0.323412</td>\n",
       "    </tr>\n",
       "    <tr>\n",
       "      <th>14</th>\n",
       "      <td>0.317916</td>\n",
       "    </tr>\n",
       "    <tr>\n",
       "      <th>2</th>\n",
       "      <td>0.317464</td>\n",
       "    </tr>\n",
       "  </tbody>\n",
       "</table>\n",
       "</div>"
      ],
      "text/plain": [
       "    Closeness Value\n",
       "6          0.354891\n",
       "4          0.348856\n",
       "0          0.344782\n",
       "11         0.338839\n",
       "9          0.337096\n",
       "5          0.336433\n",
       "1          0.332232\n",
       "8          0.323412\n",
       "14         0.317916\n",
       "2          0.317464"
      ]
     },
     "execution_count": 119,
     "metadata": {},
     "output_type": "execute_result"
    }
   ],
   "source": [
    "closeness_value_frame_ba=pd.DataFrame.from_dict(dict_close_ba,orient='index', columns=['Closeness Value'])\n",
    "closeness_value_frame_ba"
   ]
  },
  {
   "cell_type": "code",
   "execution_count": 120,
   "id": "178369d1",
   "metadata": {},
   "outputs": [
    {
     "data": {
      "image/png": "[encoded data removed]",
      "text/plain": [
       "<Figure size 640x480 with 1 Axes>"
      ]
     },
     "metadata": {},
     "output_type": "display_data"
    }
   ],
   "source": [
    "closeness_value_frame_ba = closeness_value_frame_ba.sort_values(by='Closeness Value', ascending=True)\n",
    "\n",
    "fig = plt.figure()\n",
    "ax = fig.add_subplot()\n",
    "\n",
    "closeness_value_frame_ba.plot(kind='barh', color='blue', ax=ax)\n",
    "plt.xlim(0, 1)\n",
    "\n",
    "for y, x in enumerate(closeness_value_frame_ba['Closeness Value']):\n",
    "    plt.annotate(str(x), xy=(x, y), va='center')\n",
    "\n",
    "plt.show()"
   ]
  },
  {
   "cell_type": "markdown",
   "id": "287b33d0",
   "metadata": {},
   "source": [
    "## Betweenness Centrality"
   ]
  },
  {
   "cell_type": "code",
   "execution_count": 121,
   "id": "076bd57c",
   "metadata": {},
   "outputs": [],
   "source": [
    "betweenness_ba = nx.betweenness_centrality(ba) "
   ]
  },
  {
   "cell_type": "code",
   "execution_count": 122,
   "id": "cd6bb674",
   "metadata": {},
   "outputs": [
    {
     "data": {
      "text/plain": [
       "[(6, 0.09821723465445145),\n",
       " (4, 0.08261801351092735),\n",
       " (0, 0.06875326874922978),\n",
       " (9, 0.06209536181816639),\n",
       " (11, 0.04722739221771502),\n",
       " (5, 0.04628812003315594),\n",
       " (1, 0.03830997193393642),\n",
       " (2, 0.02850481199131819),\n",
       " (3, 0.02761740858135558),\n",
       " (14, 0.02679357753417893),\n",
       " (8, 0.02657049513410861),\n",
       " (30, 0.025650723380492933),\n",
       " (54, 0.023133267485676942),\n",
       " (22, 0.022377041937994783),\n",
       " (21, 0.02230018444585685),\n",
       " (19, 0.020958971076682903),\n",
       " (16, 0.020442384788934686),\n",
       " (91, 0.01940440884723537),\n",
       " (18, 0.019128273786546957),\n",
       " (42, 0.019011320741387228)]"
      ]
     },
     "execution_count": 122,
     "metadata": {},
     "output_type": "execute_result"
    }
   ],
   "source": [
    "ranks = [(k, v) for k, v in sorted(betweenness_ba.items(), key=lambda item: -item[1])]\n",
    "ranks[0:20]"
   ]
  },
  {
   "cell_type": "markdown",
   "id": "4335efe6",
   "metadata": {},
   "source": [
    "## Harmonic Centrality"
   ]
  },
  {
   "cell_type": "code",
   "execution_count": 123,
   "id": "1a06e8d6",
   "metadata": {},
   "outputs": [],
   "source": [
    "harmonic_ba = nx.harmonic_centrality(ba)"
   ]
  },
  {
   "cell_type": "code",
   "execution_count": 124,
   "id": "4a0e9a82",
   "metadata": {},
   "outputs": [
    {
     "data": {
      "text/plain": [
       "[(6, 5004.249999999961),\n",
       " (4, 4913.200000000018),\n",
       " (0, 4843.716666666714),\n",
       " (11, 4733.900000000113),\n",
       " (9, 4732.300000000108),\n",
       " (5, 4706.31666666679),\n",
       " (1, 4635.45000000016),\n",
       " (8, 4497.3000000002385),\n",
       " (14, 4431.116666666923),\n",
       " (2, 4425.883333333573),\n",
       " (3, 4425.433333333577),\n",
       " (30, 4404.983333333595),\n",
       " (18, 4348.383333333607),\n",
       " (19, 4332.6166666669415),\n",
       " (16, 4317.4000000002825),\n",
       " (42, 4308.550000000282),\n",
       " (22, 4297.133333333635),\n",
       " (21, 4279.016666666951),\n",
       " (54, 4268.833333333608),\n",
       " (91, 4268.050000000282)]"
      ]
     },
     "execution_count": 124,
     "metadata": {},
     "output_type": "execute_result"
    }
   ],
   "source": [
    "ranks = [(k, v) for k, v in sorted(harmonic_ba.items(), key=lambda item: -item[1])]\n",
    "ranks[0:20]"
   ]
  },
  {
   "cell_type": "markdown",
   "id": "4405a7d5",
   "metadata": {},
   "source": [
    "## PageRank Centrality"
   ]
  },
  {
   "cell_type": "code",
   "execution_count": 125,
   "id": "8b709fa0",
   "metadata": {},
   "outputs": [],
   "source": [
    "pagerank_ba = nx.pagerank(ba)"
   ]
  },
  {
   "cell_type": "code",
   "execution_count": 126,
   "id": "9f4dae9e",
   "metadata": {},
   "outputs": [
    {
     "data": {
      "text/plain": [
       "[(6, 0.0032049834307313566),\n",
       " (4, 0.002848016585785977),\n",
       " (0, 0.002488496495286299),\n",
       " (9, 0.0023019792468274153),\n",
       " (5, 0.0018414094014553059),\n",
       " (11, 0.0017312740288612889),\n",
       " (3, 0.0015269224559676412),\n",
       " (14, 0.0014720780723467572),\n",
       " (54, 0.0014645178808727606),\n",
       " (2, 0.0014478898440321026),\n",
       " (1, 0.0014043395063553265),\n",
       " (22, 0.001382799522023541),\n",
       " (30, 0.0013444977841516625),\n",
       " (21, 0.001327348690621338),\n",
       " (8, 0.0012563001194573031),\n",
       " (58, 0.0011487357584820275),\n",
       " (19, 0.0011369987199560704),\n",
       " (91, 0.0011338413426145604),\n",
       " (42, 0.0011315043780494411),\n",
       " (16, 0.0011289518706562695)]"
      ]
     },
     "execution_count": 126,
     "metadata": {},
     "output_type": "execute_result"
    }
   ],
   "source": [
    "ranks = [(k, v) for k, v in sorted(pagerank_ba.items(), key=lambda item: -item[1])]\n",
    "ranks[0:20]"
   ]
  },
  {
   "cell_type": "markdown",
   "id": "046e14fa",
   "metadata": {},
   "source": [
    "## Eigenvector Centrality"
   ]
  },
  {
   "cell_type": "code",
   "execution_count": 127,
   "id": "2be3aa24",
   "metadata": {},
   "outputs": [],
   "source": [
    "eigen_ba = nx.eigenvector_centrality(ba, max_iter = 500)"
   ]
  },
  {
   "cell_type": "code",
   "execution_count": 128,
   "id": "8b00a0c8",
   "metadata": {},
   "outputs": [
    {
     "data": {
      "text/plain": [
       "[(6, 0.40300522833750013),\n",
       " (4, 0.316410886481276),\n",
       " (0, 0.24350965909258163),\n",
       " (9, 0.16698347738154376),\n",
       " (5, 0.16200188823371173),\n",
       " (11, 0.15474372768737824),\n",
       " (1, 0.11847382368884109),\n",
       " (8, 0.10557631941156088),\n",
       " (3, 0.09503057391043075),\n",
       " (30, 0.08672879493430502),\n",
       " (14, 0.08468323681190802),\n",
       " (2, 0.07834360049875858),\n",
       " (18, 0.0739376819159769),\n",
       " (19, 0.0718905797933106),\n",
       " (42, 0.06759724272438809),\n",
       " (25, 0.06745293925545968),\n",
       " (91, 0.06681790173003017),\n",
       " (87, 0.06636923249477224),\n",
       " (22, 0.06389029711834054),\n",
       " (44, 0.06266446749174644)]"
      ]
     },
     "execution_count": 128,
     "metadata": {},
     "output_type": "execute_result"
    }
   ],
   "source": [
    "ranks = [(k, v) for k, v in sorted(eigen_ba.items(), key=lambda item: -item[1])]\n",
    "ranks[0:20]"
   ]
  },
  {
   "cell_type": "markdown",
   "id": "bf8b9779",
   "metadata": {},
   "source": [
    "## Newman's Assortativity"
   ]
  },
  {
   "cell_type": "code",
   "execution_count": 129,
   "id": "7867c641",
   "metadata": {},
   "outputs": [
    {
     "data": {
      "text/plain": [
       "-0.03766234389834267"
      ]
     },
     "execution_count": 129,
     "metadata": {},
     "output_type": "execute_result"
    }
   ],
   "source": [
    "nx.degree_assortativity_coefficient(ba)"
   ]
  }
 ],
 "metadata": {
  "kernelspec": {
   "display_name": "Python 3 (ipykernel)",
   "language": "python",
   "name": "python3"
  },
  "language_info": {
   "codemirror_mode": {
    "name": "ipython",
    "version": 3
   },
   "file_extension": ".py",
   "mimetype": "text/x-python",
   "name": "python",
   "nbconvert_exporter": "python",
   "pygments_lexer": "ipython3",
   "version": "3.9.13"
  }
 },
 "nbformat": 4,
 "nbformat_minor": 5
}
